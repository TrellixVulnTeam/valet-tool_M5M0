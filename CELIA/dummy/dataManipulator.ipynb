{
 "cells": [
  {
   "cell_type": "code",
   "execution_count": 12,
   "metadata": {},
   "outputs": [],
   "source": [
    "import numpy as np\n",
    "import sys\n",
    "import pandas as pd"
   ]
  },
  {
   "cell_type": "code",
   "execution_count": 37,
   "metadata": {},
   "outputs": [],
   "source": [
    "filename = \"dummyPerfect.csv\" "
   ]
  },
  {
   "cell_type": "code",
   "execution_count": 38,
   "metadata": {},
   "outputs": [],
   "source": [
    "data = pd.read_csv(filename)"
   ]
  },
  {
   "cell_type": "code",
   "execution_count": 39,
   "metadata": {},
   "outputs": [],
   "source": [
    "\n",
    "def dataManipulateFunc(data,k,name):\n",
    "#     data.predCost = data.predCost.round()\n",
    "    \n",
    "#     data.predLatency = data.predLatency.round()\n",
    "    data.predCost = data.predCost * k\n",
    "    data.predLatency = data.predLatency * k\n",
    "    \n",
    "    \n",
    "    data.to_csv(\"dummy\"+str(name)+\"%.csv\", index=False)\n",
    "    \n",
    "    return data"
   ]
  },
  {
   "cell_type": "code",
   "execution_count": 40,
   "metadata": {},
   "outputs": [],
   "source": [
    "# muls = [1.1,1.3,1.5,1.8,2.1]\n",
    "# names = [10,30,50,80,110]\n",
    "# muls = [0.9,0.7,0.5]\n",
    "# names = [-10,-30,-50]\n",
    "\n",
    "muls = [1,0.9,0.7,0.5,1.1,1.3,1.5,1.8,2.1]\n",
    "names = [0,-10,-30,-50,10,30,50,80,110]\n",
    "\n",
    "for i in range(len(muls)):\n",
    "    data = pd.read_csv(filename)\n",
    "    result = dataManipulateFunc(data,muls[i],names[i])\n",
    "    \n",
    "    "
   ]
  },
  {
   "cell_type": "code",
   "execution_count": null,
   "metadata": {},
   "outputs": [],
   "source": []
  },
  {
   "cell_type": "code",
   "execution_count": null,
   "metadata": {},
   "outputs": [],
   "source": []
  }
 ],
 "metadata": {
  "kernelspec": {
   "display_name": "Python 3",
   "language": "python",
   "name": "python3"
  },
  "language_info": {
   "codemirror_mode": {
    "name": "ipython",
    "version": 3
   },
   "file_extension": ".py",
   "mimetype": "text/x-python",
   "name": "python",
   "nbconvert_exporter": "python",
   "pygments_lexer": "ipython3",
   "version": "3.7.5"
  }
 },
 "nbformat": 4,
 "nbformat_minor": 2
}
