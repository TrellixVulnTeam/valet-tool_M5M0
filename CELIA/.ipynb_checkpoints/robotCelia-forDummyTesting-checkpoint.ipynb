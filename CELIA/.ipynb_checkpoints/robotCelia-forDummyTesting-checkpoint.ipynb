{
 "cells": [
  {
   "cell_type": "code",
   "execution_count": 1,
   "metadata": {},
   "outputs": [],
   "source": [
    "#!/usr/bin/env python\n",
    "# coding: utf-8\n",
    "\n",
    "import numpy as np\n",
    "import sys\n",
    "import pandas as pd\n",
    "\n",
    "\n",
    "import random"
   ]
  },
  {
   "cell_type": "code",
   "execution_count": null,
   "metadata": {},
   "outputs": [],
   "source": [
    "dataPred = pd.read_csv('../Prediction_Files/predictions_KNN.csv')"
   ]
  },
  {
   "cell_type": "markdown",
   "metadata": {},
   "source": [
    "# reading predictions and transforming data"
   ]
  },
  {
   "cell_type": "code",
   "execution_count": null,
   "metadata": {},
   "outputs": [],
   "source": [
    "dataPred.Hours = ((dataPred.Hours)*23)+0\n",
    "dataPred.Minutes = ((dataPred.Minutes)*59)+0\n",
    "dataPred.Seconds = ((dataPred.Seconds)*59.999805)+0.1025061111111"
   ]
  },
  {
   "cell_type": "code",
   "execution_count": null,
   "metadata": {},
   "outputs": [],
   "source": [
    "def rowToTime(row):\n",
    "    timeAtMoment = row.Hours*3600*1000\n",
    "    timeAtMoment += row.Minutes*60*1000\n",
    "    timeAtMoment += row.Seconds*1000\n",
    "    return timeAtMoment"
   ]
  },
  {
   "cell_type": "code",
   "execution_count": null,
   "metadata": {},
   "outputs": [],
   "source": [
    "resetAddTime = 23*3600*1000\n",
    "resetAddTime += 59*60*1000\n",
    "resetAddTime += 60*1000"
   ]
  },
  {
   "cell_type": "code",
   "execution_count": null,
   "metadata": {},
   "outputs": [],
   "source": [
    "dataPred.describe()"
   ]
  },
  {
   "cell_type": "code",
   "execution_count": null,
   "metadata": {
    "scrolled": true
   },
   "outputs": [],
   "source": [
    "dataPred.describe()"
   ]
  },
  {
   "cell_type": "markdown",
   "metadata": {},
   "source": [
    "### this is converting hours, minutes, seconds to a millisecond time series"
   ]
  },
  {
   "cell_type": "code",
   "execution_count": null,
   "metadata": {},
   "outputs": [],
   "source": [
    "cumulativeTime = [rowToTime(dataPred.iloc[0])]\n",
    "\n",
    "for i in range(1,len(dataPred)):\n",
    "    timeAtMoment = rowToTime(dataPred.iloc[i])\n",
    "    lastTimeMoment = rowToTime(dataPred.iloc[i-1])\n",
    "    if timeAtMoment > lastTimeMoment:\n",
    "        cumuTime = cumulativeTime[i-1] + (timeAtMoment - lastTimeMoment)\n",
    "        cumulativeTime.append(cumuTime)\n",
    "    else:\n",
    "        cumulativeTime.append(cumulativeTime[i-1]+(timeAtMoment+resetAddTime)-lastTimeMoment)\n",
    "#         print(cumulativeTime[i])"
   ]
  },
  {
   "cell_type": "code",
   "execution_count": null,
   "metadata": {},
   "outputs": [],
   "source": [
    "cumulativeTime = cumulativeTime- cumulativeTime[0]\n",
    "cumulativeTime"
   ]
  },
  {
   "cell_type": "code",
   "execution_count": null,
   "metadata": {
    "scrolled": true
   },
   "outputs": [],
   "source": [
    "cumulativeTime[14]-cumulativeTime[13]"
   ]
  },
  {
   "cell_type": "markdown",
   "metadata": {},
   "source": [
    "### shifting and transforming data to a range of 0-50"
   ]
  },
  {
   "cell_type": "code",
   "execution_count": null,
   "metadata": {
    "scrolled": true
   },
   "outputs": [],
   "source": [
    "def shiftTransformCol50(data):\n",
    "    return (data + abs(data.min()))*50"
   ]
  },
  {
   "cell_type": "code",
   "execution_count": null,
   "metadata": {},
   "outputs": [],
   "source": [
    "newData = np.stack((cumulativeTime, shiftTransformCol50(dataPred.Latency), shiftTransformCol50(dataPred.Cost), dataPred.Reliability, shiftTransformCol50(dataPred.predicted_Latency), shiftTransformCol50(dataPred.predicted_Cost), round(dataPred.predicted_Reliability)),axis = 1)\n",
    "newData = pd.DataFrame(newData, columns=['Timestamp', 'Latency', 'Cost', 'Reliability', 'predLatency', 'predCost', 'predReliability' ])\n"
   ]
  },
  {
   "cell_type": "code",
   "execution_count": null,
   "metadata": {},
   "outputs": [],
   "source": [
    "newData.describe()"
   ]
  },
  {
   "cell_type": "code",
   "execution_count": null,
   "metadata": {},
   "outputs": [],
   "source": [
    "randNum =  (random.random()*2)-1\n",
    "newData.Latency = newData.Latency + randNum\n",
    "newData.Latency[newData.Latency<0] = 0 "
   ]
  },
  {
   "cell_type": "code",
   "execution_count": null,
   "metadata": {},
   "outputs": [],
   "source": []
  },
  {
   "cell_type": "code",
   "execution_count": null,
   "metadata": {
    "scrolled": true
   },
   "outputs": [],
   "source": [
    "newData\n",
    "newData.to_csv('../CELIA/dummy/dummyPlus1.csv')"
   ]
  },
  {
   "cell_type": "code",
   "execution_count": null,
   "metadata": {},
   "outputs": [],
   "source": []
  },
  {
   "cell_type": "code",
   "execution_count": null,
   "metadata": {},
   "outputs": [],
   "source": [
    "data = pd.read_csv('../CELIA/dummy/dummyRandom.csv')"
   ]
  },
  {
   "cell_type": "code",
   "execution_count": 2,
   "metadata": {},
   "outputs": [],
   "source": [
    "def utilFunction(latency, cost, reward = 100, reliability = 1):\n",
    "    epsilon = 0.00000000000000000000000000000000000000000000001\n",
    "\n",
    "    if reliability == 0:\n",
    "        return 0\n",
    "    else:\n",
    "        return ((reward)/(latency+cost+epsilon)) * reliability \n",
    "    \n"
   ]
  },
  {
   "cell_type": "code",
   "execution_count": 3,
   "metadata": {},
   "outputs": [],
   "source": [
    "def celiaSim(data):\n",
    "    lastUpdate = 0;\n",
    "    updateThreshold = 1000\n",
    "    utilitPredicted = []\n",
    "    utilityReal = []\n",
    "    award = []\n",
    "    lostUtility = []\n",
    "    \n",
    "    temp = data.iloc[1]['Timestamp'] - data.iloc[0]['Timestamp']\n",
    "\n",
    "    for i in range(1,len(data)):\n",
    "#     timeDeltaReward = (data.iloc[i]['Timestamp'] - data.iloc[i-1]['Timestamp']).total_seconds()\n",
    "        timeDeltaReward = (data.iloc[i]['Timestamp'] - data.iloc[lastUpdate]['Timestamp'])\n",
    "\n",
    "        predictedUtil = utilFunction(data.iloc[i].predLatency, data.iloc[i].predCost,(float)(timeDeltaReward), data.iloc[i].predReliability )\n",
    "\n",
    "        realUtility = utilFunction(data.iloc[i].Latency, data.iloc[i].Cost,(float)(timeDeltaReward), data.iloc[i].Reliability )\n",
    "        utilitPredicted.append(predictedUtil)\n",
    "        utilityReal.append(realUtility)\n",
    "        if predictedUtil >= updateThreshold:\n",
    "    #         award.append(award[i-1] + realUtility-1);\n",
    "            award.append(realUtility-updateThreshold);\n",
    "            lastUpdate = i;\n",
    "            lostUtility.append(0)\n",
    "        else:\n",
    "    #         award.append(award[i-1]);\n",
    "            award.append(0);\n",
    "\n",
    "            if realUtility >= updateThreshold:\n",
    "                lostUtility.append(realUtility)\n",
    "            else:\n",
    "                lostUtility.append(0) \n",
    "    \n",
    "    results = pd.DataFrame(np.stack([utilitPredicted,utilityReal,award,lostUtility],axis=1),columns=['predictedUtility','realUtility','award','lostUtility'])\n",
    "    return results\n",
    "#     results.to_csv(\"./results/dummyRandom.csv\")"
   ]
  },
  {
   "cell_type": "code",
   "execution_count": null,
   "metadata": {
    "scrolled": true
   },
   "outputs": [],
   "source": [
    "\n"
   ]
  },
  {
   "cell_type": "code",
   "execution_count": null,
   "metadata": {
    "scrolled": true
   },
   "outputs": [],
   "source": []
  },
  {
   "cell_type": "code",
   "execution_count": null,
   "metadata": {
    "scrolled": true
   },
   "outputs": [],
   "source": []
  },
  {
   "cell_type": "code",
   "execution_count": null,
   "metadata": {},
   "outputs": [],
   "source": []
  },
  {
   "cell_type": "code",
   "execution_count": 23,
   "metadata": {
    "scrolled": true
   },
   "outputs": [
    {
     "name": "stdout",
     "output_type": "stream",
     "text": [
      "0.0 1113158770.514918 0.0\n"
     ]
    }
   ],
   "source": [
    "muls = [1,0.9,0.7,0.5,1.1,1.3,1.5,1.8,2.1]\n",
    "names = [0,-10,-30,-50,10,30,50,80,110]\n",
    "# muls = [1]\n",
    "# names = [0]\n",
    "stats = []\n",
    "for i in range(len(muls)):\n",
    "    data = pd.read_csv('../CELIA/dummy/dummy'+str(names[i])+'%.csv')\n",
    "#     dataManipulateFunc(data,muls[i],names[i])\n",
    "    result = celiaSim(data)\n",
    "#     print (result)\n",
    "#     print\n",
    "    utilDif = np.sum(abs(result.predictedUtility-result.realUtility))\n",
    "    award = sum(result.award)\n",
    "    lostUtil = sum(result.lostUtility)\n",
    "    print (utilDif, award, lostUtil)"
   ]
  },
  {
   "cell_type": "code",
   "execution_count": 22,
   "metadata": {
    "scrolled": true
   },
   "outputs": [
    {
     "data": {
      "text/plain": [
       "array([0.])"
      ]
     },
     "execution_count": 22,
     "metadata": {},
     "output_type": "execute_result"
    }
   ],
   "source": [
    "np.unique(abs(result.predictedUtility-result.realUtility))"
   ]
  },
  {
   "cell_type": "code",
   "execution_count": null,
   "metadata": {},
   "outputs": [],
   "source": [
    "data"
   ]
  },
  {
   "cell_type": "code",
   "execution_count": null,
   "metadata": {},
   "outputs": [],
   "source": []
  },
  {
   "cell_type": "code",
   "execution_count": null,
   "metadata": {},
   "outputs": [],
   "source": []
  },
  {
   "cell_type": "code",
   "execution_count": null,
   "metadata": {},
   "outputs": [],
   "source": []
  },
  {
   "cell_type": "code",
   "execution_count": null,
   "metadata": {},
   "outputs": [],
   "source": []
  },
  {
   "cell_type": "code",
   "execution_count": null,
   "metadata": {},
   "outputs": [],
   "source": []
  },
  {
   "cell_type": "markdown",
   "metadata": {},
   "source": [
    "realUtilityMean = 4.138921e+06\t\n",
    "realUtilStd = 6.175693e+06\t"
   ]
  },
  {
   "cell_type": "code",
   "execution_count": null,
   "metadata": {},
   "outputs": [],
   "source": [
    "lastUpdate = 0;\n",
    "updateThreshold = 1000\n",
    "utilitPredicted = []\n",
    "utilityReal = []\n",
    "award = []\n",
    "lostUtility = []"
   ]
  },
  {
   "cell_type": "code",
   "execution_count": null,
   "metadata": {},
   "outputs": [],
   "source": [
    "# real time utility aware analysis tool"
   ]
  },
  {
   "cell_type": "code",
   "execution_count": null,
   "metadata": {
    "scrolled": true
   },
   "outputs": [],
   "source": [
    "temp = data.iloc[1]['Timestamp'] - data.iloc[0]['Timestamp']\n",
    "# type(temp.total_seconds())\n",
    "# pd.to_datetime(data.iloc[1]['Timestamp'] - data.iloc[0]['Timestamp'], unit='ms')"
   ]
  },
  {
   "cell_type": "code",
   "execution_count": null,
   "metadata": {
    "scrolled": true
   },
   "outputs": [],
   "source": [
    "for i in range(1,len(data)):\n",
    "#     timeDeltaReward = (data.iloc[i]['Timestamp'] - data.iloc[i-1]['Timestamp']).total_seconds()\n",
    "    timeDeltaReward = (data.iloc[i]['Timestamp'] - data.iloc[lastUpdate]['Timestamp'])\n",
    "\n",
    "    predictedUtil = utilFunction(data.iloc[i].predLatency, data.iloc[i].predCost,(float)(timeDeltaReward), data.iloc[i].predReliability )\n",
    "    \n",
    "    realUtility = utilFunction(data.iloc[i].Latency, data.iloc[i].Cost,(float)(timeDeltaReward), data.iloc[i].Reliability )\n",
    "    utilitPredicted.append(predictedUtil)\n",
    "    utilityReal.append(realUtility)\n",
    "    if predictedUtil >= updateThreshold:\n",
    "#         award.append(award[i-1] + realUtility-1);\n",
    "        award.append(realUtility-updateThreshold);\n",
    "        lastUpdate = i;\n",
    "        lostUtility.append(0)\n",
    "    else:\n",
    "#         award.append(award[i-1]);\n",
    "        award.append(0);\n",
    "    \n",
    "        if realUtility >= updateThreshold:\n",
    "            lostUtility.append(realUtility)\n",
    "        else:\n",
    "            lostUtility.append(0)\n"
   ]
  },
  {
   "cell_type": "code",
   "execution_count": null,
   "metadata": {},
   "outputs": [],
   "source": []
  },
  {
   "cell_type": "code",
   "execution_count": null,
   "metadata": {},
   "outputs": [],
   "source": [
    "results = pd.DataFrame(np.stack([utilitPredicted,utilityReal,award,lostUtility],axis=1),columns=['predictedUtility','realUtility','award','lostUtility'])"
   ]
  },
  {
   "cell_type": "code",
   "execution_count": null,
   "metadata": {
    "scrolled": true
   },
   "outputs": [],
   "source": [
    "results.describe()"
   ]
  },
  {
   "cell_type": "code",
   "execution_count": null,
   "metadata": {
    "scrolled": true
   },
   "outputs": [],
   "source": [
    "results"
   ]
  },
  {
   "cell_type": "code",
   "execution_count": null,
   "metadata": {},
   "outputs": [],
   "source": [
    "results.to_csv(\"./results/dummyRandom.csv\")"
   ]
  },
  {
   "cell_type": "code",
   "execution_count": null,
   "metadata": {},
   "outputs": [],
   "source": []
  },
  {
   "cell_type": "code",
   "execution_count": null,
   "metadata": {},
   "outputs": [],
   "source": [
    "cumulativeTime[20]-cumulativeTime[19]"
   ]
  },
  {
   "cell_type": "code",
   "execution_count": null,
   "metadata": {},
   "outputs": [],
   "source": []
  }
 ],
 "metadata": {
  "kernelspec": {
   "display_name": "Python 3",
   "language": "python",
   "name": "python3"
  },
  "language_info": {
   "codemirror_mode": {
    "name": "ipython",
    "version": 3
   },
   "file_extension": ".py",
   "mimetype": "text/x-python",
   "name": "python",
   "nbconvert_exporter": "python",
   "pygments_lexer": "ipython3",
   "version": "3.7.5"
  }
 },
 "nbformat": 4,
 "nbformat_minor": 2
}
