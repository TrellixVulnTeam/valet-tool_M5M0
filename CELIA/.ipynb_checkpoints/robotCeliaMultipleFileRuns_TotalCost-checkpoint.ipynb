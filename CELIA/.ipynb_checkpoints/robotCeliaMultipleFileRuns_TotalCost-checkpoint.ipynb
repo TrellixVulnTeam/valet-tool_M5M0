{
 "cells": [
  {
   "cell_type": "code",
   "execution_count": null,
   "metadata": {},
   "outputs": [],
   "source": [
    "#!/usr/bin/env python\n",
    "# coding: utf-8\n",
    "\n",
    "import numpy as np\n",
    "import sys\n",
    "import pandas as pd\n",
    "\n",
    "\n"
   ]
  },
  {
   "cell_type": "code",
   "execution_count": 2,
   "metadata": {},
   "outputs": [],
   "source": [
    "fileNames = ['predictions_SVR_RBF_TotalCost.csv',\\\n",
    "            'predictions_eRNN_TotalCost.csv',\\\n",
    "            'predictions_MLP_TotalCost.csv',\n",
    "            'predictions_LSTM_TotalCost.csv',]"
   ]
  },
  {
   "cell_type": "code",
   "execution_count": 14,
   "metadata": {},
   "outputs": [],
   "source": [
    "inputFolder = '../Prediction_Files/'\n",
    "dataPred = pd.read_csv('../Prediction_Files/arimaNormalizedPrediction.csv')\n",
    "outputDirectory = './results3/'\n",
    "outputFileName = outputDirectory + \"rewardAwareUtility-SVR_Linear.csv\""
   ]
  },
  {
   "cell_type": "code",
   "execution_count": 4,
   "metadata": {},
   "outputs": [
    {
     "name": "stdout",
     "output_type": "stream",
     "text": [
      "              Hours       Minutes       Seconds       Latency          Cost  \\\n",
      "count  13107.000000  13107.000000  13107.000000  13107.000000  13107.000000   \n",
      "mean       0.568667      0.500165      0.495685      0.026872      0.401771   \n",
      "std        0.345421      0.294360      0.287701      0.029468      0.167738   \n",
      "min        0.000000      0.000000      0.000051      0.001520      0.005929   \n",
      "25%        0.173913      0.245763      0.247262      0.002599      0.450593   \n",
      "50%        0.695652      0.491525      0.493400      0.016951      0.484190   \n",
      "75%        0.869565      0.762712      0.740796      0.049781      0.496047   \n",
      "max        1.000000      1.000000      0.999938      0.984787      0.918972   \n",
      "\n",
      "       Reliability        Friday      Saturday   Sunday  Thursday  ...  \\\n",
      "count      13107.0  13107.000000  13107.000000  13107.0   13107.0  ...   \n",
      "mean           1.0      0.678264      0.321736      0.0       0.0  ...   \n",
      "std            0.0      0.467160      0.467160      0.0       0.0  ...   \n",
      "min            1.0      0.000000      0.000000      0.0       0.0  ...   \n",
      "25%            1.0      0.000000      0.000000      0.0       0.0  ...   \n",
      "50%            1.0      1.000000      0.000000      0.0       0.0  ...   \n",
      "75%            1.0      1.000000      1.000000      0.0       0.0  ...   \n",
      "max            1.0      1.000000      1.000000      0.0       0.0  ...   \n",
      "\n",
      "          Server__2     Server__3     Tactic__1     Tactic__2     Tactic__3  \\\n",
      "count  13107.000000  13107.000000  13107.000000  13107.000000  13107.000000   \n",
      "mean       0.333410      0.333181      0.200046      0.200046      0.199969   \n",
      "std        0.471449      0.471369      0.400050      0.400050      0.399992   \n",
      "min        0.000000      0.000000      0.000000      0.000000      0.000000   \n",
      "25%        0.000000      0.000000      0.000000      0.000000      0.000000   \n",
      "50%        0.000000      0.000000      0.000000      0.000000      0.000000   \n",
      "75%        1.000000      1.000000      0.000000      0.000000      0.000000   \n",
      "max        1.000000      1.000000      1.000000      1.000000      1.000000   \n",
      "\n",
      "          Tactic__4     Tactic__5  predicted_Latency  predicted_Cost  \\\n",
      "count  13107.000000  13107.000000       13106.000000    13106.000000   \n",
      "mean       0.199969      0.199969           0.102124        0.404093   \n",
      "std        0.399992      0.399992           0.008293        0.112672   \n",
      "min        0.000000      0.000000           0.088068        0.087622   \n",
      "25%        0.000000      0.000000           0.096580        0.390417   \n",
      "50%        0.000000      0.000000           0.100446        0.423256   \n",
      "75%        0.000000      0.000000           0.105055        0.460472   \n",
      "max        1.000000      1.000000           0.139039        0.573371   \n",
      "\n",
      "       predicted_Reliability  \n",
      "count                13106.0  \n",
      "mean                     1.0  \n",
      "std                      0.0  \n",
      "min                      1.0  \n",
      "25%                      1.0  \n",
      "50%                      1.0  \n",
      "75%                      1.0  \n",
      "max                      1.0  \n",
      "\n",
      "[8 rows x 24 columns]\n",
      "              Hours       Minutes       Seconds       Latency          Cost  \\\n",
      "count  13106.000000  13106.000000  13106.000000  13106.000000  13106.000000   \n",
      "mean       0.568694      0.500168      0.495723      0.026872      0.401763   \n",
      "std        0.345420      0.294371      0.287680      0.029469      0.167742   \n",
      "min        0.000000      0.000000      0.000051      0.001520      0.005929   \n",
      "25%        0.173913      0.241525      0.247365      0.002599      0.450593   \n",
      "50%        0.695652      0.491525      0.493432      0.016950      0.484190   \n",
      "75%        0.869565      0.762712      0.740810      0.049790      0.496047   \n",
      "max        1.000000      1.000000      0.999938      0.984787      0.918972   \n",
      "\n",
      "       Reliability   Monday  Tuesday  Wednesday  Thursday  ...     Tactic__2  \\\n",
      "count      13106.0  13106.0  13106.0    13106.0   13106.0  ...  13106.000000   \n",
      "mean           1.0      0.0      0.0        0.0       0.0  ...      0.199985   \n",
      "std            0.0      0.0      0.0        0.0       0.0  ...      0.400004   \n",
      "min            1.0      0.0      0.0        0.0       0.0  ...      0.000000   \n",
      "25%            1.0      0.0      0.0        0.0       0.0  ...      0.000000   \n",
      "50%            1.0      0.0      0.0        0.0       0.0  ...      0.000000   \n",
      "75%            1.0      0.0      0.0        0.0       0.0  ...      0.000000   \n",
      "max            1.0      0.0      0.0        0.0       0.0  ...      1.000000   \n",
      "\n",
      "          Tactic__3     Tactic__4     Tactic__5     Latency.1        Cost.1  \\\n",
      "count  13106.000000  13106.000000  13106.000000  13106.000000  13106.000000   \n",
      "mean       0.199985      0.199985      0.199985      0.026873      0.401789   \n",
      "std        0.400004      0.400004      0.400004      0.029469      0.167732   \n",
      "min        0.000000      0.000000      0.000000      0.001520      0.005929   \n",
      "25%        0.000000      0.000000      0.000000      0.002599      0.450593   \n",
      "50%        0.000000      0.000000      0.000000      0.016952      0.484190   \n",
      "75%        0.000000      0.000000      0.000000      0.049790      0.496047   \n",
      "max        1.000000      1.000000      1.000000      0.984787      0.918972   \n",
      "\n",
      "       Reliability.1  predicted_Latency  predicted_Cost  predicted_Reliability  \n",
      "count        13106.0       13106.000000    13106.000000           13106.000000  \n",
      "mean             1.0           0.049729        0.453343               0.953508  \n",
      "std              0.0           0.007708        0.016674               0.005781  \n",
      "min              1.0           0.034393        0.409714               0.939056  \n",
      "25%              1.0           0.043861        0.441396               0.949498  \n",
      "50%              1.0           0.048718        0.453404               0.953170  \n",
      "75%              1.0           0.055741        0.464765               0.957999  \n",
      "max              1.0           0.088256        0.520564               0.965241  \n",
      "\n",
      "[8 rows x 27 columns]\n",
      "              Hours       Minutes       Seconds       Latency          Cost  \\\n",
      "count  13107.000000  13107.000000  13107.000000  13107.000000  13107.000000   \n",
      "mean       0.568667      0.500165      0.495685      0.026872      0.401771   \n",
      "std        0.345421      0.294360      0.287701      0.029468      0.167738   \n",
      "min        0.000000      0.000000      0.000051      0.001520      0.005929   \n",
      "25%        0.173913      0.245763      0.247262      0.002599      0.450593   \n",
      "50%        0.695652      0.491525      0.493400      0.016951      0.484190   \n",
      "75%        0.869565      0.762712      0.740796      0.049781      0.496047   \n",
      "max        1.000000      1.000000      0.999938      0.984787      0.918972   \n",
      "\n",
      "       Reliability        Friday      Saturday   Sunday  Thursday  ...  \\\n",
      "count      13107.0  13107.000000  13107.000000  13107.0   13107.0  ...   \n",
      "mean           1.0      0.678264      0.321736      0.0       0.0  ...   \n",
      "std            0.0      0.467160      0.467160      0.0       0.0  ...   \n",
      "min            1.0      0.000000      0.000000      0.0       0.0  ...   \n",
      "25%            1.0      0.000000      0.000000      0.0       0.0  ...   \n",
      "50%            1.0      1.000000      0.000000      0.0       0.0  ...   \n",
      "75%            1.0      1.000000      1.000000      0.0       0.0  ...   \n",
      "max            1.0      1.000000      1.000000      0.0       0.0  ...   \n",
      "\n",
      "          Server__2     Server__3     Tactic__1     Tactic__2     Tactic__3  \\\n",
      "count  13107.000000  13107.000000  13107.000000  13107.000000  13107.000000   \n",
      "mean       0.333410      0.333181      0.200046      0.200046      0.199969   \n",
      "std        0.471449      0.471369      0.400050      0.400050      0.399992   \n",
      "min        0.000000      0.000000      0.000000      0.000000      0.000000   \n",
      "25%        0.000000      0.000000      0.000000      0.000000      0.000000   \n",
      "50%        0.000000      0.000000      0.000000      0.000000      0.000000   \n",
      "75%        1.000000      1.000000      0.000000      0.000000      0.000000   \n",
      "max        1.000000      1.000000      1.000000      1.000000      1.000000   \n",
      "\n",
      "          Tactic__4     Tactic__5  predicted_Latency  predicted_Cost  \\\n",
      "count  13107.000000  13107.000000       13106.000000    13106.000000   \n",
      "mean       0.199969      0.199969           0.036725        0.381143   \n",
      "std        0.399992      0.399992           0.029411        0.158252   \n",
      "min        0.000000      0.000000          -0.016275       -0.030053   \n",
      "25%        0.000000      0.000000           0.015018        0.403442   \n",
      "50%        0.000000      0.000000           0.032212        0.452826   \n",
      "75%        0.000000      0.000000           0.054957        0.483927   \n",
      "max        1.000000      1.000000           0.140943        0.536628   \n",
      "\n",
      "       predicted_Reliability  \n",
      "count                13106.0  \n",
      "mean                     1.0  \n",
      "std                      0.0  \n",
      "min                      1.0  \n",
      "25%                      1.0  \n",
      "50%                      1.0  \n",
      "75%                      1.0  \n",
      "max                      1.0  \n",
      "\n",
      "[8 rows x 24 columns]\n"
     ]
    },
    {
     "name": "stdout",
     "output_type": "stream",
     "text": [
      "              Hours       Minutes       Seconds       Latency          Cost  \\\n",
      "count  13107.000000  13107.000000  13107.000000  13107.000000  13107.000000   \n",
      "mean       0.568667      0.500165      0.495685      0.026872      0.401771   \n",
      "std        0.345421      0.294360      0.287701      0.029468      0.167738   \n",
      "min        0.000000      0.000000      0.000051      0.001520      0.005929   \n",
      "25%        0.173913      0.245763      0.247262      0.002599      0.450593   \n",
      "50%        0.695652      0.491525      0.493400      0.016951      0.484190   \n",
      "75%        0.869565      0.762712      0.740796      0.049781      0.496047   \n",
      "max        1.000000      1.000000      0.999938      0.984787      0.918972   \n",
      "\n",
      "       Reliability        Friday      Saturday   Sunday  Thursday  ...  \\\n",
      "count      13107.0  13107.000000  13107.000000  13107.0   13107.0  ...   \n",
      "mean           1.0      0.678264      0.321736      0.0       0.0  ...   \n",
      "std            0.0      0.467160      0.467160      0.0       0.0  ...   \n",
      "min            1.0      0.000000      0.000000      0.0       0.0  ...   \n",
      "25%            1.0      0.000000      0.000000      0.0       0.0  ...   \n",
      "50%            1.0      1.000000      0.000000      0.0       0.0  ...   \n",
      "75%            1.0      1.000000      1.000000      0.0       0.0  ...   \n",
      "max            1.0      1.000000      1.000000      0.0       0.0  ...   \n",
      "\n",
      "          Server__2     Server__3     Tactic__1     Tactic__2     Tactic__3  \\\n",
      "count  13107.000000  13107.000000  13107.000000  13107.000000  13107.000000   \n",
      "mean       0.333410      0.333181      0.200046      0.200046      0.199969   \n",
      "std        0.471449      0.471369      0.400050      0.400050      0.399992   \n",
      "min        0.000000      0.000000      0.000000      0.000000      0.000000   \n",
      "25%        0.000000      0.000000      0.000000      0.000000      0.000000   \n",
      "50%        0.000000      0.000000      0.000000      0.000000      0.000000   \n",
      "75%        1.000000      1.000000      0.000000      0.000000      0.000000   \n",
      "max        1.000000      1.000000      1.000000      1.000000      1.000000   \n",
      "\n",
      "          Tactic__4     Tactic__5  predicted_Latency  predicted_Cost  \\\n",
      "count  13107.000000  13107.000000       13106.000000    13106.000000   \n",
      "mean       0.199969      0.199969           0.026801        0.402506   \n",
      "std        0.399992      0.399992           0.026776        0.158530   \n",
      "min        0.000000      0.000000          -0.008099       -0.059115   \n",
      "25%        0.000000      0.000000           0.004909        0.392189   \n",
      "50%        0.000000      0.000000           0.018602        0.470314   \n",
      "75%        0.000000      0.000000           0.054379        0.506197   \n",
      "max        1.000000      1.000000           0.113376        0.547141   \n",
      "\n",
      "       predicted_Reliability  \n",
      "count                13106.0  \n",
      "mean                     1.0  \n",
      "std                      0.0  \n",
      "min                      1.0  \n",
      "25%                      1.0  \n",
      "50%                      1.0  \n",
      "75%                      1.0  \n",
      "max                      1.0  \n",
      "\n",
      "[8 rows x 24 columns]\n"
     ]
    }
   ],
   "source": [
    "for i in fileNames:\n",
    "    dataPred = pd.read_csv(inputFolder+i)\n",
    "    print(dataPred.describe())"
   ]
  },
  {
   "cell_type": "markdown",
   "metadata": {},
   "source": [
    "# reading predictions and transforming data"
   ]
  },
  {
   "cell_type": "code",
   "execution_count": 5,
   "metadata": {},
   "outputs": [],
   "source": [
    "def rowToTime(row):\n",
    "    timeAtMoment = row.Hours*3600*1000\n",
    "    timeAtMoment += row.Minutes*60*1000\n",
    "    timeAtMoment += row.Seconds*1000\n",
    "    return timeAtMoment"
   ]
  },
  {
   "cell_type": "code",
   "execution_count": 6,
   "metadata": {
    "scrolled": true
   },
   "outputs": [],
   "source": [
    "def shiftTransformCol50(data):\n",
    "    return (data + abs(data.min()))*50"
   ]
  },
  {
   "cell_type": "code",
   "execution_count": 7,
   "metadata": {},
   "outputs": [],
   "source": [
    "def utilFunction(latency, cost, reward = 100, reliability = 1):\n",
    "    epsilon = 0.00000000000000000000000000000000000000000000001\n",
    "\n",
    "    if reliability == 0:\n",
    "        return 0\n",
    "    else:\n",
    "        return ((reward)/(latency+cost+epsilon)) * reliability \n",
    "    \n"
   ]
  },
  {
   "cell_type": "markdown",
   "metadata": {},
   "source": [
    "realUtilityMean = 4.138921e+06\t\n",
    "realUtilStd = 6.175693e+06\t"
   ]
  },
  {
   "cell_type": "code",
   "execution_count": 8,
   "metadata": {
    "scrolled": true
   },
   "outputs": [],
   "source": [
    "def celia(data,updateThreshold = 1000):\n",
    "    lastUpdate = 0;\n",
    "    utilitPredicted = []\n",
    "    utilityReal = []\n",
    "    award = []\n",
    "    lostUtility = []\n",
    "    \n",
    "\n",
    "    temp = data.iloc[1]['Timestamp'] - data.iloc[0]['Timestamp']\n",
    "\n",
    "    for i in range(1,len(data)):\n",
    "#     timeDeltaReward = (data.iloc[i]['Timestamp'] - data.iloc[i-1]['Timestamp']).total_seconds()\n",
    "        timeDeltaReward = (data.iloc[i]['Timestamp'] - data.iloc[lastUpdate]['Timestamp'])\n",
    "\n",
    "        predictedUtil = utilFunction(data.iloc[i].predLatency, data.iloc[i].predCost,(float)(timeDeltaReward), data.iloc[i].predReliability )\n",
    "\n",
    "        realUtility = utilFunction(data.iloc[i].Latency, data.iloc[i].Cost,(float)(timeDeltaReward), data.iloc[i].Reliability )\n",
    "        \n",
    "        utilitPredicted.append(predictedUtil)\n",
    "        \n",
    "        utilityReal.append(realUtility)\n",
    "        \n",
    "        \n",
    "        if predictedUtil >= updateThreshold:\n",
    "    #         award.append(award[i-1] + realUtility-1);\n",
    "            award.append(realUtility-updateThreshold);\n",
    "            lastUpdate = i;\n",
    "            lostUtility.append(0)\n",
    "        else:\n",
    "    #         award.append(award[i-1]);\n",
    "            award.append(0);\n",
    "\n",
    "            if realUtility >= updateThreshold:\n",
    "                lostUtility.append(realUtility)\n",
    "            else:\n",
    "                lostUtility.append(0) \n",
    "    \n",
    "    results = pd.DataFrame(np.stack([utilitPredicted,utilityReal,award,lostUtility],axis=1),columns=['predictedUtility','realUtility','award','lostUtility'])\n",
    "    return results\n",
    "#     results.to_csv(\"./results/dummyRandom.csv\")"
   ]
  },
  {
   "cell_type": "code",
   "execution_count": 9,
   "metadata": {},
   "outputs": [],
   "source": [
    "def celiaSim(dataPred):\n",
    "    ### this is converting hours, minutes, seconds to a millisecond time series\n",
    "    dataPred.Hours = ((dataPred.Hours)*23)+0\n",
    "    dataPred.Minutes = ((dataPred.Minutes)*59)+0\n",
    "    dataPred.Seconds = ((dataPred.Seconds)*59.999805)+0.1025061111111\n",
    "    \n",
    "    cumulativeTime = [rowToTime(dataPred.iloc[0])]\n",
    "    resetAddTime = 23*3600*1000\n",
    "    resetAddTime += 59*60*1000\n",
    "    resetAddTime += 60*1000\n",
    "        \n",
    "    for i in range(1,len(dataPred)):\n",
    "        timeAtMoment = rowToTime(dataPred.iloc[i])\n",
    "        lastTimeMoment = rowToTime(dataPred.iloc[i-1])\n",
    "        if timeAtMoment > lastTimeMoment:\n",
    "            cumuTime = cumulativeTime[i-1] + (timeAtMoment - lastTimeMoment)\n",
    "            cumulativeTime.append(cumuTime)\n",
    "        else:\n",
    "            cumulativeTime.append(cumulativeTime[i-1]+(timeAtMoment+resetAddTime)-lastTimeMoment)\n",
    "    #         print(cumulativeTime[i])\n",
    "    \n",
    "    cumulativeTime = cumulativeTime- cumulativeTime[0]\n",
    "    \n",
    "    ### shifting and transforming data to a range of 0-50\n",
    "    newData = np.stack((cumulativeTime, shiftTransformCol50(dataPred.Latency), shiftTransformCol50(dataPred.Cost), dataPred.Reliability, shiftTransformCol50(dataPred.predicted_Latency), shiftTransformCol50(dataPred.predicted_Cost), round(dataPred.predicted_Reliability)),axis = 1)\n",
    "    newData = pd.DataFrame(newData, columns=['Timestamp', 'Latency', 'Cost', 'Reliability', 'predLatency', 'predCost', 'predReliability' ])\n",
    "\n",
    "    return celia(newData)\n",
    "    "
   ]
  },
  {
   "cell_type": "code",
   "execution_count": 10,
   "metadata": {},
   "outputs": [],
   "source": [
    "result = celiaSim(dataPred)\n"
   ]
  },
  {
   "cell_type": "code",
   "execution_count": 11,
   "metadata": {},
   "outputs": [],
   "source": [
    "def predictionStatAnalysis(data):\n",
    "    cost = abs(data.Cost - data.predicted_Cost).describe()\n",
    "    latency = abs(data.Latency - data.predicted_Latency).describe()\n",
    "    reliability = abs(data.Reliability - data.predicted_Reliability).describe()\n",
    "    for i in range(1,len(cost)):\n",
    "        print (cost[i])\n",
    "    print('\\n')\n",
    "    for i in range(1,len(cost)):\n",
    "        print (latency[i])"
   ]
  },
  {
   "cell_type": "code",
   "execution_count": 12,
   "metadata": {},
   "outputs": [],
   "source": [
    "# result.to_csv(outputDirectory+'result_'+i)\n"
   ]
  },
  {
   "cell_type": "code",
   "execution_count": 19,
   "metadata": {},
   "outputs": [],
   "source": [
    "celiaStats = []\n",
    "predictionStats = []\n",
    "for i in fileNames:\n",
    "    dataPred = pd.read_csv(inputFolder+i)\n",
    "    result = celiaSim(dataPred)\n",
    "    result.to_csv(outputDirectory+'celiaResult_'+i)\n",
    "    utilDif = np.sum(abs(result.predictedUtility-result.realUtility))\n",
    "    award = sum(result.award)\n",
    "    lostUtil = sum(result.lostUtility)\n",
    "    celiaStats.append([i,utilDif, award, lostUtil])"
   ]
  },
  {
   "cell_type": "code",
   "execution_count": 20,
   "metadata": {},
   "outputs": [],
   "source": [
    "celiaStats = pd.DataFrame(celiaStats,columns=['predictionType','utilDif', 'award','lostUtil'])\n",
    "celiaStats.to_csv(outputDirectory+'costStats.csv')"
   ]
  },
  {
   "cell_type": "code",
   "execution_count": null,
   "metadata": {},
   "outputs": [],
   "source": [
    "celiaSim(dataPred)"
   ]
  },
  {
   "cell_type": "code",
   "execution_count": null,
   "metadata": {},
   "outputs": [],
   "source": []
  },
  {
   "cell_type": "code",
   "execution_count": null,
   "metadata": {
    "scrolled": true
   },
   "outputs": [],
   "source": []
  },
  {
   "cell_type": "code",
   "execution_count": null,
   "metadata": {},
   "outputs": [],
   "source": []
  },
  {
   "cell_type": "code",
   "execution_count": null,
   "metadata": {},
   "outputs": [],
   "source": []
  },
  {
   "cell_type": "code",
   "execution_count": null,
   "metadata": {},
   "outputs": [],
   "source": []
  },
  {
   "cell_type": "code",
   "execution_count": null,
   "metadata": {},
   "outputs": [],
   "source": []
  }
 ],
 "metadata": {
  "kernelspec": {
   "display_name": "Python 3",
   "language": "python",
   "name": "python3"
  },
  "language_info": {
   "codemirror_mode": {
    "name": "ipython",
    "version": 3
   },
   "file_extension": ".py",
   "mimetype": "text/x-python",
   "name": "python",
   "nbconvert_exporter": "python",
   "pygments_lexer": "ipython3",
   "version": "3.7.5"
  }
 },
 "nbformat": 4,
 "nbformat_minor": 2
}
