{
 "cells": [
  {
   "cell_type": "code",
   "execution_count": 1,
   "metadata": {},
   "outputs": [],
   "source": [
    "#!/usr/bin/env python\n",
    "# coding: utf-8\n",
    "\n",
    "import numpy as np\n",
    "import sys\n",
    "import pandas as pd\n",
    "\n",
    "\n",
    "import random"
   ]
  },
  {
   "cell_type": "code",
   "execution_count": null,
   "metadata": {},
   "outputs": [],
   "source": [
    "dataPred = pd.read_csv('../Prediction_Files/predictions_KNN.csv')"
   ]
  },
  {
   "cell_type": "code",
   "execution_count": 65,
   "metadata": {},
   "outputs": [
    {
     "data": {
      "text/plain": [
       "0.7019305019971172"
      ]
     },
     "execution_count": 65,
     "metadata": {},
     "output_type": "execute_result"
    }
   ],
   "source": [
    "minVals = dataPred.min()\n",
    "maxVals = dataPred.max()\n",
    "\n",
    "max(dataPred.Cost - minVals.Cost/ maxVals.Cost - minVals.Cost)"
   ]
  },
  {
   "cell_type": "code",
   "execution_count": null,
   "metadata": {},
   "outputs": [],
   "source": []
  },
  {
   "cell_type": "markdown",
   "metadata": {},
   "source": [
    "# reading predictions and transforming data"
   ]
  },
  {
   "cell_type": "code",
   "execution_count": 134,
   "metadata": {
    "scrolled": true
   },
   "outputs": [],
   "source": [
    "def rowToTime(row):\n",
    "    timeAtMoment = row.Hours*3600*1000\n",
    "    timeAtMoment += row.Minutes*60*1000\n",
    "    timeAtMoment += row.Seconds*1000\n",
    "    return timeAtMoment\n",
    "\n",
    "def shiftTransformCol50(data, transformation = 50):\n",
    "    return (data + abs(data.min()))*50\n",
    "\n",
    "def utilFunction(latency, cost, reward = 100, reliability = 1):\n",
    "    epsilon = 0.00000000000000000000000000000000000000000000001\n",
    "\n",
    "    if reliability == 0:\n",
    "        return 0\n",
    "    else:\n",
    "        return ((reward)/( (2*latency) + cost + epsilon )) * reliability \n",
    "    \n",
    "\n",
    "def celia(data,updateThreshold = 1000):\n",
    "    lastUpdate = 0;\n",
    "    utilitPredicted = []\n",
    "    utilityReal = []\n",
    "    award = []\n",
    "    lostUtility = []\n",
    "    shouldHaveUpdated = []\n",
    "    performedUpdate = []\n",
    "\n",
    "    temp = data.iloc[1]['Timestamp'] - data.iloc[0]['Timestamp']\n",
    "    numOfUpdates = 0\n",
    "    negativeAward = []\n",
    "    for i in range(1,len(data)):\n",
    "#     timeDeltaReward = (data.iloc[i]['Timestamp'] - data.iloc[i-1]['Timestamp']).total_seconds()\n",
    "        timeDeltaReward = (data.iloc[i]['Timestamp'] - data.iloc[lastUpdate]['Timestamp'])\n",
    "\n",
    "        predictedUtil = utilFunction(data.iloc[i].predLatency, data.iloc[i].predCost,(float)(timeDeltaReward), data.iloc[i].predReliability )\n",
    "\n",
    "        realUtility = utilFunction(data.iloc[i].Latency, data.iloc[i].Cost,(float)(timeDeltaReward), data.iloc[i].Reliability )\n",
    "        \n",
    "        utilitPredicted.append(predictedUtil)\n",
    "        \n",
    "        utilityReal.append(realUtility)\n",
    "        \n",
    "        \n",
    "        if predictedUtil >= updateThreshold:\n",
    "    #         award.append(award[i-1] + realUtility-1);\n",
    "#             award.append(realUtility-updateThreshold);\n",
    "\n",
    "            lastUpdate = i;\n",
    "            lostUtility.append(0)\n",
    "            \n",
    "            performedUpdate.append(1) #this is the should/not have updated checks \n",
    "            \n",
    "            if realUtility >= updateThreshold:\n",
    "                award.append(realUtility-updateThreshold);\n",
    "                negativeAward.append(0)\n",
    "                shouldHaveUpdated.append(1)\n",
    "            else:\n",
    "                award.append(0)\n",
    "                shouldHaveUpdated.append(0)\n",
    "                negativeAward.append(abs(realUtility-updateThreshold));\n",
    "                \n",
    "            numOfUpdates += 1\n",
    "        else:\n",
    "    #         award.append(award[i-1]);\n",
    "            award.append(0);\n",
    "            \n",
    "            performedUpdate.append(0)\n",
    "            \n",
    "            if realUtility >= updateThreshold:\n",
    "                lostUtility.append(realUtility)\n",
    "                negativeAward.append(realUtility)\n",
    "\n",
    "                shouldHaveUpdated.append(1)\n",
    "\n",
    "            else:\n",
    "                lostUtility.append(0) \n",
    "                \n",
    "                negativeAward.append(0)\n",
    "\n",
    "                shouldHaveUpdated.append(0)\n",
    "\n",
    "    \n",
    "    results = pd.DataFrame(np.stack([utilitPredicted,utilityReal, award, negativeAward, lostUtility,shouldHaveUpdated,performedUpdate],axis=1),columns=['predictedUtility','realUtility','award','negativeAward','lostUtility','shouldHaveUpdated','performedUpdate'])\n",
    "    return results, numOfUpdates\n",
    "#     results.to_csv(\"./results/dummyRandom.csv\")\n",
    "\n",
    "def celiaSim(dataPred, updateThreshold = 1000):\n",
    "    ### this is converting hours, minutes, seconds to a millisecond time series\n",
    "    dataPred.Hours = ((dataPred.Hours)*23)+0\n",
    "    dataPred.Minutes = ((dataPred.Minutes)*59)+0\n",
    "    dataPred.Seconds = ((dataPred.Seconds)*59.999805)+0.1025061111111\n",
    "    \n",
    "    cumulativeTime = [rowToTime(dataPred.iloc[0])]\n",
    "    resetAddTime = 23*3600*1000\n",
    "    resetAddTime += 59*60*1000\n",
    "    resetAddTime += 60*1000\n",
    "        \n",
    "    for i in range(1,len(dataPred)):\n",
    "        timeAtMoment = rowToTime(dataPred.iloc[i])\n",
    "        lastTimeMoment = rowToTime(dataPred.iloc[i-1])\n",
    "        if timeAtMoment > lastTimeMoment:\n",
    "            cumuTime = cumulativeTime[i-1] + (timeAtMoment - lastTimeMoment)\n",
    "            cumulativeTime.append(cumuTime)\n",
    "        else:\n",
    "            cumulativeTime.append(cumulativeTime[i-1]+(timeAtMoment+resetAddTime)-lastTimeMoment)\n",
    "    #         print(cumulativeTime[i])\n",
    "    \n",
    "    cumulativeTime = cumulativeTime- cumulativeTime[0]\n",
    "    \n",
    "    ### shifting and transforming data to a range of 0-50\n",
    "    newData = np.stack((cumulativeTime, shiftTransformCol50(dataPred.Latency), shiftTransformCol50(dataPred.Total_Cost), dataPred.Reliability, shiftTransformCol50(dataPred.predicted_Latency), shiftTransformCol50(dataPred.predicted_Total_Cost), round(dataPred.predicted_Reliability)),axis = 1)\n",
    "    newData = pd.DataFrame(newData, columns=['Timestamp', 'Latency', 'Cost', 'Reliability', 'predLatency', 'predCost', 'predReliability' ])\n",
    "\n",
    "    return celia(newData, updateThreshold)\n",
    "#     return newData"
   ]
  },
  {
   "cell_type": "code",
   "execution_count": null,
   "metadata": {
    "scrolled": true
   },
   "outputs": [],
   "source": []
  },
  {
   "cell_type": "code",
   "execution_count": null,
   "metadata": {
    "scrolled": true
   },
   "outputs": [],
   "source": [
    "result = celiaSim(dataPred)"
   ]
  },
  {
   "cell_type": "code",
   "execution_count": 90,
   "metadata": {},
   "outputs": [
    {
     "name": "stderr",
     "output_type": "stream",
     "text": [
      "/usr/local/lib/python3.7/site-packages/ipykernel_launcher.py:1: UserWarning: Boolean Series key will be reindexed to match DataFrame index.\n",
      "  \"\"\"Entry point for launching an IPython kernel.\n"
     ]
    },
    {
     "data": {
      "text/plain": [
       "97"
      ]
     },
     "execution_count": 90,
     "metadata": {},
     "output_type": "execute_result"
    }
   ],
   "source": [
    "len(result[result.shouldHaveUpdated == 1][result.performedUpdate == 1])"
   ]
  },
  {
   "cell_type": "code",
   "execution_count": 136,
   "metadata": {
    "scrolled": true
   },
   "outputs": [],
   "source": [
    "# pd.read_csv('../CELIA/dummy/dummy30'+'%.csv')"
   ]
  },
  {
   "cell_type": "code",
   "execution_count": 151,
   "metadata": {
    "scrolled": true
   },
   "outputs": [
    {
     "name": "stderr",
     "output_type": "stream",
     "text": [
      "/usr/local/lib/python3.7/site-packages/ipykernel_launcher.py:15: UserWarning: Boolean Series key will be reindexed to match DataFrame index.\n",
      "  from ipykernel import kernelapp as app\n",
      "/usr/local/lib/python3.7/site-packages/ipykernel_launcher.py:16: UserWarning: Boolean Series key will be reindexed to match DataFrame index.\n",
      "  app.launch_new_instance()\n",
      "/usr/local/lib/python3.7/site-packages/ipykernel_launcher.py:17: UserWarning: Boolean Series key will be reindexed to match DataFrame index.\n",
      "/usr/local/lib/python3.7/site-packages/ipykernel_launcher.py:18: UserWarning: Boolean Series key will be reindexed to match DataFrame index.\n"
     ]
    }
   ],
   "source": [
    "muls = [1,0.9,0.7,0.5,1.1,1.3,1.5,1.8,2.1]\n",
    "names = [0,-10,-30,-50,10,30,50,80,110]\n",
    "# muls = [1]\n",
    "# names = [0]\n",
    "stats = []\n",
    "for i in range(len(muls)):\n",
    "    data = pd.read_csv('../CELIA/dummy/dummy'+str(names[i])+'%.csv')\n",
    "    result, numOfUpdates = celia(data, 154)\n",
    "#     result.to_csv(outputDirectory+'celiaResult_'+i)\n",
    "    utilDif = np.sum(abs(result.predictedUtility-result.realUtility))\n",
    "    award = sum(result.award)\n",
    "    negativeAward = sum(result.negativeAward)\n",
    "    lostUtil = sum(result.lostUtility)\n",
    "    \n",
    "    decisionShouldHaveDid = len(result[result.shouldHaveUpdated == 1][result.performedUpdate == 1])\n",
    "    decisionShouldHaveDidNot = len(result[result.shouldHaveUpdated == 1][result.performedUpdate == 0])\n",
    "    decisionNotHaveDid = len(result[result.shouldHaveUpdated == 0][result.performedUpdate == 1])\n",
    "    decisionNotHaveDidNot = len(result[result.shouldHaveUpdated == 0][result.performedUpdate == 0])\n",
    "    \n",
    "    wrongDecisions = decisionShouldHaveDidNot + decisionNotHaveDid\n",
    "    correctDecisions = decisionShouldHaveDid + decisionNotHaveDidNot\n",
    "    \n",
    "    stats.append([names[i], utilDif, award, negativeAward, numOfUpdates, lostUtil, wrongDecisions, correctDecisions, decisionShouldHaveDid, decisionShouldHaveDidNot, decisionNotHaveDid, decisionNotHaveDidNot])\n",
    "    \n"
   ]
  },
  {
   "cell_type": "code",
   "execution_count": 152,
   "metadata": {
    "scrolled": true
   },
   "outputs": [],
   "source": [
    "stats = pd.DataFrame(stats, columns=['predictionType','utilDif','reward','negativeReward', 'numOfUpdates','lostUtil', 'wrongDecisions', 'correctDecisions', 'decisionShouldHaveDid', 'decisionShouldHaveDidNot', 'decisionNotHaveDid', 'decisionNotHaveDidNot'])"
   ]
  },
  {
   "cell_type": "code",
   "execution_count": 153,
   "metadata": {},
   "outputs": [],
   "source": [
    "stats.to_csv('./dummy/dummyStats.csv')"
   ]
  },
  {
   "cell_type": "code",
   "execution_count": 154,
   "metadata": {},
   "outputs": [
    {
     "data": {
      "text/html": [
       "<div>\n",
       "<style scoped>\n",
       "    .dataframe tbody tr th:only-of-type {\n",
       "        vertical-align: middle;\n",
       "    }\n",
       "\n",
       "    .dataframe tbody tr th {\n",
       "        vertical-align: top;\n",
       "    }\n",
       "\n",
       "    .dataframe thead th {\n",
       "        text-align: right;\n",
       "    }\n",
       "</style>\n",
       "<table border=\"1\" class=\"dataframe\">\n",
       "  <thead>\n",
       "    <tr style=\"text-align: right;\">\n",
       "      <th></th>\n",
       "      <th>predictionType</th>\n",
       "      <th>utilDif</th>\n",
       "      <th>reward</th>\n",
       "      <th>negativeReward</th>\n",
       "      <th>numOfUpdates</th>\n",
       "      <th>lostUtil</th>\n",
       "      <th>wrongDecisions</th>\n",
       "      <th>correctDecisions</th>\n",
       "      <th>decisionShouldHaveDid</th>\n",
       "      <th>decisionShouldHaveDidNot</th>\n",
       "      <th>decisionNotHaveDid</th>\n",
       "      <th>decisionNotHaveDidNot</th>\n",
       "    </tr>\n",
       "  </thead>\n",
       "  <tbody>\n",
       "    <tr>\n",
       "      <th>0</th>\n",
       "      <td>0</td>\n",
       "      <td>0.000000e+00</td>\n",
       "      <td>1.067045e+09</td>\n",
       "      <td>0.000000</td>\n",
       "      <td>5289</td>\n",
       "      <td>0.000000</td>\n",
       "      <td>0</td>\n",
       "      <td>11488</td>\n",
       "      <td>5289</td>\n",
       "      <td>0</td>\n",
       "      <td>0</td>\n",
       "      <td>6199</td>\n",
       "    </tr>\n",
       "    <tr>\n",
       "      <th>1</th>\n",
       "      <td>-10</td>\n",
       "      <td>1.187053e+08</td>\n",
       "      <td>1.067011e+09</td>\n",
       "      <td>2916.422805</td>\n",
       "      <td>5593</td>\n",
       "      <td>0.000000</td>\n",
       "      <td>339</td>\n",
       "      <td>11149</td>\n",
       "      <td>5254</td>\n",
       "      <td>0</td>\n",
       "      <td>339</td>\n",
       "      <td>5895</td>\n",
       "    </tr>\n",
       "    <tr>\n",
       "      <th>2</th>\n",
       "      <td>-30</td>\n",
       "      <td>4.577132e+08</td>\n",
       "      <td>1.066863e+09</td>\n",
       "      <td>68856.699969</td>\n",
       "      <td>7115</td>\n",
       "      <td>0.000000</td>\n",
       "      <td>2012</td>\n",
       "      <td>9476</td>\n",
       "      <td>5103</td>\n",
       "      <td>0</td>\n",
       "      <td>2012</td>\n",
       "      <td>4373</td>\n",
       "    </tr>\n",
       "    <tr>\n",
       "      <th>3</th>\n",
       "      <td>-50</td>\n",
       "      <td>1.067935e+09</td>\n",
       "      <td>1.066841e+09</td>\n",
       "      <td>86973.655337</td>\n",
       "      <td>7361</td>\n",
       "      <td>0.000000</td>\n",
       "      <td>2261</td>\n",
       "      <td>9227</td>\n",
       "      <td>5100</td>\n",
       "      <td>0</td>\n",
       "      <td>2261</td>\n",
       "      <td>4127</td>\n",
       "    </tr>\n",
       "    <tr>\n",
       "      <th>4</th>\n",
       "      <td>10</td>\n",
       "      <td>9.712855e+07</td>\n",
       "      <td>1.067067e+09</td>\n",
       "      <td>30247.224152</td>\n",
       "      <td>5109</td>\n",
       "      <td>30247.224152</td>\n",
       "      <td>187</td>\n",
       "      <td>11301</td>\n",
       "      <td>5109</td>\n",
       "      <td>187</td>\n",
       "      <td>0</td>\n",
       "      <td>6192</td>\n",
       "    </tr>\n",
       "    <tr>\n",
       "      <th>5</th>\n",
       "      <td>30</td>\n",
       "      <td>2.465598e+08</td>\n",
       "      <td>1.067077e+09</td>\n",
       "      <td>44203.816459</td>\n",
       "      <td>5031</td>\n",
       "      <td>44203.816459</td>\n",
       "      <td>265</td>\n",
       "      <td>11223</td>\n",
       "      <td>5031</td>\n",
       "      <td>265</td>\n",
       "      <td>0</td>\n",
       "      <td>6192</td>\n",
       "    </tr>\n",
       "    <tr>\n",
       "      <th>6</th>\n",
       "      <td>50</td>\n",
       "      <td>3.561439e+08</td>\n",
       "      <td>1.067081e+09</td>\n",
       "      <td>50857.282447</td>\n",
       "      <td>5000</td>\n",
       "      <td>50857.282447</td>\n",
       "      <td>296</td>\n",
       "      <td>11192</td>\n",
       "      <td>5000</td>\n",
       "      <td>296</td>\n",
       "      <td>0</td>\n",
       "      <td>6192</td>\n",
       "    </tr>\n",
       "    <tr>\n",
       "      <th>7</th>\n",
       "      <td>80</td>\n",
       "      <td>4.748610e+08</td>\n",
       "      <td>1.067084e+09</td>\n",
       "      <td>57518.472317</td>\n",
       "      <td>4974</td>\n",
       "      <td>57518.472317</td>\n",
       "      <td>322</td>\n",
       "      <td>11166</td>\n",
       "      <td>4974</td>\n",
       "      <td>322</td>\n",
       "      <td>0</td>\n",
       "      <td>6192</td>\n",
       "    </tr>\n",
       "    <tr>\n",
       "      <th>8</th>\n",
       "      <td>110</td>\n",
       "      <td>5.596619e+08</td>\n",
       "      <td>1.067089e+09</td>\n",
       "      <td>65841.540897</td>\n",
       "      <td>4950</td>\n",
       "      <td>65841.540897</td>\n",
       "      <td>350</td>\n",
       "      <td>11138</td>\n",
       "      <td>4950</td>\n",
       "      <td>350</td>\n",
       "      <td>0</td>\n",
       "      <td>6188</td>\n",
       "    </tr>\n",
       "  </tbody>\n",
       "</table>\n",
       "</div>"
      ],
      "text/plain": [
       "   predictionType       utilDif        reward  negativeReward  numOfUpdates  \\\n",
       "0               0  0.000000e+00  1.067045e+09        0.000000          5289   \n",
       "1             -10  1.187053e+08  1.067011e+09     2916.422805          5593   \n",
       "2             -30  4.577132e+08  1.066863e+09    68856.699969          7115   \n",
       "3             -50  1.067935e+09  1.066841e+09    86973.655337          7361   \n",
       "4              10  9.712855e+07  1.067067e+09    30247.224152          5109   \n",
       "5              30  2.465598e+08  1.067077e+09    44203.816459          5031   \n",
       "6              50  3.561439e+08  1.067081e+09    50857.282447          5000   \n",
       "7              80  4.748610e+08  1.067084e+09    57518.472317          4974   \n",
       "8             110  5.596619e+08  1.067089e+09    65841.540897          4950   \n",
       "\n",
       "       lostUtil  wrongDecisions  correctDecisions  decisionShouldHaveDid  \\\n",
       "0      0.000000               0             11488                   5289   \n",
       "1      0.000000             339             11149                   5254   \n",
       "2      0.000000            2012              9476                   5103   \n",
       "3      0.000000            2261              9227                   5100   \n",
       "4  30247.224152             187             11301                   5109   \n",
       "5  44203.816459             265             11223                   5031   \n",
       "6  50857.282447             296             11192                   5000   \n",
       "7  57518.472317             322             11166                   4974   \n",
       "8  65841.540897             350             11138                   4950   \n",
       "\n",
       "   decisionShouldHaveDidNot  decisionNotHaveDid  decisionNotHaveDidNot  \n",
       "0                         0                   0                   6199  \n",
       "1                         0                 339                   5895  \n",
       "2                         0                2012                   4373  \n",
       "3                         0                2261                   4127  \n",
       "4                       187                   0                   6192  \n",
       "5                       265                   0                   6192  \n",
       "6                       296                   0                   6192  \n",
       "7                       322                   0                   6192  \n",
       "8                       350                   0                   6188  "
      ]
     },
     "execution_count": 154,
     "metadata": {},
     "output_type": "execute_result"
    }
   ],
   "source": [
    "stats"
   ]
  },
  {
   "cell_type": "code",
   "execution_count": null,
   "metadata": {},
   "outputs": [],
   "source": []
  },
  {
   "cell_type": "code",
   "execution_count": null,
   "metadata": {},
   "outputs": [],
   "source": []
  },
  {
   "cell_type": "code",
   "execution_count": null,
   "metadata": {},
   "outputs": [],
   "source": []
  },
  {
   "cell_type": "code",
   "execution_count": null,
   "metadata": {},
   "outputs": [],
   "source": []
  },
  {
   "cell_type": "markdown",
   "metadata": {},
   "source": [
    "realUtilityMean = 4.138921e+06\t\n",
    "realUtilStd = 6.175693e+06\t"
   ]
  },
  {
   "cell_type": "code",
   "execution_count": null,
   "metadata": {},
   "outputs": [],
   "source": [
    "lastUpdate = 0;\n",
    "updateThreshold = 1000\n",
    "utilitPredicted = []\n",
    "utilityReal = []\n",
    "award = []\n",
    "lostUtility = []"
   ]
  },
  {
   "cell_type": "code",
   "execution_count": null,
   "metadata": {},
   "outputs": [],
   "source": [
    "# real time utility aware analysis tool"
   ]
  },
  {
   "cell_type": "code",
   "execution_count": null,
   "metadata": {
    "scrolled": true
   },
   "outputs": [],
   "source": [
    "temp = data.iloc[1]['Timestamp'] - data.iloc[0]['Timestamp']\n",
    "# type(temp.total_seconds())\n",
    "# pd.to_datetime(data.iloc[1]['Timestamp'] - data.iloc[0]['Timestamp'], unit='ms')"
   ]
  },
  {
   "cell_type": "code",
   "execution_count": null,
   "metadata": {
    "scrolled": true
   },
   "outputs": [],
   "source": [
    "for i in range(1,len(data)):\n",
    "#     timeDeltaReward = (data.iloc[i]['Timestamp'] - data.iloc[i-1]['Timestamp']).total_seconds()\n",
    "    timeDeltaReward = (data.iloc[i]['Timestamp'] - data.iloc[lastUpdate]['Timestamp'])\n",
    "\n",
    "    predictedUtil = utilFunction(data.iloc[i].predLatency, data.iloc[i].predCost,(float)(timeDeltaReward), data.iloc[i].predReliability )\n",
    "    \n",
    "    realUtility = utilFunction(data.iloc[i].Latency, data.iloc[i].Cost,(float)(timeDeltaReward), data.iloc[i].Reliability )\n",
    "    utilitPredicted.append(predictedUtil)\n",
    "    utilityReal.append(realUtility)\n",
    "    if predictedUtil >= updateThreshold:\n",
    "#         award.append(award[i-1] + realUtility-1);\n",
    "        award.append(realUtility-updateThreshold);\n",
    "        lastUpdate = i;\n",
    "        lostUtility.append(0)\n",
    "    else:\n",
    "#         award.append(award[i-1]);\n",
    "        award.append(0);\n",
    "    \n",
    "        if realUtility >= updateThreshold:\n",
    "            lostUtility.append(realUtility)\n",
    "        else:\n",
    "            lostUtility.append(0)\n"
   ]
  },
  {
   "cell_type": "code",
   "execution_count": null,
   "metadata": {},
   "outputs": [],
   "source": []
  },
  {
   "cell_type": "code",
   "execution_count": null,
   "metadata": {},
   "outputs": [],
   "source": [
    "results = pd.DataFrame(np.stack([utilitPredicted,utilityReal,award,lostUtility],axis=1),columns=['predictedUtility','realUtility','award','lostUtility'])"
   ]
  },
  {
   "cell_type": "code",
   "execution_count": null,
   "metadata": {
    "scrolled": true
   },
   "outputs": [],
   "source": [
    "results.describe()"
   ]
  },
  {
   "cell_type": "code",
   "execution_count": null,
   "metadata": {
    "scrolled": true
   },
   "outputs": [],
   "source": [
    "results"
   ]
  },
  {
   "cell_type": "code",
   "execution_count": null,
   "metadata": {},
   "outputs": [],
   "source": [
    "results.to_csv(\"./results/dummyRandom.csv\")"
   ]
  },
  {
   "cell_type": "code",
   "execution_count": null,
   "metadata": {},
   "outputs": [],
   "source": []
  },
  {
   "cell_type": "code",
   "execution_count": null,
   "metadata": {},
   "outputs": [],
   "source": [
    "cumulativeTime[20]-cumulativeTime[19]"
   ]
  },
  {
   "cell_type": "code",
   "execution_count": null,
   "metadata": {},
   "outputs": [],
   "source": []
  }
 ],
 "metadata": {
  "kernelspec": {
   "display_name": "Python 3",
   "language": "python",
   "name": "python3"
  },
  "language_info": {
   "codemirror_mode": {
    "name": "ipython",
    "version": 3
   },
   "file_extension": ".py",
   "mimetype": "text/x-python",
   "name": "python",
   "nbconvert_exporter": "python",
   "pygments_lexer": "ipython3",
   "version": "3.7.5"
  }
 },
 "nbformat": 4,
 "nbformat_minor": 2
}
