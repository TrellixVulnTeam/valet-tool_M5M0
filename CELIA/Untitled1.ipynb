{
 "cells": [
  {
   "cell_type": "code",
   "execution_count": 17,
   "metadata": {},
   "outputs": [],
   "source": [
    "import pandas as pd\n",
    "from datetime import datetime"
   ]
  },
  {
   "cell_type": "code",
   "execution_count": 3,
   "metadata": {},
   "outputs": [],
   "source": [
    "data= pd.read_csv('/Users/aizazulhaq/Desktop/RESEARCH/TVA-Results/PredictionResult/eRNN/noping_normalized_tva_server_1_tactic_1_test_predictions_timestamp.csv')"
   ]
  },
  {
   "cell_type": "code",
   "execution_count": 23,
   "metadata": {},
   "outputs": [
    {
     "data": {
      "text/html": [
       "<div>\n",
       "<style scoped>\n",
       "    .dataframe tbody tr th:only-of-type {\n",
       "        vertical-align: middle;\n",
       "    }\n",
       "\n",
       "    .dataframe tbody tr th {\n",
       "        vertical-align: top;\n",
       "    }\n",
       "\n",
       "    .dataframe thead th {\n",
       "        text-align: right;\n",
       "    }\n",
       "</style>\n",
       "<table border=\"1\" class=\"dataframe\">\n",
       "  <thead>\n",
       "    <tr style=\"text-align: right;\">\n",
       "      <th></th>\n",
       "      <th>#time_since_last_recording</th>\n",
       "      <th>latency</th>\n",
       "      <th>cost</th>\n",
       "      <th>reliability</th>\n",
       "      <th>expected_latency</th>\n",
       "      <th>expected_cost</th>\n",
       "      <th>expected_reliability</th>\n",
       "      <th>predicted_latency</th>\n",
       "      <th>predicted_cost</th>\n",
       "      <th>predicted_reliability</th>\n",
       "    </tr>\n",
       "  </thead>\n",
       "  <tbody>\n",
       "    <tr>\n",
       "      <th>0</th>\n",
       "      <td>2020-35-17 05:35:13.000306</td>\n",
       "      <td>0.016360</td>\n",
       "      <td>0.167969</td>\n",
       "      <td>1</td>\n",
       "      <td>0.014878</td>\n",
       "      <td>0.171875</td>\n",
       "      <td>1</td>\n",
       "      <td>0.032544</td>\n",
       "      <td>0.177124</td>\n",
       "      <td>0.961140</td>\n",
       "    </tr>\n",
       "    <tr>\n",
       "      <th>1</th>\n",
       "      <td>2020-35-17 05:35:14.000428</td>\n",
       "      <td>0.014878</td>\n",
       "      <td>0.171875</td>\n",
       "      <td>1</td>\n",
       "      <td>0.016282</td>\n",
       "      <td>0.167969</td>\n",
       "      <td>1</td>\n",
       "      <td>0.026635</td>\n",
       "      <td>0.178830</td>\n",
       "      <td>0.974925</td>\n",
       "    </tr>\n",
       "    <tr>\n",
       "      <th>2</th>\n",
       "      <td>2020-35-17 05:35:54.000272</td>\n",
       "      <td>0.016282</td>\n",
       "      <td>0.167969</td>\n",
       "      <td>1</td>\n",
       "      <td>0.018096</td>\n",
       "      <td>0.126953</td>\n",
       "      <td>1</td>\n",
       "      <td>0.022903</td>\n",
       "      <td>0.180150</td>\n",
       "      <td>0.980326</td>\n",
       "    </tr>\n",
       "    <tr>\n",
       "      <th>3</th>\n",
       "      <td>2020-36-17 05:36:05.000251</td>\n",
       "      <td>0.018096</td>\n",
       "      <td>0.126953</td>\n",
       "      <td>1</td>\n",
       "      <td>0.016279</td>\n",
       "      <td>0.167969</td>\n",
       "      <td>1</td>\n",
       "      <td>0.023181</td>\n",
       "      <td>0.177421</td>\n",
       "      <td>0.988399</td>\n",
       "    </tr>\n",
       "    <tr>\n",
       "      <th>4</th>\n",
       "      <td>2020-36-17 05:36:52.000180</td>\n",
       "      <td>0.016279</td>\n",
       "      <td>0.167969</td>\n",
       "      <td>1</td>\n",
       "      <td>0.016059</td>\n",
       "      <td>0.179687</td>\n",
       "      <td>1</td>\n",
       "      <td>0.017711</td>\n",
       "      <td>0.180205</td>\n",
       "      <td>0.990372</td>\n",
       "    </tr>\n",
       "  </tbody>\n",
       "</table>\n",
       "</div>"
      ],
      "text/plain": [
       "   #time_since_last_recording   latency      cost  reliability  \\\n",
       "0  2020-35-17 05:35:13.000306  0.016360  0.167969            1   \n",
       "1  2020-35-17 05:35:14.000428  0.014878  0.171875            1   \n",
       "2  2020-35-17 05:35:54.000272  0.016282  0.167969            1   \n",
       "3  2020-36-17 05:36:05.000251  0.018096  0.126953            1   \n",
       "4  2020-36-17 05:36:52.000180  0.016279  0.167969            1   \n",
       "\n",
       "   expected_latency  expected_cost  expected_reliability  predicted_latency  \\\n",
       "0          0.014878       0.171875                     1           0.032544   \n",
       "1          0.016282       0.167969                     1           0.026635   \n",
       "2          0.018096       0.126953                     1           0.022903   \n",
       "3          0.016279       0.167969                     1           0.023181   \n",
       "4          0.016059       0.179687                     1           0.017711   \n",
       "\n",
       "   predicted_cost  predicted_reliability  \n",
       "0        0.177124               0.961140  \n",
       "1        0.178830               0.974925  \n",
       "2        0.180150               0.980326  \n",
       "3        0.177421               0.988399  \n",
       "4        0.180205               0.990372  "
      ]
     },
     "execution_count": 23,
     "metadata": {},
     "output_type": "execute_result"
    }
   ],
   "source": [
    "data.head()"
   ]
  },
  {
   "cell_type": "code",
   "execution_count": 22,
   "metadata": {},
   "outputs": [
    {
     "ename": "ValueError",
     "evalue": "time data '2020-35-17 05:35:13.000306' does not match format 'YYYY-MM-DD HH:mm:SS'",
     "output_type": "error",
     "traceback": [
      "\u001b[0;31m---------------------------------------------------------------------------\u001b[0m",
      "\u001b[0;31mValueError\u001b[0m                                Traceback (most recent call last)",
      "\u001b[0;32m<ipython-input-22-793f4c919b3c>\u001b[0m in \u001b[0;36m<module>\u001b[0;34m\u001b[0m\n\u001b[0;32m----> 1\u001b[0;31m \u001b[0mdatetime\u001b[0m\u001b[0;34m.\u001b[0m\u001b[0mstrptime\u001b[0m\u001b[0;34m(\u001b[0m\u001b[0mdata\u001b[0m\u001b[0;34m[\u001b[0m\u001b[0;34m'#time_since_last_recording'\u001b[0m\u001b[0;34m]\u001b[0m\u001b[0;34m.\u001b[0m\u001b[0miloc\u001b[0m\u001b[0;34m[\u001b[0m\u001b[0;36m0\u001b[0m\u001b[0;34m]\u001b[0m\u001b[0;34m,\u001b[0m \u001b[0;34m'YYYY-MM-DD HH:mm:SS'\u001b[0m\u001b[0;34m)\u001b[0m\u001b[0;34m\u001b[0m\u001b[0;34m\u001b[0m\u001b[0m\n\u001b[0m",
      "\u001b[0;32m/usr/local/Cellar/python/3.7.5/Frameworks/Python.framework/Versions/3.7/lib/python3.7/_strptime.py\u001b[0m in \u001b[0;36m_strptime_datetime\u001b[0;34m(cls, data_string, format)\u001b[0m\n\u001b[1;32m    575\u001b[0m     \"\"\"Return a class cls instance based on the input string and the\n\u001b[1;32m    576\u001b[0m     format string.\"\"\"\n\u001b[0;32m--> 577\u001b[0;31m     \u001b[0mtt\u001b[0m\u001b[0;34m,\u001b[0m \u001b[0mfraction\u001b[0m\u001b[0;34m,\u001b[0m \u001b[0mgmtoff_fraction\u001b[0m \u001b[0;34m=\u001b[0m \u001b[0m_strptime\u001b[0m\u001b[0;34m(\u001b[0m\u001b[0mdata_string\u001b[0m\u001b[0;34m,\u001b[0m \u001b[0mformat\u001b[0m\u001b[0;34m)\u001b[0m\u001b[0;34m\u001b[0m\u001b[0;34m\u001b[0m\u001b[0m\n\u001b[0m\u001b[1;32m    578\u001b[0m     \u001b[0mtzname\u001b[0m\u001b[0;34m,\u001b[0m \u001b[0mgmtoff\u001b[0m \u001b[0;34m=\u001b[0m \u001b[0mtt\u001b[0m\u001b[0;34m[\u001b[0m\u001b[0;34m-\u001b[0m\u001b[0;36m2\u001b[0m\u001b[0;34m:\u001b[0m\u001b[0;34m]\u001b[0m\u001b[0;34m\u001b[0m\u001b[0;34m\u001b[0m\u001b[0m\n\u001b[1;32m    579\u001b[0m     \u001b[0margs\u001b[0m \u001b[0;34m=\u001b[0m \u001b[0mtt\u001b[0m\u001b[0;34m[\u001b[0m\u001b[0;34m:\u001b[0m\u001b[0;36m6\u001b[0m\u001b[0;34m]\u001b[0m \u001b[0;34m+\u001b[0m \u001b[0;34m(\u001b[0m\u001b[0mfraction\u001b[0m\u001b[0;34m,\u001b[0m\u001b[0;34m)\u001b[0m\u001b[0;34m\u001b[0m\u001b[0;34m\u001b[0m\u001b[0m\n",
      "\u001b[0;32m/usr/local/Cellar/python/3.7.5/Frameworks/Python.framework/Versions/3.7/lib/python3.7/_strptime.py\u001b[0m in \u001b[0;36m_strptime\u001b[0;34m(data_string, format)\u001b[0m\n\u001b[1;32m    357\u001b[0m     \u001b[0;32mif\u001b[0m \u001b[0;32mnot\u001b[0m \u001b[0mfound\u001b[0m\u001b[0;34m:\u001b[0m\u001b[0;34m\u001b[0m\u001b[0;34m\u001b[0m\u001b[0m\n\u001b[1;32m    358\u001b[0m         raise ValueError(\"time data %r does not match format %r\" %\n\u001b[0;32m--> 359\u001b[0;31m                          (data_string, format))\n\u001b[0m\u001b[1;32m    360\u001b[0m     \u001b[0;32mif\u001b[0m \u001b[0mlen\u001b[0m\u001b[0;34m(\u001b[0m\u001b[0mdata_string\u001b[0m\u001b[0;34m)\u001b[0m \u001b[0;34m!=\u001b[0m \u001b[0mfound\u001b[0m\u001b[0;34m.\u001b[0m\u001b[0mend\u001b[0m\u001b[0;34m(\u001b[0m\u001b[0;34m)\u001b[0m\u001b[0;34m:\u001b[0m\u001b[0;34m\u001b[0m\u001b[0;34m\u001b[0m\u001b[0m\n\u001b[1;32m    361\u001b[0m         raise ValueError(\"unconverted data remains: %s\" %\n",
      "\u001b[0;31mValueError\u001b[0m: time data '2020-35-17 05:35:13.000306' does not match format 'YYYY-MM-DD HH:mm:SS'"
     ]
    }
   ],
   "source": [
    "datetime.strptime(data['#time_since_last_recording'].iloc[0], 'YYYY-MM-DD HH:mm:SS')"
   ]
  },
  {
   "cell_type": "code",
   "execution_count": null,
   "metadata": {},
   "outputs": [],
   "source": []
  }
 ],
 "metadata": {
  "kernelspec": {
   "display_name": "Python 3",
   "language": "python",
   "name": "python3"
  },
  "language_info": {
   "codemirror_mode": {
    "name": "ipython",
    "version": 3
   },
   "file_extension": ".py",
   "mimetype": "text/x-python",
   "name": "python",
   "nbconvert_exporter": "python",
   "pygments_lexer": "ipython3",
   "version": "3.7.5"
  }
 },
 "nbformat": 4,
 "nbformat_minor": 2
}
