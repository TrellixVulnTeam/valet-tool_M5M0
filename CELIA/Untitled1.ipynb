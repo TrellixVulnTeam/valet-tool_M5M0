{
 "cells": [
  {
   "cell_type": "code",
   "execution_count": 17,
   "metadata": {},
   "outputs": [],
   "source": [
    "import pandas as pd\n",
    "from datetime import datetime"
   ]
  },
  {
   "cell_type": "code",
   "execution_count": 3,
   "metadata": {},
   "outputs": [],
   "source": [
    "data= pd.read_csv('/Users/aizazulhaq/Desktop/RESEARCH/TVA-Results/PredictionResult/eRNN/noping_normalized_tva_server_1_tactic_1_test_predictions_timestamp.csv')"
   ]
  },
  {
   "cell_type": "code",
   "execution_count": 23,
   "metadata": {},
   "outputs": [
    {
     "data": {
      "text/html": [
       "<div>\n",
       "<style scoped>\n",
       "    .dataframe tbody tr th:only-of-type {\n",
       "        vertical-align: middle;\n",
       "    }\n",
       "\n",
       "    .dataframe tbody tr th {\n",
       "        vertical-align: top;\n",
       "    }\n",
       "\n",
       "    .dataframe thead th {\n",
       "        text-align: right;\n",
       "    }\n",
       "</style>\n",
       "<table border=\"1\" class=\"dataframe\">\n",
       "  <thead>\n",
       "    <tr style=\"text-align: right;\">\n",
       "      <th></th>\n",
       "      <th>#time_since_last_recording</th>\n",
       "      <th>latency</th>\n",
       "      <th>cost</th>\n",
       "      <th>reliability</th>\n",
       "      <th>expected_latency</th>\n",
       "      <th>expected_cost</th>\n",
       "      <th>expected_reliability</th>\n",
       "      <th>predicted_latency</th>\n",
       "      <th>predicted_cost</th>\n",
       "      <th>predicted_reliability</th>\n",
       "    </tr>\n",
       "  </thead>\n",
       "  <tbody>\n",
       "    <tr>\n",
       "      <th>0</th>\n",
       "      <td>2020-35-17 05:35:13.000306</td>\n",
       "      <td>0.016360</td>\n",
       "      <td>0.167969</td>\n",
       "      <td>1</td>\n",
       "      <td>0.014878</td>\n",
       "      <td>0.171875</td>\n",
       "      <td>1</td>\n",
       "      <td>0.032544</td>\n",
       "      <td>0.177124</td>\n",
       "      <td>0.961140</td>\n",
       "    </tr>\n",
       "    <tr>\n",
       "      <th>1</th>\n",
       "      <td>2020-35-17 05:35:14.000428</td>\n",
       "      <td>0.014878</td>\n",
       "      <td>0.171875</td>\n",
       "      <td>1</td>\n",
       "      <td>0.016282</td>\n",
       "      <td>0.167969</td>\n",
       "      <td>1</td>\n",
       "      <td>0.026635</td>\n",
       "      <td>0.178830</td>\n",
       "      <td>0.974925</td>\n",
       "    </tr>\n",
       "    <tr>\n",
       "      <th>2</th>\n",
       "      <td>2020-35-17 05:35:54.000272</td>\n",
       "      <td>0.016282</td>\n",
       "      <td>0.167969</td>\n",
       "      <td>1</td>\n",
       "      <td>0.018096</td>\n",
       "      <td>0.126953</td>\n",
       "      <td>1</td>\n",
       "      <td>0.022903</td>\n",
       "      <td>0.180150</td>\n",
       "      <td>0.980326</td>\n",
       "    </tr>\n",
       "    <tr>\n",
       "      <th>3</th>\n",
       "      <td>2020-36-17 05:36:05.000251</td>\n",
       "      <td>0.018096</td>\n",
       "      <td>0.126953</td>\n",
       "      <td>1</td>\n",
       "      <td>0.016279</td>\n",
       "      <td>0.167969</td>\n",
       "      <td>1</td>\n",
       "      <td>0.023181</td>\n",
       "      <td>0.177421</td>\n",
       "      <td>0.988399</td>\n",
       "    </tr>\n",
       "    <tr>\n",
       "      <th>4</th>\n",
       "      <td>2020-36-17 05:36:52.000180</td>\n",
       "      <td>0.016279</td>\n",
       "      <td>0.167969</td>\n",
       "      <td>1</td>\n",
       "      <td>0.016059</td>\n",
       "      <td>0.179687</td>\n",
       "      <td>1</td>\n",
       "      <td>0.017711</td>\n",
       "      <td>0.180205</td>\n",
       "      <td>0.990372</td>\n",
       "    </tr>\n",
       "  </tbody>\n",
       "</table>\n",
       "</div>"
      ],
      "text/plain": [
       "   #time_since_last_recording   latency      cost  reliability  \\\n",
       "0  2020-35-17 05:35:13.000306  0.016360  0.167969            1   \n",
       "1  2020-35-17 05:35:14.000428  0.014878  0.171875            1   \n",
       "2  2020-35-17 05:35:54.000272  0.016282  0.167969            1   \n",
       "3  2020-36-17 05:36:05.000251  0.018096  0.126953            1   \n",
       "4  2020-36-17 05:36:52.000180  0.016279  0.167969            1   \n",
       "\n",
       "   expected_latency  expected_cost  expected_reliability  predicted_latency  \\\n",
       "0          0.014878       0.171875                     1           0.032544   \n",
       "1          0.016282       0.167969                     1           0.026635   \n",
       "2          0.018096       0.126953                     1           0.022903   \n",
       "3          0.016279       0.167969                     1           0.023181   \n",
       "4          0.016059       0.179687                     1           0.017711   \n",
       "\n",
       "   predicted_cost  predicted_reliability  \n",
       "0        0.177124               0.961140  \n",
       "1        0.178830               0.974925  \n",
       "2        0.180150               0.980326  \n",
       "3        0.177421               0.988399  \n",
       "4        0.180205               0.990372  "
      ]
     },
     "execution_count": 23,
     "metadata": {},
     "output_type": "execute_result"
    }
   ],
   "source": [
    "data.head()"
   ]
  },
  {
   "cell_type": "code",
   "execution_count": 27,
   "metadata": {},
   "outputs": [
    {
     "ename": "IndexError",
     "evalue": "list index out of range",
     "output_type": "error",
     "traceback": [
      "\u001b[0;31m---------------------------------------------------------------------------\u001b[0m",
      "\u001b[0;31mIndexError\u001b[0m                                Traceback (most recent call last)",
      "\u001b[0;32m<ipython-input-27-94bdd09a85a8>\u001b[0m in \u001b[0;36m<module>\u001b[0;34m\u001b[0m\n\u001b[0;32m----> 1\u001b[0;31m \u001b[0mdatetime\u001b[0m\u001b[0;34m.\u001b[0m\u001b[0mstrptime\u001b[0m\u001b[0;34m(\u001b[0m\u001b[0mdata\u001b[0m\u001b[0;34m[\u001b[0m\u001b[0;34m'#time_since_last_recording'\u001b[0m\u001b[0;34m]\u001b[0m\u001b[0;34m.\u001b[0m\u001b[0mapply\u001b[0m\u001b[0;34m(\u001b[0m\u001b[0;32mlambda\u001b[0m \u001b[0ma\u001b[0m \u001b[0;34m:\u001b[0m \u001b[0ma\u001b[0m\u001b[0;34m.\u001b[0m\u001b[0msplit\u001b[0m\u001b[0;34m(\u001b[0m\u001b[0;34m)\u001b[0m\u001b[0;34m[\u001b[0m\u001b[0;36m1\u001b[0m\u001b[0;34m]\u001b[0m\u001b[0;34m)\u001b[0m\u001b[0;34m,\u001b[0m \u001b[0;34m'YYYY-MM-DD HH:mm:SS'\u001b[0m\u001b[0;34m)\u001b[0m\u001b[0;34m\u001b[0m\u001b[0;34m\u001b[0m\u001b[0m\n\u001b[0m\u001b[1;32m      2\u001b[0m \u001b[0;34m\u001b[0m\u001b[0m\n\u001b[1;32m      3\u001b[0m \u001b[0;34m\u001b[0m\u001b[0m\n",
      "\u001b[0;32m/usr/local/lib/python3.7/site-packages/pandas/core/series.py\u001b[0m in \u001b[0;36mapply\u001b[0;34m(self, func, convert_dtype, args, **kwds)\u001b[0m\n\u001b[1;32m   3589\u001b[0m             \u001b[0;32melse\u001b[0m\u001b[0;34m:\u001b[0m\u001b[0;34m\u001b[0m\u001b[0;34m\u001b[0m\u001b[0m\n\u001b[1;32m   3590\u001b[0m                 \u001b[0mvalues\u001b[0m \u001b[0;34m=\u001b[0m \u001b[0mself\u001b[0m\u001b[0;34m.\u001b[0m\u001b[0mastype\u001b[0m\u001b[0;34m(\u001b[0m\u001b[0mobject\u001b[0m\u001b[0;34m)\u001b[0m\u001b[0;34m.\u001b[0m\u001b[0mvalues\u001b[0m\u001b[0;34m\u001b[0m\u001b[0;34m\u001b[0m\u001b[0m\n\u001b[0;32m-> 3591\u001b[0;31m                 \u001b[0mmapped\u001b[0m \u001b[0;34m=\u001b[0m \u001b[0mlib\u001b[0m\u001b[0;34m.\u001b[0m\u001b[0mmap_infer\u001b[0m\u001b[0;34m(\u001b[0m\u001b[0mvalues\u001b[0m\u001b[0;34m,\u001b[0m \u001b[0mf\u001b[0m\u001b[0;34m,\u001b[0m \u001b[0mconvert\u001b[0m\u001b[0;34m=\u001b[0m\u001b[0mconvert_dtype\u001b[0m\u001b[0;34m)\u001b[0m\u001b[0;34m\u001b[0m\u001b[0;34m\u001b[0m\u001b[0m\n\u001b[0m\u001b[1;32m   3592\u001b[0m \u001b[0;34m\u001b[0m\u001b[0m\n\u001b[1;32m   3593\u001b[0m         \u001b[0;32mif\u001b[0m \u001b[0mlen\u001b[0m\u001b[0;34m(\u001b[0m\u001b[0mmapped\u001b[0m\u001b[0;34m)\u001b[0m \u001b[0;32mand\u001b[0m \u001b[0misinstance\u001b[0m\u001b[0;34m(\u001b[0m\u001b[0mmapped\u001b[0m\u001b[0;34m[\u001b[0m\u001b[0;36m0\u001b[0m\u001b[0;34m]\u001b[0m\u001b[0;34m,\u001b[0m \u001b[0mSeries\u001b[0m\u001b[0;34m)\u001b[0m\u001b[0;34m:\u001b[0m\u001b[0;34m\u001b[0m\u001b[0;34m\u001b[0m\u001b[0m\n",
      "\u001b[0;32mpandas/_libs/lib.pyx\u001b[0m in \u001b[0;36mpandas._libs.lib.map_infer\u001b[0;34m()\u001b[0m\n",
      "\u001b[0;32m<ipython-input-27-94bdd09a85a8>\u001b[0m in \u001b[0;36m<lambda>\u001b[0;34m(a)\u001b[0m\n\u001b[0;32m----> 1\u001b[0;31m \u001b[0mdatetime\u001b[0m\u001b[0;34m.\u001b[0m\u001b[0mstrptime\u001b[0m\u001b[0;34m(\u001b[0m\u001b[0mdata\u001b[0m\u001b[0;34m[\u001b[0m\u001b[0;34m'#time_since_last_recording'\u001b[0m\u001b[0;34m]\u001b[0m\u001b[0;34m.\u001b[0m\u001b[0mapply\u001b[0m\u001b[0;34m(\u001b[0m\u001b[0;32mlambda\u001b[0m \u001b[0ma\u001b[0m \u001b[0;34m:\u001b[0m \u001b[0ma\u001b[0m\u001b[0;34m.\u001b[0m\u001b[0msplit\u001b[0m\u001b[0;34m(\u001b[0m\u001b[0;34m)\u001b[0m\u001b[0;34m[\u001b[0m\u001b[0;36m1\u001b[0m\u001b[0;34m]\u001b[0m\u001b[0;34m)\u001b[0m\u001b[0;34m,\u001b[0m \u001b[0;34m'YYYY-MM-DD HH:mm:SS'\u001b[0m\u001b[0;34m)\u001b[0m\u001b[0;34m\u001b[0m\u001b[0;34m\u001b[0m\u001b[0m\n\u001b[0m\u001b[1;32m      2\u001b[0m \u001b[0;34m\u001b[0m\u001b[0m\n\u001b[1;32m      3\u001b[0m \u001b[0;34m\u001b[0m\u001b[0m\n",
      "\u001b[0;31mIndexError\u001b[0m: list index out of range"
     ]
    }
   ],
   "source": [
    "datetime.strptime(data['#time_since_last_recording'].apply(lambda a : a.split()[1]), 'YYYY-MM-DD HH:mm:SS')\n",
    "\n",
    "\n"
   ]
  },
  {
   "cell_type": "code",
   "execution_count": 25,
   "metadata": {},
   "outputs": [
    {
     "data": {
      "text/plain": [
       "'05:35:13.000306'"
      ]
     },
     "execution_count": 25,
     "metadata": {},
     "output_type": "execute_result"
    }
   ],
   "source": [
    "'2020-35-17 05:35:13.000306'.split()[1]"
   ]
  },
  {
   "cell_type": "code",
   "execution_count": 31,
   "metadata": {},
   "outputs": [
    {
     "data": {
      "text/plain": [
       "0       [2020-35-17, 05:35:13.000306]\n",
       "1       [2020-35-17, 05:35:14.000428]\n",
       "2       [2020-35-17, 05:35:54.000272]\n",
       "3       [2020-36-17, 05:36:05.000251]\n",
       "4       [2020-36-17, 05:36:52.000180]\n",
       "5       [2020-37-17, 05:37:09.000918]\n",
       "6       [2020-37-17, 05:37:12.000093]\n",
       "7       [2020-37-17, 05:37:44.000141]\n",
       "8       [2020-39-17, 05:39:55.000459]\n",
       "9       [2020-41-17, 05:41:33.000029]\n",
       "10      [2020-42-17, 05:42:37.000645]\n",
       "11      [2020-44-17, 05:44:39.000176]\n",
       "12      [2020-45-17, 05:45:02.000555]\n",
       "13      [2020-49-17, 05:49:21.000258]\n",
       "14      [2020-49-17, 05:49:51.000582]\n",
       "15      [2020-50-17, 05:50:45.000864]\n",
       "16      [2020-50-17, 05:50:53.000721]\n",
       "17      [2020-51-17, 05:51:32.000817]\n",
       "18      [2020-51-17, 05:51:58.000376]\n",
       "19      [2020-55-17, 05:55:33.000253]\n",
       "20      [2020-56-17, 05:56:46.000839]\n",
       "21      [2020-57-17, 05:57:49.000532]\n",
       "22      [2020-58-17, 05:58:00.000063]\n",
       "23      [2020-59-17, 05:59:21.000406]\n",
       "24                          [01:14.0]\n",
       "25                          [01:35.0]\n",
       "26                          [03:32.0]\n",
       "27                          [04:44.0]\n",
       "28                          [04:46.0]\n",
       "29                          [05:03.0]\n",
       "                    ...              \n",
       "2574    [2020-36-19, 05:36:27.000500]\n",
       "2575    [2020-36-19, 05:36:45.000797]\n",
       "2576    [2020-36-19, 05:36:57.000344]\n",
       "2577    [2020-37-19, 05:37:08.000849]\n",
       "2578    [2020-37-19, 05:37:59.000274]\n",
       "2579    [2020-38-19, 05:38:23.000987]\n",
       "2580    [2020-39-19, 05:39:55.000498]\n",
       "2581    [2020-39-19, 05:39:57.000449]\n",
       "2582    [2020-41-19, 05:41:32.000426]\n",
       "2583    [2020-42-19, 05:42:04.000118]\n",
       "2584    [2020-42-19, 05:42:55.000761]\n",
       "2585    [2020-44-19, 05:44:42.000725]\n",
       "2586    [2020-44-19, 05:44:57.000498]\n",
       "2587    [2020-45-19, 05:45:53.000122]\n",
       "2588    [2020-47-19, 05:47:29.000264]\n",
       "2589    [2020-49-19, 05:49:25.000103]\n",
       "2590    [2020-49-19, 05:49:29.000498]\n",
       "2591    [2020-51-19, 05:51:20.000781]\n",
       "2592    [2020-53-19, 05:53:41.000076]\n",
       "2593    [2020-55-19, 05:55:45.000971]\n",
       "2594    [2020-56-19, 05:56:45.000674]\n",
       "2595    [2020-59-19, 05:59:35.000808]\n",
       "2596    [2020-59-19, 05:59:50.000207]\n",
       "2597    [2020-00-19, 06:00:56.000238]\n",
       "2598                        [01:45.0]\n",
       "2599                        [03:11.0]\n",
       "2600                        [03:44.0]\n",
       "2601                        [04:03.0]\n",
       "2602                        [04:14.0]\n",
       "2603                        [04:38.0]\n",
       "Name: #time_since_last_recording, Length: 2604, dtype: object"
      ]
     },
     "execution_count": 31,
     "metadata": {},
     "output_type": "execute_result"
    }
   ],
   "source": [
    "data['#time_since_last_recording'].apply(lambda a : a.split())"
   ]
  },
  {
   "cell_type": "code",
   "execution_count": null,
   "metadata": {},
   "outputs": [],
   "source": []
  }
 ],
 "metadata": {
  "kernelspec": {
   "display_name": "Python 3",
   "language": "python",
   "name": "python3"
  },
  "language_info": {
   "codemirror_mode": {
    "name": "ipython",
    "version": 3
   },
   "file_extension": ".py",
   "mimetype": "text/x-python",
   "name": "python",
   "nbconvert_exporter": "python",
   "pygments_lexer": "ipython3",
   "version": "3.7.5"
  }
 },
 "nbformat": 4,
 "nbformat_minor": 2
}
