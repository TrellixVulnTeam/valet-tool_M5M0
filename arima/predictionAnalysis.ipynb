{
 "cells": [
  {
   "cell_type": "code",
   "execution_count": 21,
   "metadata": {},
   "outputs": [],
   "source": [
    "import pandas as pd \n",
    "import numpy as np\n",
    "from sklearn.metrics import mean_squared_error"
   ]
  },
  {
   "cell_type": "code",
   "execution_count": null,
   "metadata": {},
   "outputs": [],
   "source": []
  },
  {
   "cell_type": "code",
   "execution_count": 3,
   "metadata": {},
   "outputs": [],
   "source": [
    "data = pd.read_csv('./predictions/predictions_server_1_tactic_1_cost.csv')"
   ]
  },
  {
   "cell_type": "code",
   "execution_count": 29,
   "metadata": {},
   "outputs": [
    {
     "name": "stdout",
     "output_type": "stream",
     "text": [
      "mse server 1 cost = 0.00017681192448091803\n",
      "rmse server 1 cost = 0.013297064506157667\n",
      "\n",
      "mse server 1 latency = 1.0338609694866837e-05\n",
      "rmse server 1 latency = 0.0032153708487306465\n",
      "\n",
      "\n",
      "mse server 2 cost = 0.00021299696618740685\n",
      "rmse server 2 cost = 0.014594415582249495\n",
      "\n",
      "mse server 2 latency = 1.0510704512109506e-06\n",
      "rmse server 2 latency = 0.0010252172702461418\n",
      "\n",
      "\n",
      "mse server 3 cost = 0.00017649889940271835\n",
      "rmse server 3 cost = 0.013285288833996736\n",
      "\n",
      "mse server 3 latency = 0.0013712636099285963\n",
      "rmse server 3 latency = 0.03703057668911728\n",
      "\n",
      "\n"
     ]
    }
   ],
   "source": [
    "for server in range(1,4):\n",
    "    costPredictions = pd.read_csv('./predictions/predictions_server_' + str(server) + '_tactic_1_cost.csv', index_col=0)\n",
    "    latencyPredictions = pd.read_csv('./predictions/predictions_server_' + str(server) + '_tactic_1_latency.csv', index_col=0)\n",
    "    actual = pd.read_csv('../parse_tactics/normalized_tva_server_' + str(server) + '_tactic_1_test.csv')\n",
    "\n",
    "    actualLatency = actual['latency']\n",
    "    actualCost = actual['cost']\n",
    "\n",
    "    print ('mse server ' + str(server) + ' cost = ' + str(mean_squared_error(actualCost, costPredictions, squared=True)))\n",
    "    print ('rmse server ' + str(server) + ' cost = ' + str(mean_squared_error(actualCost, costPredictions, squared=False)))\n",
    "    print('')\n",
    "    print ('mse server ' + str(server) + ' latency = ' + str(mean_squared_error(actualLatency, latencyPredictions, squared=True)))\n",
    "    print ('rmse server ' + str(server) + ' latency = ' + str(mean_squared_error(actualLatency, latencyPredictions, squared=False)))\n",
    "    print('')\n",
    "    print('')"
   ]
  },
  {
   "cell_type": "code",
   "execution_count": 27,
   "metadata": {},
   "outputs": [
    {
     "name": "stdout",
     "output_type": "stream",
     "text": [
      "mse server 1cost = 0.00017681192448091803\n",
      "rmse server 1cost = 0.013297064506157667\n",
      "\n",
      "mse server 1latency = 1.0338609694866837e-05\n",
      "rmse server 1latency = 0.0032153708487306465\n",
      "\n",
      "\n"
     ]
    }
   ],
   "source": [
    "# for server in range(1,4):\n",
    "server = 1\n",
    "costPredictions = pd.read_csv('./predictions/predictions_server_' + str(server) + '_tactic_1_cost.csv', index_col=0)\n",
    "latencyPredictions = pd.read_csv('./predictions/predictions_server_' + str(server) + '_tactic_1_latency.csv', index_col=0)\n",
    "actual = pd.read_csv('../parse_tactics/normalized_tva_server_' + str(server) + '_tactic_1_test.csv')\n",
    "\n",
    "actualLatency = actual['latency']\n",
    "actualCost = actual['cost']\n",
    "\n",
    "print ('mse server ' + str(server) + 'cost = ' + str(mean_squared_error(actualCost, costPredictions, squared=True)))\n",
    "print ('rmse server ' + str(server) + 'cost = ' + str(mean_squared_error(actualCost, costPredictions, squared=False)))\n",
    "print('')\n",
    "print ('mse server ' + str(server) + 'latency = ' + str(mean_squared_error(actualLatency, latencyPredictions, squared=True)))\n",
    "print ('rmse server ' + str(server) + 'latency = ' + str(mean_squared_error(actualLatency, latencyPredictions, squared=False)))\n",
    "print('')\n",
    "print('')"
   ]
  },
  {
   "cell_type": "code",
   "execution_count": 22,
   "metadata": {},
   "outputs": [
    {
     "data": {
      "text/plain": [
       "1.0338609694866837e-05"
      ]
     },
     "execution_count": 22,
     "metadata": {},
     "output_type": "execute_result"
    }
   ],
   "source": [
    "mean_squared_error(actualLatency, latencyPredictions)"
   ]
  },
  {
   "cell_type": "code",
   "execution_count": 23,
   "metadata": {},
   "outputs": [
    {
     "data": {
      "text/plain": [
       "0.00017681192448091803"
      ]
     },
     "execution_count": 23,
     "metadata": {},
     "output_type": "execute_result"
    }
   ],
   "source": [
    "mean_squared_error(actualCost, costPredictions)"
   ]
  },
  {
   "cell_type": "code",
   "execution_count": null,
   "metadata": {},
   "outputs": [],
   "source": []
  }
 ],
 "metadata": {
  "kernelspec": {
   "display_name": "Python 3",
   "language": "python",
   "name": "python3"
  },
  "language_info": {
   "codemirror_mode": {
    "name": "ipython",
    "version": 3
   },
   "file_extension": ".py",
   "mimetype": "text/x-python",
   "name": "python",
   "nbconvert_exporter": "python",
   "pygments_lexer": "ipython3",
   "version": "3.7.5"
  }
 },
 "nbformat": 4,
 "nbformat_minor": 2
}
