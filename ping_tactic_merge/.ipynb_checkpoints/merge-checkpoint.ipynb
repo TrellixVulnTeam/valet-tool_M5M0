{
 "cells": [
  {
   "cell_type": "code",
   "execution_count": 111,
   "metadata": {},
   "outputs": [],
   "source": [
    "import pandas as pd\n",
    "import numpy as np\n",
    "import array\n",
    "import time \n",
    "import datetime\n",
    "from dateutil.relativedelta import relativedelta"
   ]
  },
  {
   "cell_type": "code",
   "execution_count": 112,
   "metadata": {
    "scrolled": true
   },
   "outputs": [],
   "source": [
    "#reading files\n",
    "listLong = pd.read_csv(\"../tva_output.csv\", parse_dates=True)\n",
    "listPing = pd.read_csv(\"../ping.csv\",parse_dates=True) "
   ]
  },
  {
   "cell_type": "code",
   "execution_count": 113,
   "metadata": {},
   "outputs": [],
   "source": [
    "start = datetime.datetime.strptime(a, '%Y-%m-%d %H:%M:%S.%f')\n",
    "ends = datetime.datetime.strptime(b, '%Y-%m-%d %H:%M:%S.%f')\n",
    "\n",
    "diff = relativedelta(ends, start)"
   ]
  },
  {
   "cell_type": "code",
   "execution_count": 114,
   "metadata": {},
   "outputs": [
    {
     "data": {
      "text/plain": [
       "relativedelta(microseconds=+137355)"
      ]
     },
     "execution_count": 114,
     "metadata": {},
     "output_type": "execute_result"
    }
   ],
   "source": [
    "diff"
   ]
  },
  {
   "cell_type": "code",
   "execution_count": 124,
   "metadata": {},
   "outputs": [
    {
     "data": {
      "text/plain": [
       "<function ndarray.tolist>"
      ]
     },
     "execution_count": 124,
     "metadata": {},
     "output_type": "execute_result"
    }
   ],
   "source": [
    "merged2"
   ]
  },
  {
   "cell_type": "code",
   "execution_count": 135,
   "metadata": {},
   "outputs": [],
   "source": [
    "#putting the columns in memory\n",
    "time = listLong.iloc[:, 1]\n",
    "server = listLong.iloc[:, 2]\n",
    "tactic = listLong.iloc[:, 3]\n",
    "latency = listLong.iloc[:, 4]\n",
    "cost = listLong.iloc[:, 5]\n",
    "reliability = listLong.iloc[:, 6]\n",
    "\n",
    "timePing = listPing.iloc[:, 0]\n",
    "serverPing = listPing.iloc[:, 1]\n",
    "reliabilityPing = listPing.iloc[:, 2]\n",
    "pingPing = listPing.iloc[:, 3]\n",
    "\n",
    "length = len(time) \n",
    "merged2 = np.zeros((length,14))\n",
    "merged = merged2.astype(str)"
   ]
  },
  {
   "cell_type": "code",
   "execution_count": 126,
   "metadata": {},
   "outputs": [
    {
     "data": {
      "text/plain": [
       "array([['0.0', '0.0', '0.0', ..., '0.0', '0.0', '0.0'],\n",
       "       ['0.0', '0.0', '0.0', ..., '0.0', '0.0', '0.0'],\n",
       "       ['0.0', '0.0', '0.0', ..., '0.0', '0.0', '0.0'],\n",
       "       ...,\n",
       "       ['0.0', '0.0', '0.0', ..., '0.0', '0.0', '0.0'],\n",
       "       ['0.0', '0.0', '0.0', ..., '0.0', '0.0', '0.0'],\n",
       "       ['0.0', '0.0', '0.0', ..., '0.0', '0.0', '0.0']], dtype='<U32')"
      ]
     },
     "execution_count": 126,
     "metadata": {},
     "output_type": "execute_result"
    }
   ],
   "source": [
    "merged2"
   ]
  },
  {
   "cell_type": "markdown",
   "metadata": {},
   "source": [
    "merged2"
   ]
  },
  {
   "cell_type": "code",
   "execution_count": 136,
   "metadata": {
    "scrolled": false
   },
   "outputs": [],
   "source": [
    "#merging data\n",
    "i = 0  #counter for ping values\n",
    "c = 0  #counter for last time\n",
    "for j in range(0,length):\n",
    "    t = time[j]\n",
    "    currentTime = datetime.datetime.strptime(t, '%Y-%m-%d %H:%M:%S.%f')\n",
    "    month = currentTime.month\n",
    "    day = currentTime.day\n",
    "    hour = currentTime.hour\n",
    "    minute = currentTime.minute\n",
    "    second = currentTime.second + currentTime.microsecond/1000000\n",
    "    microsecond = currentTime.microsecond\n",
    "    merged[(j,0)] = t\n",
    "    merged[(j,1)] = month\n",
    "    merged[(j,2)] = day\n",
    "    merged[(j,3)] = hour\n",
    "    merged[(j,4)] = minute\n",
    "    merged[(j,5)] = second\n",
    "    merged[(j,6)] = server[j]\n",
    "    merged[(j,7)] = tactic[j]\n",
    "    \n",
    "    if j > 23 and tactic[j] == 1:\n",
    "        p = timePing[i]\n",
    "        currentPingTime =  datetime.datetime.strptime(p, '%Y-%m-%d %H:%M:%S.%f')\n",
    "        currentTimeSeconds = (currentTime.month * 2.628e+6 + currentTime.day * 86400 + currentTime.hour * 3600 + currentTime.minute * 60 + currentTime.second + currentTime.microsecond/1000000 )\n",
    "        currentPingTimeSeconds = (currentPingTime.month * 2.628e+6 + currentPingTime.day * 86400 + currentPingTime.hour * 3600 + currentPingTime.minute * 60 + currentPingTime.second + currentPingTime.microsecond/1000000 )\n",
    "        age = currentTimeSeconds - currentPingTimeSeconds\n",
    "        merged[(j,8)] = pingPing[i]\n",
    "        merged[(j,9)] = age\n",
    "        merged[(j,10)] = p\n",
    "        i = i + 1\n",
    "    else:\n",
    "        merged[(j,7)] = \"\"\n",
    "        merged[(j,8)] = \"\" \n",
    "        merged[(j,9)] = \"\" \n",
    "        merged[(j,10)] = \"\" \n",
    "        \n",
    "    merged[(j,11)] = latency[j]\n",
    "    merged[(j,12)] = cost[j]\n",
    "    merged[(j,13)] = reliability[j]\n",
    "\n",
    "            \n",
    "        \n",
    "            "
   ]
  },
  {
   "cell_type": "code",
   "execution_count": 137,
   "metadata": {},
   "outputs": [],
   "source": [
    "#saving\n",
    "np.savetxt(\"merged.csv\", merged, delimiter=\",\", header=\"timestamp,month,day,hour,minute,second,server,tactic,ping,age of ping(seconds),ping timestamp,latency,cost,reliability\", fmt='%s')"
   ]
  },
  {
   "cell_type": "code",
   "execution_count": null,
   "metadata": {},
   "outputs": [],
   "source": []
  }
 ],
 "metadata": {
  "kernelspec": {
   "display_name": "Python 3",
   "language": "python",
   "name": "python3"
  },
  "language_info": {
   "codemirror_mode": {
    "name": "ipython",
    "version": 3
   },
   "file_extension": ".py",
   "mimetype": "text/x-python",
   "name": "python",
   "nbconvert_exporter": "python",
   "pygments_lexer": "ipython3",
   "version": "3.7.4"
  }
 },
 "nbformat": 4,
 "nbformat_minor": 2
}
