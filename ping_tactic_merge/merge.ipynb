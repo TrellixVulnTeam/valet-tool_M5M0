{
 "cells": [
  {
   "cell_type": "code",
   "execution_count": 103,
   "metadata": {},
   "outputs": [],
   "source": [
    "import pandas as pd\n",
    "import numpy as np\n",
    "import array\n",
    "import time\n",
    "from datetime import datetime"
   ]
  },
  {
   "cell_type": "code",
   "execution_count": 104,
   "metadata": {
    "scrolled": true
   },
   "outputs": [],
   "source": [
    "#reading files\n",
    "listLong = pd.read_csv(\"../tva_output.csv\", parse_dates=True)\n",
    "listPing = pd.read_csv(\"../ping.csv\",parse_dates=True) "
   ]
  },
  {
   "cell_type": "code",
   "execution_count": 105,
   "metadata": {},
   "outputs": [],
   "source": [
    "#putting the columns in memory\n",
    "time = listLong.iloc[:, 1]\n",
    "server = listLong.iloc[:, 2]\n",
    "tactic = listLong.iloc[:, 3]\n",
    "latency = listLong.iloc[:, 4]\n",
    "cost = listLong.iloc[:, 5]\n",
    "reliability = listLong.iloc[:, 6]\n",
    "\n",
    "timePing = listPing.iloc[:, 0]\n",
    "serverPing = listPing.iloc[:, 1]\n",
    "reliabilityPing = listPing.iloc[:, 2]\n",
    "pingPing = listPing.iloc[:, 3]\n",
    "\n",
    "length = len(time) \n",
    "merged = np.zeros((length,7))"
   ]
  },
  {
   "cell_type": "code",
   "execution_count": 106,
   "metadata": {
    "scrolled": false
   },
   "outputs": [],
   "source": [
    "#merging data\n",
    "i = 0 \n",
    "for j in range(0,length):\n",
    "    merged[(j,1)] = server[j]\n",
    "    merged[(j,2)] = tactic[j]\n",
    "    \n",
    "    if j > 23 and tactic[j] == 1:\n",
    "        merged[(j,3)] = pingPing[i]\n",
    "        i = i + 1\n",
    "        \n",
    "    merged[(j,4)] = latency[j]\n",
    "    merged[(j,5)] = cost[j]\n",
    "    merged[(j,6)] = reliability[j]\n",
    "\n",
    "            \n",
    "        \n",
    "            "
   ]
  },
  {
   "cell_type": "code",
   "execution_count": 107,
   "metadata": {},
   "outputs": [],
   "source": [
    "#saving\n",
    "np.savetxt(\"merged.csv\", merged, delimiter=\",\", header=\"datetime,server,tactuc,ping,latency,cost,reliability\")"
   ]
  }
 ],
 "metadata": {
  "kernelspec": {
   "display_name": "Python 3",
   "language": "python",
   "name": "python3"
  },
  "language_info": {
   "codemirror_mode": {
    "name": "ipython",
    "version": 3
   },
   "file_extension": ".py",
   "mimetype": "text/x-python",
   "name": "python",
   "nbconvert_exporter": "python",
   "pygments_lexer": "ipython3",
   "version": "3.7.4"
  }
 },
 "nbformat": 4,
 "nbformat_minor": 2
}
