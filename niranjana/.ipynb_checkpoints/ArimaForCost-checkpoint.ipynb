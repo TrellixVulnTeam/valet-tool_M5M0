{
 "cells": [
  {
   "cell_type": "code",
   "execution_count": 2,
   "metadata": {},
   "outputs": [],
   "source": [
    "import numpy as np\n",
    "import pandas as pd\n",
    "from statsmodels.tsa.statespace.sarimax import SARIMAX\n",
    "from statsmodels.graphics.tsaplots import plot_acf,plot_pacf \n",
    "from statsmodels.tsa.seasonal import seasonal_decompose \n",
    "from pmdarima import auto_arima                        \n",
    "from sklearn.metrics import mean_squared_error\n",
    "from statsmodels.tools.eval_measures import rmse\n",
    "\n",
    "from statsmodels.tsa.arima_model import ARIMA\n",
    "\n",
    "\n",
    "import warnings\n",
    "\n",
    "from matplotlib import pyplot\n",
    "\n",
    "# from pyramid.arima import auto_arima\n",
    "from pandas.plotting import autocorrelation_plot\n",
    "from math import sqrt\n",
    "\n"
   ]
  },
  {
   "cell_type": "code",
   "execution_count": 45,
   "metadata": {},
   "outputs": [],
   "source": [
    "def parsealldate(x):\n",
    "    timestamp = pd.datetime.strptime(x,'%Y-%m-%d %H:%M:%S')\n",
    "#     timestamp = timestamp.dt.ceil(freq='s') \n",
    "    return timestamp"
   ]
  },
  {
   "cell_type": "code",
   "execution_count": 100,
   "metadata": {},
   "outputs": [],
   "source": [
    "trainData = pd.read_csv(\"../parse_tactics/normalized_tva_server_1_tactic_1_train.csv\",  parse_dates=[0])\n",
    "testData = pd.read_csv(\"../parse_tactics/normalized_tva_server_1_tactic_1_test.csv\", parse_dates=[0])\n",
    "trainData['timestamp'] = trainData.timestamp.dt.ceil(freq='s')\n",
    "testData['timestamp'] = testData.timestamp.dt.ceil(freq='s')"
   ]
  },
  {
   "cell_type": "code",
   "execution_count": 101,
   "metadata": {
    "scrolled": true
   },
   "outputs": [],
   "source": [
    "trainData = trainData.set_index('timestamp')['latency']\n",
    "testData = testData.set_index('timestamp')['latency']\n",
    "\n",
    "trainData.index = pd.DatetimeIndex(trainData.index).to_period('S')\n",
    "testData.index = pd.DatetimeIndex(testData.index).to_period('S')\n",
    "\n"
   ]
  },
  {
   "cell_type": "code",
   "execution_count": 73,
   "metadata": {},
   "outputs": [],
   "source": [
    "trainData = trainData.dropna()"
   ]
  },
  {
   "cell_type": "code",
   "execution_count": 75,
   "metadata": {},
   "outputs": [
    {
     "name": "stdout",
     "output_type": "stream",
     "text": [
      "Performing stepwise search to minimize aic\n",
      " ARIMA(2,1,2)(0,0,0)[0] intercept   : AIC=inf, Time=1.93 sec\n",
      " ARIMA(0,1,0)(0,0,0)[0] intercept   : AIC=-92578.647, Time=0.28 sec\n",
      " ARIMA(1,1,0)(0,0,0)[0] intercept   : AIC=-96190.123, Time=0.93 sec\n",
      " ARIMA(0,1,1)(0,0,0)[0] intercept   : AIC=inf, Time=1.73 sec\n",
      " ARIMA(0,1,0)(0,0,0)[0]             : AIC=-92580.647, Time=0.14 sec\n",
      " ARIMA(2,1,0)(0,0,0)[0] intercept   : AIC=-97693.645, Time=1.37 sec\n",
      " ARIMA(3,1,0)(0,0,0)[0] intercept   : AIC=-98377.843, Time=1.95 sec\n",
      " ARIMA(4,1,0)(0,0,0)[0] intercept   : AIC=-98856.954, Time=2.86 sec\n",
      " ARIMA(5,1,0)(0,0,0)[0] intercept   : AIC=-99204.277, Time=3.06 sec\n",
      " ARIMA(5,1,1)(0,0,0)[0] intercept   : AIC=-100210.537, Time=2.81 sec\n",
      " ARIMA(4,1,1)(0,0,0)[0] intercept   : AIC=-100383.304, Time=2.49 sec\n",
      " ARIMA(3,1,1)(0,0,0)[0] intercept   : AIC=-100183.462, Time=2.11 sec\n",
      " ARIMA(4,1,2)(0,0,0)[0] intercept   : AIC=inf, Time=2.41 sec\n",
      " ARIMA(3,1,2)(0,0,0)[0] intercept   : AIC=inf, Time=2.09 sec\n",
      " ARIMA(5,1,2)(0,0,0)[0] intercept   : AIC=inf, Time=2.87 sec\n",
      " ARIMA(4,1,1)(0,0,0)[0]             : AIC=-99971.288, Time=0.95 sec\n",
      "\n",
      "Best model:  ARIMA(4,1,1)(0,0,0)[0] intercept\n",
      "Total fit time: 29.959 seconds\n"
     ]
    }
   ],
   "source": [
    "bestModel = auto_arima(trainData, trace=True, error_action='ignore', suppress_warnings=True,method='nm')"
   ]
  },
  {
   "cell_type": "code",
   "execution_count": null,
   "metadata": {},
   "outputs": [],
   "source": []
  },
  {
   "cell_type": "code",
   "execution_count": 36,
   "metadata": {
    "scrolled": true
   },
   "outputs": [
    {
     "data": {
      "text/plain": [
       "<matplotlib.axes._subplots.AxesSubplot at 0x12d6ecb50>"
      ]
     },
     "execution_count": 36,
     "metadata": {},
     "output_type": "execute_result"
    },
    {
     "data": {
      "image/png": "[encoded data removed]",
      "text/plain": [
       "<Figure size 432x288 with 1 Axes>"
      ]
     },
     "metadata": {
      "needs_background": "light"
     },
     "output_type": "display_data"
    }
   ],
   "source": [
    "autocorrelation_plot(trainData)\n"
   ]
  },
  {
   "cell_type": "code",
   "execution_count": 110,
   "metadata": {},
   "outputs": [],
   "source": [
    "def runArima(trainData, testdata, p,d,q, modelName):\n",
    "    \n",
    "    model = ARIMA(trainData, order=(p,d,q))\n",
    "    model_fit = model.fit(solver='newton')\n",
    "    \n",
    "    history = [x for x in trainData]\n",
    "    \n",
    "    predictions = list()\n",
    "# walk-forward validation\n",
    "    for t in range(len(testData)):\n",
    "\n",
    "        walkForwardModel = ARIMA(history, order=(p,d,q))\n",
    "        walkForwardModel_fit = walkForwardModel.fit(solver='newton',disp=False)\n",
    "        output = walkForwardModel_fit.forecast()\n",
    "        yhat = output[0]\n",
    "        predictions.append(yhat)\n",
    "        obs = testData[t]\n",
    "        history.append(obs)\n",
    "        \n",
    "    model_fit.save('./arimaModels/'+ modelName + '.pkl')\n",
    "\n",
    "    return prediction"
   ]
  },
  {
   "cell_type": "code",
   "execution_count": 109,
   "metadata": {},
   "outputs": [
    {
     "name": "stdout",
     "output_type": "stream",
     "text": [
      "Optimization terminated successfully.\n",
      "         Current function value: -3.956734\n",
      "         Iterations 3\n"
     ]
    }
   ],
   "source": [
    "runArima(trainData, testData[0:1], 1,1,0, 'dummyModel')"
   ]
  },
  {
   "cell_type": "code",
   "execution_count": 58,
   "metadata": {},
   "outputs": [],
   "source": [
    "pre"
   ]
  },
  {
   "cell_type": "code",
   "execution_count": null,
   "metadata": {},
   "outputs": [
    {
     "name": "stdout",
     "output_type": "stream",
     "text": [
      "Optimization terminated successfully.\n",
      "         Current function value: -3.984172\n",
      "         Iterations 2\n"
     ]
    }
   ],
   "source": [
    "# def runArimaOnLatency():\n",
    "predictions = []\n",
    "for i in range(1,4):\n",
    "    trainFileName = \"../parse_tactics/normalized_tva_server_\"+str(i)+\"_tactic_1_train.csv\"\n",
    "    testFileName = \"../parse_tactics/normalized_tva_server_\"+str(i)+\"_tactic_1_test.csv\"\n",
    "    validationFileName = \"../parse_tactics/normalized_tva_server_\"+str(i)+\"_tactic_1_validation.csv\"\n",
    "    \n",
    "    trainData = pd.read_csv(trainFileName,  parse_dates=[0])\n",
    "    testData = pd.read_csv(testFileName, parse_dates=[0])\n",
    "    validationData = pd.read_csv(validationFileName, parse_dates=[0])\n",
    "    \n",
    "    trainData['timestamp'] = trainData.timestamp.dt.ceil(freq='s')\n",
    "    testData['timestamp'] = testData.timestamp.dt.ceil(freq='s')\n",
    "    validationData['timestamp'] = validationData.timestamp.dt.ceil(freq='s')\n",
    "    \n",
    "    trainData = trainData.set_index('timestamp')['latency']\n",
    "    testData = testData.set_index('timestamp')['latency']\n",
    "    validationData = validationData.set_index('timestamp')['latency']\n",
    "\n",
    "    trainData.index = pd.DatetimeIndex(trainData.index).to_period('S')\n",
    "    testData.index = pd.DatetimeIndex(testData.index).to_period('S')\n",
    "    validationData.index = pd.DatetimeIndex(validationData.index).to_period('S')\n",
    "\n",
    "    trainData = trainData.append(testData)\n",
    "    \n",
    "    predictions.append(runArima(trainData,validationData,1,1,0,'latency_server'+str(i)))"
   ]
  },
  {
   "cell_type": "code",
   "execution_count": null,
   "metadata": {},
   "outputs": [],
   "source": []
  },
  {
   "cell_type": "code",
   "execution_count": 94,
   "metadata": {},
   "outputs": [
    {
     "data": {
      "text/plain": [
       "timestamp\n",
       "2020-04-07 16:36:16    0.044391\n",
       "2020-04-07 16:41:12    0.042769\n",
       "2020-04-07 16:45:51    0.046944\n",
       "2020-04-07 16:45:56    0.048774\n",
       "2020-04-07 16:47:28    0.051200\n",
       "2020-04-07 16:48:00    0.038746\n",
       "2020-04-07 16:48:29    0.044878\n",
       "2020-04-07 16:48:37    0.076570\n",
       "2020-04-07 16:50:05    0.043687\n",
       "2020-04-07 16:50:42    0.046200\n",
       "2020-04-07 16:50:56    0.049534\n",
       "2020-04-07 16:51:17    0.036105\n",
       "2020-04-07 16:52:54    0.059943\n",
       "2020-04-07 16:54:30    0.058577\n",
       "2020-04-07 16:54:46    0.056664\n",
       "2020-04-07 16:58:32    0.065097\n",
       "2020-04-07 16:59:50    0.056497\n",
       "2020-04-07 17:00:17    0.072540\n",
       "2020-04-07 17:01:13    0.046285\n",
       "2020-04-07 17:01:35    0.043772\n",
       "2020-04-07 17:02:01    0.114250\n",
       "2020-04-07 17:02:55    0.047294\n",
       "2020-04-07 17:06:28    0.075887\n",
       "2020-04-07 17:06:33    0.074316\n",
       "2020-04-07 17:07:39    0.050849\n",
       "2020-04-07 17:08:38    0.050493\n",
       "2020-04-07 17:09:38    0.043294\n",
       "2020-04-07 17:10:04    0.044801\n",
       "2020-04-07 17:10:48    0.075210\n",
       "2020-04-07 17:10:57    0.080027\n",
       "                         ...   \n",
       "2020-04-17 05:01:11    0.086303\n",
       "2020-04-17 05:02:25    0.088078\n",
       "2020-04-17 05:05:05    0.073681\n",
       "2020-04-17 05:06:16    0.047885\n",
       "2020-04-17 05:06:55    0.053113\n",
       "2020-04-17 05:08:42    0.043893\n",
       "2020-04-17 05:09:56    0.090533\n",
       "2020-04-17 05:10:09    0.059601\n",
       "2020-04-17 05:10:52    0.065887\n",
       "2020-04-17 05:11:18    0.050190\n",
       "2020-04-17 05:13:12    0.066522\n",
       "2020-04-17 05:13:16    0.070435\n",
       "2020-04-17 05:15:05    0.066099\n",
       "2020-04-17 05:15:20    0.084554\n",
       "2020-04-17 05:15:35    0.064083\n",
       "2020-04-17 05:17:17    0.038759\n",
       "2020-04-17 05:17:52    0.045562\n",
       "2020-04-17 05:19:39    0.044536\n",
       "2020-04-17 05:19:45    0.117438\n",
       "2020-04-17 05:20:34    0.044696\n",
       "2020-04-17 05:20:36    0.088302\n",
       "2020-04-17 05:22:31    0.044765\n",
       "2020-04-17 05:24:26    0.116837\n",
       "2020-04-17 05:25:03    0.045147\n",
       "2020-04-17 05:25:35    0.046491\n",
       "2020-04-17 05:27:32    0.048530\n",
       "2020-04-17 05:28:43    0.041685\n",
       "2020-04-17 05:30:47    0.039866\n",
       "2020-04-17 05:32:14    0.045472\n",
       "2020-04-17 05:33:50    0.046003\n",
       "Freq: S, Name: latency, Length: 12159, dtype: float64"
      ]
     },
     "execution_count": 94,
     "metadata": {},
     "output_type": "execute_result"
    }
   ],
   "source": [
    "trainData"
   ]
  },
  {
   "cell_type": "code",
   "execution_count": null,
   "metadata": {},
   "outputs": [],
   "source": []
  }
 ],
 "metadata": {
  "kernelspec": {
   "display_name": "Python 3",
   "language": "python",
   "name": "python3"
  },
  "language_info": {
   "codemirror_mode": {
    "name": "ipython",
    "version": 3
   },
   "file_extension": ".py",
   "mimetype": "text/x-python",
   "name": "python",
   "nbconvert_exporter": "python",
   "pygments_lexer": "ipython3",
   "version": "3.7.5"
  }
 },
 "nbformat": 4,
 "nbformat_minor": 2
}
