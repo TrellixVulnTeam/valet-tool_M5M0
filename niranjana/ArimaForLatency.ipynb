{
 "cells": [
  {
   "cell_type": "code",
   "execution_count": 1,
   "metadata": {},
   "outputs": [],
   "source": [
    "import numpy as np\n",
    "import pandas as pd\n",
    "from statsmodels.tsa.statespace.sarimax import SARIMAX\n",
    "from statsmodels.graphics.tsaplots import plot_acf,plot_pacf \n",
    "from statsmodels.tsa.seasonal import seasonal_decompose \n",
    "from pmdarima import auto_arima                        \n",
    "from sklearn.metrics import mean_squared_error\n",
    "from statsmodels.tools.eval_measures import rmse\n",
    "\n",
    "from statsmodels.tsa.arima_model import ARIMA\n",
    "\n",
    "\n",
    "import warnings\n",
    "\n",
    "from matplotlib import pyplot\n",
    "\n",
    "# from pyramid.arima import auto_arima\n",
    "from pandas.plotting import autocorrelation_plot\n",
    "from math import sqrt\n",
    "\n"
   ]
  },
  {
   "cell_type": "code",
   "execution_count": 2,
   "metadata": {},
   "outputs": [],
   "source": [
    "def parsealldate(x):\n",
    "    timestamp = pd.datetime.strptime(x,'%Y-%m-%d %H:%M:%S')\n",
    "#     timestamp = timestamp.dt.ceil(freq='s') \n",
    "    return timestamp"
   ]
  },
  {
   "cell_type": "code",
   "execution_count": 75,
   "metadata": {},
   "outputs": [],
   "source": [
    "trainData = pd.read_csv(\"../parse_tactics/normalized_tva_server_1_tactic_1_train.csv\",  parse_dates=[0])\n",
    "testData = pd.read_csv(\"../parse_tactics/normalized_tva_server_1_tactic_1_test.csv\", parse_dates=[0])\n",
    "trainData['timestamp'] = trainData.timestamp.dt.ceil(freq='s')\n",
    "testData['timestamp'] = testData.timestamp.dt.ceil(freq='s')"
   ]
  },
  {
   "cell_type": "code",
   "execution_count": 76,
   "metadata": {
    "scrolled": true
   },
   "outputs": [],
   "source": [
    "trainData = trainData.set_index('timestamp')['latency']\n",
    "testData = testData.set_index('timestamp')['latency']\n",
    "\n",
    "# trainData.index = pd.DatetimeIndex(trainData.index).to_period('ms')\n",
    "# testData.index = pd.DatetimeIndex(testData.index).to_period('ms')\n",
    "\n"
   ]
  },
  {
   "cell_type": "code",
   "execution_count": 77,
   "metadata": {},
   "outputs": [],
   "source": [
    "trainData = trainData.dropna()"
   ]
  },
  {
   "cell_type": "code",
   "execution_count": 85,
   "metadata": {},
   "outputs": [
    {
     "name": "stdout",
     "output_type": "stream",
     "text": [
      "Performing stepwise search to minimize aic\n",
      " ARIMA(2,1,2)(0,0,0)[0] intercept   : AIC=inf, Time=2.91 sec\n",
      " ARIMA(0,1,0)(0,0,0)[0] intercept   : AIC=-92578.647, Time=0.35 sec\n",
      " ARIMA(1,1,0)(0,0,0)[0] intercept   : AIC=-96190.123, Time=1.25 sec\n",
      " ARIMA(0,1,1)(0,0,0)[0] intercept   : AIC=inf, Time=2.66 sec\n",
      " ARIMA(0,1,0)(0,0,0)[0]             : AIC=-92580.647, Time=0.18 sec\n",
      " ARIMA(2,1,0)(0,0,0)[0] intercept   : AIC=-97693.645, Time=1.96 sec\n",
      " ARIMA(3,1,0)(0,0,0)[0] intercept   : AIC=-98377.843, Time=2.12 sec\n",
      " ARIMA(4,1,0)(0,0,0)[0] intercept   : AIC=-98856.954, Time=2.87 sec\n",
      " ARIMA(5,1,0)(0,0,0)[0] intercept   : AIC=-99204.277, Time=3.16 sec\n",
      " ARIMA(5,1,1)(0,0,0)[0] intercept   : AIC=-100210.537, Time=2.94 sec\n",
      " ARIMA(4,1,1)(0,0,0)[0] intercept   : AIC=-100383.304, Time=2.55 sec\n",
      " ARIMA(3,1,1)(0,0,0)[0] intercept   : AIC=-100183.462, Time=2.13 sec\n",
      " ARIMA(4,1,2)(0,0,0)[0] intercept   : AIC=inf, Time=2.54 sec\n",
      " ARIMA(3,1,2)(0,0,0)[0] intercept   : AIC=inf, Time=2.14 sec\n",
      " ARIMA(5,1,2)(0,0,0)[0] intercept   : AIC=inf, Time=2.91 sec\n",
      " ARIMA(4,1,1)(0,0,0)[0]             : AIC=-99971.288, Time=0.98 sec\n",
      "\n",
      "Best model:  ARIMA(4,1,1)(0,0,0)[0] intercept\n",
      "Total fit time: 33.684 seconds\n"
     ]
    }
   ],
   "source": [
    "bestModel = auto_arima(trainData, trace=True, error_action='ignore', suppress_warnings=True,method='nm')"
   ]
  },
  {
   "cell_type": "code",
   "execution_count": 65,
   "metadata": {
    "scrolled": true
   },
   "outputs": [
    {
     "data": {
      "text/plain": [
       "timestamp\n",
       "2020-04-07 16:34:46    0.015102\n",
       "2020-04-07 16:38:52    0.015117\n",
       "2020-04-07 16:39:52    0.015297\n",
       "2020-04-07 16:43:20    0.014803\n",
       "2020-04-07 16:47:22    0.014817\n",
       "2020-04-07 16:49:07    0.016625\n",
       "2020-04-07 16:49:42    0.015321\n",
       "2020-04-07 16:49:48    0.015231\n",
       "2020-04-07 16:50:07    0.014882\n",
       "2020-04-07 16:50:39    0.016697\n",
       "2020-04-07 16:50:39    0.015010\n",
       "2020-04-07 16:51:21    0.014791\n",
       "2020-04-07 16:52:43    0.016027\n",
       "2020-04-07 16:54:14    0.014816\n",
       "2020-04-07 16:54:16    0.014925\n",
       "2020-04-07 16:55:36    0.015118\n",
       "2020-04-07 16:56:37    0.016501\n",
       "2020-04-07 16:56:59    0.015011\n",
       "2020-04-07 16:58:00    0.014948\n",
       "2020-04-07 16:59:50    0.015348\n",
       "2020-04-07 17:02:21    0.016283\n",
       "2020-04-07 17:04:33    0.025141\n",
       "2020-04-07 17:05:01    0.016521\n",
       "2020-04-07 17:06:50    0.016227\n",
       "2020-04-07 17:07:56    0.015287\n",
       "2020-04-07 17:10:11    0.016890\n",
       "2020-04-07 17:10:30    0.015101\n",
       "2020-04-07 17:11:16    0.016773\n",
       "2020-04-07 17:12:33    0.015959\n",
       "2020-04-07 17:13:57    0.015252\n",
       "                         ...   \n",
       "2020-04-19 05:36:28    0.015139\n",
       "2020-04-19 05:36:46    0.015663\n",
       "2020-04-19 05:36:58    0.015210\n",
       "2020-04-19 05:37:09    0.014998\n",
       "2020-04-19 05:38:00    0.015868\n",
       "2020-04-19 05:38:24    0.016118\n",
       "2020-04-19 05:39:56    0.015071\n",
       "2020-04-19 05:39:58    0.015380\n",
       "2020-04-19 05:41:33    0.015093\n",
       "2020-04-19 05:42:05    0.016691\n",
       "2020-04-19 05:42:56    0.015266\n",
       "2020-04-19 05:44:43    0.015596\n",
       "2020-04-19 05:44:58    0.014868\n",
       "2020-04-19 05:45:54    0.014989\n",
       "2020-04-19 05:47:30    0.016407\n",
       "2020-04-19 05:49:26    0.016604\n",
       "2020-04-19 05:49:30    0.015020\n",
       "2020-04-19 05:51:21    0.014980\n",
       "2020-04-19 05:53:42    0.015048\n",
       "2020-04-19 05:55:46    0.016070\n",
       "2020-04-19 05:56:46    0.015674\n",
       "2020-04-19 05:59:36    0.016237\n",
       "2020-04-19 05:59:51    0.015019\n",
       "2020-04-19 06:00:57    0.014875\n",
       "2020-04-19 06:01:46    0.026185\n",
       "2020-04-19 06:03:12    0.014964\n",
       "2020-04-19 06:03:45    0.015003\n",
       "2020-04-19 06:04:04    0.016029\n",
       "2020-04-19 06:04:15    0.016415\n",
       "2020-04-19 06:04:39    0.015021\n",
       "Freq: S, Name: latency, Length: 14762, dtype: float64"
      ]
     },
     "execution_count": 65,
     "metadata": {},
     "output_type": "execute_result"
    }
   ],
   "source": [
    "trainData.dropna()"
   ]
  },
  {
   "cell_type": "code",
   "execution_count": 87,
   "metadata": {
    "scrolled": true
   },
   "outputs": [
    {
     "data": {
      "text/plain": [
       "<matplotlib.axes._subplots.AxesSubplot at 0x139cbe510>"
      ]
     },
     "execution_count": 87,
     "metadata": {},
     "output_type": "execute_result"
    },
    {
     "data": {
      "image/png": "[encoded data removed]",
      "text/plain": [
       "<Figure size 432x288 with 1 Axes>"
      ]
     },
     "metadata": {
      "needs_background": "light"
     },
     "output_type": "display_data"
    }
   ],
   "source": [
    "autocorrelation_plot(trainData)\n"
   ]
  },
  {
   "cell_type": "code",
   "execution_count": null,
   "metadata": {},
   "outputs": [],
   "source": []
  },
  {
   "cell_type": "code",
   "execution_count": 88,
   "metadata": {},
   "outputs": [],
   "source": [
    "def runArima(trainData, testData, p,d,q, modelName, solver):\n",
    "    \n",
    "    model = ARIMA(trainData, order=(p,d,q))\n",
    "    model_fit = model.fit(solver = solver)\n",
    "    model_fit.save('./arimaModels/'+ modelName + '.pkl')\n",
    "\n",
    "    history = [x for x in trainData]\n",
    "    \n",
    "    predictions = list()\n",
    "# walk-forward validation\n",
    "    for t in range(len(testData)):\n",
    "\n",
    "        walkForwardModel = ARIMA(history, order=(p,d,q))\n",
    "        walkForwardModel_fit = walkForwardModel.fit(solver = solver,disp=False)\n",
    "        output = walkForwardModel_fit.forecast()\n",
    "        yhat = output[0]\n",
    "        predictions.append(yhat)\n",
    "        obs = testData[t]\n",
    "        history.append(obs)\n",
    "        \n",
    "\n",
    "    return predictions"
   ]
  },
  {
   "cell_type": "code",
   "execution_count": 86,
   "metadata": {
    "scrolled": true
   },
   "outputs": [
    {
     "name": "stdout",
     "output_type": "stream",
     "text": [
      "Optimization terminated successfully.\n",
      "         Current function value: -3.956734\n",
      "         Iterations: 13\n",
      "         Function evaluations: 27\n"
     ]
    },
    {
     "name": "stderr",
     "output_type": "stream",
     "text": [
      "/usr/local/lib/python3.7/site-packages/statsmodels/tsa/arima_model.py:472: FutureWarning: \n",
      "statsmodels.tsa.arima_model.ARMA and statsmodels.tsa.arima_model.ARIMA have\n",
      "been deprecated in favor of statsmodels.tsa.arima.model.ARIMA (note the .\n",
      "between arima and model) and\n",
      "statsmodels.tsa.SARIMAX. These will be removed after the 0.12 release.\n",
      "\n",
      "statsmodels.tsa.arima.model.ARIMA makes use of the statespace framework and\n",
      "is both well tested and maintained.\n",
      "\n",
      "To silence this warning and continue using ARMA and ARIMA until they are\n",
      "removed, use:\n",
      "\n",
      "import warnings\n",
      "warnings.filterwarnings('ignore', 'statsmodels.tsa.arima_model.ARMA',\n",
      "                        FutureWarning)\n",
      "warnings.filterwarnings('ignore', 'statsmodels.tsa.arima_model.ARIMA',\n",
      "                        FutureWarning)\n",
      "\n",
      "  warnings.warn(ARIMA_DEPRECATION_WARN, FutureWarning)\n",
      "/usr/local/lib/python3.7/site-packages/statsmodels/tsa/base/tsa_model.py:583: ValueWarning: A date index has been provided, but it has no associated frequency information and so will be ignored when e.g. forecasting.\n",
      "  ' ignored when e.g. forecasting.', ValueWarning)\n",
      "/usr/local/lib/python3.7/site-packages/statsmodels/tsa/base/tsa_model.py:583: ValueWarning: A date index has been provided, but it has no associated frequency information and so will be ignored when e.g. forecasting.\n",
      "  ' ignored when e.g. forecasting.', ValueWarning)\n"
     ]
    },
    {
     "data": {
      "text/plain": [
       "[array([0.01583637])]"
      ]
     },
     "execution_count": 86,
     "metadata": {},
     "output_type": "execute_result"
    }
   ],
   "source": [
    "runArima(trainData, testData[0:1], 1,1,0, 'dummyModel', 'nm')"
   ]
  },
  {
   "cell_type": "code",
   "execution_count": 92,
   "metadata": {},
   "outputs": [],
   "source": [
    "predictions = []"
   ]
  },
  {
   "cell_type": "code",
   "execution_count": 93,
   "metadata": {},
   "outputs": [
    {
     "name": "stdout",
     "output_type": "stream",
     "text": [
      "training server 1\n",
      "Optimization terminated successfully.\n",
      "         Current function value: -3.984172\n",
      "         Iterations: 12\n",
      "         Function evaluations: 25\n",
      "training server 2\n",
      "Optimization terminated successfully.\n",
      "         Current function value: -3.753193\n",
      "         Iterations: 12\n",
      "         Function evaluations: 24\n",
      "training server 3\n",
      "Optimization terminated successfully.\n",
      "         Current function value: -1.502614\n",
      "         Iterations: 12\n",
      "         Function evaluations: 25\n"
     ]
    }
   ],
   "source": [
    "# def runArimaOnLatency():\n",
    "for i in range(1,4):\n",
    "    trainFileName = \"../parse_tactics/normalized_tva_server_\"+str(i)+\"_tactic_1_train.csv\"\n",
    "    testFileName = \"../parse_tactics/normalized_tva_server_\"+str(i)+\"_tactic_1_test.csv\"\n",
    "    validationFileName = \"../parse_tactics/normalized_tva_server_\"+str(i)+\"_tactic_1_validation.csv\"\n",
    "    \n",
    "    trainData = pd.read_csv(trainFileName,  parse_dates=[0])\n",
    "    testData = pd.read_csv(testFileName, parse_dates=[0])\n",
    "    validationData = pd.read_csv(validationFileName, parse_dates=[0])\n",
    "    \n",
    "    trainData['timestamp'] = trainData.timestamp.dt.ceil(freq='s')\n",
    "    testData['timestamp'] = testData.timestamp.dt.ceil(freq='s')\n",
    "    validationData['timestamp'] = validationData.timestamp.dt.ceil(freq='s')\n",
    "    \n",
    "    trainData = trainData.set_index('timestamp')['latency']\n",
    "    testData = testData.set_index('timestamp')['latency']\n",
    "    validationData = validationData.set_index('timestamp')['latency']\n",
    "\n",
    "    trainData.index = pd.DatetimeIndex(trainData.index).to_period('ms')\n",
    "    testData.index = pd.DatetimeIndex(testData.index).to_period('ms')\n",
    "    validationData.index = pd.DatetimeIndex(validationData.index).to_period('ms')\n",
    "\n",
    "    trainData = trainData.append(validationData)\n",
    "    \n",
    "    print(\"training server \"+ str(i))\n",
    "    predictions.append(runArima(trainData,validationData,1,1,0,'latency_server'+str(i), solver = 'nm'))"
   ]
  },
  {
   "cell_type": "code",
   "execution_count": 94,
   "metadata": {},
   "outputs": [],
   "source": [
    "for serverNum in range(len(predictions)):\n",
    "    pd.DataFrame(predictions[serverNum]).to_csv('./arimaModels/predictions/predictions_server_' + str(serverNum + 1) + '_tactic_1_latency.csv')"
   ]
  },
  {
   "cell_type": "code",
   "execution_count": 131,
   "metadata": {
    "scrolled": true
   },
   "outputs": [
    {
     "name": "stdout",
     "output_type": "stream",
     "text": [
      "0.030898886124865653\n",
      "0.0036863421746454058\n",
      "0.05738767666192293\n"
     ]
    }
   ],
   "source": [
    "for serverNum in range(len(predictions)):\n",
    "    validationFileName = \"../parse_tactics/normalized_tva_server_\"+str(serverNum+1)+\"_tactic_1_test.csv\"\n",
    "    validationData = pd.read_csv(validationFileName, parse_dates=[0])\n",
    "    validationData['timestamp'] = validationData.timestamp.dt.ceil(freq='s')\n",
    "    validationData = validationData['latency']\n",
    "    # validationData.index = pd.DatetimeIndex(validationData.index).to_period('ms')\n",
    "\n",
    "    print(rmse(validationData, np.array(predictions[serverNum]).flatten(),axis=0))"
   ]
  },
  {
   "cell_type": "code",
   "execution_count": 129,
   "metadata": {},
   "outputs": [
    {
     "data": {
      "text/plain": [
       "array([0.01571558, 0.01609122, 0.0160481 , ..., 0.01516092, 0.01621721,\n",
       "       0.01662555])"
      ]
     },
     "execution_count": 129,
     "metadata": {},
     "output_type": "execute_result"
    }
   ],
   "source": [
    "np.array(predictions[0]).flatten()"
   ]
  },
  {
   "cell_type": "code",
   "execution_count": 103,
   "metadata": {},
   "outputs": [],
   "source": [
    "rmse?"
   ]
  },
  {
   "cell_type": "code",
   "execution_count": null,
   "metadata": {},
   "outputs": [],
   "source": []
  }
 ],
 "metadata": {
  "kernelspec": {
   "display_name": "Python 3",
   "language": "python",
   "name": "python3"
  },
  "language_info": {
   "codemirror_mode": {
    "name": "ipython",
    "version": 3
   },
   "file_extension": ".py",
   "mimetype": "text/x-python",
   "name": "python",
   "nbconvert_exporter": "python",
   "pygments_lexer": "ipython3",
   "version": "3.7.5"
  }
 },
 "nbformat": 4,
 "nbformat_minor": 2
}
