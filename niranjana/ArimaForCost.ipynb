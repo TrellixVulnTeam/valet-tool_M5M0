{
 "cells": [
  {
   "cell_type": "code",
   "execution_count": 1,
   "metadata": {},
   "outputs": [],
   "source": [
    "import numpy as np\n",
    "import pandas as pd\n",
    "from statsmodels.tsa.statespace.sarimax import SARIMAX\n",
    "from statsmodels.graphics.tsaplots import plot_acf,plot_pacf \n",
    "from statsmodels.tsa.seasonal import seasonal_decompose \n",
    "from pmdarima import auto_arima                        \n",
    "from sklearn.metrics import mean_squared_error\n",
    "from statsmodels.tools.eval_measures import rmse\n",
    "\n",
    "from statsmodels.tsa.arima_model import ARIMA\n",
    "\n",
    "\n",
    "import warnings\n",
    "\n",
    "from matplotlib import pyplot\n",
    "\n",
    "# from pyramid.arima import auto_arima\n",
    "from pandas.plotting import autocorrelation_plot\n",
    "from math import sqrt\n",
    "\n"
   ]
  },
  {
   "cell_type": "code",
   "execution_count": 2,
   "metadata": {},
   "outputs": [],
   "source": [
    "def parsealldate(x):\n",
    "    timestamp = pd.datetime.strptime(x,'%Y-%m-%d %H:%M:%S')\n",
    "#     timestamp = timestamp.dt.ceil(freq='s') \n",
    "    return timestamp"
   ]
  },
  {
   "cell_type": "code",
   "execution_count": 23,
   "metadata": {},
   "outputs": [],
   "source": [
    "trainData = pd.read_csv(\"../parse_tactics/normalized_tva_server_1_tactic_1_train.csv\",  parse_dates=[0])\n",
    "testData = pd.read_csv(\"../parse_tactics/normalized_tva_server_1_tactic_1_test.csv\", parse_dates=[0])\n",
    "trainData['timestamp'] = trainData.timestamp.dt.ceil(freq='s')\n",
    "testData['timestamp'] = testData.timestamp.dt.ceil(freq='s')"
   ]
  },
  {
   "cell_type": "code",
   "execution_count": 24,
   "metadata": {
    "scrolled": true
   },
   "outputs": [],
   "source": [
    "trainData = trainData.set_index('timestamp')['cost']\n",
    "testData = testData.set_index('timestamp')['cost']\n",
    "\n",
    "# trainData.index = pd.DatetimeIndex(trainData.index).to_period('S')\n",
    "# testData.index = pd.DatetimeIndex(testData.index).to_period('S')\n",
    "\n"
   ]
  },
  {
   "cell_type": "code",
   "execution_count": 25,
   "metadata": {},
   "outputs": [],
   "source": [
    "trainData = trainData.dropna()"
   ]
  },
  {
   "cell_type": "code",
   "execution_count": 27,
   "metadata": {},
   "outputs": [
    {
     "name": "stdout",
     "output_type": "stream",
     "text": [
      "Performing stepwise search to minimize aic\n",
      " ARIMA(2,1,2)(0,0,0)[0] intercept   : AIC=-72302.760, Time=1.96 sec\n",
      " ARIMA(0,1,0)(0,0,0)[0] intercept   : AIC=-64311.382, Time=0.30 sec\n",
      " ARIMA(1,1,0)(0,0,0)[0] intercept   : AIC=-68081.865, Time=0.99 sec\n",
      " ARIMA(0,1,1)(0,0,0)[0] intercept   : AIC=-72306.288, Time=1.91 sec\n",
      " ARIMA(0,1,0)(0,0,0)[0]             : AIC=-64313.382, Time=0.16 sec\n",
      " ARIMA(1,1,1)(0,0,0)[0] intercept   : AIC=-72306.379, Time=2.13 sec\n",
      " ARIMA(2,1,1)(0,0,0)[0] intercept   : AIC=-72303.087, Time=1.95 sec\n",
      " ARIMA(1,1,2)(0,0,0)[0] intercept   : AIC=-72303.079, Time=1.96 sec\n",
      " ARIMA(0,1,2)(0,0,0)[0] intercept   : AIC=-72304.865, Time=2.32 sec\n",
      " ARIMA(2,1,0)(0,0,0)[0] intercept   : AIC=-69473.947, Time=1.96 sec\n",
      " ARIMA(1,1,1)(0,0,0)[0]             : AIC=-72309.458, Time=1.03 sec\n",
      " ARIMA(0,1,1)(0,0,0)[0]             : AIC=-72308.795, Time=1.51 sec\n",
      " ARIMA(1,1,0)(0,0,0)[0]             : AIC=-68083.863, Time=0.66 sec\n",
      " ARIMA(2,1,1)(0,0,0)[0]             : AIC=-72306.749, Time=1.16 sec\n",
      " ARIMA(1,1,2)(0,0,0)[0]             : AIC=-72306.940, Time=1.40 sec\n",
      " ARIMA(0,1,2)(0,0,0)[0]             : AIC=-72306.835, Time=1.44 sec\n",
      " ARIMA(2,1,0)(0,0,0)[0]             : AIC=-69475.941, Time=0.94 sec\n",
      " ARIMA(2,1,2)(0,0,0)[0]             : AIC=-72303.741, Time=1.34 sec\n",
      "\n",
      "Best model:  ARIMA(1,1,1)(0,0,0)[0]          \n",
      "Total fit time: 25.125 seconds\n"
     ]
    }
   ],
   "source": [
    "bestModel = auto_arima(trainData, trace=True, error_action='ignore', suppress_warnings=True,method='nm')"
   ]
  },
  {
   "cell_type": "code",
   "execution_count": null,
   "metadata": {},
   "outputs": [],
   "source": []
  },
  {
   "cell_type": "code",
   "execution_count": 28,
   "metadata": {
    "scrolled": true
   },
   "outputs": [
    {
     "data": {
      "text/plain": [
       "<matplotlib.axes._subplots.AxesSubplot at 0x139660290>"
      ]
     },
     "execution_count": 28,
     "metadata": {},
     "output_type": "execute_result"
    },
    {
     "data": {
      "image/png": "[encoded data removed]",
      "text/plain": [
       "<Figure size 432x288 with 1 Axes>"
      ]
     },
     "metadata": {
      "needs_background": "light"
     },
     "output_type": "display_data"
    }
   ],
   "source": [
    "\n",
    "autocorrelation_plot(trainData)\n"
   ]
  },
  {
   "cell_type": "code",
   "execution_count": 31,
   "metadata": {},
   "outputs": [],
   "source": [
    "def runArima(trainData, testData, p,d,q, modelName, solver):\n",
    "    \n",
    "    model = ARIMA(trainData, order=(p,d,q))\n",
    "    model_fit = model.fit(solver = solver)\n",
    "    model_fit.save('./arimaModels/'+ modelName + '.pkl')\n",
    "\n",
    "    history = [x for x in trainData]\n",
    "    \n",
    "    predictions = list()\n",
    "# walk-forward validation\n",
    "    for t in range(len(testData)):\n",
    "\n",
    "        walkForwardModel = ARIMA(history, order=(p,d,q))\n",
    "        walkForwardModel_fit = walkForwardModel.fit(solver = solver,disp=False)\n",
    "        output = walkForwardModel_fit.forecast()\n",
    "        yhat = output[0]\n",
    "        predictions.append(yhat)\n",
    "        obs = testData[t]\n",
    "        history.append(obs)\n",
    "        \n",
    "\n",
    "    return predictions"
   ]
  },
  {
   "cell_type": "code",
   "execution_count": null,
   "metadata": {},
   "outputs": [],
   "source": []
  },
  {
   "cell_type": "code",
   "execution_count": null,
   "metadata": {},
   "outputs": [],
   "source": []
  },
  {
   "cell_type": "code",
   "execution_count": 34,
   "metadata": {
    "scrolled": true
   },
   "outputs": [
    {
     "name": "stdout",
     "output_type": "stream",
     "text": [
      "Optimization terminated successfully.\n",
      "         Current function value: -2.960784\n",
      "         Iterations: 78\n",
      "         Function evaluations: 139\n"
     ]
    },
    {
     "name": "stderr",
     "output_type": "stream",
     "text": [
      "/usr/local/lib/python3.7/site-packages/statsmodels/tsa/tsatools.py:701: RuntimeWarning: overflow encountered in exp\n",
      "  newparams = ((1-np.exp(-params))/(1+np.exp(-params))).copy()\n",
      "/usr/local/lib/python3.7/site-packages/statsmodels/tsa/tsatools.py:701: RuntimeWarning: invalid value encountered in true_divide\n",
      "  newparams = ((1-np.exp(-params))/(1+np.exp(-params))).copy()\n",
      "/usr/local/lib/python3.7/site-packages/statsmodels/tsa/tsatools.py:702: RuntimeWarning: overflow encountered in exp\n",
      "  tmp = ((1-np.exp(-params))/(1+np.exp(-params))).copy()\n",
      "/usr/local/lib/python3.7/site-packages/statsmodels/tsa/tsatools.py:702: RuntimeWarning: invalid value encountered in true_divide\n",
      "  tmp = ((1-np.exp(-params))/(1+np.exp(-params))).copy()\n"
     ]
    },
    {
     "name": "stdout",
     "output_type": "stream",
     "text": [
      "Optimization terminated successfully.\n",
      "         Current function value: -2.803722\n",
      "         Iterations: 31\n",
      "         Function evaluations: 59\n",
      "Optimization terminated successfully.\n",
      "         Current function value: -2.603330\n",
      "         Iterations: 52\n",
      "         Function evaluations: 93\n"
     ]
    }
   ],
   "source": [
    "\n",
    "predictions = []\n",
    "for i in range(1,4):\n",
    "    trainFileName = \"../parse_tactics/normalized_tva_server_\"+str(i)+\"_tactic_1_train.csv\"\n",
    "    testFileName = \"../parse_tactics/normalized_tva_server_\"+str(i)+\"_tactic_1_test.csv\"\n",
    "    validationFileName = \"../parse_tactics/normalized_tva_server_\"+str(i)+\"_tactic_1_validation.csv\"\n",
    "    \n",
    "    trainData = pd.read_csv(trainFileName,  parse_dates=[0])\n",
    "    testData = pd.read_csv(testFileName, parse_dates=[0])\n",
    "    validationData = pd.read_csv(validationFileName, parse_dates=[0])\n",
    "    \n",
    "    trainData['timestamp'] = trainData.timestamp.dt.ceil(freq='s')\n",
    "    testData['timestamp'] = testData.timestamp.dt.ceil(freq='s')\n",
    "    validationData['timestamp'] = validationData.timestamp.dt.ceil(freq='s')\n",
    "    \n",
    "    trainData = trainData.set_index('timestamp')['cost']\n",
    "    testData = testData.set_index('timestamp')['cost']\n",
    "    validationData = validationData.set_index('timestamp')['cost']\n",
    "\n",
    "    trainData.index = pd.DatetimeIndex(trainData.index).to_period('ms')\n",
    "    testData.index = pd.DatetimeIndex(testData.index).to_period('ms')\n",
    "    validationData.index = pd.DatetimeIndex(validationData.index).to_period('ms')\n",
    "\n",
    "    trainData = trainData.append(validation)\n",
    "    \n",
    "    predictions.append(runArima(trainData,validationData,1,1,1,'cost_server'+str(i), solver = 'nm'))\n",
    "\n"
   ]
  },
  {
   "cell_type": "code",
   "execution_count": 35,
   "metadata": {},
   "outputs": [],
   "source": [
    "for serverNum in range(len(predictions)):\n",
    "    pd.DataFrame(predictions[serverNum]).to_csv('./arimaModels/predictions/predictions_server_' + str(serverNum + 1) + '_tactic_1_cost.csv')"
   ]
  },
  {
   "cell_type": "code",
   "execution_count": 36,
   "metadata": {},
   "outputs": [
    {
     "name": "stdout",
     "output_type": "stream",
     "text": [
      "0.0159778502717178\n",
      "0.016327778680956195\n",
      "0.014462387162487331\n"
     ]
    }
   ],
   "source": [
    "for serverNum in range(len(predictions)):\n",
    "    validationFileName = \"../parse_tactics/normalized_tva_server_\"+str(serverNum+1)+\"_tactic_1_validation.csv\"\n",
    "    validationData = pd.read_csv(validationFileName, parse_dates=[0])\n",
    "    validationData['timestamp'] = validationData.timestamp.dt.ceil(freq='s')\n",
    "    validationData = validationData['cost']\n",
    "    # validationData.index = pd.DatetimeIndex(validationData.index).to_period('ms')\n",
    "\n",
    "    print(rmse(validationData, np.array(predictions[serverNum]).flatten(),axis=0))"
   ]
  },
  {
   "cell_type": "code",
   "execution_count": null,
   "metadata": {},
   "outputs": [],
   "source": []
  }
 ],
 "metadata": {
  "kernelspec": {
   "display_name": "Python 3",
   "language": "python",
   "name": "python3"
  },
  "language_info": {
   "codemirror_mode": {
    "name": "ipython",
    "version": 3
   },
   "file_extension": ".py",
   "mimetype": "text/x-python",
   "name": "python",
   "nbconvert_exporter": "python",
   "pygments_lexer": "ipython3",
   "version": "3.7.5"
  }
 },
 "nbformat": 4,
 "nbformat_minor": 2
}
