{
 "cells": [
  {
   "cell_type": "code",
   "execution_count": 1,
   "metadata": {},
   "outputs": [],
   "source": [
    "import numpy as np\n",
    "import pandas as pd\n",
    "import os"
   ]
  },
  {
   "cell_type": "code",
   "execution_count": 6,
   "metadata": {},
   "outputs": [
    {
     "name": "stdout",
     "output_type": "stream",
     "text": [
      "0\n",
      "./old/2ndRun/ernnFinal/1/ernn_predictions_server__server_1_tactic_1_test_weekdayOneHotsample_rate_0_predictions.csv\n",
      "./old/2ndRun/ernnFinal/1/ernn_predictions_server__server_1_tactic_1_test_weekdayOneHotsample_rate_0_predictions_noping.csv\n",
      "./old/2ndRun/ernnFinal/2/ernn_predictions_server__server_2_tactic_1_test_weekdayOneHotsample_rate_0_predictions.csv\n",
      "./old/2ndRun/ernnFinal/2/ernn_predictions_server__server_2_tactic_1_test_weekdayOneHotsample_rate_0_predictions_noping.csv\n",
      "./old/2ndRun/ernnFinal/3/ernn_predictions_server__server_3_tactic_1_test_weekdayOneHotsample_rate_0_predictions.csv\n",
      "./old/2ndRun/ernnFinal/3/ernn_predictions_server__server_3_tactic_1_test_weekdayOneHotsample_rate_0_predictions_noping.csv\n",
      "5\n",
      "./old/2ndRun/ernnFinal/1/ernn_predictions_server__server_1_tactic_1_test_weekdayOneHotsample_rate_5_predictions.csv\n",
      "./old/2ndRun/ernnFinal/1/ernn_predictions_server__server_1_tactic_1_test_weekdayOneHotsample_rate_5_predictions_noping.csv\n",
      "./old/2ndRun/ernnFinal/2/ernn_predictions_server__server_2_tactic_1_test_weekdayOneHotsample_rate_5_predictions.csv\n",
      "./old/2ndRun/ernnFinal/2/ernn_predictions_server__server_2_tactic_1_test_weekdayOneHotsample_rate_5_predictions_noping.csv\n",
      "./old/2ndRun/ernnFinal/3/ernn_predictions_server__server_3_tactic_1_test_weekdayOneHotsample_rate_5_predictions.csv\n",
      "./old/2ndRun/ernnFinal/3/ernn_predictions_server__server_3_tactic_1_test_weekdayOneHotsample_rate_5_predictions_noping.csv\n",
      "10\n",
      "./old/2ndRun/ernnFinal/1/ernn_predictions_server__server_1_tactic_1_test_weekdayOneHotsample_rate_10_predictions.csv\n",
      "./old/2ndRun/ernnFinal/1/ernn_predictions_server__server_1_tactic_1_test_weekdayOneHotsample_rate_10_predictions_noping.csv\n",
      "./old/2ndRun/ernnFinal/2/ernn_predictions_server__server_2_tactic_1_test_weekdayOneHotsample_rate_10_predictions.csv\n",
      "./old/2ndRun/ernnFinal/2/ernn_predictions_server__server_2_tactic_1_test_weekdayOneHotsample_rate_10_predictions_noping.csv\n",
      "./old/2ndRun/ernnFinal/3/ernn_predictions_server__server_3_tactic_1_test_weekdayOneHotsample_rate_10_predictions.csv\n",
      "./old/2ndRun/ernnFinal/3/ernn_predictions_server__server_3_tactic_1_test_weekdayOneHotsample_rate_10_predictions_noping.csv\n",
      "20\n",
      "./old/2ndRun/ernnFinal/1/ernn_predictions_server__server_1_tactic_1_test_weekdayOneHotsample_rate_20_predictions.csv\n",
      "./old/2ndRun/ernnFinal/1/ernn_predictions_server__server_1_tactic_1_test_weekdayOneHotsample_rate_20_predictions_noping.csv\n",
      "./old/2ndRun/ernnFinal/2/ernn_predictions_server__server_2_tactic_1_test_weekdayOneHotsample_rate_20_predictions.csv\n",
      "./old/2ndRun/ernnFinal/2/ernn_predictions_server__server_2_tactic_1_test_weekdayOneHotsample_rate_20_predictions_noping.csv\n",
      "./old/2ndRun/ernnFinal/3/ernn_predictions_server__server_3_tactic_1_test_weekdayOneHotsample_rate_20_predictions.csv\n",
      "./old/2ndRun/ernnFinal/3/ernn_predictions_server__server_3_tactic_1_test_weekdayOneHotsample_rate_20_predictions_noping.csv\n"
     ]
    }
   ],
   "source": [
    "# ernn_reruns\n",
    "\n",
    "for rate in [0, 5, 10, 20]:\n",
    "    \n",
    "    \n",
    "    print(rate)\n",
    "    for server in range(1,4):\n",
    "       \n",
    "        \n",
    "        arimaData = pd.read_csv('./final/arima/' + str(server) + '/arima_predictions_server_' + str(server) + '_tactic_1_sampleRate_' + str(rate) + '.csv')\n",
    "        \n",
    "        timeSeries = arimaData['timestamp'].iloc[1:]\n",
    "        \n",
    "       \n",
    "        ernnPingFile = './old/2ndRun/ernnFinal/' + str(server) + '/ernn_predictions_server__server_'+ str(server) + '_tactic_1_test_weekdayOneHotsample_rate_' + str(rate) + '_predictions.csv'\n",
    "        ernnNoPingFile = './old/2ndRun/ernnFinal/' + str(server) + '/ernn_predictions_server__server_'+ str(server) + '_tactic_1_test_weekdayOneHotsample_rate_' + str(rate) + '_predictions_noping.csv'\n",
    "        \n",
    "        \n",
    "        ernnPingData = pd.read_csv(ernnPingFile)\n",
    "        ernnNoPingData = pd.read_csv(ernnNoPingFile)\n",
    "        \n",
    "        ernnPingData['timestamp'] = np.array(timeSeries)\n",
    "        ernnNoPingData['timestamp'] = np.array(timeSeries)\n",
    "        \n",
    "        ernnPingData['previous_latency'] = ernnPingData['latency']\n",
    "        ernnPingData['previous_cost'] = ernnPingData['cost']\n",
    "    \n",
    "        ernnPingData['latency'] = ernnPingData['expected_latency']\n",
    "        ernnPingData['cost'] = ernnPingData['expected_cost']\n",
    "        \n",
    "        \n",
    "        ernnPingSaveFile = './final/ernnFinal/' + str(server) + '/old_ernn_predictions_server_'+ str(server) + '_tactic_1_test_weekdayOneHotsample_rate_' + str(rate) + '_predictions.csv'\n",
    "        ernnNoPingSaveFile = './final/ernnFinal/' + str(server) + '/old_ernn_predictions_server_'+ str(server) + '_tactic_1_test_weekdayOneHotsample_rate_' + str(rate) + '_predictions_noping.csv'\n",
    "        \n",
    "        ernnPingData.to_csv(ernnPingSaveFile, index = False)\n",
    "        ernnNoPingData.to_csv(ernnNoPingSaveFile, index = False)\n",
    "\n",
    "        print(ernnPingFile)\n",
    "        print(ernnNoPingFile)"
   ]
  },
  {
   "cell_type": "code",
   "execution_count": null,
   "metadata": {},
   "outputs": [],
   "source": []
  }
 ],
 "metadata": {
  "kernelspec": {
   "display_name": "Python 3",
   "language": "python",
   "name": "python3"
  },
  "language_info": {
   "codemirror_mode": {
    "name": "ipython",
    "version": 3
   },
   "file_extension": ".py",
   "mimetype": "text/x-python",
   "name": "python",
   "nbconvert_exporter": "python",
   "pygments_lexer": "ipython3",
   "version": "3.7.5"
  }
 },
 "nbformat": 4,
 "nbformat_minor": 2
}
