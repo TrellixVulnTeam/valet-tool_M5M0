{
 "cells": [
  {
   "cell_type": "code",
   "execution_count": 2,
   "metadata": {},
   "outputs": [],
   "source": [
    "import pandas as pd\n",
    "import numpy as np\n",
    "import os\n",
    "from sklearn.metrics import mean_squared_error as mse\n",
    "from sklearn.metrics import mean_absolute_error as  mae"
   ]
  },
  {
   "cell_type": "code",
   "execution_count": 2,
   "metadata": {},
   "outputs": [],
   "source": [
    "stats = []"
   ]
  },
  {
   "cell_type": "code",
   "execution_count": 3,
   "metadata": {},
   "outputs": [
    {
     "ename": "FileNotFoundError",
     "evalue": "[Errno 2] File b'./arima_predictions_server_1_tactic_1.csv' does not exist: b'./arima_predictions_server_1_tactic_1.csv'",
     "output_type": "error",
     "traceback": [
      "\u001b[0;31m---------------------------------------------------------------------------\u001b[0m",
      "\u001b[0;31mFileNotFoundError\u001b[0m                         Traceback (most recent call last)",
      "\u001b[0;32m<ipython-input-3-282491bf6d40>\u001b[0m in \u001b[0;36m<module>\u001b[0;34m\u001b[0m\n\u001b[1;32m      1\u001b[0m \u001b[0;34m\u001b[0m\u001b[0m\n\u001b[1;32m      2\u001b[0m \u001b[0mfilename\u001b[0m \u001b[0;34m=\u001b[0m \u001b[0;34m'./arima_predictions_server_1_tactic_1.csv'\u001b[0m\u001b[0;34m\u001b[0m\u001b[0;34m\u001b[0m\u001b[0m\n\u001b[0;32m----> 3\u001b[0;31m \u001b[0mdata\u001b[0m \u001b[0;34m=\u001b[0m \u001b[0mpd\u001b[0m\u001b[0;34m.\u001b[0m\u001b[0mread_csv\u001b[0m\u001b[0;34m(\u001b[0m\u001b[0mfilename\u001b[0m\u001b[0;34m)\u001b[0m\u001b[0;34m\u001b[0m\u001b[0;34m\u001b[0m\u001b[0m\n\u001b[0m",
      "\u001b[0;32m/usr/local/lib/python3.7/site-packages/pandas/io/parsers.py\u001b[0m in \u001b[0;36mparser_f\u001b[0;34m(filepath_or_buffer, sep, delimiter, header, names, index_col, usecols, squeeze, prefix, mangle_dupe_cols, dtype, engine, converters, true_values, false_values, skipinitialspace, skiprows, skipfooter, nrows, na_values, keep_default_na, na_filter, verbose, skip_blank_lines, parse_dates, infer_datetime_format, keep_date_col, date_parser, dayfirst, iterator, chunksize, compression, thousands, decimal, lineterminator, quotechar, quoting, doublequote, escapechar, comment, encoding, dialect, tupleize_cols, error_bad_lines, warn_bad_lines, delim_whitespace, low_memory, memory_map, float_precision)\u001b[0m\n\u001b[1;32m    700\u001b[0m                     skip_blank_lines=skip_blank_lines)\n\u001b[1;32m    701\u001b[0m \u001b[0;34m\u001b[0m\u001b[0m\n\u001b[0;32m--> 702\u001b[0;31m         \u001b[0;32mreturn\u001b[0m \u001b[0m_read\u001b[0m\u001b[0;34m(\u001b[0m\u001b[0mfilepath_or_buffer\u001b[0m\u001b[0;34m,\u001b[0m \u001b[0mkwds\u001b[0m\u001b[0;34m)\u001b[0m\u001b[0;34m\u001b[0m\u001b[0;34m\u001b[0m\u001b[0m\n\u001b[0m\u001b[1;32m    703\u001b[0m \u001b[0;34m\u001b[0m\u001b[0m\n\u001b[1;32m    704\u001b[0m     \u001b[0mparser_f\u001b[0m\u001b[0;34m.\u001b[0m\u001b[0m__name__\u001b[0m \u001b[0;34m=\u001b[0m \u001b[0mname\u001b[0m\u001b[0;34m\u001b[0m\u001b[0;34m\u001b[0m\u001b[0m\n",
      "\u001b[0;32m/usr/local/lib/python3.7/site-packages/pandas/io/parsers.py\u001b[0m in \u001b[0;36m_read\u001b[0;34m(filepath_or_buffer, kwds)\u001b[0m\n\u001b[1;32m    427\u001b[0m \u001b[0;34m\u001b[0m\u001b[0m\n\u001b[1;32m    428\u001b[0m     \u001b[0;31m# Create the parser.\u001b[0m\u001b[0;34m\u001b[0m\u001b[0;34m\u001b[0m\u001b[0;34m\u001b[0m\u001b[0m\n\u001b[0;32m--> 429\u001b[0;31m     \u001b[0mparser\u001b[0m \u001b[0;34m=\u001b[0m \u001b[0mTextFileReader\u001b[0m\u001b[0;34m(\u001b[0m\u001b[0mfilepath_or_buffer\u001b[0m\u001b[0;34m,\u001b[0m \u001b[0;34m**\u001b[0m\u001b[0mkwds\u001b[0m\u001b[0;34m)\u001b[0m\u001b[0;34m\u001b[0m\u001b[0;34m\u001b[0m\u001b[0m\n\u001b[0m\u001b[1;32m    430\u001b[0m \u001b[0;34m\u001b[0m\u001b[0m\n\u001b[1;32m    431\u001b[0m     \u001b[0;32mif\u001b[0m \u001b[0mchunksize\u001b[0m \u001b[0;32mor\u001b[0m \u001b[0miterator\u001b[0m\u001b[0;34m:\u001b[0m\u001b[0;34m\u001b[0m\u001b[0;34m\u001b[0m\u001b[0m\n",
      "\u001b[0;32m/usr/local/lib/python3.7/site-packages/pandas/io/parsers.py\u001b[0m in \u001b[0;36m__init__\u001b[0;34m(self, f, engine, **kwds)\u001b[0m\n\u001b[1;32m    893\u001b[0m             \u001b[0mself\u001b[0m\u001b[0;34m.\u001b[0m\u001b[0moptions\u001b[0m\u001b[0;34m[\u001b[0m\u001b[0;34m'has_index_names'\u001b[0m\u001b[0;34m]\u001b[0m \u001b[0;34m=\u001b[0m \u001b[0mkwds\u001b[0m\u001b[0;34m[\u001b[0m\u001b[0;34m'has_index_names'\u001b[0m\u001b[0;34m]\u001b[0m\u001b[0;34m\u001b[0m\u001b[0;34m\u001b[0m\u001b[0m\n\u001b[1;32m    894\u001b[0m \u001b[0;34m\u001b[0m\u001b[0m\n\u001b[0;32m--> 895\u001b[0;31m         \u001b[0mself\u001b[0m\u001b[0;34m.\u001b[0m\u001b[0m_make_engine\u001b[0m\u001b[0;34m(\u001b[0m\u001b[0mself\u001b[0m\u001b[0;34m.\u001b[0m\u001b[0mengine\u001b[0m\u001b[0;34m)\u001b[0m\u001b[0;34m\u001b[0m\u001b[0;34m\u001b[0m\u001b[0m\n\u001b[0m\u001b[1;32m    896\u001b[0m \u001b[0;34m\u001b[0m\u001b[0m\n\u001b[1;32m    897\u001b[0m     \u001b[0;32mdef\u001b[0m \u001b[0mclose\u001b[0m\u001b[0;34m(\u001b[0m\u001b[0mself\u001b[0m\u001b[0;34m)\u001b[0m\u001b[0;34m:\u001b[0m\u001b[0;34m\u001b[0m\u001b[0;34m\u001b[0m\u001b[0m\n",
      "\u001b[0;32m/usr/local/lib/python3.7/site-packages/pandas/io/parsers.py\u001b[0m in \u001b[0;36m_make_engine\u001b[0;34m(self, engine)\u001b[0m\n\u001b[1;32m   1120\u001b[0m     \u001b[0;32mdef\u001b[0m \u001b[0m_make_engine\u001b[0m\u001b[0;34m(\u001b[0m\u001b[0mself\u001b[0m\u001b[0;34m,\u001b[0m \u001b[0mengine\u001b[0m\u001b[0;34m=\u001b[0m\u001b[0;34m'c'\u001b[0m\u001b[0;34m)\u001b[0m\u001b[0;34m:\u001b[0m\u001b[0;34m\u001b[0m\u001b[0;34m\u001b[0m\u001b[0m\n\u001b[1;32m   1121\u001b[0m         \u001b[0;32mif\u001b[0m \u001b[0mengine\u001b[0m \u001b[0;34m==\u001b[0m \u001b[0;34m'c'\u001b[0m\u001b[0;34m:\u001b[0m\u001b[0;34m\u001b[0m\u001b[0;34m\u001b[0m\u001b[0m\n\u001b[0;32m-> 1122\u001b[0;31m             \u001b[0mself\u001b[0m\u001b[0;34m.\u001b[0m\u001b[0m_engine\u001b[0m \u001b[0;34m=\u001b[0m \u001b[0mCParserWrapper\u001b[0m\u001b[0;34m(\u001b[0m\u001b[0mself\u001b[0m\u001b[0;34m.\u001b[0m\u001b[0mf\u001b[0m\u001b[0;34m,\u001b[0m \u001b[0;34m**\u001b[0m\u001b[0mself\u001b[0m\u001b[0;34m.\u001b[0m\u001b[0moptions\u001b[0m\u001b[0;34m)\u001b[0m\u001b[0;34m\u001b[0m\u001b[0;34m\u001b[0m\u001b[0m\n\u001b[0m\u001b[1;32m   1123\u001b[0m         \u001b[0;32melse\u001b[0m\u001b[0;34m:\u001b[0m\u001b[0;34m\u001b[0m\u001b[0;34m\u001b[0m\u001b[0m\n\u001b[1;32m   1124\u001b[0m             \u001b[0;32mif\u001b[0m \u001b[0mengine\u001b[0m \u001b[0;34m==\u001b[0m \u001b[0;34m'python'\u001b[0m\u001b[0;34m:\u001b[0m\u001b[0;34m\u001b[0m\u001b[0;34m\u001b[0m\u001b[0m\n",
      "\u001b[0;32m/usr/local/lib/python3.7/site-packages/pandas/io/parsers.py\u001b[0m in \u001b[0;36m__init__\u001b[0;34m(self, src, **kwds)\u001b[0m\n\u001b[1;32m   1851\u001b[0m         \u001b[0mkwds\u001b[0m\u001b[0;34m[\u001b[0m\u001b[0;34m'usecols'\u001b[0m\u001b[0;34m]\u001b[0m \u001b[0;34m=\u001b[0m \u001b[0mself\u001b[0m\u001b[0;34m.\u001b[0m\u001b[0musecols\u001b[0m\u001b[0;34m\u001b[0m\u001b[0;34m\u001b[0m\u001b[0m\n\u001b[1;32m   1852\u001b[0m \u001b[0;34m\u001b[0m\u001b[0m\n\u001b[0;32m-> 1853\u001b[0;31m         \u001b[0mself\u001b[0m\u001b[0;34m.\u001b[0m\u001b[0m_reader\u001b[0m \u001b[0;34m=\u001b[0m \u001b[0mparsers\u001b[0m\u001b[0;34m.\u001b[0m\u001b[0mTextReader\u001b[0m\u001b[0;34m(\u001b[0m\u001b[0msrc\u001b[0m\u001b[0;34m,\u001b[0m \u001b[0;34m**\u001b[0m\u001b[0mkwds\u001b[0m\u001b[0;34m)\u001b[0m\u001b[0;34m\u001b[0m\u001b[0;34m\u001b[0m\u001b[0m\n\u001b[0m\u001b[1;32m   1854\u001b[0m         \u001b[0mself\u001b[0m\u001b[0;34m.\u001b[0m\u001b[0munnamed_cols\u001b[0m \u001b[0;34m=\u001b[0m \u001b[0mself\u001b[0m\u001b[0;34m.\u001b[0m\u001b[0m_reader\u001b[0m\u001b[0;34m.\u001b[0m\u001b[0munnamed_cols\u001b[0m\u001b[0;34m\u001b[0m\u001b[0;34m\u001b[0m\u001b[0m\n\u001b[1;32m   1855\u001b[0m \u001b[0;34m\u001b[0m\u001b[0m\n",
      "\u001b[0;32mpandas/_libs/parsers.pyx\u001b[0m in \u001b[0;36mpandas._libs.parsers.TextReader.__cinit__\u001b[0;34m()\u001b[0m\n",
      "\u001b[0;32mpandas/_libs/parsers.pyx\u001b[0m in \u001b[0;36mpandas._libs.parsers.TextReader._setup_parser_source\u001b[0;34m()\u001b[0m\n",
      "\u001b[0;31mFileNotFoundError\u001b[0m: [Errno 2] File b'./arima_predictions_server_1_tactic_1.csv' does not exist: b'./arima_predictions_server_1_tactic_1.csv'"
     ]
    }
   ],
   "source": [
    "\n",
    "filename = './arima_predictions_server_1_tactic_1.csv'\n",
    "data = pd.read_csv(filename)\n"
   ]
  },
  {
   "cell_type": "code",
   "execution_count": null,
   "metadata": {},
   "outputs": [],
   "source": [
    "latencyMae = mae(data.latency, data.predicted_latency)\n",
    "costMae = mae(data.cost, data.predicted_cost)\n",
    "\n",
    "latencyMse = mse(data.latency, data.predicted_latency)\n",
    "costMse = mse(data.cost, data.predicted_cost)\n"
   ]
  },
  {
   "cell_type": "code",
   "execution_count": 18,
   "metadata": {},
   "outputs": [],
   "source": [
    "\n",
    "filePaths = []\n",
    "stats = []\n",
    "for (dirpath, dirnames, filenames) in os.walk('./final/'):\n",
    "            \n",
    "    for file in filenames:\n",
    "        if '.csv' in file:\n",
    "            data = pd.read_csv(os.path.join(dirpath, file))\n",
    "            latencyMae = mae(data.latency, data.predicted_latency)\n",
    "            costMae = mae(data.cost, data.predicted_cost)\n",
    "\n",
    "            latencyMse = mse(data.latency, data.predicted_latency)\n",
    "            costMse = mse(data.cost, data.predicted_cost)\n",
    "            \n",
    "            latencyRmse = mse(data.latency, data.predicted_latency, squared=False)\n",
    "            costRmse = mse(data.cost, data.predicted_cost, , squared=False)\n",
    "            \n",
    "            stats.append([file, latencyMae, costMae, latencyMse, costMse, ])\n",
    "            filePaths.append(os.path.join(dirpath, file))"
   ]
  },
  {
   "cell_type": "code",
   "execution_count": 16,
   "metadata": {},
   "outputs": [
    {
     "data": {
      "text/plain": [
       "['./final/svr_rbf/1/svr_rbf_predictions_server_1_tactic_1_sampleRate_20.csv',\n",
       " './final/svr_rbf/1/svr_rbf_predictions_server_1_tactic_1_sampleRate_5.csv',\n",
       " './final/svr_rbf/1/svr_rbf_predictions_server_1_tactic_1_sampleRate_0.csv',\n",
       " './final/svr_rbf/1/svr_rbf_predictions_server_1_tactic_1_sampleRate_0_no_ping.csv',\n",
       " './final/svr_rbf/1/svr_rbf_predictions_server_1_tactic_1_sampleRate_10.csv',\n",
       " './final/svr_rbf/3/svr_rbf_predictions_server_3_tactic_1_sampleRate_5.csv',\n",
       " './final/svr_rbf/3/svr_rbf_predictions_server_3_tactic_1_sampleRate_0.csv',\n",
       " './final/svr_rbf/3/svr_rbf_predictions_server_3_tactic_1_sampleRate_0_no_ping.csv',\n",
       " './final/svr_rbf/3/svr_rbf_predictions_server_3_tactic_1_sampleRate_10.csv',\n",
       " './final/svr_rbf/3/svr_rbf_predictions_server_3_tactic_1_sampleRate_20.csv',\n",
       " './final/svr_rbf/2/svr_rbf_predictions_server_2_tactic_1_sampleRate_0_no_ping.csv',\n",
       " './final/svr_rbf/2/svr_rbf_predictions_server_2_tactic_1_sampleRate_10.csv',\n",
       " './final/svr_rbf/2/svr_rbf_predictions_server_2_tactic_1_sampleRate_0.csv',\n",
       " './final/svr_rbf/2/svr_rbf_predictions_server_2_tactic_1_sampleRate_5.csv',\n",
       " './final/svr_rbf/2/svr_rbf_predictions_server_2_tactic_1_sampleRate_20.csv',\n",
       " './final/arima/1/arima_predictions_server_1_tactic_1_sampleRate_0.csv',\n",
       " './final/arima/1/arima_predictions_server_1_tactic_1_sampleRate_5.csv',\n",
       " './final/arima/1/arima_predictions_server_1_tactic_1_sampleRate_20.csv',\n",
       " './final/arima/1/arima_predictions_server_1_tactic_1_sampleRate_10.csv',\n",
       " './final/arima/3/arima_predictions_server_3_tactic_1_sampleRate_0.csv',\n",
       " './final/arima/3/arima_predictions_server_3_tactic_1_sampleRate_5.csv',\n",
       " './final/arima/3/arima_predictions_server_3_tactic_1_sampleRate_10.csv',\n",
       " './final/arima/3/arima_predictions_server_3_tactic_1_sampleRate_20.csv',\n",
       " './final/arima/2/arima_predictions_server_2_tactic_1_sampleRate_10.csv',\n",
       " './final/arima/2/arima_predictions_server_2_tactic_1_sampleRate_5.csv',\n",
       " './final/arima/2/arima_predictions_server_2_tactic_1_sampleRate_0.csv',\n",
       " './final/arima/2/arima_predictions_server_2_tactic_1_sampleRate_20.csv',\n",
       " './final/svr_linear/1/svr_linear_predictions_server_1_tactic_1_sampleRate_0.csv',\n",
       " './final/svr_linear/1/svr_linear_predictions_server_1_tactic_1_sampleRate_5.csv',\n",
       " './final/svr_linear/1/svr_linear_predictions_server_1_tactic_1_sampleRate_10.csv',\n",
       " './final/svr_linear/1/svr_linear_predictions_server_1_tactic_1_sampleRate_20.csv',\n",
       " './final/svr_linear/1/svr_linear_predictions_server_1_tactic_1_sampleRate_0_no_ping.csv',\n",
       " './final/svr_linear/3/svr_linear_predictions_server_3_tactic_1_sampleRate_0.csv',\n",
       " './final/svr_linear/3/svr_linear_predictions_server_3_tactic_1_sampleRate_20.csv',\n",
       " './final/svr_linear/3/svr_linear_predictions_server_3_tactic_1_sampleRate_5.csv',\n",
       " './final/svr_linear/3/svr_linear_predictions_server_3_tactic_1_sampleRate_10.csv',\n",
       " './final/svr_linear/3/svr_linear_predictions_server_3_tactic_1_sampleRate_0_no_ping.csv',\n",
       " './final/svr_linear/2/svr_linear_predictions_server_2_tactic_1_sampleRate_20.csv',\n",
       " './final/svr_linear/2/svr_linear_predictions_server_2_tactic_1_sampleRate_5.csv',\n",
       " './final/svr_linear/2/svr_linear_predictions_server_2_tactic_1_sampleRate_0_no_ping.csv',\n",
       " './final/svr_linear/2/svr_linear_predictions_server_2_tactic_1_sampleRate_0.csv',\n",
       " './final/svr_linear/2/svr_linear_predictions_server_2_tactic_1_sampleRate_10.csv',\n",
       " './final/mlp/1/mlp_predictions_server_1_tactic_1_sampleRate_10.csv',\n",
       " './final/mlp/1/mlp_predictions_server_1_tactic_1_sampleRate_20.csv',\n",
       " './final/mlp/1/mlp_predictions_server_1_tactic_1_sampleRate_0.csv',\n",
       " './final/mlp/1/mlp_predictions_server_1_tactic_1_sampleRate_0_no_ping.csv',\n",
       " './final/mlp/1/mlp_predictions_server_1_tactic_1_sampleRate_5.csv',\n",
       " './final/mlp/3/mlp_predictions_server_3_tactic_1_sampleRate_20.csv',\n",
       " './final/mlp/3/mlp_predictions_server_3_tactic_1_sampleRate_10.csv',\n",
       " './final/mlp/3/mlp_predictions_server_3_tactic_1_sampleRate_0.csv',\n",
       " './final/mlp/3/mlp_predictions_server_3_tactic_1_sampleRate_5.csv',\n",
       " './final/mlp/3/mlp_predictions_server_3_tactic_1_sampleRate_0_no_ping.csv',\n",
       " './final/mlp/2/mlp_predictions_server_2_tactic_1_sampleRate_20.csv',\n",
       " './final/mlp/2/mlp_predictions_server_2_tactic_1_sampleRate_5.csv',\n",
       " './final/mlp/2/mlp_predictions_server_2_tactic_1_sampleRate_0.csv',\n",
       " './final/mlp/2/mlp_predictions_server_2_tactic_1_sampleRate_0_no_ping.csv',\n",
       " './final/mlp/2/mlp_predictions_server_2_tactic_1_sampleRate_10.csv',\n",
       " './final/lstm/1/lstm_predictions_server_1_tactic_1_sampleRate_5.csv',\n",
       " './final/lstm/1/lstm_predictions_server_1_tactic_1_sampleRate_0.csv',\n",
       " './final/lstm/1/lstm_predictions_server_1_tactic_1_sampleRate_20.csv',\n",
       " './final/lstm/1/lstm_predictions_server_1_tactic_1_sampleRate_0_no_ping.csv',\n",
       " './final/lstm/1/lstm_predictions_server_1_tactic_1_sampleRate_10.csv',\n",
       " './final/lstm/3/lstm_predictions_server_3_tactic_1_sampleRate_10.csv',\n",
       " './final/lstm/3/lstm_predictions_server_3_tactic_1_sampleRate_5.csv',\n",
       " './final/lstm/3/lstm_predictions_server_3_tactic_1_sampleRate_0.csv',\n",
       " './final/lstm/3/lstm_predictions_server_3_tactic_1_sampleRate_20.csv',\n",
       " './final/lstm/3/lstm_predictions_server_3_tactic_1_sampleRate_0_no_ping.csv',\n",
       " './final/lstm/2/lstm_predictions_server_2_tactic_1_sampleRate_10.csv',\n",
       " './final/lstm/2/lstm_predictions_server_2_tactic_1_sampleRate_20.csv',\n",
       " './final/lstm/2/lstm_predictions_server_2_tactic_1_sampleRate_0.csv',\n",
       " './final/lstm/2/lstm_predictions_server_2_tactic_1_sampleRate_5.csv',\n",
       " './final/lstm/2/lstm_predictions_server_2_tactic_1_sampleRate_0_no_ping.csv',\n",
       " './final/ernnFinal/1/ernn_predictions_server__server_1_tactic_1_test_weekdayOneHotsample_rate_0_predictions_noping.csv',\n",
       " './final/ernnFinal/1/ernn_predictions_server__server_1_tactic_1_test_weekdayOneHotsample_rate_5_predictions.csv',\n",
       " './final/ernnFinal/1/ernn_predictions_server__server_1_tactic_1_test_weekdayOneHotsample_rate_10_predictions.csv',\n",
       " './final/ernnFinal/1/ernn_predictions_server__server_1_tactic_1_test_weekdayOneHotsample_rate_5_predictions_noping.csv',\n",
       " './final/ernnFinal/1/ernn_predictions_server__server_1_tactic_1_test_weekdayOneHotsample_rate_20_predictions_noping.csv',\n",
       " './final/ernnFinal/1/ernn_predictions_server__server_1_tactic_1_test_weekdayOneHotsample_rate_0_predictions.csv',\n",
       " './final/ernnFinal/1/ernn_predictions_server__server_1_tactic_1_test_weekdayOneHotsample_rate_20_predictions.csv',\n",
       " './final/ernnFinal/1/ernn_predictions_server__server_1_tactic_1_test_weekdayOneHotsample_rate_10_predictions_noping.csv',\n",
       " './final/ernnFinal/3/ernn_predictions_server__server_3_tactic_1_test_weekdayOneHotsample_rate_20_predictions_noping.csv',\n",
       " './final/ernnFinal/3/ernn_predictions_server__server_3_tactic_1_test_weekdayOneHotsample_rate_0_predictions.csv',\n",
       " './final/ernnFinal/3/ernn_predictions_server__server_3_tactic_1_test_weekdayOneHotsample_rate_10_predictions.csv',\n",
       " './final/ernnFinal/3/ernn_predictions_server__server_3_tactic_1_test_weekdayOneHotsample_rate_10_predictions_noping.csv',\n",
       " './final/ernnFinal/3/ernn_predictions_server__server_3_tactic_1_test_weekdayOneHotsample_rate_20_predictions.csv',\n",
       " './final/ernnFinal/3/ernn_predictions_server__server_3_tactic_1_test_weekdayOneHotsample_rate_0_predictions_noping.csv',\n",
       " './final/ernnFinal/3/ernn_predictions_server__server_3_tactic_1_test_weekdayOneHotsample_rate_5_predictions_noping.csv',\n",
       " './final/ernnFinal/3/ernn_predictions_server__server_3_tactic_1_test_weekdayOneHotsample_rate_5_predictions.csv',\n",
       " './final/ernnFinal/2/ernn_predictions_server__server_2_tactic_1_test_weekdayOneHotsample_rate_0_predictions_noping.csv',\n",
       " './final/ernnFinal/2/ernn_predictions_server__server_2_tactic_1_test_weekdayOneHotsample_rate_5_predictions_noping.csv',\n",
       " './final/ernnFinal/2/ernn_predictions_server__server_2_tactic_1_test_weekdayOneHotsample_rate_10_predictions.csv',\n",
       " './final/ernnFinal/2/ernn_predictions_server__server_2_tactic_1_test_weekdayOneHotsample_rate_0_predictions.csv',\n",
       " './final/ernnFinal/2/ernn_predictions_server__server_2_tactic_1_test_weekdayOneHotsample_rate_5_predictions.csv',\n",
       " './final/ernnFinal/2/ernn_predictions_server__server_2_tactic_1_test_weekdayOneHotsample_rate_20_predictions.csv',\n",
       " './final/ernnFinal/2/ernn_predictions_server__server_2_tactic_1_test_weekdayOneHotsample_rate_10_predictions_noping.csv',\n",
       " './final/ernnFinal/2/ernn_predictions_server__server_2_tactic_1_test_weekdayOneHotsample_rate_20_predictions_noping.csv']"
      ]
     },
     "execution_count": 16,
     "metadata": {},
     "output_type": "execute_result"
    }
   ],
   "source": [
    "filePaths"
   ]
  },
  {
   "cell_type": "code",
   "execution_count": 21,
   "metadata": {},
   "outputs": [],
   "source": [
    "pd.DataFrame(stats, columns=['Prediction File', 'latency_mae', 'cost_mae', 'latency_mse', 'cost_mse']).to_csv('./stats.csv', index = False)"
   ]
  },
  {
   "cell_type": "code",
   "execution_count": null,
   "metadata": {},
   "outputs": [],
   "source": []
  }
 ],
 "metadata": {
  "kernelspec": {
   "display_name": "Python 3",
   "language": "python",
   "name": "python3"
  },
  "language_info": {
   "codemirror_mode": {
    "name": "ipython",
    "version": 3
   },
   "file_extension": ".py",
   "mimetype": "text/x-python",
   "name": "python",
   "nbconvert_exporter": "python",
   "pygments_lexer": "ipython3",
   "version": "3.7.5"
  }
 },
 "nbformat": 4,
 "nbformat_minor": 2
}
