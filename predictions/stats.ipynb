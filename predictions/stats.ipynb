{
 "cells": [
  {
   "cell_type": "code",
   "execution_count": 44,
   "metadata": {},
   "outputs": [],
   "source": [
    "import pandas as pd\n",
    "import numpy as np\n",
    "import os\n",
    "from sklearn.metrics import mean_squared_error as mse\n",
    "from sklearn.metrics import mean_absolute_error as  mae"
   ]
  },
  {
   "cell_type": "code",
   "execution_count": 2,
   "metadata": {},
   "outputs": [],
   "source": [
    "stats = []"
   ]
  },
  {
   "cell_type": "code",
   "execution_count": 3,
   "metadata": {},
   "outputs": [
    {
     "ename": "FileNotFoundError",
     "evalue": "[Errno 2] File b'./arima_predictions_server_1_tactic_1.csv' does not exist: b'./arima_predictions_server_1_tactic_1.csv'",
     "output_type": "error",
     "traceback": [
      "\u001b[0;31m---------------------------------------------------------------------------\u001b[0m",
      "\u001b[0;31mFileNotFoundError\u001b[0m                         Traceback (most recent call last)",
      "\u001b[0;32m<ipython-input-3-282491bf6d40>\u001b[0m in \u001b[0;36m<module>\u001b[0;34m\u001b[0m\n\u001b[1;32m      1\u001b[0m \u001b[0;34m\u001b[0m\u001b[0m\n\u001b[1;32m      2\u001b[0m \u001b[0mfilename\u001b[0m \u001b[0;34m=\u001b[0m \u001b[0;34m'./arima_predictions_server_1_tactic_1.csv'\u001b[0m\u001b[0;34m\u001b[0m\u001b[0;34m\u001b[0m\u001b[0m\n\u001b[0;32m----> 3\u001b[0;31m \u001b[0mdata\u001b[0m \u001b[0;34m=\u001b[0m \u001b[0mpd\u001b[0m\u001b[0;34m.\u001b[0m\u001b[0mread_csv\u001b[0m\u001b[0;34m(\u001b[0m\u001b[0mfilename\u001b[0m\u001b[0;34m)\u001b[0m\u001b[0;34m\u001b[0m\u001b[0;34m\u001b[0m\u001b[0m\n\u001b[0m",
      "\u001b[0;32m/usr/local/lib/python3.7/site-packages/pandas/io/parsers.py\u001b[0m in \u001b[0;36mparser_f\u001b[0;34m(filepath_or_buffer, sep, delimiter, header, names, index_col, usecols, squeeze, prefix, mangle_dupe_cols, dtype, engine, converters, true_values, false_values, skipinitialspace, skiprows, skipfooter, nrows, na_values, keep_default_na, na_filter, verbose, skip_blank_lines, parse_dates, infer_datetime_format, keep_date_col, date_parser, dayfirst, iterator, chunksize, compression, thousands, decimal, lineterminator, quotechar, quoting, doublequote, escapechar, comment, encoding, dialect, tupleize_cols, error_bad_lines, warn_bad_lines, delim_whitespace, low_memory, memory_map, float_precision)\u001b[0m\n\u001b[1;32m    700\u001b[0m                     skip_blank_lines=skip_blank_lines)\n\u001b[1;32m    701\u001b[0m \u001b[0;34m\u001b[0m\u001b[0m\n\u001b[0;32m--> 702\u001b[0;31m         \u001b[0;32mreturn\u001b[0m \u001b[0m_read\u001b[0m\u001b[0;34m(\u001b[0m\u001b[0mfilepath_or_buffer\u001b[0m\u001b[0;34m,\u001b[0m \u001b[0mkwds\u001b[0m\u001b[0;34m)\u001b[0m\u001b[0;34m\u001b[0m\u001b[0;34m\u001b[0m\u001b[0m\n\u001b[0m\u001b[1;32m    703\u001b[0m \u001b[0;34m\u001b[0m\u001b[0m\n\u001b[1;32m    704\u001b[0m     \u001b[0mparser_f\u001b[0m\u001b[0;34m.\u001b[0m\u001b[0m__name__\u001b[0m \u001b[0;34m=\u001b[0m \u001b[0mname\u001b[0m\u001b[0;34m\u001b[0m\u001b[0;34m\u001b[0m\u001b[0m\n",
      "\u001b[0;32m/usr/local/lib/python3.7/site-packages/pandas/io/parsers.py\u001b[0m in \u001b[0;36m_read\u001b[0;34m(filepath_or_buffer, kwds)\u001b[0m\n\u001b[1;32m    427\u001b[0m \u001b[0;34m\u001b[0m\u001b[0m\n\u001b[1;32m    428\u001b[0m     \u001b[0;31m# Create the parser.\u001b[0m\u001b[0;34m\u001b[0m\u001b[0;34m\u001b[0m\u001b[0;34m\u001b[0m\u001b[0m\n\u001b[0;32m--> 429\u001b[0;31m     \u001b[0mparser\u001b[0m \u001b[0;34m=\u001b[0m \u001b[0mTextFileReader\u001b[0m\u001b[0;34m(\u001b[0m\u001b[0mfilepath_or_buffer\u001b[0m\u001b[0;34m,\u001b[0m \u001b[0;34m**\u001b[0m\u001b[0mkwds\u001b[0m\u001b[0;34m)\u001b[0m\u001b[0;34m\u001b[0m\u001b[0;34m\u001b[0m\u001b[0m\n\u001b[0m\u001b[1;32m    430\u001b[0m \u001b[0;34m\u001b[0m\u001b[0m\n\u001b[1;32m    431\u001b[0m     \u001b[0;32mif\u001b[0m \u001b[0mchunksize\u001b[0m \u001b[0;32mor\u001b[0m \u001b[0miterator\u001b[0m\u001b[0;34m:\u001b[0m\u001b[0;34m\u001b[0m\u001b[0;34m\u001b[0m\u001b[0m\n",
      "\u001b[0;32m/usr/local/lib/python3.7/site-packages/pandas/io/parsers.py\u001b[0m in \u001b[0;36m__init__\u001b[0;34m(self, f, engine, **kwds)\u001b[0m\n\u001b[1;32m    893\u001b[0m             \u001b[0mself\u001b[0m\u001b[0;34m.\u001b[0m\u001b[0moptions\u001b[0m\u001b[0;34m[\u001b[0m\u001b[0;34m'has_index_names'\u001b[0m\u001b[0;34m]\u001b[0m \u001b[0;34m=\u001b[0m \u001b[0mkwds\u001b[0m\u001b[0;34m[\u001b[0m\u001b[0;34m'has_index_names'\u001b[0m\u001b[0;34m]\u001b[0m\u001b[0;34m\u001b[0m\u001b[0;34m\u001b[0m\u001b[0m\n\u001b[1;32m    894\u001b[0m \u001b[0;34m\u001b[0m\u001b[0m\n\u001b[0;32m--> 895\u001b[0;31m         \u001b[0mself\u001b[0m\u001b[0;34m.\u001b[0m\u001b[0m_make_engine\u001b[0m\u001b[0;34m(\u001b[0m\u001b[0mself\u001b[0m\u001b[0;34m.\u001b[0m\u001b[0mengine\u001b[0m\u001b[0;34m)\u001b[0m\u001b[0;34m\u001b[0m\u001b[0;34m\u001b[0m\u001b[0m\n\u001b[0m\u001b[1;32m    896\u001b[0m \u001b[0;34m\u001b[0m\u001b[0m\n\u001b[1;32m    897\u001b[0m     \u001b[0;32mdef\u001b[0m \u001b[0mclose\u001b[0m\u001b[0;34m(\u001b[0m\u001b[0mself\u001b[0m\u001b[0;34m)\u001b[0m\u001b[0;34m:\u001b[0m\u001b[0;34m\u001b[0m\u001b[0;34m\u001b[0m\u001b[0m\n",
      "\u001b[0;32m/usr/local/lib/python3.7/site-packages/pandas/io/parsers.py\u001b[0m in \u001b[0;36m_make_engine\u001b[0;34m(self, engine)\u001b[0m\n\u001b[1;32m   1120\u001b[0m     \u001b[0;32mdef\u001b[0m \u001b[0m_make_engine\u001b[0m\u001b[0;34m(\u001b[0m\u001b[0mself\u001b[0m\u001b[0;34m,\u001b[0m \u001b[0mengine\u001b[0m\u001b[0;34m=\u001b[0m\u001b[0;34m'c'\u001b[0m\u001b[0;34m)\u001b[0m\u001b[0;34m:\u001b[0m\u001b[0;34m\u001b[0m\u001b[0;34m\u001b[0m\u001b[0m\n\u001b[1;32m   1121\u001b[0m         \u001b[0;32mif\u001b[0m \u001b[0mengine\u001b[0m \u001b[0;34m==\u001b[0m \u001b[0;34m'c'\u001b[0m\u001b[0;34m:\u001b[0m\u001b[0;34m\u001b[0m\u001b[0;34m\u001b[0m\u001b[0m\n\u001b[0;32m-> 1122\u001b[0;31m             \u001b[0mself\u001b[0m\u001b[0;34m.\u001b[0m\u001b[0m_engine\u001b[0m \u001b[0;34m=\u001b[0m \u001b[0mCParserWrapper\u001b[0m\u001b[0;34m(\u001b[0m\u001b[0mself\u001b[0m\u001b[0;34m.\u001b[0m\u001b[0mf\u001b[0m\u001b[0;34m,\u001b[0m \u001b[0;34m**\u001b[0m\u001b[0mself\u001b[0m\u001b[0;34m.\u001b[0m\u001b[0moptions\u001b[0m\u001b[0;34m)\u001b[0m\u001b[0;34m\u001b[0m\u001b[0;34m\u001b[0m\u001b[0m\n\u001b[0m\u001b[1;32m   1123\u001b[0m         \u001b[0;32melse\u001b[0m\u001b[0;34m:\u001b[0m\u001b[0;34m\u001b[0m\u001b[0;34m\u001b[0m\u001b[0m\n\u001b[1;32m   1124\u001b[0m             \u001b[0;32mif\u001b[0m \u001b[0mengine\u001b[0m \u001b[0;34m==\u001b[0m \u001b[0;34m'python'\u001b[0m\u001b[0;34m:\u001b[0m\u001b[0;34m\u001b[0m\u001b[0;34m\u001b[0m\u001b[0m\n",
      "\u001b[0;32m/usr/local/lib/python3.7/site-packages/pandas/io/parsers.py\u001b[0m in \u001b[0;36m__init__\u001b[0;34m(self, src, **kwds)\u001b[0m\n\u001b[1;32m   1851\u001b[0m         \u001b[0mkwds\u001b[0m\u001b[0;34m[\u001b[0m\u001b[0;34m'usecols'\u001b[0m\u001b[0;34m]\u001b[0m \u001b[0;34m=\u001b[0m \u001b[0mself\u001b[0m\u001b[0;34m.\u001b[0m\u001b[0musecols\u001b[0m\u001b[0;34m\u001b[0m\u001b[0;34m\u001b[0m\u001b[0m\n\u001b[1;32m   1852\u001b[0m \u001b[0;34m\u001b[0m\u001b[0m\n\u001b[0;32m-> 1853\u001b[0;31m         \u001b[0mself\u001b[0m\u001b[0;34m.\u001b[0m\u001b[0m_reader\u001b[0m \u001b[0;34m=\u001b[0m \u001b[0mparsers\u001b[0m\u001b[0;34m.\u001b[0m\u001b[0mTextReader\u001b[0m\u001b[0;34m(\u001b[0m\u001b[0msrc\u001b[0m\u001b[0;34m,\u001b[0m \u001b[0;34m**\u001b[0m\u001b[0mkwds\u001b[0m\u001b[0;34m)\u001b[0m\u001b[0;34m\u001b[0m\u001b[0;34m\u001b[0m\u001b[0m\n\u001b[0m\u001b[1;32m   1854\u001b[0m         \u001b[0mself\u001b[0m\u001b[0;34m.\u001b[0m\u001b[0munnamed_cols\u001b[0m \u001b[0;34m=\u001b[0m \u001b[0mself\u001b[0m\u001b[0;34m.\u001b[0m\u001b[0m_reader\u001b[0m\u001b[0;34m.\u001b[0m\u001b[0munnamed_cols\u001b[0m\u001b[0;34m\u001b[0m\u001b[0;34m\u001b[0m\u001b[0m\n\u001b[1;32m   1855\u001b[0m \u001b[0;34m\u001b[0m\u001b[0m\n",
      "\u001b[0;32mpandas/_libs/parsers.pyx\u001b[0m in \u001b[0;36mpandas._libs.parsers.TextReader.__cinit__\u001b[0;34m()\u001b[0m\n",
      "\u001b[0;32mpandas/_libs/parsers.pyx\u001b[0m in \u001b[0;36mpandas._libs.parsers.TextReader._setup_parser_source\u001b[0;34m()\u001b[0m\n",
      "\u001b[0;31mFileNotFoundError\u001b[0m: [Errno 2] File b'./arima_predictions_server_1_tactic_1.csv' does not exist: b'./arima_predictions_server_1_tactic_1.csv'"
     ]
    }
   ],
   "source": [
    "\n",
    "filename = './arima_predictions_server_1_tactic_1.csv'\n",
    "data = pd.read_csv(filename)\n"
   ]
  },
  {
   "cell_type": "code",
   "execution_count": null,
   "metadata": {},
   "outputs": [],
   "source": [
    "latencyMae = mae(data.latency, data.predicted_latency)\n",
    "costMae = mae(data.cost, data.predicted_cost)\n",
    "\n",
    "latencyMse = mse(data.latency, data.predicted_latency)\n",
    "costMse = mse(data.cost, data.predicted_cost)\n"
   ]
  },
  {
   "cell_type": "code",
   "execution_count": 29,
   "metadata": {},
   "outputs": [],
   "source": [
    "\n",
    "filePaths = []\n",
    "stats = []\n",
    "for (dirpath, dirnames, filenames) in os.walk('./final/1'):\n",
    "            \n",
    "    for file in filenames:\n",
    "        if '.csv' in file:\n",
    "            data = pd.read_csv(os.path.join(dirpath, file))\n",
    "            latencyMae = mae(data.latency, data.predicted_latency)\n",
    "            costMae = mae(data.cost, data.predicted_cost)\n",
    "\n",
    "            latencyMse = mse(data.latency, data.predicted_latency)\n",
    "            costMse = mse(data.cost, data.predicted_cost)\n",
    "            \n",
    "            latencyRmse = mse(data.latency, data.predicted_latency, squared=False)\n",
    "            costRmse = mse(data.cost, data.predicted_cost, squared=False)\n",
    "            \n",
    "            stats.append([file, latencyMae, costMae, latencyMse, costMse, latencyRmse, costRmse])\n",
    "            filePaths.append(os.path.join(dirpath, file))\n",
    "            \n",
    "# pd.DataFrame(stats, columns=['Prediction File', 'latency_mae', 'cost_mae', 'latency_mse', 'cost_mse', 'latency_rmse', 'cost_rmse']).to_csv('./server_1_stats.csv', index = False)\n"
   ]
  },
  {
   "cell_type": "code",
   "execution_count": 53,
   "metadata": {},
   "outputs": [
    {
     "name": "stdout",
     "output_type": "stream",
     "text": [
      "lstm_model_0_predictions_server_1_tactic_1_sampleRate_0.csv\n",
      "lstm_model_1_predictions_server_1_tactic_1_sampleRate_0_no_ping.csv\n",
      "lstm_model_2_predictions_server_1_tactic_1_sampleRate_10.csv\n",
      "lstm_model_0_predictions_server_1_tactic_1_sampleRate_5.csv\n",
      "lstm_model_3_predictions_server_1_tactic_1_sampleRate_10.csv\n",
      "lstm_model_0_predictions_server_1_tactic_1_sampleRate_10.csv\n",
      "lstm_model_0_predictions_server_1_tactic_1_sampleRate_0_no_ping.csv\n",
      "lstm_model_2_predictions_server_1_tactic_1_sampleRate_5.csv\n",
      "lstm_model_1_predictions_server_1_tactic_1_sampleRate_10.csv\n",
      "lstm_model_2_predictions_server_1_tactic_1_sampleRate_0.csv\n",
      "lstm_model_3_predictions_server_1_tactic_1_sampleRate_0.csv\n",
      "lstm_model_1_predictions_server_1_tactic_1_sampleRate_20.csv\n",
      "lstm_model_3_predictions_server_1_tactic_1_sampleRate_0_no_ping.csv\n",
      "lstm_model_3_predictions_server_1_tactic_1_sampleRate_5.csv\n",
      "lstm_model_0_predictions_server_1_tactic_1_sampleRate_20.csv\n",
      "lstm_model_3_predictions_server_1_tactic_1_sampleRate_20.csv\n",
      "lstm_model_1_predictions_server_1_tactic_1_sampleRate_5.csv\n",
      "lstm_model_2_predictions_server_1_tactic_1_sampleRate_0_no_ping.csv\n",
      "lstm_model_1_predictions_server_1_tactic_1_sampleRate_0.csv\n",
      "lstm_model_2_predictions_server_1_tactic_1_sampleRate_20.csv\n",
      "mlp_predictions_server_1_tactic_1_sampleRate_10.csv\n",
      "mlp_predictions_server_1_tactic_1_sampleRate_20.csv\n",
      "mlp_predictions_server_1_tactic_1_sampleRate_0.csv\n",
      "mlp_predictions_server_1_tactic_1_sampleRate_0_no_ping.csv\n",
      "mlp_predictions_server_1_tactic_1_sampleRate_5.csv\n",
      "ernn_predictions_server_1_tactic_1_test_weekdayOneHotsample_rate_20_predictions.csv\n",
      "old_ernn_predictions_server_1_tactic_1_test_weekdayOneHotsample_rate_20_predictions_noping.csv\n",
      "ernn_predictions_server_1_tactic_1_test_weekdayOneHotsample_rate_0_predictions.csv\n",
      "old_ernn_predictions_server_1_tactic_1_test_weekdayOneHotsample_rate_5_predictions.csv\n",
      "old_ernn_predictions_server_1_tactic_1_test_weekdayOneHotsample_rate_20_predictions.csv\n",
      "old_ernn_predictions_server_1_tactic_1_test_weekdayOneHotsample_rate_10_predictions_noping.csv\n",
      "old_ernn_predictions_server_1_tactic_1_test_weekdayOneHotsample_rate_5_predictions_noping.csv\n",
      "ernn_predictions_server_1_tactic_1_test_weekdayOneHotsample_rate_10_predictions_noping.csv\n",
      "ernn_predictions_server_1_tactic_1_test_weekdayOneHotsample_rate_5_predictions.csv\n",
      "ernn_predictions_server_1_tactic_1_test_weekdayOneHotsample_rate_0_predictions_noping.csv\n",
      "old_ernn_predictions_server_1_tactic_1_test_weekdayOneHotsample_rate_10_predictions.csv\n",
      "old_ernn_predictions_server_1_tactic_1_test_weekdayOneHotsample_rate_0_predictions.csv\n",
      "ernn_predictions_server_1_tactic_1_test_weekdayOneHotsample_rate_10_predictions.csv\n",
      "ernn_predictions_server_1_tactic_1_test_weekdayOneHotsample_rate_20_predictions_noping.csv\n",
      "old_ernn_predictions_server_1_tactic_1_test_weekdayOneHotsample_rate_0_predictions_noping.csv\n",
      "ernn_predictions_server_1_tactic_1_test_weekdayOneHotsample_rate_5_predictions_noping.csv\n",
      "svr_rbf_predictions_server_1_tactic_1_sampleRate_20.csv\n",
      "svr_rbf_predictions_server_1_tactic_1_sampleRate_5.csv\n",
      "svr_rbf_predictions_server_1_tactic_1_sampleRate_0.csv\n",
      "svr_rbf_predictions_server_1_tactic_1_sampleRate_0_no_ping.csv\n",
      "svr_rbf_predictions_server_1_tactic_1_sampleRate_10.csv\n",
      "svr_linear_predictions_server_1_tactic_1_sampleRate_0.csv\n",
      "svr_linear_predictions_server_1_tactic_1_sampleRate_5.csv\n",
      "svr_linear_predictions_server_1_tactic_1_sampleRate_10.csv\n",
      "svr_linear_predictions_server_1_tactic_1_sampleRate_20.csv\n",
      "svr_linear_predictions_server_1_tactic_1_sampleRate_0_no_ping.csv\n",
      "arima_predictions_server_1_tactic_1_sampleRate_0.csv\n",
      "arima_predictions_server_1_tactic_1_sampleRate_5.csv\n",
      "arima_predictions_server_1_tactic_1_sampleRate_20.csv\n",
      "arima_predictions_server_1_tactic_1_sampleRate_10.csv\n"
     ]
    }
   ],
   "source": [
    "stats1 = []\n",
    "for model in ['lstm', 'mlp', 'ernnFinal', 'svr_rbf', 'svr_linear', 'arima']:\n",
    "    \n",
    "    for (dirpath, dirnames, filenames) in os.walk('./final/' + model + '/1/'):\n",
    "        for file in filenames:\n",
    "            if '.csv' in file:\n",
    "                print(file)\n",
    "                data = pd.read_csv(os.path.join(dirpath, file))\n",
    "                latencyMae = mae(data.latency, data.predicted_latency)\n",
    "                costMae = mae(data.cost, data.predicted_cost)\n",
    "\n",
    "                latencyMse = mse(data.latency, data.predicted_latency)\n",
    "                costMse = mse(data.cost, data.predicted_cost)\n",
    "\n",
    "                latencyRmse = mse(data.latency, data.predicted_latency, squared=False)\n",
    "                costRmse = mse(data.cost, data.predicted_cost, squared=False)\n",
    "                \n",
    "\n",
    "                stats1.append([file, latencyMae, costMae, latencyMse, costMse, latencyRmse, costRmse])\n",
    "#                 filePaths.append(os.path.join(dirpath, file))\n",
    "            \n",
    "pd.DataFrame(stats1, columns=['Prediction File', 'latency_mae', 'cost_mae', 'latency_mse', 'cost_mse', 'latency_rmse', 'cost_rmse']).to_csv('./server_1_stats.csv', index = False)\n"
   ]
  },
  {
   "cell_type": "code",
   "execution_count": 48,
   "metadata": {},
   "outputs": [],
   "source": [
    "stats2 = []\n",
    "for model in ['lstm', 'mlp', 'ernnFinal', 'svr_rbf', 'svr_linear', 'arima']:\n",
    "    \n",
    "    for (dirpath, dirnames, filenames) in os.walk('./final/' + model + '/2/'):\n",
    "        for file in filenames:\n",
    "            if '.csv' in file:\n",
    "                data = pd.read_csv(os.path.join(dirpath, file))\n",
    "                latencyMae = mae(data.latency, data.predicted_latency)\n",
    "                costMae = mae(data.cost, data.predicted_cost)\n",
    "\n",
    "                latencyMse = mse(data.latency, data.predicted_latency)\n",
    "                costMse = mse(data.cost, data.predicted_cost)\n",
    "\n",
    "                latencyRmse = mse(data.latency, data.predicted_latency, squared=False)\n",
    "                costRmse = mse(data.cost, data.predicted_cost, squared=False)\n",
    "                \n",
    "\n",
    "                stats2.append([file, latencyMae, costMae, latencyMse, costMse, latencyRmse, costRmse])\n",
    "#                 filePaths.append(os.path.join(dirpath, file))\n",
    "            \n",
    "pd.DataFrame(stats2, columns=['Prediction File', 'latency_mae', 'cost_mae', 'latency_mse', 'cost_mse', 'latency_rmse', 'cost_rmse']).to_csv('./server_2_stats.csv', index = False)\n"
   ]
  },
  {
   "cell_type": "code",
   "execution_count": 49,
   "metadata": {},
   "outputs": [],
   "source": [
    "stats3 = []\n",
    "for model in ['lstm', 'mlp', 'ernnFinal', 'svr_rbf', 'svr_linear', 'arima']:\n",
    "    \n",
    "    for (dirpath, dirnames, filenames) in os.walk('./final/' + model + '/3/'):\n",
    "        for file in filenames:\n",
    "            if '.csv' in file:\n",
    "                data = pd.read_csv(os.path.join(dirpath, file))\n",
    "                latencyMae = mae(data.latency, data.predicted_latency)\n",
    "                costMae = mae(data.cost, data.predicted_cost)\n",
    "\n",
    "                latencyMse = mse(data.latency, data.predicted_latency)\n",
    "                costMse = mse(data.cost, data.predicted_cost)\n",
    "\n",
    "                latencyRmse = mse(data.latency, data.predicted_latency, squared=False)\n",
    "                costRmse = mse(data.cost, data.predicted_cost, squared=False)\n",
    "                \n",
    "\n",
    "                stats3.append([file, latencyMae, costMae, latencyMse, costMse, latencyRmse, costRmse])\n",
    "#                 filePaths.append(os.path.join(dirpath, file))\n",
    "            \n",
    "pd.DataFrame(stats3, columns=['Prediction File', 'latency_mae', 'cost_mae', 'latency_mse', 'cost_mse', 'latency_rmse', 'cost_rmse']).to_csv('./server_3_stats.csv', index = False)\n"
   ]
  },
  {
   "cell_type": "code",
   "execution_count": 28,
   "metadata": {},
   "outputs": [],
   "source": []
  },
  {
   "cell_type": "code",
   "execution_count": null,
   "metadata": {},
   "outputs": [],
   "source": []
  }
 ],
 "metadata": {
  "kernelspec": {
   "display_name": "Python 3",
   "language": "python",
   "name": "python3"
  },
  "language_info": {
   "codemirror_mode": {
    "name": "ipython",
    "version": 3
   },
   "file_extension": ".py",
   "mimetype": "text/x-python",
   "name": "python",
   "nbconvert_exporter": "python",
   "pygments_lexer": "ipython3",
   "version": "3.7.5"
  }
 },
 "nbformat": 4,
 "nbformat_minor": 2
}
