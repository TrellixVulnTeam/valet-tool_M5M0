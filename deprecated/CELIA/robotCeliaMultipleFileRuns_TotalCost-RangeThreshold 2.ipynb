{
 "cells": [
  {
   "cell_type": "code",
   "execution_count": 1,
   "metadata": {},
   "outputs": [],
   "source": [
    "#!/usr/bin/env python\n",
    "# coding: utf-8\n",
    "\n",
    "import numpy as np\n",
    "import sys\n",
    "import pandas as pd\n",
    "\n",
    "\n"
   ]
  },
  {
   "cell_type": "code",
   "execution_count": 2,
   "metadata": {},
   "outputs": [],
   "source": [
    "fileNames = ['predictions_SVR_RBF_TotalCost.csv',\\\n",
    "            'predictions_eRNN_TotalCost.csv',\\\n",
    "            'predictions_MLP_TotalCost.csv',\n",
    "            'predictions_LSTM_TotalCost.csv',]"
   ]
  },
  {
   "cell_type": "code",
   "execution_count": 3,
   "metadata": {},
   "outputs": [],
   "source": [
    "inputFolder = '../Prediction_Files/'\n",
    "# dataPred = pd.read_csv('../Prediction_Files/arimaNormalizedPrediction.csv')\n",
    "outputDirectory = './results3/'\n",
    "outputFileName = outputDirectory + \"rewardAwareUtility-SVR_Linear.csv\""
   ]
  },
  {
   "cell_type": "code",
   "execution_count": null,
   "metadata": {},
   "outputs": [],
   "source": []
  },
  {
   "cell_type": "markdown",
   "metadata": {},
   "source": [
    "# reading predictions and transforming data"
   ]
  },
  {
   "cell_type": "code",
   "execution_count": 4,
   "metadata": {},
   "outputs": [],
   "source": [
    "def rowToTime(row):\n",
    "    timeAtMoment = row.Hours*3600*1000\n",
    "    timeAtMoment += row.Minutes*60*1000\n",
    "    timeAtMoment += row.Seconds*1000\n",
    "    return timeAtMoment"
   ]
  },
  {
   "cell_type": "code",
   "execution_count": 5,
   "metadata": {
    "scrolled": true
   },
   "outputs": [],
   "source": [
    "def shiftTransformCol50(data):\n",
    "    return (data + abs(data.min()))*50"
   ]
  },
  {
   "cell_type": "code",
   "execution_count": 6,
   "metadata": {},
   "outputs": [],
   "source": [
    "def utilFunction(latency, cost, reward = 100, reliability = 1):\n",
    "    epsilon = 0.00000000000000000000000000000000000000000000001\n",
    "\n",
    "    if reliability == 0:\n",
    "        return 0\n",
    "    else:\n",
    "        return ((reward)/(latency+cost+epsilon)) * reliability \n",
    "    \n"
   ]
  },
  {
   "cell_type": "markdown",
   "metadata": {},
   "source": [
    "realUtilityMean = 4.138921e+06\t\n",
    "realUtilStd = 6.175693e+06\t"
   ]
  },
  {
   "cell_type": "code",
   "execution_count": 24,
   "metadata": {
    "scrolled": true
   },
   "outputs": [],
   "source": [
    "def celia(data,updateThreshold = 1000):\n",
    "    lastUpdate = 0;\n",
    "    utilitPredicted = []\n",
    "    utilityReal = []\n",
    "    award = []\n",
    "    lostUtility = []\n",
    "    \n",
    "\n",
    "    temp = data.iloc[1]['Timestamp'] - data.iloc[0]['Timestamp']\n",
    "\n",
    "    for i in range(1,len(data)):\n",
    "#     timeDeltaReward = (data.iloc[i]['Timestamp'] - data.iloc[i-1]['Timestamp']).total_seconds()\n",
    "        timeDeltaReward = (data.iloc[i]['Timestamp'] - data.iloc[lastUpdate]['Timestamp'])\n",
    "\n",
    "        predictedUtil = utilFunction(data.iloc[i].predLatency, data.iloc[i].predicted_Total_Cost,(float)(timeDeltaReward), data.iloc[i].predReliability )\n",
    "\n",
    "        realUtility = utilFunction(data.iloc[i].Latency, data.iloc[i].Total_Cost,(float)(timeDeltaReward), data.iloc[i].Reliability )\n",
    "        \n",
    "        utilitPredicted.append(predictedUtil)\n",
    "        \n",
    "        utilityReal.append(realUtility)\n",
    "        \n",
    "        \n",
    "        if predictedUtil >= updateThreshold:\n",
    "    #         award.append(award[i-1] + realUtility-1);\n",
    "            award.append(realUtility-updateThreshold);\n",
    "            lastUpdate = i;\n",
    "            lostUtility.append(0)\n",
    "        else:\n",
    "    #         award.append(award[i-1]);\n",
    "            award.append(0);\n",
    "\n",
    "            if realUtility >= updateThreshold:\n",
    "                lostUtility.append(realUtility)\n",
    "            else:\n",
    "                lostUtility.append(0) \n",
    "    \n",
    "    results = pd.DataFrame(np.stack([utilitPredicted,utilityReal,award,lostUtility],axis=1),columns=['predictedUtility','realUtility','award','lostUtility'])\n",
    "    return results\n",
    "#     results.to_csv(\"./results/dummyRandom.csv\")"
   ]
  },
  {
   "cell_type": "code",
   "execution_count": 19,
   "metadata": {},
   "outputs": [],
   "source": [
    "def celiaSim(dataPred):\n",
    "    ### this is converting hours, minutes, seconds to a millisecond time series\n",
    "    dataPred.Hours = ((dataPred.Hours)*23)+0\n",
    "    dataPred.Minutes = ((dataPred.Minutes)*59)+0\n",
    "    dataPred.Seconds = ((dataPred.Seconds)*59.999805)+0.1025061111111\n",
    "    \n",
    "    cumulativeTime = [rowToTime(dataPred.iloc[0])]\n",
    "    resetAddTime = 23*3600*1000\n",
    "    resetAddTime += 59*60*1000\n",
    "    resetAddTime += 60*1000\n",
    "        \n",
    "    for i in range(1,len(dataPred)):\n",
    "        timeAtMoment = rowToTime(dataPred.iloc[i])\n",
    "        lastTimeMoment = rowToTime(dataPred.iloc[i-1])\n",
    "        if timeAtMoment > lastTimeMoment:\n",
    "            cumuTime = cumulativeTime[i-1] + (timeAtMoment - lastTimeMoment)\n",
    "            cumulativeTime.append(cumuTime)\n",
    "        else:\n",
    "            cumulativeTime.append(cumulativeTime[i-1]+(timeAtMoment+resetAddTime)-lastTimeMoment)\n",
    "    #         print(cumulativeTime[i])\n",
    "    \n",
    "    cumulativeTime = cumulativeTime- cumulativeTime[0]\n",
    "    \n",
    "    ### shifting and transforming data to a range of 0-50\n",
    "    newData = np.stack((cumulativeTime, shiftTransformCol50(dataPred.Latency), shiftTransformCol50(dataPred.Total_Cost), dataPred.Reliability, shiftTransformCol50(dataPred.predicted_Latency), shiftTransformCol50(dataPred.predicted_Total_Cost), round(dataPred.predicted_Reliability)),axis = 1)\n",
    "    newData = pd.DataFrame(newData, columns=['Timestamp', 'Latency', 'Cost', 'Reliability', 'predLatency', 'predCost', 'predReliability' ])\n",
    "\n",
    "    return celia(newData)\n",
    "    "
   ]
  },
  {
   "cell_type": "code",
   "execution_count": 20,
   "metadata": {},
   "outputs": [],
   "source": [
    "# result = celiaSim(dataPred)\n"
   ]
  },
  {
   "cell_type": "code",
   "execution_count": 21,
   "metadata": {},
   "outputs": [],
   "source": [
    "def predictionStatAnalysis(data):\n",
    "    cost = abs(data.Cost - data.predicted_Cost).describe()\n",
    "    latency = abs(data.Latency - data.predicted_Latency).describe()\n",
    "    reliability = abs(data.Reliability - data.predicted_Reliability).describe()\n",
    "    for i in range(1,len(cost)):\n",
    "        print (cost[i])\n",
    "    print('\\n')\n",
    "    for i in range(1,len(cost)):\n",
    "        print (latency[i])"
   ]
  },
  {
   "cell_type": "code",
   "execution_count": 22,
   "metadata": {},
   "outputs": [],
   "source": [
    "# result.to_csv(outputDirectory+'result_'+i)\n"
   ]
  },
  {
   "cell_type": "code",
   "execution_count": 23,
   "metadata": {},
   "outputs": [
    {
     "ename": "AttributeError",
     "evalue": "'Series' object has no attribute 'predicted_Total_Cost'",
     "output_type": "error",
     "traceback": [
      "\u001b[0;31m---------------------------------------------------------------------------\u001b[0m",
      "\u001b[0;31mAttributeError\u001b[0m                            Traceback (most recent call last)",
      "\u001b[0;32m<ipython-input-23-ca7c5222ca64>\u001b[0m in \u001b[0;36m<module>\u001b[0;34m\u001b[0m\n\u001b[1;32m      3\u001b[0m \u001b[0;32mfor\u001b[0m \u001b[0mi\u001b[0m \u001b[0;32min\u001b[0m \u001b[0mfileNames\u001b[0m\u001b[0;34m:\u001b[0m\u001b[0;34m\u001b[0m\u001b[0;34m\u001b[0m\u001b[0m\n\u001b[1;32m      4\u001b[0m     \u001b[0mdataPred\u001b[0m \u001b[0;34m=\u001b[0m \u001b[0mpd\u001b[0m\u001b[0;34m.\u001b[0m\u001b[0mread_csv\u001b[0m\u001b[0;34m(\u001b[0m\u001b[0minputFolder\u001b[0m\u001b[0;34m+\u001b[0m\u001b[0mi\u001b[0m\u001b[0;34m)\u001b[0m\u001b[0;34m\u001b[0m\u001b[0;34m\u001b[0m\u001b[0m\n\u001b[0;32m----> 5\u001b[0;31m     \u001b[0mresult\u001b[0m \u001b[0;34m=\u001b[0m \u001b[0mceliaSim\u001b[0m\u001b[0;34m(\u001b[0m\u001b[0mdataPred\u001b[0m\u001b[0;34m)\u001b[0m\u001b[0;34m\u001b[0m\u001b[0;34m\u001b[0m\u001b[0m\n\u001b[0m\u001b[1;32m      6\u001b[0m \u001b[0;31m#     result.to_csv(outputDirectory+'celiaResult_'+i)\u001b[0m\u001b[0;34m\u001b[0m\u001b[0;34m\u001b[0m\u001b[0;34m\u001b[0m\u001b[0m\n\u001b[1;32m      7\u001b[0m     \u001b[0mutilDif\u001b[0m \u001b[0;34m=\u001b[0m \u001b[0mnp\u001b[0m\u001b[0;34m.\u001b[0m\u001b[0msum\u001b[0m\u001b[0;34m(\u001b[0m\u001b[0mabs\u001b[0m\u001b[0;34m(\u001b[0m\u001b[0mresult\u001b[0m\u001b[0;34m.\u001b[0m\u001b[0mpredictedUtility\u001b[0m\u001b[0;34m-\u001b[0m\u001b[0mresult\u001b[0m\u001b[0;34m.\u001b[0m\u001b[0mrealUtility\u001b[0m\u001b[0;34m)\u001b[0m\u001b[0;34m)\u001b[0m\u001b[0;34m\u001b[0m\u001b[0;34m\u001b[0m\u001b[0m\n",
      "\u001b[0;32m<ipython-input-19-80abf9070e9b>\u001b[0m in \u001b[0;36mceliaSim\u001b[0;34m(dataPred)\u001b[0m\n\u001b[1;32m     26\u001b[0m     \u001b[0mnewData\u001b[0m \u001b[0;34m=\u001b[0m \u001b[0mpd\u001b[0m\u001b[0;34m.\u001b[0m\u001b[0mDataFrame\u001b[0m\u001b[0;34m(\u001b[0m\u001b[0mnewData\u001b[0m\u001b[0;34m,\u001b[0m \u001b[0mcolumns\u001b[0m\u001b[0;34m=\u001b[0m\u001b[0;34m[\u001b[0m\u001b[0;34m'Timestamp'\u001b[0m\u001b[0;34m,\u001b[0m \u001b[0;34m'Latency'\u001b[0m\u001b[0;34m,\u001b[0m \u001b[0;34m'Cost'\u001b[0m\u001b[0;34m,\u001b[0m \u001b[0;34m'Reliability'\u001b[0m\u001b[0;34m,\u001b[0m \u001b[0;34m'predLatency'\u001b[0m\u001b[0;34m,\u001b[0m \u001b[0;34m'predCost'\u001b[0m\u001b[0;34m,\u001b[0m \u001b[0;34m'predReliability'\u001b[0m \u001b[0;34m]\u001b[0m\u001b[0;34m)\u001b[0m\u001b[0;34m\u001b[0m\u001b[0;34m\u001b[0m\u001b[0m\n\u001b[1;32m     27\u001b[0m \u001b[0;34m\u001b[0m\u001b[0m\n\u001b[0;32m---> 28\u001b[0;31m     \u001b[0;32mreturn\u001b[0m \u001b[0mcelia\u001b[0m\u001b[0;34m(\u001b[0m\u001b[0mnewData\u001b[0m\u001b[0;34m)\u001b[0m\u001b[0;34m\u001b[0m\u001b[0;34m\u001b[0m\u001b[0m\n\u001b[0m\u001b[1;32m     29\u001b[0m \u001b[0;34m\u001b[0m\u001b[0m\n",
      "\u001b[0;32m<ipython-input-18-03600e868ca0>\u001b[0m in \u001b[0;36mcelia\u001b[0;34m(data, updateThreshold)\u001b[0m\n\u001b[1;32m     13\u001b[0m         \u001b[0mtimeDeltaReward\u001b[0m \u001b[0;34m=\u001b[0m \u001b[0;34m(\u001b[0m\u001b[0mdata\u001b[0m\u001b[0;34m.\u001b[0m\u001b[0miloc\u001b[0m\u001b[0;34m[\u001b[0m\u001b[0mi\u001b[0m\u001b[0;34m]\u001b[0m\u001b[0;34m[\u001b[0m\u001b[0;34m'Timestamp'\u001b[0m\u001b[0;34m]\u001b[0m \u001b[0;34m-\u001b[0m \u001b[0mdata\u001b[0m\u001b[0;34m.\u001b[0m\u001b[0miloc\u001b[0m\u001b[0;34m[\u001b[0m\u001b[0mlastUpdate\u001b[0m\u001b[0;34m]\u001b[0m\u001b[0;34m[\u001b[0m\u001b[0;34m'Timestamp'\u001b[0m\u001b[0;34m]\u001b[0m\u001b[0;34m)\u001b[0m\u001b[0;34m\u001b[0m\u001b[0;34m\u001b[0m\u001b[0m\n\u001b[1;32m     14\u001b[0m \u001b[0;34m\u001b[0m\u001b[0m\n\u001b[0;32m---> 15\u001b[0;31m         \u001b[0mpredictedUtil\u001b[0m \u001b[0;34m=\u001b[0m \u001b[0mutilFunction\u001b[0m\u001b[0;34m(\u001b[0m\u001b[0mdata\u001b[0m\u001b[0;34m.\u001b[0m\u001b[0miloc\u001b[0m\u001b[0;34m[\u001b[0m\u001b[0mi\u001b[0m\u001b[0;34m]\u001b[0m\u001b[0;34m.\u001b[0m\u001b[0mpredLatency\u001b[0m\u001b[0;34m,\u001b[0m \u001b[0mdata\u001b[0m\u001b[0;34m.\u001b[0m\u001b[0miloc\u001b[0m\u001b[0;34m[\u001b[0m\u001b[0mi\u001b[0m\u001b[0;34m]\u001b[0m\u001b[0;34m.\u001b[0m\u001b[0mpredicted_Total_Cost\u001b[0m\u001b[0;34m,\u001b[0m\u001b[0;34m(\u001b[0m\u001b[0mfloat\u001b[0m\u001b[0;34m)\u001b[0m\u001b[0;34m(\u001b[0m\u001b[0mtimeDeltaReward\u001b[0m\u001b[0;34m)\u001b[0m\u001b[0;34m,\u001b[0m \u001b[0mdata\u001b[0m\u001b[0;34m.\u001b[0m\u001b[0miloc\u001b[0m\u001b[0;34m[\u001b[0m\u001b[0mi\u001b[0m\u001b[0;34m]\u001b[0m\u001b[0;34m.\u001b[0m\u001b[0mpredReliability\u001b[0m \u001b[0;34m)\u001b[0m\u001b[0;34m\u001b[0m\u001b[0;34m\u001b[0m\u001b[0m\n\u001b[0m\u001b[1;32m     16\u001b[0m \u001b[0;34m\u001b[0m\u001b[0m\n\u001b[1;32m     17\u001b[0m         \u001b[0mrealUtility\u001b[0m \u001b[0;34m=\u001b[0m \u001b[0mutilFunction\u001b[0m\u001b[0;34m(\u001b[0m\u001b[0mdata\u001b[0m\u001b[0;34m.\u001b[0m\u001b[0miloc\u001b[0m\u001b[0;34m[\u001b[0m\u001b[0mi\u001b[0m\u001b[0;34m]\u001b[0m\u001b[0;34m.\u001b[0m\u001b[0mLatency\u001b[0m\u001b[0;34m,\u001b[0m \u001b[0mdata\u001b[0m\u001b[0;34m.\u001b[0m\u001b[0miloc\u001b[0m\u001b[0;34m[\u001b[0m\u001b[0mi\u001b[0m\u001b[0;34m]\u001b[0m\u001b[0;34m.\u001b[0m\u001b[0mTotal_Cost\u001b[0m\u001b[0;34m,\u001b[0m\u001b[0;34m(\u001b[0m\u001b[0mfloat\u001b[0m\u001b[0;34m)\u001b[0m\u001b[0;34m(\u001b[0m\u001b[0mtimeDeltaReward\u001b[0m\u001b[0;34m)\u001b[0m\u001b[0;34m,\u001b[0m \u001b[0mdata\u001b[0m\u001b[0;34m.\u001b[0m\u001b[0miloc\u001b[0m\u001b[0;34m[\u001b[0m\u001b[0mi\u001b[0m\u001b[0;34m]\u001b[0m\u001b[0;34m.\u001b[0m\u001b[0mReliability\u001b[0m \u001b[0;34m)\u001b[0m\u001b[0;34m\u001b[0m\u001b[0;34m\u001b[0m\u001b[0m\n",
      "\u001b[0;32m/usr/local/lib/python3.7/site-packages/pandas/core/generic.py\u001b[0m in \u001b[0;36m__getattr__\u001b[0;34m(self, name)\u001b[0m\n\u001b[1;32m   5065\u001b[0m             \u001b[0;32mif\u001b[0m \u001b[0mself\u001b[0m\u001b[0;34m.\u001b[0m\u001b[0m_info_axis\u001b[0m\u001b[0;34m.\u001b[0m\u001b[0m_can_hold_identifiers_and_holds_name\u001b[0m\u001b[0;34m(\u001b[0m\u001b[0mname\u001b[0m\u001b[0;34m)\u001b[0m\u001b[0;34m:\u001b[0m\u001b[0;34m\u001b[0m\u001b[0;34m\u001b[0m\u001b[0m\n\u001b[1;32m   5066\u001b[0m                 \u001b[0;32mreturn\u001b[0m \u001b[0mself\u001b[0m\u001b[0;34m[\u001b[0m\u001b[0mname\u001b[0m\u001b[0;34m]\u001b[0m\u001b[0;34m\u001b[0m\u001b[0;34m\u001b[0m\u001b[0m\n\u001b[0;32m-> 5067\u001b[0;31m             \u001b[0;32mreturn\u001b[0m \u001b[0mobject\u001b[0m\u001b[0;34m.\u001b[0m\u001b[0m__getattribute__\u001b[0m\u001b[0;34m(\u001b[0m\u001b[0mself\u001b[0m\u001b[0;34m,\u001b[0m \u001b[0mname\u001b[0m\u001b[0;34m)\u001b[0m\u001b[0;34m\u001b[0m\u001b[0;34m\u001b[0m\u001b[0m\n\u001b[0m\u001b[1;32m   5068\u001b[0m \u001b[0;34m\u001b[0m\u001b[0m\n\u001b[1;32m   5069\u001b[0m     \u001b[0;32mdef\u001b[0m \u001b[0m__setattr__\u001b[0m\u001b[0;34m(\u001b[0m\u001b[0mself\u001b[0m\u001b[0;34m,\u001b[0m \u001b[0mname\u001b[0m\u001b[0;34m,\u001b[0m \u001b[0mvalue\u001b[0m\u001b[0;34m)\u001b[0m\u001b[0;34m:\u001b[0m\u001b[0;34m\u001b[0m\u001b[0;34m\u001b[0m\u001b[0m\n",
      "\u001b[0;31mAttributeError\u001b[0m: 'Series' object has no attribute 'predicted_Total_Cost'"
     ]
    }
   ],
   "source": [
    "celiaStats = []\n",
    "predictionStats = []\n",
    "for i in fileNames:\n",
    "    dataPred = pd.read_csv(inputFolder+i)\n",
    "    result = celiaSim(dataPred)\n",
    "#     result.to_csv(outputDirectory+'celiaResult_'+i)\n",
    "    utilDif = np.sum(abs(result.predictedUtility-result.realUtility))\n",
    "    award = sum(result.award)\n",
    "    lostUtil = sum(result.lostUtility)\n",
    "    celiaStats.append([i,utilDif, award, lostUtil])"
   ]
  },
  {
   "cell_type": "code",
   "execution_count": null,
   "metadata": {},
   "outputs": [],
   "source": [
    "celiaStats = pd.DataFrame(celiaStats,columns=['predictionType','utilDif', 'award','lostUtil'])\n",
    "# celiaStats.to_csv(outputDirectory+'totalCostStats.csv')"
   ]
  },
  {
   "cell_type": "code",
   "execution_count": null,
   "metadata": {},
   "outputs": [],
   "source": [
    "celiaStats"
   ]
  },
  {
   "cell_type": "code",
   "execution_count": null,
   "metadata": {},
   "outputs": [],
   "source": []
  },
  {
   "cell_type": "code",
   "execution_count": null,
   "metadata": {
    "scrolled": true
   },
   "outputs": [],
   "source": []
  },
  {
   "cell_type": "code",
   "execution_count": null,
   "metadata": {},
   "outputs": [],
   "source": []
  },
  {
   "cell_type": "code",
   "execution_count": null,
   "metadata": {},
   "outputs": [],
   "source": []
  },
  {
   "cell_type": "code",
   "execution_count": null,
   "metadata": {},
   "outputs": [],
   "source": []
  },
  {
   "cell_type": "code",
   "execution_count": null,
   "metadata": {},
   "outputs": [],
   "source": [
    "cost of doing business\n",
    "\n",
    "add 1/0 col"
   ]
  },
  {
   "cell_type": "code",
   "execution_count": null,
   "metadata": {},
   "outputs": [],
   "source": []
  }
 ],
 "metadata": {
  "kernelspec": {
   "display_name": "Python 3",
   "language": "python",
   "name": "python3"
  },
  "language_info": {
   "codemirror_mode": {
    "name": "ipython",
    "version": 3
   },
   "file_extension": ".py",
   "mimetype": "text/x-python",
   "name": "python",
   "nbconvert_exporter": "python",
   "pygments_lexer": "ipython3",
   "version": "3.7.5"
  }
 },
 "nbformat": 4,
 "nbformat_minor": 2
}
