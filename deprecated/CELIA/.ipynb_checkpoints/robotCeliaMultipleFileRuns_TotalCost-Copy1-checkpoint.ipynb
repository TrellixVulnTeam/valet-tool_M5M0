{
 "cells": [
  {
   "cell_type": "code",
   "execution_count": 1,
   "metadata": {},
   "outputs": [],
   "source": [
    "#!/usr/bin/env python\n",
    "# coding: utf-8\n",
    "\n",
    "import numpy as np\n",
    "import sys\n",
    "import pandas as pd\n",
    "\n",
    "\n"
   ]
  },
  {
   "cell_type": "code",
   "execution_count": 2,
   "metadata": {},
   "outputs": [],
   "source": [
    "fileNames = ['predictions_SVR_RBF_TotalCost.csv',\\\n",
    "            'predictions_eRNN_TotalCost.csv',\\\n",
    "            'predictions_MLP_TotalCost.csv',\n",
    "            'predictions_LSTM_TotalCost.csv',]"
   ]
  },
  {
   "cell_type": "code",
   "execution_count": 3,
   "metadata": {},
   "outputs": [],
   "source": [
    "inputFolder = '../Prediction_Files/'\n",
    "# dataPred = pd.read_csv('../Prediction_Files/arimaNormalizedPrediction.csv')\n",
    "outputDirectory = './results3/'\n",
    "outputFileName = outputDirectory + \"rewardAwareUtility-SVR_Linear.csv\""
   ]
  },
  {
   "cell_type": "code",
   "execution_count": null,
   "metadata": {},
   "outputs": [],
   "source": []
  },
  {
   "cell_type": "markdown",
   "metadata": {},
   "source": [
    "# reading predictions and transforming data"
   ]
  },
  {
   "cell_type": "code",
   "execution_count": 4,
   "metadata": {},
   "outputs": [],
   "source": [
    "def rowToTime(row):\n",
    "    timeAtMoment = row.Hours*3600*1000\n",
    "    timeAtMoment += row.Minutes*60*1000\n",
    "    timeAtMoment += row.Seconds*1000\n",
    "    return timeAtMoment"
   ]
  },
  {
   "cell_type": "code",
   "execution_count": 5,
   "metadata": {
    "scrolled": true
   },
   "outputs": [],
   "source": [
    "def shiftTransformCol50(data):\n",
    "    return (data + abs(data.min()))*50"
   ]
  },
  {
   "cell_type": "code",
   "execution_count": 6,
   "metadata": {},
   "outputs": [],
   "source": [
    "def utilFunction(latency, cost, reward = 100, reliability = 1):\n",
    "    epsilon = 0.00000000000000000000000000000000000000000000001\n",
    "\n",
    "    if reliability == 0:\n",
    "        return 0\n",
    "    else:\n",
    "        return ((reward)/(latency+cost+epsilon)) * reliability \n",
    "    \n"
   ]
  },
  {
   "cell_type": "markdown",
   "metadata": {},
   "source": [
    "realUtilityMean = 4.138921e+06\t\n",
    "realUtilStd = 6.175693e+06\t"
   ]
  },
  {
   "cell_type": "code",
   "execution_count": 7,
   "metadata": {
    "scrolled": true
   },
   "outputs": [],
   "source": [
    "def celia(data,updateThreshold = 1000):\n",
    "    lastUpdate = 0;\n",
    "    utilitPredicted = []\n",
    "    utilityReal = []\n",
    "    award = []\n",
    "    lostUtility = []\n",
    "    \n",
    "\n",
    "    temp = data.iloc[1]['Timestamp'] - data.iloc[0]['Timestamp']\n",
    "\n",
    "    for i in range(1,len(data)):\n",
    "#     timeDeltaReward = (data.iloc[i]['Timestamp'] - data.iloc[i-1]['Timestamp']).total_seconds()\n",
    "        timeDeltaReward = (data.iloc[i]['Timestamp'] - data.iloc[lastUpdate]['Timestamp'])\n",
    "\n",
    "        predictedUtil = utilFunction(data.iloc[i].predLatency, data.iloc[i].predicted_Total_Cost,(float)(timeDeltaReward), data.iloc[i].predReliability )\n",
    "\n",
    "        realUtility = utilFunction(data.iloc[i].Latency, data.iloc[i].Total_Cost,(float)(timeDeltaReward), data.iloc[i].Reliability )\n",
    "        \n",
    "        utilitPredicted.append(predictedUtil)\n",
    "        \n",
    "        utilityReal.append(realUtility)\n",
    "        \n",
    "        \n",
    "        if predictedUtil >= updateThreshold:\n",
    "    #         award.append(award[i-1] + realUtility-1);\n",
    "            award.append(realUtility-updateThreshold);\n",
    "            lastUpdate = i;\n",
    "            lostUtility.append(0)\n",
    "        else:\n",
    "    #         award.append(award[i-1]);\n",
    "            award.append(0);\n",
    "\n",
    "            if realUtility >= updateThreshold:\n",
    "                lostUtility.append(realUtility)\n",
    "            else:\n",
    "                lostUtility.append(0) \n",
    "    \n",
    "    results = pd.DataFrame(np.stack([utilitPredicted,utilityReal,award,lostUtility],axis=1),columns=['predictedUtility','realUtility','award','lostUtility'])\n",
    "    return results\n",
    "#     results.to_csv(\"./results/dummyRandom.csv\")"
   ]
  },
  {
   "cell_type": "code",
   "execution_count": 8,
   "metadata": {},
   "outputs": [],
   "source": [
    "def celiaSim(dataPred):\n",
    "    ### this is converting hours, minutes, seconds to a millisecond time series\n",
    "    dataPred.Hours = ((dataPred.Hours)*23)+0\n",
    "    dataPred.Minutes = ((dataPred.Minutes)*59)+0\n",
    "    dataPred.Seconds = ((dataPred.Seconds)*59.999805)+0.1025061111111\n",
    "    \n",
    "    cumulativeTime = [rowToTime(dataPred.iloc[0])]\n",
    "    resetAddTime = 23*3600*1000\n",
    "    resetAddTime += 59*60*1000\n",
    "    resetAddTime += 60*1000\n",
    "        \n",
    "    for i in range(1,len(dataPred)):\n",
    "        timeAtMoment = rowToTime(dataPred.iloc[i])\n",
    "        lastTimeMoment = rowToTime(dataPred.iloc[i-1])\n",
    "        if timeAtMoment > lastTimeMoment:\n",
    "            cumuTime = cumulativeTime[i-1] + (timeAtMoment - lastTimeMoment)\n",
    "            cumulativeTime.append(cumuTime)\n",
    "        else:\n",
    "            cumulativeTime.append(cumulativeTime[i-1]+(timeAtMoment+resetAddTime)-lastTimeMoment)\n",
    "    #         print(cumulativeTime[i])\n",
    "    \n",
    "    cumulativeTime = cumulativeTime- cumulativeTime[0]\n",
    "    \n",
    "    ### shifting and transforming data to a range of 0-50\n",
    "    newData = np.stack((cumulativeTime, shiftTransformCol50(dataPred.Latency), shiftTransformCol50(dataPred.Total_Cost), dataPred.Reliability, shiftTransformCol50(dataPred.predicted_Latency), shiftTransformCol50(dataPred.predicted_Total_Cost), round(dataPred.predicted_Reliability)),axis = 1)\n",
    "    newData = pd.DataFrame(newData, columns=['Timestamp', 'Latency', 'Cost', 'Reliability', 'predLatency', 'predCost', 'predReliability' ])\n",
    "\n",
    "    return celia(newData)\n",
    "    "
   ]
  },
  {
   "cell_type": "code",
   "execution_count": 10,
   "metadata": {},
   "outputs": [],
   "source": [
    "# result = celiaSim(dataPred)\n"
   ]
  },
  {
   "cell_type": "code",
   "execution_count": 11,
   "metadata": {},
   "outputs": [],
   "source": [
    "def predictionStatAnalysis(data):\n",
    "    cost = abs(data.Cost - data.predicted_Cost).describe()\n",
    "    latency = abs(data.Latency - data.predicted_Latency).describe()\n",
    "    reliability = abs(data.Reliability - data.predicted_Reliability).describe()\n",
    "    for i in range(1,len(cost)):\n",
    "        print (cost[i])\n",
    "    print('\\n')\n",
    "    for i in range(1,len(cost)):\n",
    "        print (latency[i])"
   ]
  },
  {
   "cell_type": "code",
   "execution_count": 12,
   "metadata": {},
   "outputs": [],
   "source": [
    "# result.to_csv(outputDirectory+'result_'+i)\n"
   ]
  },
  {
   "cell_type": "code",
   "execution_count": 17,
   "metadata": {},
   "outputs": [],
   "source": [
    "celiaStats = []\n",
    "predictionStats = []\n",
    "for i in fileNames:\n",
    "    dataPred = pd.read_csv(inputFolder+i)\n",
    "    result = celiaSim(dataPred)\n",
    "    result.to_csv(outputDirectory+'celiaResult_'+i)\n",
    "    utilDif = np.sum(abs(result.predictedUtility-result.realUtility))\n",
    "    award = sum(result.award)\n",
    "    lostUtil = sum(result.lostUtility)\n",
    "    celiaStats.append([i,utilDif, award, lostUtil])"
   ]
  },
  {
   "cell_type": "code",
   "execution_count": 18,
   "metadata": {},
   "outputs": [],
   "source": [
    "celiaStats = pd.DataFrame(celiaStats,columns=['predictionType','utilDif', 'award','lostUtil'])\n",
    "celiaStats.to_csv(outputDirectory+'totalCostStats.csv')"
   ]
  },
  {
   "cell_type": "code",
   "execution_count": 19,
   "metadata": {},
   "outputs": [
    {
     "data": {
      "text/html": [
       "<div>\n",
       "<style scoped>\n",
       "    .dataframe tbody tr th:only-of-type {\n",
       "        vertical-align: middle;\n",
       "    }\n",
       "\n",
       "    .dataframe tbody tr th {\n",
       "        vertical-align: top;\n",
       "    }\n",
       "\n",
       "    .dataframe thead th {\n",
       "        text-align: right;\n",
       "    }\n",
       "</style>\n",
       "<table border=\"1\" class=\"dataframe\">\n",
       "  <thead>\n",
       "    <tr style=\"text-align: right;\">\n",
       "      <th></th>\n",
       "      <th>predictionType</th>\n",
       "      <th>utilDif</th>\n",
       "      <th>award</th>\n",
       "      <th>lostUtil</th>\n",
       "    </tr>\n",
       "  </thead>\n",
       "  <tbody>\n",
       "    <tr>\n",
       "      <th>0</th>\n",
       "      <td>predictions_SVR_RBF_TotalCost.csv</td>\n",
       "      <td>-2.327523e+10</td>\n",
       "      <td>2.430112e+10</td>\n",
       "      <td>3.341564e+07</td>\n",
       "    </tr>\n",
       "    <tr>\n",
       "      <th>1</th>\n",
       "      <td>predictions_eRNN_TotalCost.csv</td>\n",
       "      <td>-2.196935e+10</td>\n",
       "      <td>2.430624e+10</td>\n",
       "      <td>1.924167e+07</td>\n",
       "    </tr>\n",
       "    <tr>\n",
       "      <th>2</th>\n",
       "      <td>predictions_MLP_TotalCost.csv</td>\n",
       "      <td>-2.223391e+10</td>\n",
       "      <td>2.429480e+10</td>\n",
       "      <td>5.571160e+06</td>\n",
       "    </tr>\n",
       "    <tr>\n",
       "      <th>3</th>\n",
       "      <td>predictions_LSTM_TotalCost.csv</td>\n",
       "      <td>-2.134973e+10</td>\n",
       "      <td>2.429465e+10</td>\n",
       "      <td>5.009496e+06</td>\n",
       "    </tr>\n",
       "  </tbody>\n",
       "</table>\n",
       "</div>"
      ],
      "text/plain": [
       "                      predictionType       utilDif         award      lostUtil\n",
       "0  predictions_SVR_RBF_TotalCost.csv -2.327523e+10  2.430112e+10  3.341564e+07\n",
       "1     predictions_eRNN_TotalCost.csv -2.196935e+10  2.430624e+10  1.924167e+07\n",
       "2      predictions_MLP_TotalCost.csv -2.223391e+10  2.429480e+10  5.571160e+06\n",
       "3     predictions_LSTM_TotalCost.csv -2.134973e+10  2.429465e+10  5.009496e+06"
      ]
     },
     "execution_count": 19,
     "metadata": {},
     "output_type": "execute_result"
    }
   ],
   "source": [
    "celiaStats"
   ]
  },
  {
   "cell_type": "code",
   "execution_count": null,
   "metadata": {},
   "outputs": [],
   "source": []
  },
  {
   "cell_type": "code",
   "execution_count": null,
   "metadata": {
    "scrolled": true
   },
   "outputs": [],
   "source": []
  },
  {
   "cell_type": "code",
   "execution_count": null,
   "metadata": {},
   "outputs": [],
   "source": []
  },
  {
   "cell_type": "code",
   "execution_count": null,
   "metadata": {},
   "outputs": [],
   "source": []
  },
  {
   "cell_type": "code",
   "execution_count": null,
   "metadata": {},
   "outputs": [],
   "source": []
  },
  {
   "cell_type": "code",
   "execution_count": null,
   "metadata": {},
   "outputs": [],
   "source": []
  }
 ],
 "metadata": {
  "kernelspec": {
   "display_name": "Python 3",
   "language": "python",
   "name": "python3"
  },
  "language_info": {
   "codemirror_mode": {
    "name": "ipython",
    "version": 3
   },
   "file_extension": ".py",
   "mimetype": "text/x-python",
   "name": "python",
   "nbconvert_exporter": "python",
   "pygments_lexer": "ipython3",
   "version": "3.7.5"
  }
 },
 "nbformat": 4,
 "nbformat_minor": 2
}
