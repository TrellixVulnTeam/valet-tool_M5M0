{
 "cells": [
  {
   "cell_type": "code",
   "execution_count": 25,
   "metadata": {},
   "outputs": [],
   "source": [
    "#!/usr/bin/env python\n",
    "# coding: utf-8\n",
    "\n",
    "import numpy as np\n",
    "import sys\n",
    "import pandas as pd\n",
    "\n",
    "\n",
    "# utility = (reward^5)/ (latency+cost)\n",
    "def calculateUtil(latency, cost, reward = 100, reliability = 1):\n",
    "    \n",
    "    if latency > 0 or cost > 0 and latency+cost != 0:\n",
    "        return ((reward)/(latency+cost)) * reliability \n",
    "    else:\n",
    "        return -1\n",
    "\n",
    "# this funciton picks up the latency and the cost columns from a csv file\n",
    "def readUtilityIntoArray(fileName, costColName, latencyColName, reliabilityName):\n",
    "    \n",
    "    \n",
    "    file = pd.read_csv(fileName)\n",
    "    latencies = file[costColName]\n",
    "    costs = file[latencyColName]\n",
    "    # in case the file doesn't have reliability vals, it defaults to a list of 0\n",
    "    try:\n",
    "        reliabilityVals = file[reliabilityName]\n",
    "    except:\n",
    "        reliabilityVals = [1] * len(costs)\n",
    "\n",
    "    data = []\n",
    "    for i in range(len(latencies)):\n",
    "         data.append(calculateUtil(latencies[i], costs[i], reliabilityVals[i]))\n",
    "        \n",
    "        \n",
    "    return data\n",
    "\n",
    "# calculate the utility of each latency, cost row\n",
    "def genUtilityDataFrame(realFile, realCostColName, realLatencyColName, realReliabilityColName, predictedCostColName, predictedLatencyColName, predictedReliabilityColName ):\n",
    "    realUtility = readUtilityIntoArray(realFile, realCostColName, realLatencyColName, realReliabilityColName)\n",
    "    predictedUtility = readUtilityIntoArray(realFile, predictedCostColName, predictedLatencyColName, predictedReliabilityColName)\n",
    "    \n",
    "    finalData = list(zip(realUtility, predictedUtility))\n",
    "#   Create the pandas DataFrame \n",
    "    df = pd.DataFrame(finalData,columns=['realUtility', 'predictedUtility']) \n",
    "    return df\n",
    "\n",
    "\n",
    "def main(args):\n",
    "    if len(args)<3:\n",
    "        print (\"file names missing\")\n",
    "        \n",
    "    if len(args) < 9:\n",
    "        File = args[1]\n",
    "        realCostColName = \"Cost.1\"\n",
    "        realLatencyColName = \"Latency.1\"\n",
    "        realReliabilityColName = \"Reliability.1\"\n",
    "        predictedCostColName = \"predicted_Cost\"\n",
    "        predictedLatencyColName = \"predicted_Latency\"\n",
    "        predictedReliabilityColName = \"predicted_Reliability\"\n",
    "        outputFile = args[2]\n",
    "    else:\n",
    "        File = args[1]\n",
    "        realCostColName = args[2]\n",
    "        realLatencyColName = args[3]\n",
    "        realReliabilityColName = args[4]\n",
    "        predictedCostColName = args[5]\n",
    "        predictedLatencyColName = args[6]\n",
    "        predictedReliabilityColName = args[7]\n",
    "        outputFile = args[8]\n",
    "   \n",
    "    realPredictedUtility = genUtilityDataFrame(File, realCostColName, realLatencyColName, realReliabilityColName, predictedCostColName, predictedLatencyColName, predictedReliabilityColName)\n",
    "    # writing to file\n",
    "    realPredictedUtility.to_csv(outputFile)\n",
    "    \n",
    "if __name__ == \"__main__\":\n",
    "    main(sys.argv)\n",
    "\n",
    "\n",
    "\n"
   ]
  },
  {
   "cell_type": "code",
   "execution_count": 14,
   "metadata": {},
   "outputs": [],
   "source": [
    "data = pd.read_csv(\"predictions_0.txt\")"
   ]
  },
  {
   "cell_type": "code",
   "execution_count": 22,
   "metadata": {},
   "outputs": [],
   "source": [
    "main([\"\",\"predictions_0.txt\",\"Cost.1\", \"Latency.1\", \"Reliability.1\", \"predicted_Cost\", \"predicted_Latency\", \"predicted_Reliability\",\"testOutputFile\"])"
   ]
  },
  {
   "cell_type": "code",
   "execution_count": 28,
   "metadata": {},
   "outputs": [],
   "source": [
    "main([\"\",\"predictions_0.txt\", \"testoutputFile2\"])"
   ]
  },
  {
   "cell_type": "code",
   "execution_count": 11,
   "metadata": {},
   "outputs": [
    {
     "data": {
      "text/plain": [
       "-0.522015"
      ]
     },
     "execution_count": 11,
     "metadata": {},
     "output_type": "execute_result"
    }
   ],
   "source": [
    "min(pd.unique(data[\"predicted_Latency\"]))"
   ]
  },
  {
   "cell_type": "code",
   "execution_count": null,
   "metadata": {},
   "outputs": [],
   "source": []
  }
 ],
 "metadata": {
  "kernelspec": {
   "display_name": "Python 3",
   "language": "python",
   "name": "python3"
  },
  "language_info": {
   "codemirror_mode": {
    "name": "ipython",
    "version": 3
   },
   "file_extension": ".py",
   "mimetype": "text/x-python",
   "name": "python",
   "nbconvert_exporter": "python",
   "pygments_lexer": "ipython3",
   "version": "3.7.5"
  }
 },
 "nbformat": 4,
 "nbformat_minor": 2
}
