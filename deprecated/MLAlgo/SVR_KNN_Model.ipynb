{
 "cells": [
  {
   "cell_type": "code",
   "execution_count": 1,
   "metadata": {},
   "outputs": [
    {
     "name": "stderr",
     "output_type": "stream",
     "text": [
      "Using TensorFlow backend.\n"
     ]
    }
   ],
   "source": [
    "from math import sqrt\n",
    "from numpy import concatenate\n",
    "from matplotlib import pyplot\n",
    "from pandas import read_csv\n",
    "from pandas import DataFrame\n",
    "from pandas import concat\n",
    "from sklearn.preprocessing import MinMaxScaler\n",
    "from sklearn.preprocessing import LabelEncoder\n",
    "from sklearn.metrics import mean_squared_error\n",
    "from keras.models import Sequential\n",
    "from keras.layers import Dense\n",
    "from keras.layers import LSTM"
   ]
  },
  {
   "cell_type": "code",
   "execution_count": 2,
   "metadata": {},
   "outputs": [],
   "source": [
    "# Function for converting series data to a supervised data of format, t-1, t, t+1\n",
    "## Basically feeding in the (t-1)th data to predict the t data\n",
    "def series_to_supervised(data, n_in=1, n_out=1, dropnan=True):\n",
    "\tn_vars = 1 if type(data) is list else data.shape[1]\n",
    "\tdf = DataFrame(data)\n",
    "\tcols, names = list(), list()\n",
    "\t# input sequence (t-n, ... t-1)\n",
    "\tfor i in range(n_in, 0, -1):\n",
    "\t\tcols.append(df.shift(i))\n",
    "\t\tnames += [('var%d(t-%d)' % (j+1, i)) for j in range(n_vars)]\n",
    "\t# forecast sequence (t, t+1, ... t+n)\n",
    "\tfor i in range(0, n_out):\n",
    "\t\tcols.append(df.shift(-i))\n",
    "\t\tif i == 0:\n",
    "\t\t\tnames += [('var%d(t)' % (j+1)) for j in range(n_vars)]\n",
    "\t\telse:\n",
    "\t\t\tnames += [('var%d(t+%d)' % (j+1, i)) for j in range(n_vars)]\n",
    "\t# put it all together\n",
    "\tagg = concat(cols, axis=1)\n",
    "\tagg.columns = names\n",
    "\t# drop rows with NaN values\n",
    "\tif dropnan:\n",
    "\t\tagg.dropna(inplace=True)\n",
    "\treturn agg\n"
   ]
  },
  {
   "cell_type": "code",
   "execution_count": 3,
   "metadata": {},
   "outputs": [
    {
     "name": "stdout",
     "output_type": "stream",
     "text": [
      "      Hours   Minutes   Seconds   Latency      Cost  Reliability\n",
      "0  0.695652  0.576271  0.758364  0.015102  0.193359            1\n",
      "1  0.695652  0.644068  0.861176  0.015117  0.310547            1\n",
      "2  0.695652  0.661017  0.854314  0.015297  0.169922            1\n",
      "3  0.695652  0.728814  0.320405  0.014803  0.191406            1\n",
      "4  0.695652  0.796610  0.353964  0.014817  0.167969            1\n"
     ]
    }
   ],
   "source": [
    " \n",
    "# load dataset\n",
    "dataset = read_csv('normalized_tva_server_1_tactic_1_train.csv')\n",
    "dataset= dataset.drop(columns=[\"ID\"])\n",
    "values = dataset.values\n",
    "print(dataset.head(5))\n",
    "## Load Validation\n",
    "validation = read_csv('normalized_tva_server_1_tactic_1_test.csv')\n",
    "validation= validation.drop(columns=[\"ID\"])\n",
    "values_validation = validation.values\n"
   ]
  },
  {
   "cell_type": "code",
   "execution_count": 4,
   "metadata": {},
   "outputs": [
    {
     "name": "stdout",
     "output_type": "stream",
     "text": [
      "   var1(t-1)  var2(t-1)  var3(t-1)  var4(t-1)  var5(t-1)  var6(t-1)   var4(t)  \\\n",
      "1   0.695652   0.576271   0.758364   0.015102   0.193359        1.0  0.015117   \n",
      "2   0.695652   0.644068   0.861176   0.015117   0.310547        1.0  0.015297   \n",
      "3   0.695652   0.661017   0.854314   0.015297   0.169922        1.0  0.014803   \n",
      "\n",
      "    var5(t)  var6(t)  \n",
      "1  0.310547      1.0  \n",
      "2  0.169922      1.0  \n",
      "3  0.191406      1.0  \n"
     ]
    }
   ],
   "source": [
    "## Calling the function to do the preprocessing the data and removing unwanted columns\n",
    "\n",
    "\n",
    "# frame as supervised learning\n",
    "reframed = series_to_supervised(values, 1, 1)\n",
    "reframed_validation = series_to_supervised(values_validation, 1, 1)\n",
    "# drop columns we don't want to predict\n",
    "reframed.drop(reframed.columns[[6,7,8]], axis=1, inplace=True)\n",
    "reframed_validation.drop(reframed_validation.columns[[6,7,8]], axis=1, inplace=True)\n",
    "print(reframed.head(3))"
   ]
  },
  {
   "cell_type": "code",
   "execution_count": 5,
   "metadata": {},
   "outputs": [
    {
     "name": "stdout",
     "output_type": "stream",
     "text": [
      "(2604, 1, 6) (2604, 3) (12156, 1, 6) (12156, 3)\n"
     ]
    }
   ],
   "source": [
    "## Splitting the data into training and validation sets\n",
    "\n",
    "\n",
    "test = reframed.values\n",
    "train = reframed_validation.values\n",
    "# split into input and outputs\n",
    "train_X, train_y = train[:, :-3], train[:,-3:]\n",
    "test_X, test_y = test[:, :-3], test[:,-3:]\n",
    "# reshape input to be 3D [samples, timesteps, features]\n",
    "train_X = train_X.reshape((train_X.shape[0], 1, train_X.shape[1]))\n",
    "test_X = test_X.reshape((test_X.shape[0], 1, test_X.shape[1]))\n",
    "print(train_X.shape, train_y.shape, test_X.shape, test_y.shape)"
   ]
  },
  {
   "cell_type": "code",
   "execution_count": 6,
   "metadata": {},
   "outputs": [],
   "source": [
    "# flatten input\n",
    "n_input = train_X.shape[1] * train_X.shape[2]\n",
    "X = train_X.reshape((train_X.shape[0], n_input))"
   ]
  },
  {
   "cell_type": "code",
   "execution_count": 7,
   "metadata": {},
   "outputs": [],
   "source": [
    "### Doing the same process for testing dataset\n",
    "\n",
    "test_dataset = read_csv('normalized_tva_server_1_tactic_1_validation.csv')\n",
    "test_dataset= test_dataset.drop(columns=[\"ID\"])\n",
    "test_values = test_dataset.values\n",
    "reframed_test = series_to_supervised(test_values, 1, 1)\n",
    "reframed_test.drop(reframed_test.columns[[6,7,8]], axis=1, inplace=True)\n",
    "testset = reframed_test.values\n",
    "testset_X, testset_y = testset[:, :-3], testset[:,-3:]\n",
    "testdataReshaped = testset_X.reshape((testset_X.shape[0], 1, testset_X.shape[1]))\n"
   ]
  },
  {
   "cell_type": "markdown",
   "metadata": {},
   "source": [
    "## SVR algorithm with RBF kernel. "
   ]
  },
  {
   "cell_type": "code",
   "execution_count": 8,
   "metadata": {},
   "outputs": [
    {
     "name": "stdout",
     "output_type": "stream",
     "text": [
      "Test RMSE: 0.064\n"
     ]
    }
   ],
   "source": [
    "from sklearn.svm import SVR\n",
    "from sklearn.multioutput import MultiOutputRegressor\n",
    "regressor = SVR(kernel='rbf')\n",
    "# flatten input\n",
    "n_input = testdataReshaped.shape[1] * testdataReshaped.shape[2]\n",
    "X2 = testdataReshaped.reshape((testdataReshaped.shape[0], n_input))\n",
    "regr = MultiOutputRegressor(regressor)\n",
    "\n",
    "regr.fit(X,train_y)\n",
    "out= regr.predict(X2)\n",
    "\n",
    "rmse = sqrt(mean_squared_error(out,testset_y))\n",
    "print('Test RMSE: %.3f' % rmse)"
   ]
  },
  {
   "cell_type": "markdown",
   "metadata": {},
   "source": [
    "## SVR with Linear kernel "
   ]
  },
  {
   "cell_type": "code",
   "execution_count": null,
   "metadata": {},
   "outputs": [],
   "source": [
    "from sklearn.svm import SVR\n",
    "from sklearn.multioutput import MultiOutputRegressor\n",
    "regressor = SVR(kernel='linear')\n",
    "# flatten input\n",
    "n_input = testdataReshaped.shape[1] * testdataReshaped.shape[2]\n",
    "X2 = testdataReshaped.reshape((testdataReshaped.shape[0], n_input))\n",
    "regr = MultiOutputRegressor(regressor)\n",
    "\n",
    "regr.fit(X,train_y)\n",
    "out= regr.predict(X2)\n",
    "\n",
    "rmse = sqrt(mean_squared_error(out,testset_y))\n",
    "print('Test RMSE: %.3f' % rmse)"
   ]
  },
  {
   "cell_type": "markdown",
   "metadata": {},
   "source": [
    "## KNN Regression"
   ]
  },
  {
   "cell_type": "code",
   "execution_count": null,
   "metadata": {},
   "outputs": [],
   "source": [
    "from sklearn.neighbors import KNeighborsRegressor\n",
    "from sklearn.multioutput import MultiOutputRegressor\n",
    "knn = KNeighborsRegressor()\n",
    "regr_knn = MultiOutputRegressor(knn)\n",
    "\n",
    "# flatten input\n",
    "n_input = testdataReshaped.shape[1] * testdataReshaped.shape[2]\n",
    "X2 = testdataReshaped.reshape((testdataReshaped.shape[0], n_input))\n",
    "\n",
    "regr_knn.fit(X,train_y)\n",
    "regr_knn.predict(testset_X)\n",
    "out= regr_knn.predict(X2)\n",
    "\n",
    "rmse = sqrt(mean_squared_error(out,testset_y))\n",
    "print('Test RMSE: %.3f' % rmse)"
   ]
  },
  {
   "cell_type": "markdown",
   "metadata": {},
   "source": [
    "# Saving to file"
   ]
  },
  {
   "cell_type": "code",
   "execution_count": 9,
   "metadata": {},
   "outputs": [],
   "source": [
    "## Feeding the test dataset for predictions\n",
    "import pandas as pd\n",
    "\n",
    "dataset = pd.DataFrame({'predicted_Latency': out[:, 0], 'predicted_Cost': out[:, 1],\n",
    "                       'predicted_Reliability': out[:, 2]})\n",
    "dataset['predicted_Reliability'].loc[dataset['predicted_Reliability'] >0.5] = 1\n",
    "dataset['predicted_Reliability'].loc[dataset['predicted_Reliability'] <.5] = 0"
   ]
  },
  {
   "cell_type": "code",
   "execution_count": 10,
   "metadata": {},
   "outputs": [],
   "source": [
    "frames = [test_dataset, dataset]\n",
    "result = pd.concat(frames,axis =1)"
   ]
  },
  {
   "cell_type": "code",
   "execution_count": 11,
   "metadata": {},
   "outputs": [
    {
     "name": "stdout",
     "output_type": "stream",
     "text": [
      "     Hours   Minutes   Seconds   Latency      Cost  Reliability  \\\n",
      "0  0.26087  0.118644  0.391044  0.017155  0.160156            1   \n",
      "1  0.26087  0.135593  0.558481  0.014948  0.167969            1   \n",
      "2  0.26087  0.135593  0.754070  0.015292  0.164062            1   \n",
      "3  0.26087  0.169492  0.727705  0.016283  0.169922            1   \n",
      "4  0.26087  0.169492  0.738709  0.015571  0.173828            1   \n",
      "5  0.26087  0.220339  0.591174  0.015474  0.171875            1   \n",
      "6  0.26087  0.254237  0.085589  0.016747  0.175781            1   \n",
      "7  0.26087  0.271186  0.970546  0.015070  0.162109            1   \n",
      "8  0.26087  0.288136  0.392530  0.014855  0.164062            1   \n",
      "9  0.26087  0.305085  0.287840  0.016296  0.167969            1   \n",
      "\n",
      "   predicted_Latency  predicted_Cost  predicted_Reliability  \n",
      "0           0.065029        0.238948                    1.0  \n",
      "1           0.065029        0.243761                    1.0  \n",
      "2           0.065029        0.235521                    1.0  \n",
      "3           0.065029        0.239608                    1.0  \n",
      "4           0.065029        0.238733                    1.0  \n",
      "5           0.065029        0.248743                    1.0  \n",
      "6           0.065029        0.218897                    1.0  \n",
      "7           0.065029        0.217700                    1.0  \n",
      "8           0.065029        0.248392                    1.0  \n",
      "9           0.065029        0.241517                    1.0  \n"
     ]
    }
   ],
   "source": [
    "import numpy as np\n",
    "print(result.head(10))\n",
    "result.to_csv('/Users/manali/JupyterProjects/predictions_SVR_RBF_Server_1_Tactic_1.csv', sep=',', index=0)"
   ]
  },
  {
   "cell_type": "code",
   "execution_count": null,
   "metadata": {},
   "outputs": [],
   "source": []
  }
 ],
 "metadata": {
  "kernelspec": {
   "display_name": "Python 3",
   "language": "python",
   "name": "python3"
  },
  "language_info": {
   "codemirror_mode": {
    "name": "ipython",
    "version": 3
   },
   "file_extension": ".py",
   "mimetype": "text/x-python",
   "name": "python",
   "nbconvert_exporter": "python",
   "pygments_lexer": "ipython3",
   "version": "3.7.4"
  }
 },
 "nbformat": 4,
 "nbformat_minor": 2
}
