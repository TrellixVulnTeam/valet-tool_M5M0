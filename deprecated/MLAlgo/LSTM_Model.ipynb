{
 "cells": [
  {
   "cell_type": "code",
   "execution_count": 1,
   "metadata": {},
   "outputs": [],
   "source": [
    "from math import sqrt\n",
    "from numpy import concatenate\n",
    "from matplotlib import pyplot\n",
    "import pandas as pd\n",
    "from pandas import read_csv\n",
    "from pandas import DataFrame\n",
    "from pandas import concat\n",
    "from sklearn.preprocessing import MinMaxScaler\n",
    "from sklearn.preprocessing import LabelEncoder\n",
    "from sklearn.metrics import mean_squared_error\n",
    "from keras.models import Sequential\n",
    "from keras.layers import Dense\n",
    "from keras.layers import LSTM\n",
    "from datetime import datetime\n",
    "from sklearn.preprocessing import Normalizer"
   ]
  },
  {
   "cell_type": "code",
   "execution_count": 2,
   "metadata": {},
   "outputs": [],
   "source": [
    "# Function for converting series data to a supervised data of format, t-1, t, t+1\n",
    "## Basically feeding in the (t-1)th data to predict the t data\n",
    "def series_to_supervised(data, n_in=1, n_out=1, dropnan=True):\n",
    "\tn_vars = 1 if type(data) is list else data.shape[1]\n",
    "\tdf = DataFrame(data)\n",
    "\tcols, names = list(), list()\n",
    "\t# input sequence (t-n, ... t-1)\n",
    "\tfor i in range(n_in, 0, -1):\n",
    "\t\tcols.append(df.shift(i))\n",
    "\t\tnames += [('var%d(t-%d)' % (j+1, i)) for j in range(n_vars)]\n",
    "\t# forecast sequence (t, t+1, ... t+n)\n",
    "\tfor i in range(0, n_out):\n",
    "\t\tcols.append(df.shift(-i))\n",
    "\t\tif i == 0:\n",
    "\t\t\tnames += [('var%d(t)' % (j+1)) for j in range(n_vars)]\n",
    "\t\telse:\n",
    "\t\t\tnames += [('var%d(t+%d)' % (j+1, i)) for j in range(n_vars)]\n",
    "\t# put it all together\n",
    "\tagg = concat(cols, axis=1)\n",
    "\tagg.columns = names\n",
    "\t# drop rows with NaN values\n",
    "\tif dropnan:\n",
    "\t\tagg.dropna(inplace=True)\n",
    "\treturn agg\n"
   ]
  },
  {
   "cell_type": "code",
   "execution_count": 3,
   "metadata": {},
   "outputs": [],
   "source": [
    "def break_timestamp(dataset):\n",
    "    temp_time = [datetime.strptime(d, \"%Y-%m-%d %H:%M:%S.%f\") for d in dataset[\"timestamp\"]]\n",
    "    dataset[\"hours\"] = [dh.hour for dh in temp_time]\n",
    "    dataset[\"minutes\"] = [dm.minute for dm in temp_time]\n",
    "    dataset[\"seconds\"] = [ds.second for ds in temp_time]\n",
    "        \n",
    "    return dataset"
   ]
  },
  {
   "cell_type": "code",
   "execution_count": 9,
   "metadata": {},
   "outputs": [],
   "source": [
    "col_arr = [\"timestamp\", \"time_since_last_recording\", \"ping_timestamp\", \"time_since_last_ping\", \"ping_success\",\"ping_time\"]\n",
    "# load dataset\n",
    "dataset = read_csv('../parse_tactics/normalized_tva_server_1_tactic_1_train.csv')\n",
    "dataset = break_timestamp(dataset)\n",
    "dataset = dataset.drop(columns=col_arr)#[\"ID\"])\n",
    "dataset = dataset[[\"hours\",\"minutes\",\"seconds\",\"latency\",\"cost\",\"reliability\"]]\n",
    "norm_scaler = Normalizer().fit(dataset.iloc[:,0:3])\n",
    "dataset.loc[:,0:3] = norm_scaler.transform(dataset.iloc[:,0:3])\n",
    "values = dataset\n",
    "\n",
    "\n",
    "#dataset= dataset.drop(columns=[\"ID\"])\n",
    "#values = dataset.values\n",
    "#print(dataset.head(5))\n",
    "## Load Validation\n",
    "validation = read_csv('../parse_tactics/normalized_tva_server_1_tactic_1_test.csv')\n",
    "validation = break_timestamp(validation)\n",
    "validation = validation.drop(columns=col_arr)#[\"ID\"])\n",
    "validation = validation[[\"hours\",\"minutes\",\"seconds\",\"latency\",\"cost\",\"reliability\"]]\n",
    "validation.loc[:,0:3] = norm_scaler.transform(validation.iloc[:,0:3])\n",
    "#validation= validation.drop(columns=[\"ID\"])\n",
    "values_validation = validation#.values\n"
   ]
  },
  {
   "cell_type": "code",
   "execution_count": 10,
   "metadata": {},
   "outputs": [
    {
     "name": "stdout",
     "output_type": "stream",
     "text": [
      "   var1(t-1)  var2(t-1)  var3(t-1)  var4(t-1)  var5(t-1)  var6(t-1)   var4(t)  \\\n",
      "1   0.272917   0.579948   0.767578   0.015102   0.193359        1.0  0.015117   \n",
      "\n",
      "    var5(t)  var6(t)  \n",
      "1  0.310547        1  \n"
     ]
    }
   ],
   "source": [
    "## Calling the function to do the preprocessing the data and removing unwanted columns\n",
    "\n",
    "\n",
    "# frame as supervised learning\n",
    "reframed = series_to_supervised(values, 1, 1)\n",
    "reframed_validation = series_to_supervised(values_validation, 1, 1)\n",
    "# drop columns we don't want to predict\n",
    "reframed.drop(reframed.columns[[6,7,8]], axis=1, inplace=True)\n",
    "reframed_validation.drop(reframed_validation.columns[[6,7,8]], axis=1, inplace=True)\n",
    "print(reframed.head(1))"
   ]
  },
  {
   "cell_type": "code",
   "execution_count": 11,
   "metadata": {},
   "outputs": [
    {
     "name": "stdout",
     "output_type": "stream",
     "text": [
      "(12156, 1, 6) (12156, 3) (2604, 1, 6) (2604, 3)\n"
     ]
    }
   ],
   "source": [
    "## Splitting the data into training and validation sets\n",
    "\n",
    "\n",
    "train = reframed.values\n",
    "test = reframed_validation.values\n",
    "# split into input and outputs\n",
    "train_X, train_y = train[:, :-3], train[:,-3:]\n",
    "test_X, test_y = test[:, :-3], test[:,-3:]\n",
    "# reshape input to be 3D [samples, timesteps, features]\n",
    "train_X = train_X.reshape((train_X.shape[0], 1, train_X.shape[1]))\n",
    "test_X = test_X.reshape((test_X.shape[0], 1, test_X.shape[1]))\n",
    "print(train_X.shape, train_y.shape, test_X.shape, test_y.shape)"
   ]
  },
  {
   "cell_type": "code",
   "execution_count": 12,
   "metadata": {},
   "outputs": [
    {
     "name": "stdout",
     "output_type": "stream",
     "text": [
      "Epoch 1/20\n",
      "169/169 [==============================] - 5s 21ms/step - loss: 0.0654 - val_loss: 7.0492e-04\n",
      "Epoch 2/20\n",
      "169/169 [==============================] - 3s 19ms/step - loss: 5.3281e-04 - val_loss: 5.4294e-04\n",
      "Epoch 3/20\n",
      "169/169 [==============================] - 3s 19ms/step - loss: 4.2062e-04 - val_loss: 3.4302e-04\n",
      "Epoch 4/20\n",
      "169/169 [==============================] - 3s 20ms/step - loss: 2.9276e-04 - val_loss: 2.0158e-04\n",
      "Epoch 5/20\n",
      "169/169 [==============================] - 3s 19ms/step - loss: 1.9656e-04 - val_loss: 1.4140e-04\n",
      "Epoch 6/20\n",
      "169/169 [==============================] - 3s 19ms/step - loss: 1.3710e-04 - val_loss: 1.6293e-04\n",
      "Epoch 7/20\n",
      "169/169 [==============================] - 3s 19ms/step - loss: 1.1226e-04 - val_loss: 1.4590e-04\n",
      "Epoch 8/20\n",
      "169/169 [==============================] - 3s 20ms/step - loss: 9.2265e-05 - val_loss: 1.0981e-04\n",
      "Epoch 9/20\n",
      "169/169 [==============================] - 3s 19ms/step - loss: 7.6563e-05 - val_loss: 1.0004e-04\n",
      "Epoch 10/20\n",
      "169/169 [==============================] - 3s 20ms/step - loss: 7.1039e-05 - val_loss: 1.0325e-04\n",
      "Epoch 11/20\n",
      "169/169 [==============================] - 3s 19ms/step - loss: 6.9995e-05 - val_loss: 1.1007e-04\n",
      "Epoch 12/20\n",
      "169/169 [==============================] - 3s 20ms/step - loss: 7.0038e-05 - val_loss: 1.1919e-04\n",
      "Epoch 13/20\n",
      "169/169 [==============================] - 3s 20ms/step - loss: 7.0366e-05 - val_loss: 1.2884e-04\n",
      "Epoch 14/20\n",
      "169/169 [==============================] - 3s 20ms/step - loss: 7.0763e-05 - val_loss: 1.3565e-04\n",
      "Epoch 15/20\n",
      "169/169 [==============================] - 3s 20ms/step - loss: 7.1222e-05 - val_loss: 1.3745e-04\n",
      "Epoch 16/20\n",
      "169/169 [==============================] - 3s 20ms/step - loss: 7.2091e-05 - val_loss: 1.3224e-04\n",
      "Epoch 17/20\n",
      "169/169 [==============================] - 3s 20ms/step - loss: 7.3448e-05 - val_loss: 1.2599e-04\n",
      "Epoch 18/20\n",
      "169/169 [==============================] - 3s 20ms/step - loss: 7.4626e-05 - val_loss: 1.2369e-04\n",
      "Epoch 19/20\n",
      "169/169 [==============================] - 3s 20ms/step - loss: 7.5624e-05 - val_loss: 1.2273e-04\n",
      "Epoch 20/20\n",
      "169/169 [==============================] - 3s 20ms/step - loss: 7.6610e-05 - val_loss: 1.2089e-04\n"
     ]
    },
    {
     "data": {
      "image/png": "[encoded data removed]",
      "text/plain": [
       "<Figure size 432x288 with 1 Axes>"
      ]
     },
     "metadata": {
      "needs_background": "light"
     },
     "output_type": "display_data"
    }
   ],
   "source": [
    "# design LSTM network  has 1000 hidden layers , used adam optimizer and mse loss function\n",
    "model = Sequential()\n",
    "model.add(LSTM(1000, input_shape=(train_X.shape[1], train_X.shape[2])))\n",
    "model.add(Dense(3))\n",
    "model.compile(loss='mse', optimizer='adam')\n",
    "# fit network\n",
    "history = model.fit(train_X, train_y, epochs=20, batch_size=72, validation_data=(test_X, test_y), verbose=1, shuffle=False)\n",
    "# plot history\n",
    "pyplot.plot(history.history['loss'], label='train')\n",
    "pyplot.plot(history.history['val_loss'], label='test')\n",
    "pyplot.legend()\n",
    "pyplot.show()"
   ]
  },
  {
   "cell_type": "code",
   "execution_count": 14,
   "metadata": {},
   "outputs": [
    {
     "name": "stdout",
     "output_type": "stream",
     "text": [
      "(2605, 6) (2605, 6)\n"
     ]
    }
   ],
   "source": [
    "### Doing the same process for testing dataset\n",
    "test_dataset = read_csv('../parse_tactics/normalized_tva_server_1_tactic_1_validation.csv')\n",
    "test_dataset = break_timestamp(test_dataset)\n",
    "test_dataset = test_dataset.drop(columns=col_arr)#[\"ID\"])\n",
    "test_dataset = test_dataset[[\"hours\",\"minutes\",\"seconds\",\"latency\",\"cost\",\"reliability\"]]\n",
    "test_dataset.loc[:,0:3] = norm_scaler.transform(test_dataset.iloc[:,0:3])\n",
    "test_values = test_dataset#.values\n",
    "\n",
    "#test_dataset = read_csv('normalized_tva_server_1_tactic_1_validation.csv')\n",
    "#test_dataset= test_dataset.drop(columns=[\"ID\"])\n",
    "#test_values = test_dataset.values\n",
    "reframed_test = series_to_supervised(test_values, 1, 1)\n",
    "reframed_test.drop(reframed_test.columns[[6,7,8]], axis=1, inplace=True)\n",
    "testset = reframed_test.values\n",
    "testset_X, testset_y = testset[:, :-3], testset[:,-3:]\n",
    "testdataReshaped = testset_X.reshape((testset_X.shape[0], 1, testset_X.shape[1]))\n",
    "print(testset_X.shape, testset_X.shape)"
   ]
  },
  {
   "cell_type": "code",
   "execution_count": 15,
   "metadata": {},
   "outputs": [
    {
     "name": "stdout",
     "output_type": "stream",
     "text": [
      "[[0.01552295 0.18692465 0.996784  ]\n",
      " [0.01541345 0.18760423 0.996382  ]\n",
      " [0.01535036 0.18749322 0.9952749 ]\n",
      " ...\n",
      " [0.01590683 0.18771446 1.0037286 ]\n",
      " [0.01583021 0.18714131 1.001384  ]\n",
      " [0.016134   0.18596283 1.0024649 ]]\n"
     ]
    }
   ],
   "source": [
    "## Feeding the test dataset for predictions\n",
    "import pandas as pd\n",
    "\n",
    "yhat = model.predict(testdataReshaped)\n",
    "\n",
    "print(yhat)\n",
    "dataset = pd.DataFrame({'predicted_Latency': yhat[:, 0], 'predicted_Cost': yhat[:, 1],\n",
    "                       'predicted_Reliability': yhat[:, 2]})\n",
    "dataset['predicted_Reliability'].loc[dataset['predicted_Reliability'] >0.5] = 1\n",
    "dataset['predicted_Reliability'].loc[dataset['predicted_Reliability'] <0.5] = 0"
   ]
  },
  {
   "cell_type": "code",
   "execution_count": 16,
   "metadata": {},
   "outputs": [],
   "source": [
    "frames = [test_dataset, dataset]\n",
    "result = pd.concat(frames,axis =1)"
   ]
  },
  {
   "cell_type": "code",
   "execution_count": 17,
   "metadata": {},
   "outputs": [],
   "source": [
    "import numpy as np\n",
    "result.head(10)\n",
    "result.to_csv('../Prediction_Files/predictions_LSTM_Server_1_Tactic_1.csv', sep=',', index=0)"
   ]
  },
  {
   "cell_type": "code",
   "execution_count": 18,
   "metadata": {},
   "outputs": [
    {
     "name": "stdout",
     "output_type": "stream",
     "text": [
      "[[0.0149483  0.16796875 1.        ]\n",
      " [0.01529248 0.1640625  1.        ]\n",
      " [0.0162831  0.16992187 1.        ]\n",
      " ...\n",
      " [0.01635488 0.1796875  1.        ]\n",
      " [0.01666088 0.17382812 1.        ]\n",
      " [0.01505033 0.16601562 1.        ]]\n"
     ]
    }
   ],
   "source": [
    "print(testset_y)"
   ]
  },
  {
   "cell_type": "code",
   "execution_count": 19,
   "metadata": {},
   "outputs": [
    {
     "name": "stdout",
     "output_type": "stream",
     "text": [
      "Test RMSE: 0.046\n"
     ]
    }
   ],
   "source": [
    "## Finding the root mean squared error of the model\n",
    "import numpy as np\n",
    "\n",
    "rmse = np.sqrt(mean_squared_error(yhat, testset_y))\n",
    "print('Test RMSE: %.3f' % rmse)"
   ]
  },
  {
   "cell_type": "code",
   "execution_count": null,
   "metadata": {},
   "outputs": [],
   "source": []
  },
  {
   "cell_type": "code",
   "execution_count": null,
   "metadata": {},
   "outputs": [],
   "source": []
  }
 ],
 "metadata": {
  "kernelspec": {
   "display_name": "Python 3",
   "language": "python",
   "name": "python3"
  },
  "language_info": {
   "codemirror_mode": {
    "name": "ipython",
    "version": 3
   },
   "file_extension": ".py",
   "mimetype": "text/x-python",
   "name": "python",
   "nbconvert_exporter": "python",
   "pygments_lexer": "ipython3",
   "version": "3.7.3"
  }
 },
 "nbformat": 4,
 "nbformat_minor": 4
}
