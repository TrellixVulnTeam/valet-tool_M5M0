{
 "cells": [
  {
   "cell_type": "code",
   "execution_count": 1,
   "metadata": {},
   "outputs": [
    {
     "name": "stderr",
     "output_type": "stream",
     "text": [
      "Using TensorFlow backend.\n"
     ]
    }
   ],
   "source": [
    "from math import sqrt\n",
    "from numpy import concatenate\n",
    "from matplotlib import pyplot\n",
    "from pandas import read_csv\n",
    "from pandas import DataFrame\n",
    "from pandas import concat\n",
    "from sklearn.preprocessing import MinMaxScaler\n",
    "from sklearn.preprocessing import LabelEncoder\n",
    "from sklearn.metrics import mean_squared_error\n",
    "from keras.models import Sequential\n",
    "from keras.layers import Dense\n",
    "from keras.layers import LSTM"
   ]
  },
  {
   "cell_type": "code",
   "execution_count": 2,
   "metadata": {},
   "outputs": [],
   "source": [
    "# Function for converting series data to a supervised data of format, t-1, t, t+1\n",
    "## Basically feeding in the (t-1)th data to predict the t data\n",
    "def series_to_supervised(data, n_in=1, n_out=1, dropnan=True):\n",
    "\tn_vars = 1 if type(data) is list else data.shape[1]\n",
    "\tdf = DataFrame(data)\n",
    "\tcols, names = list(), list()\n",
    "\t# input sequence (t-n, ... t-1)\n",
    "\tfor i in range(n_in, 0, -1):\n",
    "\t\tcols.append(df.shift(i))\n",
    "\t\tnames += [('var%d(t-%d)' % (j+1, i)) for j in range(n_vars)]\n",
    "\t# forecast sequence (t, t+1, ... t+n)\n",
    "\tfor i in range(0, n_out):\n",
    "\t\tcols.append(df.shift(-i))\n",
    "\t\tif i == 0:\n",
    "\t\t\tnames += [('var%d(t)' % (j+1)) for j in range(n_vars)]\n",
    "\t\telse:\n",
    "\t\t\tnames += [('var%d(t+%d)' % (j+1, i)) for j in range(n_vars)]\n",
    "\t# put it all together\n",
    "\tagg = concat(cols, axis=1)\n",
    "\tagg.columns = names\n",
    "\t# drop rows with NaN values\n",
    "\tif dropnan:\n",
    "\t\tagg.dropna(inplace=True)\n",
    "\treturn agg\n"
   ]
  },
  {
   "cell_type": "code",
   "execution_count": 3,
   "metadata": {},
   "outputs": [
    {
     "name": "stdout",
     "output_type": "stream",
     "text": [
      "   time_since_last_recording   latency      cost  reliability  \\\n",
      "0                   0.000000  0.044391  0.078125            1   \n",
      "1                   0.019803  0.042769  0.076172            1   \n",
      "2                   0.018599  0.046944  0.078125            1   \n",
      "3                   0.000335  0.048774  0.050781            1   \n",
      "4                   0.006088  0.051200  0.076172            1   \n",
      "\n",
      "   time_since_last_ping  ping_time  \n",
      "0              0.000000   0.000000  \n",
      "1              0.000000   0.000000  \n",
      "2              0.006728   0.038745  \n",
      "3              0.007068   0.038745  \n",
      "4              0.000680   0.038481  \n"
     ]
    }
   ],
   "source": [
    " \n",
    "# load dataset\n",
    "dataset = read_csv('/Users/manali/Desktop/ASE/valet-tool/parse_tactics/normalized_tva_server_3_tactic_1_train.csv')\n",
    "dataset= dataset.drop(columns=[\"timestamp\",\"ping_timestamp\",\"ping_success\"])\n",
    "values = dataset.values\n",
    "print(dataset.head(5))\n",
    "## Load Validation\n",
    "validation = read_csv('/Users/manali/Desktop/ASE/valet-tool/parse_tactics/normalized_tva_server_3_tactic_1_test.csv')\n",
    "validation= validation.drop(columns=[\"timestamp\",\"ping_timestamp\",\"ping_success\"])\n",
    "values_validation = validation.values\n"
   ]
  },
  {
   "cell_type": "code",
   "execution_count": 4,
   "metadata": {},
   "outputs": [
    {
     "name": "stdout",
     "output_type": "stream",
     "text": [
      "   var1(t-1)  var2(t-1)  var3(t-1)  var4(t-1)  var5(t-1)  var6(t-1)   var2(t)  \\\n",
      "1        0.0   0.044391   0.078125        1.0        0.0        0.0  0.042769   \n",
      "\n",
      "    var3(t)  var4(t)  \n",
      "1  0.076172      1.0  \n"
     ]
    }
   ],
   "source": [
    "## Calling the function to do the preprocessing the data and removing unwanted columns\n",
    "\n",
    "\n",
    "# frame as supervised learning\n",
    "reframed = series_to_supervised(values, 1, 1)\n",
    "reframed_validation = series_to_supervised(values_validation, 1, 1)\n",
    "# drop columns we don't want to predict\n",
    "reframed.drop(reframed.columns[[6,10,11]], axis=1, inplace=True)\n",
    "reframed_validation.drop(reframed_validation.columns[[6,7,8]], axis=1, inplace=True)\n",
    "print(reframed.head(1))"
   ]
  },
  {
   "cell_type": "code",
   "execution_count": 5,
   "metadata": {},
   "outputs": [
    {
     "name": "stdout",
     "output_type": "stream",
     "text": [
      "(12158, 1, 6) (12158, 3) (2604, 1, 6) (2604, 3)\n"
     ]
    }
   ],
   "source": [
    "## Splitting the data into training and validation sets\n",
    "\n",
    "\n",
    "train = reframed.values\n",
    "test = reframed_validation.values\n",
    "# split into input and outputs\n",
    "train_X, train_y = train[:, :-3], train[:,-3:]\n",
    "test_X, test_y = test[:, :-3], test[:,-3:]\n",
    "# reshape input to be 3D [samples, timesteps, features]\n",
    "train_X = train_X.reshape((train_X.shape[0], 1, train_X.shape[1]))\n",
    "test_X = test_X.reshape((test_X.shape[0], 1, test_X.shape[1]))\n",
    "print(train_X.shape, train_y.shape, test_X.shape, test_y.shape)"
   ]
  },
  {
   "cell_type": "code",
   "execution_count": 6,
   "metadata": {},
   "outputs": [
    {
     "name": "stdout",
     "output_type": "stream",
     "text": [
      "Epoch 1/20\n",
      "12158/12158 [==============================] - 0s 29us/step - loss: 0.0181\n",
      "Epoch 2/20\n",
      "12158/12158 [==============================] - 0s 20us/step - loss: 0.0011\n",
      "Epoch 3/20\n",
      "12158/12158 [==============================] - 0s 19us/step - loss: 0.0011\n",
      "Epoch 4/20\n",
      "12158/12158 [==============================] - 0s 19us/step - loss: 0.0011\n",
      "Epoch 5/20\n",
      "12158/12158 [==============================] - 0s 19us/step - loss: 0.0011\n",
      "Epoch 6/20\n",
      "12158/12158 [==============================] - 0s 18us/step - loss: 0.0011\n",
      "Epoch 7/20\n",
      "12158/12158 [==============================] - 0s 18us/step - loss: 0.0011\n",
      "Epoch 8/20\n",
      "12158/12158 [==============================] - 0s 18us/step - loss: 0.0011\n",
      "Epoch 9/20\n",
      "12158/12158 [==============================] - 0s 17us/step - loss: 0.0011\n",
      "Epoch 10/20\n",
      "12158/12158 [==============================] - 0s 21us/step - loss: 0.0011\n",
      "Epoch 11/20\n",
      "12158/12158 [==============================] - 0s 19us/step - loss: 0.0011\n",
      "Epoch 12/20\n",
      "12158/12158 [==============================] - 0s 19us/step - loss: 0.0011\n",
      "Epoch 13/20\n",
      "12158/12158 [==============================] - 0s 18us/step - loss: 0.0011\n",
      "Epoch 14/20\n",
      "12158/12158 [==============================] - 0s 19us/step - loss: 0.0011\n",
      "Epoch 15/20\n",
      "12158/12158 [==============================] - 0s 18us/step - loss: 0.0011\n",
      "Epoch 16/20\n",
      "12158/12158 [==============================] - 0s 21us/step - loss: 0.0011\n",
      "Epoch 17/20\n",
      "12158/12158 [==============================] - 0s 19us/step - loss: 0.0011\n",
      "Epoch 18/20\n",
      "12158/12158 [==============================] - 0s 20us/step - loss: 0.0011\n",
      "Epoch 19/20\n",
      "12158/12158 [==============================] - 0s 19us/step - loss: 0.0011\n",
      "Epoch 20/20\n",
      "12158/12158 [==============================] - 0s 29us/step - loss: 0.0011\n"
     ]
    },
    {
     "data": {
      "image/png": "[encoded data removed]",
      "text/plain": [
       "<Figure size 432x288 with 1 Axes>"
      ]
     },
     "metadata": {
      "needs_background": "light"
     },
     "output_type": "display_data"
    }
   ],
   "source": [
    "## Run this cell for MLP , else Run the next cell for LSTM\n",
    "\n",
    "# flatten input\n",
    "n_input = train_X.shape[1] * train_X.shape[2]\n",
    "X = train_X.reshape((train_X.shape[0], n_input))\n",
    "\n",
    "# define MLP model\n",
    "model = Sequential()\n",
    "model.add(Dense(100, activation='relu', input_dim=n_input))\n",
    "model.add(Dense(3))\n",
    "model.compile(optimizer='adam', loss='mse')\n",
    "history= model.fit(X, train_y, epochs=20, verbose=1)\n",
    "# plot history\n",
    "pyplot.plot(history.history['loss'], label='train')\n",
    "pyplot.legend()\n",
    "pyplot.show()"
   ]
  },
  {
   "cell_type": "code",
   "execution_count": 7,
   "metadata": {},
   "outputs": [],
   "source": [
    "### Doing the same process for testing dataset\n",
    "\n",
    "test_dataset = read_csv('/Users/manali/Desktop/ASE/valet-tool/parse_tactics/normalized_tva_server_3_tactic_1_validation.csv')\n",
    "test_dataset= test_dataset.drop(columns=[\"timestamp\",\"ping_timestamp\",\"ping_success\"])\n",
    "test_values = test_dataset.values\n",
    "reframed_test = series_to_supervised(test_values, 1, 1)\n",
    "reframed_test.drop(reframed_test.columns[[6,10,11]], axis=1, inplace=True)\n",
    "testset = reframed_test.values\n",
    "testset_X, testset_y = testset[:, :-3], testset[:,-3:]\n",
    "testdataReshaped = testset_X.reshape((testset_X.shape[0], 1, testset_X.shape[1]))\n"
   ]
  },
  {
   "cell_type": "code",
   "execution_count": 8,
   "metadata": {},
   "outputs": [
    {
     "name": "stdout",
     "output_type": "stream",
     "text": [
      "[[0.06438585 0.05561379 0.9868373 ]\n",
      " [0.09435762 0.04759956 0.98821   ]\n",
      " [0.08258479 0.05013099 0.9884762 ]\n",
      " ...\n",
      " [0.07398309 0.05070028 0.989729  ]\n",
      " [0.10006843 0.04926219 0.9868786 ]\n",
      " [0.09114267 0.05359772 0.98912096]]\n"
     ]
    }
   ],
   "source": [
    "## Feeding the test dataset for predictions\n",
    "import pandas as pd\n",
    "\n",
    "## For MLP use below line only\n",
    "yhat = model.predict(testset_X)\n",
    "\n",
    "print(yhat)\n",
    "dataset = pd.DataFrame({'predicted_Latency': yhat[:, 0], 'predicted_Cost': yhat[:, 1],\n",
    "                       'predicted_Reliability': yhat[:, 2]})\n",
    "dataset['predicted_Reliability'].loc[dataset['predicted_Reliability'] >0.5] = 1\n",
    "dataset['predicted_Reliability'].loc[dataset['predicted_Reliability'] <0.5] = 0"
   ]
  },
  {
   "cell_type": "code",
   "execution_count": 9,
   "metadata": {},
   "outputs": [],
   "source": [
    "frames = [test_dataset, dataset]\n",
    "result = pd.concat(frames,axis =1)"
   ]
  },
  {
   "cell_type": "code",
   "execution_count": 10,
   "metadata": {},
   "outputs": [],
   "source": [
    "import numpy as np\n",
    "result.head(10)\n",
    "result.to_csv('/Users/manali/Desktop/PingPredictions/predictions_MLP_server_3_tactic_1_Normalized.csv', sep=',', index=0)"
   ]
  },
  {
   "cell_type": "code",
   "execution_count": 11,
   "metadata": {},
   "outputs": [
    {
     "name": "stdout",
     "output_type": "stream",
     "text": [
      "[[0.19641042 0.02734375 1.        ]\n",
      " [0.15767574 0.03125    1.        ]\n",
      " [0.1241682  0.0390625  1.        ]\n",
      " ...\n",
      " [0.28741926 0.03515625 1.        ]\n",
      " [0.2223205  0.04882812 1.        ]\n",
      " [0.05357759 0.06835938 1.        ]]\n"
     ]
    }
   ],
   "source": [
    "print(testset_y)"
   ]
  },
  {
   "cell_type": "code",
   "execution_count": 12,
   "metadata": {},
   "outputs": [
    {
     "name": "stdout",
     "output_type": "stream",
     "text": [
      "Test RMSE: 0.040\n"
     ]
    }
   ],
   "source": [
    "## Finding the root mean squared error of the model\n",
    "\n",
    "rmse = sqrt(mean_squared_error(yhat, testset_y))\n",
    "print('Test RMSE: %.3f' % rmse)"
   ]
  }
 ],
 "metadata": {
  "kernelspec": {
   "display_name": "Python 3",
   "language": "python",
   "name": "python3"
  },
  "language_info": {
   "codemirror_mode": {
    "name": "ipython",
    "version": 3
   },
   "file_extension": ".py",
   "mimetype": "text/x-python",
   "name": "python",
   "nbconvert_exporter": "python",
   "pygments_lexer": "ipython3",
   "version": "3.7.4"
  }
 },
 "nbformat": 4,
 "nbformat_minor": 4
}
