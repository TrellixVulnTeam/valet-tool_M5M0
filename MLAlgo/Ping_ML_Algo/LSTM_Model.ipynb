{
 "cells": [
  {
   "cell_type": "code",
   "execution_count": 1,
   "metadata": {},
   "outputs": [
    {
     "name": "stderr",
     "output_type": "stream",
     "text": [
      "Using TensorFlow backend.\n"
     ]
    }
   ],
   "source": [
    "from math import sqrt\n",
    "from numpy import concatenate\n",
    "from matplotlib import pyplot\n",
    "from pandas import read_csv\n",
    "from pandas import DataFrame\n",
    "from pandas import concat\n",
    "from sklearn.preprocessing import MinMaxScaler\n",
    "from sklearn.preprocessing import LabelEncoder\n",
    "from sklearn.metrics import mean_squared_error\n",
    "from keras.models import Sequential\n",
    "from keras.layers import Dense\n",
    "from keras.layers import LSTM"
   ]
  },
  {
   "cell_type": "code",
   "execution_count": 2,
   "metadata": {},
   "outputs": [],
   "source": [
    "# Function for converting series data to a supervised data of format, t-1, t, t+1\n",
    "## Basically feeding in the (t-1)th data to predict the t data\n",
    "def series_to_supervised(data, n_in=1, n_out=1, dropnan=True):\n",
    "\tn_vars = 1 if type(data) is list else data.shape[1]\n",
    "\tdf = DataFrame(data)\n",
    "\tcols, names = list(), list()\n",
    "\t# input sequence (t-n, ... t-1)\n",
    "\tfor i in range(n_in, 0, -1):\n",
    "\t\tcols.append(df.shift(i))\n",
    "\t\tnames += [('var%d(t-%d)' % (j+1, i)) for j in range(n_vars)]\n",
    "\t# forecast sequence (t, t+1, ... t+n)\n",
    "\tfor i in range(0, n_out):\n",
    "\t\tcols.append(df.shift(-i))\n",
    "\t\tif i == 0:\n",
    "\t\t\tnames += [('var%d(t)' % (j+1)) for j in range(n_vars)]\n",
    "\t\telse:\n",
    "\t\t\tnames += [('var%d(t+%d)' % (j+1, i)) for j in range(n_vars)]\n",
    "\t# put it all together\n",
    "\tagg = concat(cols, axis=1)\n",
    "\tagg.columns = names\n",
    "\t# drop rows with NaN values\n",
    "\tif dropnan:\n",
    "\t\tagg.dropna(inplace=True)\n",
    "\treturn agg\n"
   ]
  },
  {
   "cell_type": "code",
   "execution_count": 3,
   "metadata": {},
   "outputs": [
    {
     "name": "stdout",
     "output_type": "stream",
     "text": [
      "   time_since_last_recording   latency      cost  reliability  \\\n",
      "0                   0.000000  0.044391  0.078125            1   \n",
      "1                   0.019803  0.042769  0.076172            1   \n",
      "2                   0.018599  0.046944  0.078125            1   \n",
      "3                   0.000335  0.048774  0.050781            1   \n",
      "4                   0.006088  0.051200  0.076172            1   \n",
      "\n",
      "   time_since_last_ping  ping_time  \n",
      "0              0.000000   0.000000  \n",
      "1              0.000000   0.000000  \n",
      "2              0.006728   0.038745  \n",
      "3              0.007068   0.038745  \n",
      "4              0.000680   0.038481  \n"
     ]
    }
   ],
   "source": [
    " \n",
    "# load dataset\n",
    "dataset = read_csv('/Users/manali/Desktop/ASE/valet-tool/parse_tactics/normalized_tva_server_3_tactic_1_train.csv')\n",
    "dataset= dataset.drop(columns=[\"timestamp\",\"ping_timestamp\",\"ping_success\"])\n",
    "values = dataset.values\n",
    "print(dataset.head(5))\n",
    "## Load Validation\n",
    "validation = read_csv('/Users/manali/Desktop/ASE/valet-tool/parse_tactics/normalized_tva_server_3_tactic_1_test.csv')\n",
    "validation= validation.drop(columns=[\"timestamp\",\"ping_timestamp\",\"ping_success\"])\n",
    "values_validation = validation.values\n"
   ]
  },
  {
   "cell_type": "code",
   "execution_count": 4,
   "metadata": {},
   "outputs": [
    {
     "name": "stdout",
     "output_type": "stream",
     "text": [
      "   var1(t-1)  var2(t-1)  var3(t-1)  var4(t-1)  var5(t-1)  var6(t-1)   var2(t)  \\\n",
      "1        0.0   0.044391   0.078125        1.0        0.0        0.0  0.042769   \n",
      "\n",
      "    var3(t)  var4(t)  \n",
      "1  0.076172      1.0  \n"
     ]
    }
   ],
   "source": [
    "## Calling the function to do the preprocessing the data and removing unwanted columns\n",
    "\n",
    "\n",
    "# frame as supervised learning\n",
    "reframed = series_to_supervised(values, 1, 1)\n",
    "reframed_validation = series_to_supervised(values_validation, 1, 1)\n",
    "# drop columns we don't want to predict\n",
    "reframed.drop(reframed.columns[[6,10,11]], axis=1, inplace=True)\n",
    "reframed_validation.drop(reframed_validation.columns[[6,10,11]], axis=1, inplace=True)\n",
    "print(reframed.head(1))"
   ]
  },
  {
   "cell_type": "code",
   "execution_count": 5,
   "metadata": {},
   "outputs": [
    {
     "name": "stdout",
     "output_type": "stream",
     "text": [
      "(12158, 1, 6) (12158, 3) (2604, 1, 6) (2604, 3)\n"
     ]
    }
   ],
   "source": [
    "## Splitting the data into training and validation sets\n",
    "\n",
    "\n",
    "train = reframed.values\n",
    "test = reframed_validation.values\n",
    "# split into input and outputs\n",
    "train_X, train_y = train[:, :-3], train[:,-3:]\n",
    "test_X, test_y = test[:, :-3], test[:,-3:]\n",
    "# reshape input to be 3D [samples, timesteps, features]\n",
    "train_X = train_X.reshape((train_X.shape[0], 1, train_X.shape[1]))\n",
    "test_X = test_X.reshape((test_X.shape[0], 1, test_X.shape[1]))\n",
    "print(train_X.shape, train_y.shape, test_X.shape, test_y.shape)"
   ]
  },
  {
   "cell_type": "code",
   "execution_count": 6,
   "metadata": {},
   "outputs": [
    {
     "name": "stdout",
     "output_type": "stream",
     "text": [
      "Model: \"sequential_1\"\n",
      "_________________________________________________________________\n",
      "Layer (type)                 Output Shape              Param #   \n",
      "=================================================================\n",
      "lstm_1 (LSTM)                (None, 1000)              4028000   \n",
      "_________________________________________________________________\n",
      "dense_1 (Dense)              (None, 3)                 3003      \n",
      "=================================================================\n",
      "Total params: 4,031,003\n",
      "Trainable params: 4,031,003\n",
      "Non-trainable params: 0\n",
      "_________________________________________________________________\n",
      "None\n",
      "Train on 12158 samples, validate on 2604 samples\n",
      "Epoch 1/20\n",
      "12158/12158 [==============================] - 8s 653us/step - loss: 0.0237 - val_loss: 0.0010\n",
      "Epoch 2/20\n",
      "12158/12158 [==============================] - 7s 595us/step - loss: 0.0015 - val_loss: 7.8762e-04\n",
      "Epoch 3/20\n",
      "12158/12158 [==============================] - 7s 571us/step - loss: 0.0014 - val_loss: 7.5476e-04\n",
      "Epoch 4/20\n",
      "12158/12158 [==============================] - 7s 610us/step - loss: 0.0013 - val_loss: 7.4077e-04\n",
      "Epoch 5/20\n",
      "12158/12158 [==============================] - 7s 586us/step - loss: 0.0013 - val_loss: 7.3016e-04\n",
      "Epoch 6/20\n",
      "12158/12158 [==============================] - 8s 619us/step - loss: 0.0013 - val_loss: 7.1789e-04\n",
      "Epoch 7/20\n",
      "12158/12158 [==============================] - 7s 594us/step - loss: 0.0013 - val_loss: 7.0396e-04\n",
      "Epoch 8/20\n",
      "12158/12158 [==============================] - 7s 587us/step - loss: 0.0012 - val_loss: 6.8847e-04\n",
      "Epoch 9/20\n",
      "12158/12158 [==============================] - 7s 572us/step - loss: 0.0012 - val_loss: 6.7134e-04\n",
      "Epoch 10/20\n",
      "12158/12158 [==============================] - 7s 574us/step - loss: 0.0012 - val_loss: 6.5539e-04\n",
      "Epoch 11/20\n",
      "12158/12158 [==============================] - 7s 594us/step - loss: 0.0012 - val_loss: 6.4386e-04\n",
      "Epoch 12/20\n",
      "12158/12158 [==============================] - 8s 643us/step - loss: 0.0012 - val_loss: 6.3628e-04\n",
      "Epoch 13/20\n",
      "12158/12158 [==============================] - 7s 609us/step - loss: 0.0012 - val_loss: 6.3074e-04\n",
      "Epoch 14/20\n",
      "12158/12158 [==============================] - 7s 609us/step - loss: 0.0012 - val_loss: 6.2660e-04\n",
      "Epoch 15/20\n",
      "12158/12158 [==============================] - 7s 615us/step - loss: 0.0012 - val_loss: 6.2389e-04\n",
      "Epoch 16/20\n",
      "12158/12158 [==============================] - 8s 627us/step - loss: 0.0012 - val_loss: 6.2247e-04\n",
      "Epoch 17/20\n",
      "12158/12158 [==============================] - 8s 644us/step - loss: 0.0012 - val_loss: 6.2214e-04\n",
      "Epoch 18/20\n",
      "12158/12158 [==============================] - 7s 616us/step - loss: 0.0012 - val_loss: 6.2262e-04\n",
      "Epoch 19/20\n",
      "12158/12158 [==============================] - 7s 613us/step - loss: 0.0012 - val_loss: 6.2439e-04\n",
      "Epoch 20/20\n",
      "12158/12158 [==============================] - 7s 610us/step - loss: 0.0012 - val_loss: 6.2757e-04\n"
     ]
    },
    {
     "data": {
      "image/png": "[encoded data removed]",
      "text/plain": [
       "<Figure size 432x288 with 1 Axes>"
      ]
     },
     "metadata": {
      "needs_background": "light"
     },
     "output_type": "display_data"
    }
   ],
   "source": [
    "# design LSTM network  has 1000 hidden layers , used adam optimizer and mse loss function\n",
    "model = Sequential()\n",
    "model.add(LSTM(1000, input_shape=(train_X.shape[1], train_X.shape[2])))\n",
    "model.add(Dense(3))\n",
    "\n",
    "print(model.summary())\n",
    "\n",
    "model.compile(loss='mse', optimizer='adam')\n",
    "# fit network\n",
    "history = model.fit(train_X, train_y, epochs=20, batch_size=72, validation_data=(test_X, test_y), verbose=1, shuffle=False)\n",
    "# plot history\n",
    "pyplot.plot(history.history['loss'], label='train')\n",
    "pyplot.plot(history.history['val_loss'], label='test')\n",
    "pyplot.legend()\n",
    "pyplot.show()"
   ]
  },
  {
   "cell_type": "code",
   "execution_count": 7,
   "metadata": {},
   "outputs": [
    {
     "name": "stdout",
     "output_type": "stream",
     "text": [
      "   time_since_last_recording   latency      cost  reliability  \\\n",
      "0                   0.005620  0.060326  0.046875            1   \n",
      "1                   0.012578  0.196410  0.027344            1   \n",
      "2                   0.002275  0.157676  0.031250            1   \n",
      "3                   0.000937  0.124168  0.039062            1   \n",
      "4                   0.003078  0.127279  0.023438            1   \n",
      "\n",
      "   time_since_last_ping  ping_time  \n",
      "0              0.010126   0.039746  \n",
      "1              0.007816   0.039680  \n",
      "2              0.001631   0.039549  \n",
      "3              0.002583   0.039549  \n",
      "4              0.000612   0.039764  \n",
      "(2606, 6) (2606, 6)\n"
     ]
    }
   ],
   "source": [
    "### Doing the same process for testing dataset\n",
    "\n",
    "#test_dataset = read_csv('normalized_tva_server_2_tactic_1_validation.csv')\n",
    "test_dataset = read_csv('/Users/manali/Desktop/ASE/valet-tool/parse_tactics/normalized_tva_server_3_tactic_1_validation.csv')\n",
    "test_dataset= test_dataset.drop(columns=[\"timestamp\",\"ping_timestamp\",\"ping_success\"])\n",
    "print(test_dataset.head())\n",
    "test_values = test_dataset.values\n",
    "reframed_test = series_to_supervised(test_values, 1, 1)\n",
    "reframed_test.drop(reframed_test.columns[[6,10,11]], axis=1, inplace=True)\n",
    "testset = reframed_test.values\n",
    "testset_X, testset_y = testset[:, :-3], testset[:,-3:]\n",
    "testdataReshaped = testset_X.reshape((testset_X.shape[0], 1, testset_X.shape[1]))\n",
    "print(testset_X.shape, testset_X.shape)"
   ]
  },
  {
   "cell_type": "code",
   "execution_count": 8,
   "metadata": {},
   "outputs": [
    {
     "name": "stdout",
     "output_type": "stream",
     "text": [
      "[[0.06685364 0.0701643  0.9910082 ]\n",
      " [0.09275403 0.06529443 0.9951839 ]\n",
      " [0.08367596 0.06684301 0.9932254 ]\n",
      " ...\n",
      " [0.07651893 0.06826323 0.991641  ]\n",
      " [0.10803541 0.06443015 1.0036418 ]\n",
      " [0.09622905 0.06691898 1.0025218 ]]\n"
     ]
    }
   ],
   "source": [
    "## Feeding the test dataset for predictions\n",
    "import pandas as pd\n",
    "\n",
    "yhat = model.predict(testdataReshaped)\n",
    "\n",
    "print(yhat)\n",
    "dataset = pd.DataFrame({'predicted_Latency': yhat[:, 0], 'predicted_Cost': yhat[:, 1],\n",
    "                       'predicted_Reliability': yhat[:, 2]})\n",
    "dataset['predicted_Reliability'].loc[dataset['predicted_Reliability'] >0.5] = 1\n",
    "dataset['predicted_Reliability'].loc[dataset['predicted_Reliability'] <0.5] = 0"
   ]
  },
  {
   "cell_type": "code",
   "execution_count": 9,
   "metadata": {},
   "outputs": [],
   "source": [
    "frames = [test_dataset, dataset]\n",
    "result = pd.concat(frames,axis =1)"
   ]
  },
  {
   "cell_type": "code",
   "execution_count": 10,
   "metadata": {},
   "outputs": [],
   "source": [
    "import numpy as np\n",
    "result.head(10)\n",
    "result.to_csv('/Users/manali/Desktop/PingPredictions/predictions_LSTM_server3_tactic1_Normalized.csv', sep=',', index=0)"
   ]
  },
  {
   "cell_type": "code",
   "execution_count": 11,
   "metadata": {},
   "outputs": [
    {
     "name": "stdout",
     "output_type": "stream",
     "text": [
      "[[0.19641042 0.02734375 1.        ]\n",
      " [0.15767574 0.03125    1.        ]\n",
      " [0.1241682  0.0390625  1.        ]\n",
      " ...\n",
      " [0.28741926 0.03515625 1.        ]\n",
      " [0.2223205  0.04882812 1.        ]\n",
      " [0.05357759 0.06835938 1.        ]]\n"
     ]
    }
   ],
   "source": [
    "print(testset_y)"
   ]
  },
  {
   "cell_type": "code",
   "execution_count": 12,
   "metadata": {},
   "outputs": [
    {
     "name": "stdout",
     "output_type": "stream",
     "text": [
      "Test RMSE: 0.040\n"
     ]
    }
   ],
   "source": [
    "## Finding the root mean squared error of the model\n",
    "import numpy as np\n",
    "\n",
    "rmse = np.sqrt(mean_squared_error(yhat, testset_y))\n",
    "print('Test RMSE: %.3f' % rmse)"
   ]
  },
  {
   "cell_type": "code",
   "execution_count": null,
   "metadata": {},
   "outputs": [],
   "source": []
  },
  {
   "cell_type": "code",
   "execution_count": null,
   "metadata": {},
   "outputs": [],
   "source": []
  }
 ],
 "metadata": {
  "kernelspec": {
   "display_name": "Python 3",
   "language": "python",
   "name": "python3"
  },
  "language_info": {
   "codemirror_mode": {
    "name": "ipython",
    "version": 3
   },
   "file_extension": ".py",
   "mimetype": "text/x-python",
   "name": "python",
   "nbconvert_exporter": "python",
   "pygments_lexer": "ipython3",
   "version": "3.7.4"
  }
 },
 "nbformat": 4,
 "nbformat_minor": 4
}
