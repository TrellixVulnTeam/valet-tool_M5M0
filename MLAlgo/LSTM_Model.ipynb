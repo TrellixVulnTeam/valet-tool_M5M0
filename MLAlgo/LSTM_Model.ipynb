{
 "cells": [
  {
   "cell_type": "code",
   "execution_count": 1,
   "metadata": {},
   "outputs": [
    {
     "name": "stderr",
     "output_type": "stream",
     "text": [
      "Using TensorFlow backend.\n"
     ]
    }
   ],
   "source": [
    "from math import sqrt\n",
    "from numpy import concatenate\n",
    "from matplotlib import pyplot\n",
    "from pandas import read_csv\n",
    "from pandas import DataFrame\n",
    "from pandas import concat\n",
    "from sklearn.preprocessing import MinMaxScaler\n",
    "from sklearn.preprocessing import LabelEncoder\n",
    "from sklearn.metrics import mean_squared_error\n",
    "from keras.models import Sequential\n",
    "from keras.layers import Dense\n",
    "from keras.layers import LSTM"
   ]
  },
  {
   "cell_type": "code",
   "execution_count": 2,
   "metadata": {},
   "outputs": [],
   "source": [
    "# Function for converting series data to a supervised data of format, t-1, t, t+1\n",
    "## Basically feeding in the (t-1)th data to predict the t data\n",
    "def series_to_supervised(data, n_in=1, n_out=1, dropnan=True):\n",
    "\tn_vars = 1 if type(data) is list else data.shape[1]\n",
    "\tdf = DataFrame(data)\n",
    "\tcols, names = list(), list()\n",
    "\t# input sequence (t-n, ... t-1)\n",
    "\tfor i in range(n_in, 0, -1):\n",
    "\t\tcols.append(df.shift(i))\n",
    "\t\tnames += [('var%d(t-%d)' % (j+1, i)) for j in range(n_vars)]\n",
    "\t# forecast sequence (t, t+1, ... t+n)\n",
    "\tfor i in range(0, n_out):\n",
    "\t\tcols.append(df.shift(-i))\n",
    "\t\tif i == 0:\n",
    "\t\t\tnames += [('var%d(t)' % (j+1)) for j in range(n_vars)]\n",
    "\t\telse:\n",
    "\t\t\tnames += [('var%d(t+%d)' % (j+1, i)) for j in range(n_vars)]\n",
    "\t# put it all together\n",
    "\tagg = concat(cols, axis=1)\n",
    "\tagg.columns = names\n",
    "\t# drop rows with NaN values\n",
    "\tif dropnan:\n",
    "\t\tagg.dropna(inplace=True)\n",
    "\treturn agg\n"
   ]
  },
  {
   "cell_type": "code",
   "execution_count": 3,
   "metadata": {},
   "outputs": [
    {
     "name": "stdout",
     "output_type": "stream",
     "text": [
      "   time_since_last_recording   latency      cost  reliability  \\\n",
      "0                   0.000000  0.433568  0.114583            1   \n",
      "1                   0.911953  0.014534  0.354167            1   \n",
      "2                   0.490876  0.030913  0.364583            1   \n",
      "3                   0.410584  0.035595  0.354167            1   \n",
      "4                   0.630474  0.067912  0.343750            1   \n",
      "\n",
      "   time_since_last_ping  last_ping  \n",
      "0              0.000000          0  \n",
      "1              0.103199          1  \n",
      "2              0.658927          1  \n",
      "3              0.273478          1  \n",
      "4              0.360681          1  \n"
     ]
    }
   ],
   "source": [
    " \n",
    "# load dataset\n",
    "dataset = read_csv('/Users/manali/Downloads/train_data.csv')\n",
    "dataset= dataset.drop(columns=[\"ID\"])\n",
    "values = dataset.values\n",
    "print(dataset.head(5))\n",
    "## Load Validation\n",
    "validation = read_csv('/Users/manali/Downloads/test_data.csv')\n",
    "validation= validation.drop(columns=[\"ID\"])\n",
    "values_validation = validation.values\n"
   ]
  },
  {
   "cell_type": "code",
   "execution_count": 4,
   "metadata": {},
   "outputs": [
    {
     "name": "stdout",
     "output_type": "stream",
     "text": [
      "   var1(t-1)  var2(t-1)  var3(t-1)  var4(t-1)  var5(t-1)  var6(t-1)   var2(t)  \\\n",
      "1        0.0   0.433568   0.114583        1.0        0.0        0.0  0.014534   \n",
      "\n",
      "    var3(t)  var4(t)  \n",
      "1  0.354167      1.0  \n"
     ]
    }
   ],
   "source": [
    "## Calling the function to do the preprocessing the data and removing unwanted columns\n",
    "\n",
    "\n",
    "# frame as supervised learning\n",
    "reframed = series_to_supervised(values, 1, 1)\n",
    "reframed_validation = series_to_supervised(values_validation, 1, 1)\n",
    "# drop columns we don't want to predict\n",
    "reframed.drop(reframed.columns[[6,10,11]], axis=1, inplace=True)\n",
    "reframed_validation.drop(reframed_validation.columns[[6,10,11]], axis=1, inplace=True)\n",
    "print(reframed.head(1))"
   ]
  },
  {
   "cell_type": "code",
   "execution_count": 5,
   "metadata": {},
   "outputs": [
    {
     "name": "stdout",
     "output_type": "stream",
     "text": [
      "(149, 1, 6) (149, 3) (24, 1, 6) (24, 3)\n"
     ]
    }
   ],
   "source": [
    "## Splitting the data into training and validation sets\n",
    "\n",
    "\n",
    "train = reframed.values\n",
    "test = reframed_validation.values\n",
    "# split into input and outputs\n",
    "train_X, train_y = train[:, :-3], train[:,-3:]\n",
    "test_X, test_y = test[:, :-3], test[:,-3:]\n",
    "# reshape input to be 3D [samples, timesteps, features]\n",
    "train_X = train_X.reshape((train_X.shape[0], 1, train_X.shape[1]))\n",
    "test_X = test_X.reshape((test_X.shape[0], 1, test_X.shape[1]))\n",
    "print(train_X.shape, train_y.shape, test_X.shape, test_y.shape)"
   ]
  },
  {
   "cell_type": "code",
   "execution_count": 6,
   "metadata": {},
   "outputs": [
    {
     "name": "stdout",
     "output_type": "stream",
     "text": [
      "Train on 149 samples, validate on 24 samples\n",
      "Epoch 1/20\n",
      "149/149 [==============================] - 1s 4ms/step - loss: 0.3997 - val_loss: 0.3546\n",
      "Epoch 2/20\n",
      "149/149 [==============================] - 0s 778us/step - loss: 0.2999 - val_loss: 0.2640\n",
      "Epoch 3/20\n",
      "149/149 [==============================] - 0s 830us/step - loss: 0.2129 - val_loss: 0.1830\n",
      "Epoch 4/20\n",
      "149/149 [==============================] - 0s 846us/step - loss: 0.1374 - val_loss: 0.1157\n",
      "Epoch 5/20\n",
      "149/149 [==============================] - 0s 828us/step - loss: 0.0779 - val_loss: 0.0677\n",
      "Epoch 6/20\n",
      "149/149 [==============================] - 0s 811us/step - loss: 0.0400 - val_loss: 0.0434\n",
      "Epoch 7/20\n",
      "149/149 [==============================] - 0s 808us/step - loss: 0.0261 - val_loss: 0.0397\n",
      "Epoch 8/20\n",
      "149/149 [==============================] - 0s 804us/step - loss: 0.0290 - val_loss: 0.0439\n",
      "Epoch 9/20\n",
      "149/149 [==============================] - 0s 815us/step - loss: 0.0339 - val_loss: 0.0452\n",
      "Epoch 10/20\n",
      "149/149 [==============================] - 0s 862us/step - loss: 0.0321 - val_loss: 0.0430\n",
      "Epoch 11/20\n",
      "149/149 [==============================] - 0s 857us/step - loss: 0.0263 - val_loss: 0.0411\n",
      "Epoch 12/20\n",
      "149/149 [==============================] - 0s 806us/step - loss: 0.0219 - val_loss: 0.0410\n",
      "Epoch 13/20\n",
      "149/149 [==============================] - 0s 826us/step - loss: 0.0206 - val_loss: 0.0418\n",
      "Epoch 14/20\n",
      "149/149 [==============================] - 0s 820us/step - loss: 0.0215 - val_loss: 0.0424\n",
      "Epoch 15/20\n",
      "149/149 [==============================] - 0s 829us/step - loss: 0.0231 - val_loss: 0.0421\n",
      "Epoch 16/20\n",
      "149/149 [==============================] - 0s 856us/step - loss: 0.0243 - val_loss: 0.0410\n",
      "Epoch 17/20\n",
      "149/149 [==============================] - 0s 807us/step - loss: 0.0243 - val_loss: 0.0394\n",
      "Epoch 18/20\n",
      "149/149 [==============================] - 0s 834us/step - loss: 0.0235 - val_loss: 0.0379\n",
      "Epoch 19/20\n",
      "149/149 [==============================] - 0s 867us/step - loss: 0.0221 - val_loss: 0.0370\n",
      "Epoch 20/20\n",
      "149/149 [==============================] - 0s 831us/step - loss: 0.0210 - val_loss: 0.0367\n"
     ]
    },
    {
     "data": {
      "image/png": "[encoded data removed]",
      "text/plain": [
       "<Figure size 432x288 with 1 Axes>"
      ]
     },
     "metadata": {
      "needs_background": "light"
     },
     "output_type": "display_data"
    }
   ],
   "source": [
    "# design LSTM network  has 1000 hidden layers , used adam optimizer and mse loss function\n",
    "model = Sequential()\n",
    "model.add(LSTM(1000, input_shape=(train_X.shape[1], train_X.shape[2])))\n",
    "model.add(Dense(3))\n",
    "model.compile(loss='mse', optimizer='adam')\n",
    "# fit network\n",
    "history = model.fit(train_X, train_y, epochs=20, batch_size=72, validation_data=(test_X, test_y), verbose=1, shuffle=False)\n",
    "# plot history\n",
    "pyplot.plot(history.history['loss'], label='train')\n",
    "pyplot.plot(history.history['val_loss'], label='test')\n",
    "pyplot.legend()\n",
    "pyplot.show()"
   ]
  },
  {
   "cell_type": "code",
   "execution_count": 13,
   "metadata": {},
   "outputs": [
    {
     "name": "stdout",
     "output_type": "stream",
     "text": [
      "(24, 6) (24, 6)\n"
     ]
    }
   ],
   "source": [
    "### Doing the same process for testing dataset\n",
    "\n",
    "test_dataset = read_csv('/Users/manali/Downloads/validate_data.csv')\n",
    "test_dataset= test_dataset.drop(columns=[\"ID\"])\n",
    "test_values = test_dataset.values\n",
    "reframed_test = series_to_supervised(test_values, 1, 1)\n",
    "reframed_test.drop(reframed_test.columns[[6,10,11]], axis=1, inplace=True)\n",
    "testset = reframed_test.values\n",
    "testset_X, testset_y = testset[:, :-3], testset[:,-3:]\n",
    "testdataReshaped = testset_X.reshape((testset_X.shape[0], 1, testset_X.shape[1]))\n",
    "print(testset_X.shape, testset_X.shape)"
   ]
  },
  {
   "cell_type": "code",
   "execution_count": 8,
   "metadata": {},
   "outputs": [
    {
     "name": "stdout",
     "output_type": "stream",
     "text": [
      "[[0.18847723 0.3877949  1.0120301 ]\n",
      " [0.19295502 0.40066087 1.0290701 ]\n",
      " [0.13566183 0.36166486 0.94360185]\n",
      " [0.19832411 0.37070513 0.9590567 ]\n",
      " [0.12706389 0.37130743 0.9339345 ]\n",
      " [0.11256848 0.39253858 1.0005924 ]\n",
      " [0.1801075  0.40686506 1.0205599 ]\n",
      " [0.10192639 0.34560406 0.8542865 ]\n",
      " [0.13144122 0.34891692 0.9113975 ]\n",
      " [0.10979234 0.42243776 1.0552065 ]\n",
      " [0.29949817 0.32774425 1.0981088 ]\n",
      " [0.14204632 0.37170294 0.9580885 ]\n",
      " [0.24005178 0.45850164 1.169471  ]\n",
      " [0.07799827 0.3059907  0.7743904 ]\n",
      " [0.19610725 0.39525414 1.0366986 ]\n",
      " [0.3125508  0.19140728 0.8135635 ]\n",
      " [0.31297943 0.37216687 1.147762  ]\n",
      " [0.19617334 0.30164695 0.91499007]\n",
      " [0.23351775 0.3561718  1.048491  ]\n",
      " [0.16023496 0.36821562 0.94487894]\n",
      " [0.12723865 0.35380757 0.9077145 ]\n",
      " [0.15729195 0.3846737  0.96726745]\n",
      " [0.17166196 0.42283756 1.0788668 ]\n",
      " [0.17031728 0.33446157 0.92810273]]\n"
     ]
    }
   ],
   "source": [
    "## Feeding the test dataset for predictions\n",
    "import pandas as pd\n",
    "\n",
    "yhat = model.predict(testdataReshaped)\n",
    "\n",
    "print(yhat)\n",
    "dataset = pd.DataFrame({'predicted_Latency': yhat[:, 0], 'predicted_Cost': yhat[:, 1],\n",
    "                       'predicted_Reliability': yhat[:, 2]})\n",
    "dataset['predicted_Reliability'].loc[dataset['predicted_Reliability'] >0.5] = 1\n",
    "dataset['predicted_Reliability'].loc[dataset['predicted_Reliability'] <0.5] = 0"
   ]
  },
  {
   "cell_type": "code",
   "execution_count": 9,
   "metadata": {},
   "outputs": [],
   "source": [
    "frames = [test_dataset, dataset]\n",
    "result = pd.concat(frames,axis =1)"
   ]
  },
  {
   "cell_type": "code",
   "execution_count": 10,
   "metadata": {},
   "outputs": [],
   "source": [
    "import numpy as np\n",
    "result.head(10)\n",
    "result.to_csv('/Users/manali/JupyterProjects/predictions_LSTM.csv', sep=',', index=0)"
   ]
  },
  {
   "cell_type": "code",
   "execution_count": 11,
   "metadata": {},
   "outputs": [
    {
     "name": "stdout",
     "output_type": "stream",
     "text": [
      "[[4.57773760e-02 2.94117647e-01 1.00000000e+00]\n",
      " [1.53205344e-01 5.29411765e-01 1.00000000e+00]\n",
      " [4.33488200e-02 0.00000000e+00 1.00000000e+00]\n",
      " [4.79643620e-02 4.90196078e-01 1.00000000e+00]\n",
      " [8.60406740e-02 7.64705882e-01 1.00000000e+00]\n",
      " [6.43475000e-04 3.92156863e-01 1.00000000e+00]\n",
      " [0.00000000e+00 3.33333333e-01 1.00000000e+00]\n",
      " [1.35487030e-01 3.92156863e-01 1.00000000e+00]\n",
      " [4.91627560e-02 1.00000000e+00 1.00000000e+00]\n",
      " [8.60693975e-01 5.09803922e-01 1.00000000e+00]\n",
      " [9.03644290e-02 4.31372549e-01 1.00000000e+00]\n",
      " [3.79898900e-03 4.31372549e-01 1.00000000e+00]\n",
      " [8.74877300e-02 3.13725490e-01 1.00000000e+00]\n",
      " [1.23398101e-01 3.72549020e-01 1.00000000e+00]\n",
      " [1.00000000e+00 2.15686275e-01 1.00000000e+00]\n",
      " [6.05305612e-01 3.13725490e-01 1.00000000e+00]\n",
      " [5.30306584e-01 3.33333333e-01 1.00000000e+00]\n",
      " [4.73442016e-01 4.31372549e-01 1.00000000e+00]\n",
      " [6.77231050e-02 2.74509804e-01 1.00000000e+00]\n",
      " [8.46984340e-02 3.72549020e-01 1.00000000e+00]\n",
      " [3.25987880e-02 4.11764706e-01 1.00000000e+00]\n",
      " [6.30327870e-02 6.47058824e-01 1.00000000e+00]\n",
      " [3.08805458e-01 3.72549020e-01 1.00000000e+00]\n",
      " [7.48008140e-02 3.52941176e-01 1.00000000e+00]]\n"
     ]
    }
   ],
   "source": [
    "print(testset_y)"
   ]
  },
  {
   "cell_type": "code",
   "execution_count": 12,
   "metadata": {},
   "outputs": [
    {
     "name": "stdout",
     "output_type": "stream",
     "text": [
      "Test RMSE: 0.200\n"
     ]
    }
   ],
   "source": [
    "## Finding the root mean squared error of the model\n",
    "import numpy as np\n",
    "\n",
    "rmse = np.sqrt(mean_squared_error(yhat, testset_y))\n",
    "print('Test RMSE: %.3f' % rmse)"
   ]
  },
  {
   "cell_type": "code",
   "execution_count": null,
   "metadata": {},
   "outputs": [],
   "source": []
  },
  {
   "cell_type": "code",
   "execution_count": null,
   "metadata": {},
   "outputs": [],
   "source": []
  }
 ],
 "metadata": {
  "kernelspec": {
   "display_name": "Python 3",
   "language": "python",
   "name": "python3"
  },
  "language_info": {
   "codemirror_mode": {
    "name": "ipython",
    "version": 3
   },
   "file_extension": ".py",
   "mimetype": "text/x-python",
   "name": "python",
   "nbconvert_exporter": "python",
   "pygments_lexer": "ipython3",
   "version": "3.7.4"
  }
 },
 "nbformat": 4,
 "nbformat_minor": 4
}
