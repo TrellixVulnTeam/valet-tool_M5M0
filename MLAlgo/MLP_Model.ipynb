{
 "cells": [
  {
   "cell_type": "code",
   "execution_count": 2,
   "metadata": {},
   "outputs": [],
   "source": [
    "from math import sqrt\n",
    "from numpy import concatenate\n",
    "from matplotlib import pyplot\n",
    "import pandas as pd\n",
    "from pandas import read_csv\n",
    "from pandas import DataFrame\n",
    "from pandas import concat\n",
    "from sklearn.preprocessing import MinMaxScaler\n",
    "from sklearn.preprocessing import LabelEncoder\n",
    "from sklearn.metrics import mean_squared_error\n",
    "from keras.models import Sequential\n",
    "from keras.layers import Dense\n",
    "from keras.layers import LSTM\n",
    "from datetime import datetime\n",
    "from sklearn.preprocessing import Normalizer"
   ]
  },
  {
   "cell_type": "code",
   "execution_count": 3,
   "metadata": {},
   "outputs": [],
   "source": [
    "# Function for converting series data to a supervised data of format, t-1, t, t+1\n",
    "## Basically feeding in the (t-1)th data to predict the t data\n",
    "def series_to_supervised(data, n_in=1, n_out=1, dropnan=True):\n",
    "\tn_vars = 1 if type(data) is list else data.shape[1]\n",
    "\tdf = DataFrame(data)\n",
    "\tcols, names = list(), list()\n",
    "\t# input sequence (t-n, ... t-1)\n",
    "\tfor i in range(n_in, 0, -1):\n",
    "\t\tcols.append(df.shift(i))\n",
    "\t\tnames += [('var%d(t-%d)' % (j+1, i)) for j in range(n_vars)]\n",
    "\t# forecast sequence (t, t+1, ... t+n)\n",
    "\tfor i in range(0, n_out):\n",
    "\t\tcols.append(df.shift(-i))\n",
    "\t\tif i == 0:\n",
    "\t\t\tnames += [('var%d(t)' % (j+1)) for j in range(n_vars)]\n",
    "\t\telse:\n",
    "\t\t\tnames += [('var%d(t+%d)' % (j+1, i)) for j in range(n_vars)]\n",
    "\t# put it all together\n",
    "\tagg = concat(cols, axis=1)\n",
    "\tagg.columns = names\n",
    "\t# drop rows with NaN values\n",
    "\tif dropnan:\n",
    "\t\tagg.dropna(inplace=True)\n",
    "\treturn agg\n"
   ]
  },
  {
   "cell_type": "code",
   "execution_count": 4,
   "metadata": {},
   "outputs": [],
   "source": [
    "def break_timestamp(dataset):\n",
    "    temp_time = [datetime.strptime(d, \"%Y-%m-%d %H:%M:%S.%f\") for d in dataset[\"timestamp\"]]\n",
    "    dataset[\"hours\"] = [dh.hour for dh in temp_time]\n",
    "    dataset[\"minutes\"] = [dm.minute for dm in temp_time]\n",
    "    dataset[\"seconds\"] = [ds.second for ds in temp_time]\n",
    "        \n",
    "    return dataset"
   ]
  },
  {
   "cell_type": "code",
   "execution_count": 6,
   "metadata": {},
   "outputs": [
    {
     "name": "stdout",
     "output_type": "stream",
     "text": [
      "      hours   minutes   seconds   latency      cost  reliability\n",
      "0  0.272917  0.579948  0.767578  0.015102  0.193359            1\n",
      "1  0.243969  0.579427  0.777652  0.015117  0.310547            1\n",
      "2  0.241814  0.589423  0.770783  0.015297  0.169922            1\n",
      "3  0.322198  0.865908  0.382611  0.014803  0.191406            1\n",
      "4  0.296806  0.871867  0.389557  0.014817  0.167969            1\n"
     ]
    }
   ],
   "source": [
    "col_arr = [\"timestamp\", \"time_since_last_recording\", \"ping_timestamp\", \"time_since_last_ping\", \"ping_success\",\"ping_time\"] \n",
    "# load dataset\n",
    "dataset = read_csv('../parse_tactics/normalized_tva_server_1_tactic_1_train.csv')\n",
    "dataset = break_timestamp(dataset)\n",
    "dataset= dataset.drop(columns=col_arr)#[\"ID\"])\n",
    "dataset = dataset[[\"hours\",\"minutes\",\"seconds\",\"latency\",\"cost\",\"reliability\"]]\n",
    "norm_scaler = Normalizer().fit(dataset.iloc[:,0:3])\n",
    "dataset.loc[:,0:3] = norm_scaler.transform(dataset.iloc[:,0:3])\n",
    "\n",
    "values = dataset#.values\n",
    "print(dataset.head(5))\n",
    "## Load Validation\n",
    "\n",
    "validation = read_csv('../parse_tactics/normalized_tva_server_1_tactic_1_test.csv')\n",
    "validation = break_timestamp(validation)\n",
    "validation = validation.drop(columns=col_arr)#[\"ID\"])\n",
    "validation = validation[[\"hours\",\"minutes\",\"seconds\",\"latency\",\"cost\",\"reliability\"]]\n",
    "validation.loc[:,0:3] = norm_scaler.transform(validation.iloc[:,0:3])\n",
    "\n",
    "#validation = read_csv('normalized_tva_server_1_tactic_1_test.csv')\n",
    "#validation= validation.drop(columns=[\"ID\"])\n",
    "values_validation = validation#.values\n"
   ]
  },
  {
   "cell_type": "code",
   "execution_count": 22,
   "metadata": {},
   "outputs": [
    {
     "name": "stdout",
     "output_type": "stream",
     "text": [
      "   var1(t-1)  var2(t-1)  var3(t-1)  var4(t-1)  var5(t-1)  var6(t-1)   var4(t)  \\\n",
      "1   0.272917   0.579948   0.767578   0.015102   0.193359        1.0  0.015117   \n",
      "\n",
      "    var5(t)  var6(t)  \n",
      "1  0.310547        1  \n"
     ]
    }
   ],
   "source": [
    "## Calling the function to do the preprocessing the data and removing unwanted columns\n",
    "\n",
    "\n",
    "# frame as supervised learning\n",
    "reframed = series_to_supervised(values, 1, 1)\n",
    "reframed_validation = series_to_supervised(values_validation, 1, 1)\n",
    "# drop columns we don't want to predict\n",
    "reframed.drop(reframed.columns[[6,7,8]], axis=1, inplace=True)\n",
    "reframed_validation.drop(reframed_validation.columns[[6,7,8]], axis=1, inplace=True)\n",
    "print(reframed.head(1))"
   ]
  },
  {
   "cell_type": "code",
   "execution_count": 23,
   "metadata": {},
   "outputs": [
    {
     "name": "stdout",
     "output_type": "stream",
     "text": [
      "(12156, 1, 6) (12156, 3) (2604, 1, 6) (2604, 3)\n"
     ]
    }
   ],
   "source": [
    "## Splitting the data into training and validation sets\n",
    "\n",
    "\n",
    "train = reframed.values\n",
    "test = reframed_validation.values\n",
    "# split into input and outputs\n",
    "train_X, train_y = train[:, :-3], train[:,-3:]\n",
    "test_X, test_y = test[:, :-3], test[:,-3:]\n",
    "# reshape input to be 3D [samples, timesteps, features]\n",
    "train_X = train_X.reshape((train_X.shape[0], 1, train_X.shape[1]))\n",
    "test_X = test_X.reshape((test_X.shape[0], 1, test_X.shape[1]))\n",
    "print(train_X.shape, train_y.shape, test_X.shape, test_y.shape)"
   ]
  },
  {
   "cell_type": "code",
   "execution_count": 24,
   "metadata": {},
   "outputs": [
    {
     "name": "stdout",
     "output_type": "stream",
     "text": [
      "Epoch 1/20\n",
      "380/380 [==============================] - 0s 418us/step - loss: 0.0075\n",
      "Epoch 2/20\n",
      "380/380 [==============================] - 0s 439us/step - loss: 8.9072e-05\n",
      "Epoch 3/20\n",
      "380/380 [==============================] - 0s 417us/step - loss: 8.1535e-05\n",
      "Epoch 4/20\n",
      "380/380 [==============================] - 0s 418us/step - loss: 7.7686e-05\n",
      "Epoch 5/20\n",
      "380/380 [==============================] - 0s 416us/step - loss: 7.5582e-05\n",
      "Epoch 6/20\n",
      "380/380 [==============================] - 0s 420us/step - loss: 7.4614e-05\n",
      "Epoch 7/20\n",
      "380/380 [==============================] - 0s 448us/step - loss: 7.6514e-05\n",
      "Epoch 8/20\n",
      "380/380 [==============================] - 0s 418us/step - loss: 7.3004e-05\n",
      "Epoch 9/20\n",
      "380/380 [==============================] - 0s 435us/step - loss: 7.2284e-05\n",
      "Epoch 10/20\n",
      "380/380 [==============================] - 0s 544us/step - loss: 7.1440e-05\n",
      "Epoch 11/20\n",
      "380/380 [==============================] - 0s 495us/step - loss: 8.1351e-05\n",
      "Epoch 12/20\n",
      "380/380 [==============================] - 0s 449us/step - loss: 7.0370e-05\n",
      "Epoch 13/20\n",
      "380/380 [==============================] - 0s 446us/step - loss: 6.9035e-05\n",
      "Epoch 14/20\n",
      "380/380 [==============================] - 0s 456us/step - loss: 7.0172e-05\n",
      "Epoch 15/20\n",
      "380/380 [==============================] - 0s 446us/step - loss: 7.4541e-05\n",
      "Epoch 16/20\n",
      "380/380 [==============================] - 0s 424us/step - loss: 6.9492e-05\n",
      "Epoch 17/20\n",
      "380/380 [==============================] - 0s 422us/step - loss: 6.7954e-05\n",
      "Epoch 18/20\n",
      "380/380 [==============================] - 0s 434us/step - loss: 7.5208e-05\n",
      "Epoch 19/20\n",
      "380/380 [==============================] - 0s 442us/step - loss: 6.9366e-05\n",
      "Epoch 20/20\n",
      "380/380 [==============================] - 0s 459us/step - loss: 7.4566e-05\n"
     ]
    },
    {
     "data": {
      "image/png": "[encoded data removed]",
      "text/plain": [
       "<Figure size 432x288 with 1 Axes>"
      ]
     },
     "metadata": {
      "needs_background": "light"
     },
     "output_type": "display_data"
    }
   ],
   "source": [
    "## Run this cell for MLP , else Run the next cell for LSTM\n",
    "\n",
    "# flatten input\n",
    "n_input = train_X.shape[1] * train_X.shape[2]\n",
    "X = train_X.reshape((train_X.shape[0], n_input))\n",
    "\n",
    "# define MLP model\n",
    "model = Sequential()\n",
    "model.add(Dense(100, activation='relu', input_dim=n_input))\n",
    "model.add(Dense(3))\n",
    "model.compile(optimizer='adam', loss='mse')\n",
    "history= model.fit(X, train_y, epochs=20, verbose=1)\n",
    "# plot history\n",
    "pyplot.plot(history.history['loss'], label='train')\n",
    "pyplot.legend()\n",
    "pyplot.show()"
   ]
  },
  {
   "cell_type": "code",
   "execution_count": 25,
   "metadata": {},
   "outputs": [],
   "source": [
    "### Doing the same process for testing dataset\n",
    "\n",
    "test_dataset = read_csv('../parse_tactics/normalized_tva_server_1_tactic_1_validation.csv')\n",
    "test_dataset = break_timestamp(test_dataset)\n",
    "test_dataset = test_dataset.drop(columns=col_arr)#[\"ID\"])\n",
    "test_dataset = test_dataset[[\"hours\",\"minutes\",\"seconds\",\"latency\",\"cost\",\"reliability\"]]\n",
    "test_dataset.loc[:,0:3] = norm_scaler.transform(test_dataset.iloc[:,0:3])\n",
    "\n",
    "#test_dataset = read_csv('normalized_tva_server_1_tactic_1_validation.csv')\n",
    "#test_dataset= test_dataset.drop(columns=[\"ID\"])\n",
    "test_values = test_dataset#.values\n",
    "reframed_test = series_to_supervised(test_values, 1, 1)\n",
    "reframed_test.drop(reframed_test.columns[[6,7,8]], axis=1, inplace=True)\n",
    "testset = reframed_test.values\n",
    "testset_X, testset_y = testset[:, :-3], testset[:,-3:]\n",
    "testdataReshaped = testset_X.reshape((testset_X.shape[0], 1, testset_X.shape[1]))\n"
   ]
  },
  {
   "cell_type": "code",
   "execution_count": 26,
   "metadata": {},
   "outputs": [
    {
     "name": "stdout",
     "output_type": "stream",
     "text": [
      "[[0.01187311 0.17495726 1.0009936 ]\n",
      " [0.01273059 0.17466693 1.0008703 ]\n",
      " [0.01274866 0.1725146  1.0005294 ]\n",
      " ...\n",
      " [0.01270723 0.18222381 1.0021136 ]\n",
      " [0.01257803 0.17987508 1.0007666 ]\n",
      " [0.01335686 0.1827442  1.0004761 ]]\n"
     ]
    }
   ],
   "source": [
    "## Feeding the test dataset for predictions\n",
    "import pandas as pd\n",
    "\n",
    "## For MLP use below line only\n",
    "yhat = model.predict(testset_X)\n",
    "\n",
    "print(yhat)\n",
    "dataset = pd.DataFrame({'predicted_Latency': yhat[:, 0], 'predicted_Cost': yhat[:, 1],\n",
    "                       'predicted_Reliability': yhat[:, 2]})\n",
    "dataset['predicted_Reliability'].loc[dataset['predicted_Reliability'] >0.5] = 1\n",
    "dataset['predicted_Reliability'].loc[dataset['predicted_Reliability'] <0.5] = 0"
   ]
  },
  {
   "cell_type": "code",
   "execution_count": 27,
   "metadata": {},
   "outputs": [],
   "source": [
    "frames = [pd.DataFrame(data=test_dataset), pd.DataFrame(data=dataset)]\n",
    "\n",
    "#frames = [test_dataset, dataset]\n",
    "result = pd.concat(frames,axis =1)"
   ]
  },
  {
   "cell_type": "code",
   "execution_count": 28,
   "metadata": {},
   "outputs": [],
   "source": [
    "import numpy as np\n",
    "result.head(10)\n",
    "result.to_csv('../Prediction_Files/predictions_MLP_Server_1_Tactic_1.csv', sep=',', index=0)"
   ]
  },
  {
   "cell_type": "code",
   "execution_count": 19,
   "metadata": {},
   "outputs": [
    {
     "name": "stdout",
     "output_type": "stream",
     "text": [
      "[[0.00043332 0.00486911 0.02898821]\n",
      " [0.00033166 0.00355816 0.0216878 ]\n",
      " [0.00036538 0.00381291 0.02243919]\n",
      " ...\n",
      " [0.00040021 0.00439699 0.0244702 ]\n",
      " [0.00055199 0.00575909 0.03313092]\n",
      " [0.0005138  0.00566759 0.03413888]]\n"
     ]
    }
   ],
   "source": [
    "print(testset_y)"
   ]
  },
  {
   "cell_type": "code",
   "execution_count": 29,
   "metadata": {},
   "outputs": [
    {
     "name": "stdout",
     "output_type": "stream",
     "text": [
      "Test RMSE: 0.046\n"
     ]
    }
   ],
   "source": [
    "## Finding the root mean squared error of the model\n",
    "\n",
    "rmse = sqrt(mean_squared_error(yhat, testset_y))\n",
    "print('Test RMSE: %.3f' % rmse)"
   ]
  }
 ],
 "metadata": {
  "kernelspec": {
   "display_name": "Python 3",
   "language": "python",
   "name": "python3"
  },
  "language_info": {
   "codemirror_mode": {
    "name": "ipython",
    "version": 3
   },
   "file_extension": ".py",
   "mimetype": "text/x-python",
   "name": "python",
   "nbconvert_exporter": "python",
   "pygments_lexer": "ipython3",
   "version": "3.7.3"
  }
 },
 "nbformat": 4,
 "nbformat_minor": 4
}
