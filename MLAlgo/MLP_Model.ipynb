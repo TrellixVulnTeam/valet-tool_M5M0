{
 "cells": [
  {
   "cell_type": "code",
   "execution_count": 1,
   "metadata": {},
   "outputs": [
    {
     "name": "stderr",
     "output_type": "stream",
     "text": [
      "Using TensorFlow backend.\n"
     ]
    }
   ],
   "source": [
    "from math import sqrt\n",
    "from numpy import concatenate\n",
    "from matplotlib import pyplot\n",
    "from pandas import read_csv\n",
    "from pandas import DataFrame\n",
    "from pandas import concat\n",
    "from sklearn.preprocessing import MinMaxScaler\n",
    "from sklearn.preprocessing import LabelEncoder\n",
    "from sklearn.metrics import mean_squared_error\n",
    "from keras.models import Sequential\n",
    "from keras.layers import Dense\n",
    "from keras.layers import LSTM"
   ]
  },
  {
   "cell_type": "code",
   "execution_count": 2,
   "metadata": {},
   "outputs": [],
   "source": [
    "# Function for converting series data to a supervised data of format, t-1, t, t+1\n",
    "## Basically feeding in the (t-1)th data to predict the t data\n",
    "def series_to_supervised(data, n_in=1, n_out=1, dropnan=True):\n",
    "\tn_vars = 1 if type(data) is list else data.shape[1]\n",
    "\tdf = DataFrame(data)\n",
    "\tcols, names = list(), list()\n",
    "\t# input sequence (t-n, ... t-1)\n",
    "\tfor i in range(n_in, 0, -1):\n",
    "\t\tcols.append(df.shift(i))\n",
    "\t\tnames += [('var%d(t-%d)' % (j+1, i)) for j in range(n_vars)]\n",
    "\t# forecast sequence (t, t+1, ... t+n)\n",
    "\tfor i in range(0, n_out):\n",
    "\t\tcols.append(df.shift(-i))\n",
    "\t\tif i == 0:\n",
    "\t\t\tnames += [('var%d(t)' % (j+1)) for j in range(n_vars)]\n",
    "\t\telse:\n",
    "\t\t\tnames += [('var%d(t+%d)' % (j+1, i)) for j in range(n_vars)]\n",
    "\t# put it all together\n",
    "\tagg = concat(cols, axis=1)\n",
    "\tagg.columns = names\n",
    "\t# drop rows with NaN values\n",
    "\tif dropnan:\n",
    "\t\tagg.dropna(inplace=True)\n",
    "\treturn agg\n"
   ]
  },
  {
   "cell_type": "code",
   "execution_count": 3,
   "metadata": {},
   "outputs": [
    {
     "name": "stdout",
     "output_type": "stream",
     "text": [
      "   time_since_last_recording   latency      cost  reliability  \\\n",
      "0                   0.000000  0.433568  0.114583            1   \n",
      "1                   0.911953  0.014534  0.354167            1   \n",
      "2                   0.490876  0.030913  0.364583            1   \n",
      "3                   0.410584  0.035595  0.354167            1   \n",
      "4                   0.630474  0.067912  0.343750            1   \n",
      "\n",
      "   time_since_last_ping  last_ping  \n",
      "0              0.000000          0  \n",
      "1              0.103199          1  \n",
      "2              0.658927          1  \n",
      "3              0.273478          1  \n",
      "4              0.360681          1  \n"
     ]
    }
   ],
   "source": [
    " \n",
    "# load dataset\n",
    "dataset = read_csv('/Users/manali/Downloads/train_data.csv')\n",
    "dataset= dataset.drop(columns=[\"ID\"])\n",
    "values = dataset.values\n",
    "print(dataset.head(5))\n",
    "## Load Validation\n",
    "validation = read_csv('/Users/manali/Downloads/test_data.csv')\n",
    "validation= validation.drop(columns=[\"ID\"])\n",
    "values_validation = validation.values\n"
   ]
  },
  {
   "cell_type": "code",
   "execution_count": 4,
   "metadata": {},
   "outputs": [
    {
     "name": "stdout",
     "output_type": "stream",
     "text": [
      "   var1(t-1)  var2(t-1)  var3(t-1)  var4(t-1)  var5(t-1)  var6(t-1)   var2(t)  \\\n",
      "1        0.0   0.433568   0.114583        1.0        0.0        0.0  0.014534   \n",
      "\n",
      "    var3(t)  var4(t)  \n",
      "1  0.354167      1.0  \n"
     ]
    }
   ],
   "source": [
    "## Calling the function to do the preprocessing the data and removing unwanted columns\n",
    "\n",
    "\n",
    "# frame as supervised learning\n",
    "reframed = series_to_supervised(values, 1, 1)\n",
    "reframed_validation = series_to_supervised(values_validation, 1, 1)\n",
    "# drop columns we don't want to predict\n",
    "reframed.drop(reframed.columns[[6,10,11]], axis=1, inplace=True)\n",
    "reframed_validation.drop(reframed_validation.columns[[6,10,11]], axis=1, inplace=True)\n",
    "print(reframed.head(1))"
   ]
  },
  {
   "cell_type": "code",
   "execution_count": 5,
   "metadata": {},
   "outputs": [
    {
     "name": "stdout",
     "output_type": "stream",
     "text": [
      "(149, 1, 6) (149, 3) (24, 1, 6) (24, 3)\n"
     ]
    }
   ],
   "source": [
    "## Splitting the data into training and validation sets\n",
    "\n",
    "\n",
    "train = reframed.values\n",
    "test = reframed_validation.values\n",
    "# split into input and outputs\n",
    "train_X, train_y = train[:, :-3], train[:,-3:]\n",
    "test_X, test_y = test[:, :-3], test[:,-3:]\n",
    "# reshape input to be 3D [samples, timesteps, features]\n",
    "train_X = train_X.reshape((train_X.shape[0], 1, train_X.shape[1]))\n",
    "test_X = test_X.reshape((test_X.shape[0], 1, test_X.shape[1]))\n",
    "print(train_X.shape, train_y.shape, test_X.shape, test_y.shape)"
   ]
  },
  {
   "cell_type": "code",
   "execution_count": 6,
   "metadata": {},
   "outputs": [
    {
     "name": "stdout",
     "output_type": "stream",
     "text": [
      "Epoch 1/20\n",
      "149/149 [==============================] - 0s 596us/step - loss: 0.3603\n",
      "Epoch 2/20\n",
      "149/149 [==============================] - 0s 38us/step - loss: 0.2557\n",
      "Epoch 3/20\n",
      "149/149 [==============================] - 0s 60us/step - loss: 0.1701\n",
      "Epoch 4/20\n",
      "149/149 [==============================] - 0s 38us/step - loss: 0.1085\n",
      "Epoch 5/20\n",
      "149/149 [==============================] - 0s 41us/step - loss: 0.0667\n",
      "Epoch 6/20\n",
      "149/149 [==============================] - 0s 54us/step - loss: 0.0404\n",
      "Epoch 7/20\n",
      "149/149 [==============================] - 0s 69us/step - loss: 0.0270\n",
      "Epoch 8/20\n",
      "149/149 [==============================] - 0s 54us/step - loss: 0.0233\n",
      "Epoch 9/20\n",
      "149/149 [==============================] - 0s 68us/step - loss: 0.0238\n",
      "Epoch 10/20\n",
      "149/149 [==============================] - 0s 57us/step - loss: 0.0243\n",
      "Epoch 11/20\n",
      "149/149 [==============================] - 0s 55us/step - loss: 0.0232\n",
      "Epoch 12/20\n",
      "149/149 [==============================] - 0s 56us/step - loss: 0.0216\n",
      "Epoch 13/20\n",
      "149/149 [==============================] - 0s 57us/step - loss: 0.0205\n",
      "Epoch 14/20\n",
      "149/149 [==============================] - 0s 57us/step - loss: 0.0198\n",
      "Epoch 15/20\n",
      "149/149 [==============================] - 0s 55us/step - loss: 0.0194\n",
      "Epoch 16/20\n",
      "149/149 [==============================] - 0s 62us/step - loss: 0.0191\n",
      "Epoch 17/20\n",
      "149/149 [==============================] - 0s 72us/step - loss: 0.0187\n",
      "Epoch 18/20\n",
      "149/149 [==============================] - 0s 53us/step - loss: 0.0185\n",
      "Epoch 19/20\n",
      "149/149 [==============================] - 0s 68us/step - loss: 0.0182\n",
      "Epoch 20/20\n",
      "149/149 [==============================] - 0s 74us/step - loss: 0.0180\n"
     ]
    },
    {
     "data": {
      "image/png": "[encoded data removed]",
      "text/plain": [
       "<Figure size 432x288 with 1 Axes>"
      ]
     },
     "metadata": {
      "needs_background": "light"
     },
     "output_type": "display_data"
    }
   ],
   "source": [
    "## Run this cell for MLP , else Run the next cell for LSTM\n",
    "\n",
    "# flatten input\n",
    "n_input = train_X.shape[1] * train_X.shape[2]\n",
    "X = train_X.reshape((train_X.shape[0], n_input))\n",
    "\n",
    "# define MLP model\n",
    "model = Sequential()\n",
    "model.add(Dense(100, activation='relu', input_dim=n_input))\n",
    "model.add(Dense(3))\n",
    "model.compile(optimizer='adam', loss='mse')\n",
    "history= model.fit(X, train_y, epochs=20, verbose=1)\n",
    "# plot history\n",
    "pyplot.plot(history.history['loss'], label='train')\n",
    "pyplot.legend()\n",
    "pyplot.show()"
   ]
  },
  {
   "cell_type": "code",
   "execution_count": 7,
   "metadata": {},
   "outputs": [],
   "source": [
    "### Doing the same process for testing dataset\n",
    "\n",
    "test_dataset = read_csv('/Users/manali/Downloads/validate_data.csv')\n",
    "test_dataset= test_dataset.drop(columns=[\"ID\"])\n",
    "test_values = test_dataset.values\n",
    "reframed_test = series_to_supervised(test_values, 1, 1)\n",
    "reframed_test.drop(reframed_test.columns[[6,10,11]], axis=1, inplace=True)\n",
    "testset = reframed_test.values\n",
    "testset_X, testset_y = testset[:, :-3], testset[:,-3:]\n",
    "testdataReshaped = testset_X.reshape((testset_X.shape[0], 1, testset_X.shape[1]))\n"
   ]
  },
  {
   "cell_type": "code",
   "execution_count": 8,
   "metadata": {},
   "outputs": [
    {
     "name": "stdout",
     "output_type": "stream",
     "text": [
      "[[ 0.1127829   0.39132103  1.035585  ]\n",
      " [ 0.12084904  0.40963507  1.044046  ]\n",
      " [ 0.06241288  0.35602248  0.9844213 ]\n",
      " [ 0.14042145  0.39348596  1.0094784 ]\n",
      " [ 0.0533183   0.37335783  0.99034125]\n",
      " [ 0.02634906  0.3695126   0.9918943 ]\n",
      " [ 0.08519518  0.37885448  1.037864  ]\n",
      " [ 0.05710079  0.36977082  0.9088233 ]\n",
      " [ 0.09000395  0.35164765  0.93361795]\n",
      " [-0.03364644  0.38971347  1.0706955 ]\n",
      " [ 0.18664253  0.26518893  1.0951693 ]\n",
      " [ 0.08967689  0.37364873  0.97275794]\n",
      " [ 0.09428737  0.43293437  1.2033539 ]\n",
      " [ 0.06420603  0.3397705   0.8274444 ]\n",
      " [ 0.12056698  0.3929829   1.0520446 ]\n",
      " [ 0.08086844  0.11168385  1.0570487 ]\n",
      " [ 0.21546566  0.30840817  1.1423067 ]\n",
      " [ 0.14966325  0.2827272   0.94857293]\n",
      " [ 0.16569054  0.3209832   1.047455  ]\n",
      " [ 0.1064924   0.38587245  0.98152965]\n",
      " [ 0.08098811  0.36359227  0.9380129 ]\n",
      " [ 0.0804691   0.35307872  1.00422   ]\n",
      " [ 0.05371269  0.40436217  1.094324  ]\n",
      " [ 0.11984849  0.32505876  0.9730565 ]]\n"
     ]
    }
   ],
   "source": [
    "## Feeding the test dataset for predictions\n",
    "import pandas as pd\n",
    "\n",
    "## For MLP use below line only\n",
    "yhat = model.predict(testset_X)\n",
    "\n",
    "print(yhat)\n",
    "dataset = pd.DataFrame({'predicted_Latency': yhat[:, 0], 'predicted_Cost': yhat[:, 1],\n",
    "                       'predicted_Reliability': yhat[:, 2]})\n",
    "dataset['predicted_Reliability'].loc[dataset['predicted_Reliability'] >0.5] = 1\n",
    "dataset['predicted_Reliability'].loc[dataset['predicted_Reliability'] <0.5] = 0"
   ]
  },
  {
   "cell_type": "code",
   "execution_count": 9,
   "metadata": {},
   "outputs": [],
   "source": [
    "frames = [test_dataset, dataset]\n",
    "result = pd.concat(frames,axis =1)"
   ]
  },
  {
   "cell_type": "code",
   "execution_count": 10,
   "metadata": {},
   "outputs": [],
   "source": [
    "import numpy as np\n",
    "result.head(10)\n",
    "result.to_csv('/Users/manali/JupyterProjects/predictions_MLP.csv', sep=',', index=0)"
   ]
  },
  {
   "cell_type": "code",
   "execution_count": 11,
   "metadata": {},
   "outputs": [
    {
     "name": "stdout",
     "output_type": "stream",
     "text": [
      "[[4.57773760e-02 2.94117647e-01 1.00000000e+00]\n",
      " [1.53205344e-01 5.29411765e-01 1.00000000e+00]\n",
      " [4.33488200e-02 0.00000000e+00 1.00000000e+00]\n",
      " [4.79643620e-02 4.90196078e-01 1.00000000e+00]\n",
      " [8.60406740e-02 7.64705882e-01 1.00000000e+00]\n",
      " [6.43475000e-04 3.92156863e-01 1.00000000e+00]\n",
      " [0.00000000e+00 3.33333333e-01 1.00000000e+00]\n",
      " [1.35487030e-01 3.92156863e-01 1.00000000e+00]\n",
      " [4.91627560e-02 1.00000000e+00 1.00000000e+00]\n",
      " [8.60693975e-01 5.09803922e-01 1.00000000e+00]\n",
      " [9.03644290e-02 4.31372549e-01 1.00000000e+00]\n",
      " [3.79898900e-03 4.31372549e-01 1.00000000e+00]\n",
      " [8.74877300e-02 3.13725490e-01 1.00000000e+00]\n",
      " [1.23398101e-01 3.72549020e-01 1.00000000e+00]\n",
      " [1.00000000e+00 2.15686275e-01 1.00000000e+00]\n",
      " [6.05305612e-01 3.13725490e-01 1.00000000e+00]\n",
      " [5.30306584e-01 3.33333333e-01 1.00000000e+00]\n",
      " [4.73442016e-01 4.31372549e-01 1.00000000e+00]\n",
      " [6.77231050e-02 2.74509804e-01 1.00000000e+00]\n",
      " [8.46984340e-02 3.72549020e-01 1.00000000e+00]\n",
      " [3.25987880e-02 4.11764706e-01 1.00000000e+00]\n",
      " [6.30327870e-02 6.47058824e-01 1.00000000e+00]\n",
      " [3.08805458e-01 3.72549020e-01 1.00000000e+00]\n",
      " [7.48008140e-02 3.52941176e-01 1.00000000e+00]]\n"
     ]
    }
   ],
   "source": [
    "print(testset_y)"
   ]
  },
  {
   "cell_type": "code",
   "execution_count": 12,
   "metadata": {},
   "outputs": [
    {
     "name": "stdout",
     "output_type": "stream",
     "text": [
      "Test RMSE: 0.215\n"
     ]
    }
   ],
   "source": [
    "## Finding the root mean squared error of the model\n",
    "\n",
    "rmse = sqrt(mean_squared_error(yhat, testset_y))\n",
    "print('Test RMSE: %.3f' % rmse)"
   ]
  }
 ],
 "metadata": {
  "kernelspec": {
   "display_name": "Python 3",
   "language": "python",
   "name": "python3"
  },
  "language_info": {
   "codemirror_mode": {
    "name": "ipython",
    "version": 3
   },
   "file_extension": ".py",
   "mimetype": "text/x-python",
   "name": "python",
   "nbconvert_exporter": "python",
   "pygments_lexer": "ipython3",
   "version": "3.7.4"
  }
 },
 "nbformat": 4,
 "nbformat_minor": 4
}
