{
 "cells": [
  {
   "cell_type": "code",
   "execution_count": null,
   "metadata": {},
   "outputs": [],
   "source": [
    "#Owned\n",
    "__author__ = “Manali Chakraborty”\n",
    "__version__ = “0.1.0”\n",
    "__maintainer__ = “Manali Chakraborty”\n",
    "__email__ = “mc8153@rit.edu”\n",
    "__status__ = “Dev”"
   ]
  },
  {
   "cell_type": "code",
   "execution_count": 1,
   "metadata": {},
   "outputs": [
    {
     "name": "stderr",
     "output_type": "stream",
     "text": [
      "Using TensorFlow backend.\n"
     ]
    }
   ],
   "source": [
    "from math import sqrt\n",
    "from numpy import concatenate\n",
    "from matplotlib import pyplot\n",
    "from pandas import read_csv\n",
    "from pandas import DataFrame\n",
    "from pandas import concat\n",
    "from sklearn.preprocessing import MinMaxScaler\n",
    "from sklearn.preprocessing import LabelEncoder\n",
    "from sklearn.metrics import mean_squared_error\n",
    "from keras.models import Sequential\n",
    "from keras.layers import Dense\n",
    "from keras.layers import LSTM"
   ]
  },
  {
   "cell_type": "code",
   "execution_count": 2,
   "metadata": {},
   "outputs": [],
   "source": [
    "# Function for converting series data to a supervised data of format, t-1, t, t+1\n",
    "## Basically feeding in the (t-1)th data to predict the t data\n",
    "def series_to_supervised(data, n_in=1, n_out=1, dropnan=True):\n",
    "\tn_vars = 1 if type(data) is list else data.shape[1]\n",
    "\tdf = DataFrame(data)\n",
    "\tcols, names = list(), list()\n",
    "\t# input sequence (t-n, ... t-1)\n",
    "\tfor i in range(n_in, 0, -1):\n",
    "\t\tcols.append(df.shift(i))\n",
    "\t\tnames += [('var%d(t-%d)' % (j+1, i)) for j in range(n_vars)]\n",
    "\t# forecast sequence (t, t+1, ... t+n)\n",
    "\tfor i in range(0, n_out):\n",
    "\t\tcols.append(df.shift(-i))\n",
    "\t\tif i == 0:\n",
    "\t\t\tnames += [('var%d(t)' % (j+1)) for j in range(n_vars)]\n",
    "\t\telse:\n",
    "\t\t\tnames += [('var%d(t+%d)' % (j+1, i)) for j in range(n_vars)]\n",
    "\t# put it all together\n",
    "\tagg = concat(cols, axis=1)\n",
    "\tagg.columns = names\n",
    "\t# drop rows with NaN values\n",
    "\tif dropnan:\n",
    "\t\tagg.dropna(inplace=True)\n",
    "\treturn agg\n"
   ]
  },
  {
   "cell_type": "code",
   "execution_count": 3,
   "metadata": {},
   "outputs": [
    {
     "name": "stdout",
     "output_type": "stream",
     "text": [
      "      Hours   Minutes   Seconds   Latency      Cost  Reliability  Friday  \\\n",
      "0  0.826087  0.915254  0.719857  0.010629  0.294723            1       0   \n",
      "1  0.826087  0.915254  0.752826  0.001839  0.643501            1       0   \n",
      "2  0.826087  0.915254  0.753299  0.000026  0.642214            1       0   \n",
      "3  0.826087  0.932203  0.408255  0.036898  0.553411            1       0   \n",
      "4  0.826087  0.932203  0.412858  0.000258  0.364221            1       0   \n",
      "\n",
      "   Monday  Saturday  Sunday  ...  Server_4.0  Server_5.0  Server_6.0  \\\n",
      "0       1         0       0  ...           0           0           0   \n",
      "1       1         0       0  ...           0           0           0   \n",
      "2       1         0       0  ...           0           0           0   \n",
      "3       1         0       0  ...           0           0           0   \n",
      "4       1         0       0  ...           0           0           0   \n",
      "\n",
      "   Server_7.0  Server_8.0  Tactic_1.0  Tactic_2.0  Tactic_3.0  Tactic_4.0  \\\n",
      "0           0           0           1           0           0           0   \n",
      "1           0           0           0           1           0           0   \n",
      "2           0           0           0           0           1           0   \n",
      "3           0           0           0           0           0           1   \n",
      "4           0           0           0           0           0           0   \n",
      "\n",
      "   Tactic_5.0  \n",
      "0           0  \n",
      "1           0  \n",
      "2           0  \n",
      "3           0  \n",
      "4           1  \n",
      "\n",
      "[5 rows x 26 columns]\n"
     ]
    }
   ],
   "source": [
    " \n",
    "# load dataset\n",
    "dataset = read_csv('/Users/manali/CLionProjects/exact/datasets/2020_tactic/dummy.csv')\n",
    "dataset= dataset.drop(columns=[\"newCol\",\"ID\"])\n",
    "values = dataset.values\n",
    "print(dataset.head(5))\n",
    "## Load Validation\n",
    "validation = read_csv('/Users/manali/CLionProjects/exact/datasets/2020_tactic/dummy_validate.csv')\n",
    "validation= validation.drop(columns=[\"newCol\",\"ID\"])\n",
    "values_validation = validation.values\n"
   ]
  },
  {
   "cell_type": "code",
   "execution_count": 4,
   "metadata": {},
   "outputs": [
    {
     "name": "stdout",
     "output_type": "stream",
     "text": [
      "   var1(t-1)  var2(t-1)  var3(t-1)  var4(t-1)  var5(t-1)  var6(t-1)  \\\n",
      "1   0.826087   0.915254   0.719857   0.010629   0.294723        1.0   \n",
      "2   0.826087   0.915254   0.752826   0.001839   0.643501        1.0   \n",
      "3   0.826087   0.915254   0.753299   0.000026   0.642214        1.0   \n",
      "\n",
      "   var7(t-1)  var8(t-1)  var9(t-1)  var10(t-1)  ...  var20(t-1)  var21(t-1)  \\\n",
      "1        0.0        1.0        0.0         0.0  ...         0.0         0.0   \n",
      "2        0.0        1.0        0.0         0.0  ...         0.0         0.0   \n",
      "3        0.0        1.0        0.0         0.0  ...         0.0         0.0   \n",
      "\n",
      "   var22(t-1)  var23(t-1)  var24(t-1)  var25(t-1)  var26(t-1)   var4(t)  \\\n",
      "1         1.0         0.0         0.0         0.0         0.0  0.001839   \n",
      "2         0.0         1.0         0.0         0.0         0.0  0.000026   \n",
      "3         0.0         0.0         1.0         0.0         0.0  0.036898   \n",
      "\n",
      "    var5(t)  var6(t)  \n",
      "1  0.643501      1.0  \n",
      "2  0.642214      1.0  \n",
      "3  0.553411      1.0  \n",
      "\n",
      "[3 rows x 29 columns]\n"
     ]
    }
   ],
   "source": [
    "## Calling the function to do the preprocessing the data and removing unwanted columns\n",
    "\n",
    "\n",
    "# frame as supervised learning\n",
    "reframed = series_to_supervised(values, 1, 1)\n",
    "reframed_validation = series_to_supervised(values_validation, 1, 1)\n",
    "# drop columns we don't want to predict\n",
    "reframed.drop(reframed.columns[[26,27,28,32,33,34,35,36,37,38,39,40,41,42,43,44,45,46,47,48,49,50,51]], axis=1, inplace=True)\n",
    "reframed_validation.drop(reframed_validation.columns[[26,27,28,32,33,34,35,36,37,38,39,40,41,42,43,44,45,46,47,48,49,50,51]], axis=1, inplace=True)\n",
    "print(reframed.head(3))"
   ]
  },
  {
   "cell_type": "code",
   "execution_count": 5,
   "metadata": {},
   "outputs": [
    {
     "name": "stdout",
     "output_type": "stream",
     "text": [
      "(9190, 1, 26) (9190, 3) (36761, 1, 26) (36761, 3)\n"
     ]
    }
   ],
   "source": [
    "## Splitting the data into training and validation sets\n",
    "\n",
    "\n",
    "test = reframed.values\n",
    "train = reframed_validation.values\n",
    "# split into input and outputs\n",
    "train_X, train_y = train[:, :-3], train[:,-3:]\n",
    "test_X, test_y = test[:, :-3], test[:,-3:]\n",
    "# reshape input to be 3D [samples, timesteps, features]\n",
    "train_X = train_X.reshape((train_X.shape[0], 1, train_X.shape[1]))\n",
    "test_X = test_X.reshape((test_X.shape[0], 1, test_X.shape[1]))\n",
    "print(train_X.shape, train_y.shape, test_X.shape, test_y.shape)"
   ]
  },
  {
   "cell_type": "code",
   "execution_count": 6,
   "metadata": {},
   "outputs": [],
   "source": [
    "# flatten input\n",
    "n_input = train_X.shape[1] * train_X.shape[2]\n",
    "X = train_X.reshape((train_X.shape[0], n_input))"
   ]
  },
  {
   "cell_type": "code",
   "execution_count": 7,
   "metadata": {},
   "outputs": [],
   "source": [
    "### Doing the same process for testing dataset\n",
    "\n",
    "test_dataset = read_csv('/Users/manali/CLionProjects/exact/datasets/2020_tactic/dummy_1.csv')\n",
    "test_dataset= test_dataset.drop(columns=[\"newCol\",\"ID\"])\n",
    "test_values = test_dataset.values\n",
    "reframed_test = series_to_supervised(test_values, 1, 1)\n",
    "reframed_test.drop(reframed_test.columns[[26,27,28,32,33,34,35,36,37,38,39,40,41,42,43,44,45,46,47,48,49,50,51]], axis=1, inplace=True)\n",
    "testset = reframed_test.values\n",
    "testset_X, testset_y = testset[:, :-3], testset[:,-3:]\n",
    "testdataReshaped = testset_X.reshape((testset_X.shape[0], 1, testset_X.shape[1]))\n"
   ]
  },
  {
   "cell_type": "markdown",
   "metadata": {},
   "source": [
    "## SVR algorithm with RBF kernel. "
   ]
  },
  {
   "cell_type": "code",
   "execution_count": null,
   "metadata": {},
   "outputs": [],
   "source": [
    "from sklearn.svm import SVR\n",
    "from sklearn.multioutput import MultiOutputRegressor\n",
    "regressor = SVR(kernel='rbf')\n",
    "# flatten input\n",
    "n_input = testdataReshaped.shape[1] * testdataReshaped.shape[2]\n",
    "X2 = testdataReshaped.reshape((testdataReshaped.shape[0], n_input))\n",
    "regr = MultiOutputRegressor(regressor)\n",
    "\n",
    "regr.fit(X,train_y)\n",
    "out= regr.predict(X2)\n",
    "\n",
    "rmse = sqrt(mean_squared_error(out,testset_y))\n",
    "print('Test RMSE: %.3f' % rmse)"
   ]
  },
  {
   "cell_type": "markdown",
   "metadata": {},
   "source": [
    "## SVR with Linear kernel "
   ]
  },
  {
   "cell_type": "code",
   "execution_count": 8,
   "metadata": {},
   "outputs": [
    {
     "name": "stdout",
     "output_type": "stream",
     "text": [
      "Test RMSE: 0.084\n"
     ]
    }
   ],
   "source": [
    "from sklearn.svm import SVR\n",
    "from sklearn.multioutput import MultiOutputRegressor\n",
    "regressor = SVR(kernel='linear')\n",
    "# flatten input\n",
    "n_input = testdataReshaped.shape[1] * testdataReshaped.shape[2]\n",
    "X2 = testdataReshaped.reshape((testdataReshaped.shape[0], n_input))\n",
    "regr = MultiOutputRegressor(regressor)\n",
    "\n",
    "regr.fit(X,train_y)\n",
    "out= regr.predict(X2)\n",
    "\n",
    "rmse = sqrt(mean_squared_error(out,testset_y))\n",
    "print('Test RMSE: %.3f' % rmse)"
   ]
  },
  {
   "cell_type": "markdown",
   "metadata": {},
   "source": [
    "## KNN Regression"
   ]
  },
  {
   "cell_type": "code",
   "execution_count": null,
   "metadata": {},
   "outputs": [],
   "source": [
    "from sklearn.neighbors import KNeighborsRegressor\n",
    "from sklearn.multioutput import MultiOutputRegressor\n",
    "knn = KNeighborsRegressor()\n",
    "regr_knn = MultiOutputRegressor(knn)\n",
    "\n",
    "# flatten input\n",
    "n_input = testdataReshaped.shape[1] * testdataReshaped.shape[2]\n",
    "X2 = testdataReshaped.reshape((testdataReshaped.shape[0], n_input))\n",
    "\n",
    "regr_knn.fit(X,train_y)\n",
    "regr_knn.predict(testset_X)\n",
    "out= regr_knn.predict(X2)\n",
    "\n",
    "rmse = sqrt(mean_squared_error(out,testset_y))\n",
    "print('Test RMSE: %.3f' % rmse)"
   ]
  },
  {
   "cell_type": "markdown",
   "metadata": {},
   "source": [
    "# Saving to file"
   ]
  },
  {
   "cell_type": "code",
   "execution_count": 9,
   "metadata": {},
   "outputs": [],
   "source": [
    "## Feeding the test dataset for predictions\n",
    "import pandas as pd\n",
    "\n",
    "dataset = pd.DataFrame({'predicted_Latency': out[:, 0], 'predicted_Cost': out[:, 1],\n",
    "                       'predicted_Reliability': out[:, 2]})\n",
    "dataset['predicted_Reliability'].loc[dataset['predicted_Reliability'] >0.5] = 1\n",
    "dataset['predicted_Reliability'].loc[dataset['predicted_Reliability'] <.5] = 0"
   ]
  },
  {
   "cell_type": "code",
   "execution_count": null,
   "metadata": {},
   "outputs": [],
   "source": [
    "frames = [test_dataset, dataset]\n",
    "result = pd.concat(frames,axis =1)"
   ]
  },
  {
   "cell_type": "code",
   "execution_count": null,
   "metadata": {},
   "outputs": [],
   "source": [
    "import numpy as np\n",
    "print(result.head(10))\n",
    "result.to_csv('/Users/manali/JupyterProjects/predictions_KNN.csv', sep=',', index=0)"
   ]
  },
  {
   "cell_type": "code",
   "execution_count": null,
   "metadata": {},
   "outputs": [],
   "source": []
  }
 ],
 "metadata": {
  "kernelspec": {
   "display_name": "Python 3",
   "language": "python",
   "name": "python3"
  },
  "language_info": {
   "codemirror_mode": {
    "name": "ipython",
    "version": 3
   },
   "file_extension": ".py",
   "mimetype": "text/x-python",
   "name": "python",
   "nbconvert_exporter": "python",
   "pygments_lexer": "ipython3",
   "version": "3.7.4"
  }
 },
 "nbformat": 4,
 "nbformat_minor": 2
}
