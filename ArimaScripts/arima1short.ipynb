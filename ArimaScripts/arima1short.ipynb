{
 "cells": [
  {
   "cell_type": "code",
   "execution_count": 159,
   "metadata": {},
   "outputs": [],
   "source": [
    "import array\n",
    "import pandas\n",
    "import numpy\n",
    "import math"
   ]
  },
  {
   "cell_type": "code",
   "execution_count": 160,
   "metadata": {},
   "outputs": [],
   "source": [
    "import pandas as pd\n",
    "import numpy as np\n",
    "import array"
   ]
  },
  {
   "cell_type": "code",
   "execution_count": 147,
   "metadata": {
    "scrolled": true
   },
   "outputs": [],
   "source": [
    "indexPanda = pd.Series([])\n",
    "indexList = []\n"
   ]
  },
  {
   "cell_type": "code",
   "execution_count": 148,
   "metadata": {},
   "outputs": [],
   "source": [
    "s1 = np.zeros((335,3))"
   ]
  },
  {
   "cell_type": "code",
   "execution_count": 149,
   "metadata": {},
   "outputs": [],
   "source": [
    "s1[:] = [None] "
   ]
  },
  {
   "cell_type": "code",
   "execution_count": 150,
   "metadata": {
    "scrolled": true
   },
   "outputs": [],
   "source": [
    "list = pd.read_csv(\"c:/MachineLearningWork/tva_output.csv\")"
   ]
  },
  {
   "cell_type": "code",
   "execution_count": 151,
   "metadata": {},
   "outputs": [
    {
     "data": {
      "text/html": [
       "<div>\n",
       "<style scoped>\n",
       "    .dataframe tbody tr th:only-of-type {\n",
       "        vertical-align: middle;\n",
       "    }\n",
       "\n",
       "    .dataframe tbody tr th {\n",
       "        vertical-align: top;\n",
       "    }\n",
       "\n",
       "    .dataframe thead th {\n",
       "        text-align: right;\n",
       "    }\n",
       "</style>\n",
       "<table border=\"1\" class=\"dataframe\">\n",
       "  <thead>\n",
       "    <tr style=\"text-align: right;\">\n",
       "      <th></th>\n",
       "      <th>Index</th>\n",
       "      <th>Timestamp</th>\n",
       "      <th>Server</th>\n",
       "      <th>Tactic</th>\n",
       "      <th>Latency</th>\n",
       "      <th>Cost</th>\n",
       "      <th>Reliability</th>\n",
       "      <th>TotalCost</th>\n",
       "      <th>Predicted Latency</th>\n",
       "      <th>Predicted Total Cost</th>\n",
       "      <th>Hours</th>\n",
       "    </tr>\n",
       "  </thead>\n",
       "  <tbody>\n",
       "    <tr>\n",
       "      <td>0</td>\n",
       "      <td>1</td>\n",
       "      <td>32:53.4</td>\n",
       "      <td>1</td>\n",
       "      <td>1</td>\n",
       "      <td>1.716679</td>\n",
       "      <td>15.9</td>\n",
       "      <td>1</td>\n",
       "      <td>27.295194</td>\n",
       "      <td>NaN</td>\n",
       "      <td>NaN</td>\n",
       "      <td>0</td>\n",
       "    </tr>\n",
       "    <tr>\n",
       "      <td>1</td>\n",
       "      <td>2</td>\n",
       "      <td>33:01.9</td>\n",
       "      <td>1</td>\n",
       "      <td>2</td>\n",
       "      <td>8.534772</td>\n",
       "      <td>12.3</td>\n",
       "      <td>1</td>\n",
       "      <td>104.977698</td>\n",
       "      <td>NaN</td>\n",
       "      <td>NaN</td>\n",
       "      <td>0</td>\n",
       "    </tr>\n",
       "    <tr>\n",
       "      <td>2</td>\n",
       "      <td>3</td>\n",
       "      <td>33:02.1</td>\n",
       "      <td>1</td>\n",
       "      <td>3</td>\n",
       "      <td>0.176431</td>\n",
       "      <td>28.8</td>\n",
       "      <td>1</td>\n",
       "      <td>5.081218</td>\n",
       "      <td>NaN</td>\n",
       "      <td>NaN</td>\n",
       "      <td>0</td>\n",
       "    </tr>\n",
       "    <tr>\n",
       "      <td>3</td>\n",
       "      <td>4</td>\n",
       "      <td>33:08.5</td>\n",
       "      <td>1</td>\n",
       "      <td>4</td>\n",
       "      <td>6.426049</td>\n",
       "      <td>26.7</td>\n",
       "      <td>1</td>\n",
       "      <td>171.575495</td>\n",
       "      <td>NaN</td>\n",
       "      <td>NaN</td>\n",
       "      <td>0</td>\n",
       "    </tr>\n",
       "    <tr>\n",
       "      <td>4</td>\n",
       "      <td>5</td>\n",
       "      <td>33:17.9</td>\n",
       "      <td>1</td>\n",
       "      <td>5</td>\n",
       "      <td>9.365804</td>\n",
       "      <td>2.1</td>\n",
       "      <td>1</td>\n",
       "      <td>19.668189</td>\n",
       "      <td>NaN</td>\n",
       "      <td>NaN</td>\n",
       "      <td>0</td>\n",
       "    </tr>\n",
       "    <tr>\n",
       "      <td>...</td>\n",
       "      <td>...</td>\n",
       "      <td>...</td>\n",
       "      <td>...</td>\n",
       "      <td>...</td>\n",
       "      <td>...</td>\n",
       "      <td>...</td>\n",
       "      <td>...</td>\n",
       "      <td>...</td>\n",
       "      <td>...</td>\n",
       "      <td>...</td>\n",
       "      <td>...</td>\n",
       "    </tr>\n",
       "    <tr>\n",
       "      <td>92255</td>\n",
       "      <td>92256</td>\n",
       "      <td>52:24.8</td>\n",
       "      <td>1</td>\n",
       "      <td>4</td>\n",
       "      <td>6.485255</td>\n",
       "      <td>25.7</td>\n",
       "      <td>1</td>\n",
       "      <td>166.671054</td>\n",
       "      <td>NaN</td>\n",
       "      <td>NaN</td>\n",
       "      <td>117</td>\n",
       "    </tr>\n",
       "    <tr>\n",
       "      <td>92256</td>\n",
       "      <td>92257</td>\n",
       "      <td>52:25.1</td>\n",
       "      <td>1</td>\n",
       "      <td>5</td>\n",
       "      <td>0.293175</td>\n",
       "      <td>25.4</td>\n",
       "      <td>1</td>\n",
       "      <td>7.446657</td>\n",
       "      <td>NaN</td>\n",
       "      <td>NaN</td>\n",
       "      <td>117</td>\n",
       "    </tr>\n",
       "    <tr>\n",
       "      <td>92257</td>\n",
       "      <td>92258</td>\n",
       "      <td>52:31.9</td>\n",
       "      <td>2</td>\n",
       "      <td>1</td>\n",
       "      <td>1.891588</td>\n",
       "      <td>5.4</td>\n",
       "      <td>1</td>\n",
       "      <td>10.214578</td>\n",
       "      <td>NaN</td>\n",
       "      <td>NaN</td>\n",
       "      <td>117</td>\n",
       "    </tr>\n",
       "    <tr>\n",
       "      <td>92258</td>\n",
       "      <td>92259</td>\n",
       "      <td>52:35.4</td>\n",
       "      <td>2</td>\n",
       "      <td>2</td>\n",
       "      <td>3.508379</td>\n",
       "      <td>25.4</td>\n",
       "      <td>1</td>\n",
       "      <td>89.112838</td>\n",
       "      <td>NaN</td>\n",
       "      <td>NaN</td>\n",
       "      <td>117</td>\n",
       "    </tr>\n",
       "    <tr>\n",
       "      <td>92259</td>\n",
       "      <td>92260</td>\n",
       "      <td>52:35.6</td>\n",
       "      <td>2</td>\n",
       "      <td>3</td>\n",
       "      <td>0.174014</td>\n",
       "      <td>26.4</td>\n",
       "      <td>1</td>\n",
       "      <td>4.593966</td>\n",
       "      <td>NaN</td>\n",
       "      <td>NaN</td>\n",
       "      <td>117</td>\n",
       "    </tr>\n",
       "  </tbody>\n",
       "</table>\n",
       "<p>92260 rows × 11 columns</p>\n",
       "</div>"
      ],
      "text/plain": [
       "       Index Timestamp  Server  Tactic   Latency  Cost  Reliability  \\\n",
       "0          1   32:53.4       1       1  1.716679  15.9            1   \n",
       "1          2   33:01.9       1       2  8.534772  12.3            1   \n",
       "2          3   33:02.1       1       3  0.176431  28.8            1   \n",
       "3          4   33:08.5       1       4  6.426049  26.7            1   \n",
       "4          5   33:17.9       1       5  9.365804   2.1            1   \n",
       "...      ...       ...     ...     ...       ...   ...          ...   \n",
       "92255  92256   52:24.8       1       4  6.485255  25.7            1   \n",
       "92256  92257   52:25.1       1       5  0.293175  25.4            1   \n",
       "92257  92258   52:31.9       2       1  1.891588   5.4            1   \n",
       "92258  92259   52:35.4       2       2  3.508379  25.4            1   \n",
       "92259  92260   52:35.6       2       3  0.174014  26.4            1   \n",
       "\n",
       "        TotalCost  Predicted Latency  Predicted Total Cost  Hours  \n",
       "0       27.295194                NaN                   NaN      0  \n",
       "1      104.977698                NaN                   NaN      0  \n",
       "2        5.081218                NaN                   NaN      0  \n",
       "3      171.575495                NaN                   NaN      0  \n",
       "4       19.668189                NaN                   NaN      0  \n",
       "...           ...                ...                   ...    ...  \n",
       "92255  166.671054                NaN                   NaN    117  \n",
       "92256    7.446657                NaN                   NaN    117  \n",
       "92257   10.214578                NaN                   NaN    117  \n",
       "92258   89.112838                NaN                   NaN    117  \n",
       "92259    4.593966                NaN                   NaN    117  \n",
       "\n",
       "[92260 rows x 11 columns]"
      ]
     },
     "execution_count": 151,
     "metadata": {},
     "output_type": "execute_result"
    }
   ],
   "source": [
    "list"
   ]
  },
  {
   "cell_type": "code",
   "execution_count": 54,
   "metadata": {},
   "outputs": [
    {
     "data": {
      "text/plain": [
       "0        1\n",
       "1        2\n",
       "2        3\n",
       "3        4\n",
       "4        5\n",
       "        ..\n",
       "92255    4\n",
       "92256    5\n",
       "92257    1\n",
       "92258    2\n",
       "92259    3\n",
       "Name: Tactic, Length: 92260, dtype: int64"
      ]
     },
     "execution_count": 54,
     "metadata": {},
     "output_type": "execute_result"
    }
   ],
   "source": [
    "list.iloc[:, 3]"
   ]
  },
  {
   "cell_type": "code",
   "execution_count": 161,
   "metadata": {},
   "outputs": [],
   "source": [
    "index = list.iloc[:, 0]\n",
    "hours = list.iloc[:, 10]\n",
    "latency = list.iloc[:, 4]\n",
    "cost = list.iloc[:,7]\n",
    "rel = list.iloc[:,6]\n",
    "server1 = list.iloc[:,2]\n",
    "#server2 = list.iloc[:,15]\n",
    "#server3 = list.iloc[:,16]\n",
    "#server4 = list.iloc[:,17]\n",
    "#server5 = list.iloc[:,18]\n",
    "#server6 = list.iloc[:,19]\n",
    "#server7 = list.iloc[:,20]\n",
    "#server8 = list.iloc[:,21]\n",
    "tactic1 = list.iloc[:,3]\n",
    "#tactic2 = list.iloc[:,23]\n",
    "#tactic3 = list.iloc[:,24]\n",
    "#tactic4 = list.iloc[:,25]\n",
    "#tactic5 = list.iloc[:,26]\n",
    "\n"
   ]
  },
  {
   "cell_type": "code",
   "execution_count": 153,
   "metadata": {},
   "outputs": [],
   "source": [
    "size = len(index)"
   ]
  },
  {
   "cell_type": "code",
   "execution_count": 154,
   "metadata": {},
   "outputs": [],
   "source": [
    "max = hours[size-1]"
   ]
  },
  {
   "cell_type": "code",
   "execution_count": 155,
   "metadata": {},
   "outputs": [],
   "source": [
    "prediction = np.zeros((size,1))"
   ]
  },
  {
   "cell_type": "code",
   "execution_count": 156,
   "metadata": {
    "scrolled": false
   },
   "outputs": [],
   "source": [
    "s1 = np.zeros((max,3))\n",
    "s1[:] = 1\n",
    "ii = 1\n",
    "iii = 0\n",
    "hourcheck = 1\n",
    "sumS1l = 0\n",
    "sumS1c = 0\n",
    "countTimes = 1\n",
    "n = 0\n",
    "for j in range(0,size-1):\n",
    "   # if tactic1[j] == 1 and server1[j] == 3:\n",
    "    if tactic1[j] == 2:\n",
    "    #manually changed along with the save file. \n",
    "        \n",
    "        if rel[j] and hours[j] == n:\n",
    "            sumS1l = sumS1l + latency[j]\n",
    "            sumS1c = sumS1c + cost[j]\n",
    "            countTimes = countTimes + 1\n",
    "            \n",
    "        if hours[j] > n:\n",
    "            s1[(n,0)] = n\n",
    "            s1[(n,1)] = sumS1l / countTimes\n",
    "            s1[(n,2)] = sumS1c / countTimes\n",
    "            n = n + 1\n",
    "            sumS1l = latency[j]\n",
    "            sumS1c = cost[j]\n",
    "            countTimes = 1\n",
    "\n",
    "        \n",
    "            "
   ]
  },
  {
   "cell_type": "code",
   "execution_count": 158,
   "metadata": {},
   "outputs": [
    {
     "data": {
      "text/plain": [
       "0         27.295194\n",
       "1        104.977698\n",
       "2          5.081218\n",
       "3        171.575495\n",
       "4         19.668189\n",
       "            ...    \n",
       "92255    166.671054\n",
       "92256      7.446657\n",
       "92257     10.214578\n",
       "92258     89.112838\n",
       "92259      4.593966\n",
       "Name: TotalCost, Length: 92260, dtype: float64"
      ]
     },
     "execution_count": 158,
     "metadata": {},
     "output_type": "execute_result"
    }
   ],
   "source": [
    "cost"
   ]
  },
  {
   "cell_type": "code",
   "execution_count": 144,
   "metadata": {},
   "outputs": [],
   "source": [
    "np.savetxt(\"t5.csv\", s1, delimiter=\",\")"
   ]
  },
  {
   "cell_type": "code",
   "execution_count": null,
   "metadata": {},
   "outputs": [],
   "source": []
  }
 ],
 "metadata": {
  "kernelspec": {
   "display_name": "Python 3",
   "language": "python",
   "name": "python3"
  },
  "language_info": {
   "codemirror_mode": {
    "name": "ipython",
    "version": 3
   },
   "file_extension": ".py",
   "mimetype": "text/x-python",
   "name": "python",
   "nbconvert_exporter": "python",
   "pygments_lexer": "ipython3",
   "version": "3.7.3"
  }
 },
 "nbformat": 4,
 "nbformat_minor": 2
}
