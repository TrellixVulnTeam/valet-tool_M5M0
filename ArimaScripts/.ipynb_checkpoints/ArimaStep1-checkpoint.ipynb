{
 "cells": [
  {
   "cell_type": "code",
   "execution_count": 1,
   "metadata": {},
   "outputs": [],
   "source": [
    "import array\n",
    "import pandas\n",
    "import numpy"
   ]
  },
  {
   "cell_type": "code",
   "execution_count": 2,
   "metadata": {},
   "outputs": [],
   "source": [
    "import pandas as pd\n",
    "import numpy as np\n",
    "import array"
   ]
  },
  {
   "cell_type": "code",
   "execution_count": 3,
   "metadata": {
    "scrolled": true
   },
   "outputs": [],
   "source": [
    "indexPanda = pd.Series([])\n",
    "indexList = []\n"
   ]
  },
  {
   "cell_type": "code",
   "execution_count": 4,
   "metadata": {},
   "outputs": [],
   "source": [
    "s1 = np.zeros((335,3))"
   ]
  },
  {
   "cell_type": "code",
   "execution_count": 5,
   "metadata": {},
   "outputs": [],
   "source": [
    "s1[:] = [None] "
   ]
  },
  {
   "cell_type": "code",
   "execution_count": 35,
   "metadata": {
    "scrolled": true
   },
   "outputs": [],
   "source": [
    "list = pd.read_csv(\"c:/MachineLearningWork/One_hot_with_normalisation.csv\")"
   ]
  },
  {
   "cell_type": "code",
   "execution_count": 95,
   "metadata": {},
   "outputs": [],
   "source": [
    "index = list.iloc[:, 0]\n",
    "hours = list.iloc[:, 27]\n",
    "latency = list.iloc[:, 4]\n",
    "cost = list.iloc[:,5]\n",
    "rel = list.iloc[:,6]\n",
    "server1 = list.iloc[:,14]\n",
    "server2 = list.iloc[:,15]\n",
    "server3 = list.iloc[:,16]\n",
    "server4 = list.iloc[:,17]\n",
    "server5 = list.iloc[:,18]\n",
    "server6 = list.iloc[:,19]\n",
    "server7 = list.iloc[:,20]\n",
    "server8 = list.iloc[:,21]\n",
    "tactic1 = list.iloc[:,22]\n",
    "tactic2 = list.iloc[:,23]\n",
    "tactic3 = list.iloc[:,24]\n",
    "tactic4 = list.iloc[:,25]\n",
    "tactic5 = list.iloc[:,26]\n",
    "\n"
   ]
  },
  {
   "cell_type": "code",
   "execution_count": 241,
   "metadata": {},
   "outputs": [],
   "source": [
    "prediction = np.zeros((900,1))"
   ]
  },
  {
   "cell_type": "code",
   "execution_count": 242,
   "metadata": {
    "scrolled": false
   },
   "outputs": [],
   "source": [
    "s1 = np.zeros((335,3))\n",
    "s1[:] = 1\n",
    "ii = 1\n",
    "iii = 0\n",
    "hourcheck = 1\n",
    "sumS1l = 0\n",
    "sumS1c = 0\n",
    "countTimes = 1\n",
    "n = 0\n",
    "for j in range(1,57440):\n",
    "    if tactic1[j] == 1 and server1[j] ==1\n",
    "    #manually changed along with the save file. \n",
    "        \n",
    "        if rel[j] and hours[j] == n:\n",
    "            sumS1l = sumS1l + latency[j]\n",
    "            sumS1c = sumS1c + cost[j]\n",
    "            countTimes = countTimes + 1\n",
    "            \n",
    "        if hours[j] > n:\n",
    "            s1[(n,0)] = n\n",
    "            s1[(n,1)] = sumS1l / countTimes\n",
    "            s1[(n,2)] = sumS1c / countTimes\n",
    "            n = n + 1\n",
    "            sumS1l = latency[j]\n",
    "            sumS1c = cost[j]\n",
    "            countTimes = 1\n",
    "\n",
    "            \n",
    "        \n",
    "            "
   ]
  },
  {
   "cell_type": "code",
   "execution_count": 243,
   "metadata": {},
   "outputs": [
    {
     "data": {
      "text/plain": [
       "array([[0.00000000e+00, 0.00000000e+00, 0.00000000e+00],\n",
       "       [1.00000000e+00, 2.14790131e-02, 3.37562052e-01],\n",
       "       [2.00000000e+00, 2.43528418e-02, 3.33762334e-01],\n",
       "       ...,\n",
       "       [3.33000000e+02, 3.52021175e-02, 3.24967825e-02],\n",
       "       [3.34000000e+02, 2.80260630e-02, 3.29472330e-02],\n",
       "       [1.00000000e+00, 1.00000000e+00, 1.00000000e+00]])"
      ]
     },
     "execution_count": 243,
     "metadata": {},
     "output_type": "execute_result"
    }
   ],
   "source": []
  },
  {
   "cell_type": "code",
   "execution_count": 237,
   "metadata": {},
   "outputs": [],
   "source": [
    "np.savetxt(\"server1tactic1.csv\", s1, delimiter=\",\")"
   ]
  },
  {
   "cell_type": "code",
   "execution_count": null,
   "metadata": {},
   "outputs": [],
   "source": []
  }
 ],
 "metadata": {
  "kernelspec": {
   "display_name": "Python 3",
   "language": "python",
   "name": "python3"
  },
  "language_info": {
   "codemirror_mode": {
    "name": "ipython",
    "version": 3
   },
   "file_extension": ".py",
   "mimetype": "text/x-python",
   "name": "python",
   "nbconvert_exporter": "python",
   "pygments_lexer": "ipython3",
   "version": "3.7.4"
  }
 },
 "nbformat": 4,
 "nbformat_minor": 2
}
